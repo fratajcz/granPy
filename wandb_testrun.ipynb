{
 "cells": [
  {
   "cell_type": "code",
   "execution_count": 1,
   "metadata": {},
   "outputs": [],
   "source": [
    "import dataclasses\n",
    "#from training import TrainingPipeline\n",
    "from typing import List, Dict\n",
    "\n",
    "@dataclasses.dataclass\n",
    "class opts:\n",
    "    val_seed: int = 2\n",
    "    canonical_test_seed: int = 1\n",
    "    val_fraction: float = 0.2\n",
    "    test_fraction: float = 0.2\n",
    "    n_conv_layers: int = 2\n",
    "    activation_layer: str = \"ReLU\"\n",
    "    dropout_ratio: float = 0.5\n",
    "    mplayer: str = \"GCNConv\"\n",
    "    mplayer_args: List[str] = dataclasses.field(default_factory=list)\n",
    "    mplayer_kwargs: Dict = dataclasses.field(default_factory=dict)\n",
    "    latent_dim: int = 32\n",
    "    layer_ratio: int = 10\n",
    "    root: str = \"./data/\"\n",
    "    dataset: str = \"shalek\"\n",
    "    model_path: str = \"./models/\"\n",
    "    lr: float = 1e-3\n",
    "    es_patience: int = 10\n",
    "    decoder: str = \"InnerProductDecoder\"\n",
    "    val_mode: str = \"max\"\n",
    "    val_metric: str = \"average_precision_score\"\n",
    "    test_metrics: List[str] = dataclasses.field(default_factory=list)\n",
    "    n_folds: int = 5\n",
    "    epochs: int = 500\n",
    "    cuda: bool = False\n",
    "    negative_sampling: str = \"pot_net\"\n",
    "    score_batched: bool = True\n",
    "    wandb_tracking: bool = True\n",
    "    wandb_project: str = \"granpy-dev\"\n",
    "    wandb_save_model: bool = True\n",
    "    wandb_group: str = None\n",
    "    cache_model: bool = False\n",
    "\n",
    "_opts = opts()\n",
    "\n",
    "_opts.test_metrics += [\"average_precision_score\", \"roc_auc_score\"]"
   ]
  },
  {
   "cell_type": "code",
   "execution_count": 2,
   "metadata": {},
   "outputs": [
    {
     "name": "stdout",
     "output_type": "stream",
     "text": [
      "Data(x=[9411, 1211], edge_index=[2, 115494], num_nodes=9411, edge_label=[115494], edge_label_index=[2, 115494])\n"
     ]
    }
   ],
   "source": [
    "from src.datasets.datasets import McCallaDataset\n",
    "\n",
    "dataset = McCallaDataset(root=\"./data/\", opts = _opts, hash=\"abc\")\n",
    "\n",
    "print(dataset.train_data)"
   ]
  },
  {
   "cell_type": "code",
   "execution_count": 3,
   "metadata": {},
   "outputs": [
    {
     "name": "stdout",
     "output_type": "stream",
     "text": [
      "CUDA is set to False, using cpu as fallback\n",
      "CUDA is set to False, using cpu as fallback\n"
     ]
    },
    {
     "name": "stderr",
     "output_type": "stream",
     "text": [
      "Failed to detect the name of this notebook, you can set it manually with the WANDB_NOTEBOOK_NAME environment variable to enable code saving.\n",
      "\u001b[34m\u001b[1mwandb\u001b[0m: Currently logged in as: \u001b[33mmarcostock\u001b[0m (\u001b[33mscialdonelab\u001b[0m). Use \u001b[1m`wandb login --relogin`\u001b[0m to force relogin\n"
     ]
    },
    {
     "data": {
      "text/html": [
       "Tracking run with wandb version 0.16.3"
      ],
      "text/plain": [
       "<IPython.core.display.HTML object>"
      ]
     },
     "metadata": {},
     "output_type": "display_data"
    },
    {
     "data": {
      "text/html": [
       "Run data is saved locally in <code>/Users/marcostock/Documents/PhD/01_Projects/granPy/wandb/run-20240221_212539-qc7dvrfr</code>"
      ],
      "text/plain": [
       "<IPython.core.display.HTML object>"
      ]
     },
     "metadata": {},
     "output_type": "display_data"
    },
    {
     "data": {
      "text/html": [
       "Syncing run <strong><a href='https://wandb.ai/scialdonelab/granpy-dev/runs/qc7dvrfr' target=\"_blank\">crimson-goat-18</a></strong> to <a href='https://wandb.ai/scialdonelab/granpy-dev' target=\"_blank\">Weights & Biases</a> (<a href='https://wandb.me/run' target=\"_blank\">docs</a>)<br/>"
      ],
      "text/plain": [
       "<IPython.core.display.HTML object>"
      ]
     },
     "metadata": {},
     "output_type": "display_data"
    },
    {
     "data": {
      "text/html": [
       " View project at <a href='https://wandb.ai/scialdonelab/granpy-dev' target=\"_blank\">https://wandb.ai/scialdonelab/granpy-dev</a>"
      ],
      "text/plain": [
       "<IPython.core.display.HTML object>"
      ]
     },
     "metadata": {},
     "output_type": "display_data"
    },
    {
     "data": {
      "text/html": [
       " View run at <a href='https://wandb.ai/scialdonelab/granpy-dev/runs/qc7dvrfr' target=\"_blank\">https://wandb.ai/scialdonelab/granpy-dev/runs/qc7dvrfr</a>"
      ],
      "text/plain": [
       "<IPython.core.display.HTML object>"
      ]
     },
     "metadata": {},
     "output_type": "display_data"
    },
    {
     "name": "stderr",
     "output_type": "stream",
     "text": [
      "Best average_precision_score: 0.8457574402455681:   2%|▏         | 12/500 [00:12<08:32,  1.05s/it]\n",
      "wandb: WARNING Source type is set to 'repo' but some required information is missing from the environment. A job will not be created from this run. See https://docs.wandb.ai/guides/launch/create-job\n"
     ]
    },
    {
     "data": {
      "application/vnd.jupyter.widget-view+json": {
       "model_id": "c3aef210ebe845be964e11bb0875a108",
       "version_major": 2,
       "version_minor": 0
      },
      "text/plain": [
       "VBox(children=(Label(value='1.526 MB of 1.526 MB uploaded\\r'), FloatProgress(value=1.0, max=1.0)))"
      ]
     },
     "metadata": {},
     "output_type": "display_data"
    },
    {
     "data": {
      "text/html": [
       "<style>\n",
       "    table.wandb td:nth-child(1) { padding: 0 10px; text-align: left ; width: auto;} td:nth-child(2) {text-align: left ; width: 100%}\n",
       "    .wandb-row { display: flex; flex-direction: row; flex-wrap: wrap; justify-content: flex-start; width: 100% }\n",
       "    .wandb-col { display: flex; flex-direction: column; flex-basis: 100%; flex: 1; padding: 10px; }\n",
       "    </style>\n",
       "<div class=\"wandb-row\"><div class=\"wandb-col\"><h3>Run history:</h3><br/><table class=\"wandb\"><tr><td>average_precision_score</td><td>▁</td></tr><tr><td>roc_auc_score</td><td>▁</td></tr><tr><td>train_loss</td><td>████▇▇▆▅▅▃▂▁▃</td></tr><tr><td>val_average_precision_score</td><td>▁▅██▇▇▇▇▇▅▄▄▅</td></tr><tr><td>val_loss</td><td>██▇▇▇▆▅▅▄▃▃▂▁</td></tr></table><br/></div><div class=\"wandb-col\"><h3>Run summary:</h3><br/><table class=\"wandb\"><tr><td>average_precision_score</td><td>0.38433</td></tr><tr><td>roc_auc_score</td><td>0.75324</td></tr><tr><td>train_loss</td><td>1.4471</td></tr><tr><td>val_average_precision_score</td><td>0.84516</td></tr><tr><td>val_loss</td><td>1.4466</td></tr></table><br/></div></div>"
      ],
      "text/plain": [
       "<IPython.core.display.HTML object>"
      ]
     },
     "metadata": {},
     "output_type": "display_data"
    },
    {
     "data": {
      "text/html": [
       " View run <strong style=\"color:#cdcd00\">crimson-goat-18</strong> at: <a href='https://wandb.ai/scialdonelab/granpy-dev/runs/qc7dvrfr' target=\"_blank\">https://wandb.ai/scialdonelab/granpy-dev/runs/qc7dvrfr</a><br/>Synced 7 W&B file(s), 0 media file(s), 1 artifact file(s) and 1 other file(s)"
      ],
      "text/plain": [
       "<IPython.core.display.HTML object>"
      ]
     },
     "metadata": {},
     "output_type": "display_data"
    },
    {
     "data": {
      "text/html": [
       "Find logs at: <code>./wandb/run-20240221_212539-qc7dvrfr/logs</code>"
      ],
      "text/plain": [
       "<IPython.core.display.HTML object>"
      ]
     },
     "metadata": {},
     "output_type": "display_data"
    },
    {
     "data": {
      "text/plain": [
       "{'average_precision_score': 0.3843313111830709,\n",
       " 'roc_auc_score': 0.7532439527419835}"
      ]
     },
     "execution_count": 3,
     "metadata": {},
     "output_type": "execute_result"
    }
   ],
   "source": [
    "# single run\n",
    "\n",
    "from src.experiment import Experiment\n",
    "experiment = Experiment(_opts)\n",
    "experiment.run()"
   ]
  },
  {
   "cell_type": "code",
   "execution_count": 4,
   "metadata": {},
   "outputs": [
    {
     "name": "stderr",
     "output_type": "stream",
     "text": [
      "  0%|          | 0/5 [00:00<?, ?it/s]Processing...\n"
     ]
    },
    {
     "name": "stdout",
     "output_type": "stream",
     "text": [
      "NO CACHE FOUND - Processing data...\n"
     ]
    },
    {
     "name": "stderr",
     "output_type": "stream",
     "text": [
      "Done!\n"
     ]
    },
    {
     "name": "stdout",
     "output_type": "stream",
     "text": [
      "CUDA is set to False, using cpu as fallback\n",
      "CUDA is set to False, using cpu as fallback\n"
     ]
    },
    {
     "data": {
      "text/html": [
       "Tracking run with wandb version 0.16.3"
      ],
      "text/plain": [
       "<IPython.core.display.HTML object>"
      ]
     },
     "metadata": {},
     "output_type": "display_data"
    },
    {
     "data": {
      "text/html": [
       "Run data is saved locally in <code>/Users/marcostock/Documents/PhD/01_Projects/granPy/wandb/run-20240221_212614-xm949zcp</code>"
      ],
      "text/plain": [
       "<IPython.core.display.HTML object>"
      ]
     },
     "metadata": {},
     "output_type": "display_data"
    },
    {
     "data": {
      "text/html": [
       "Syncing run <strong><a href='https://wandb.ai/scialdonelab/granpy-dev/runs/xm949zcp' target=\"_blank\">incandescent-snake-19</a></strong> to <a href='https://wandb.ai/scialdonelab/granpy-dev' target=\"_blank\">Weights & Biases</a> (<a href='https://wandb.me/run' target=\"_blank\">docs</a>)<br/>"
      ],
      "text/plain": [
       "<IPython.core.display.HTML object>"
      ]
     },
     "metadata": {},
     "output_type": "display_data"
    },
    {
     "data": {
      "text/html": [
       " View project at <a href='https://wandb.ai/scialdonelab/granpy-dev' target=\"_blank\">https://wandb.ai/scialdonelab/granpy-dev</a>"
      ],
      "text/plain": [
       "<IPython.core.display.HTML object>"
      ]
     },
     "metadata": {},
     "output_type": "display_data"
    },
    {
     "data": {
      "text/html": [
       " View run at <a href='https://wandb.ai/scialdonelab/granpy-dev/runs/xm949zcp' target=\"_blank\">https://wandb.ai/scialdonelab/granpy-dev/runs/xm949zcp</a>"
      ],
      "text/plain": [
       "<IPython.core.display.HTML object>"
      ]
     },
     "metadata": {},
     "output_type": "display_data"
    },
    {
     "name": "stderr",
     "output_type": "stream",
     "text": [
      "Best average_precision_score: 0.8460961859243717:   3%|▎         | 14/500 [00:16<09:44,  1.20s/it]\n",
      "wandb: WARNING Source type is set to 'repo' but some required information is missing from the environment. A job will not be created from this run. See https://docs.wandb.ai/guides/launch/create-job\n"
     ]
    },
    {
     "data": {
      "application/vnd.jupyter.widget-view+json": {
       "model_id": "b09f3b4ea13a41f0942c93844f9c151d",
       "version_major": 2,
       "version_minor": 0
      },
      "text/plain": [
       "VBox(children=(Label(value='1.526 MB of 1.526 MB uploaded\\r'), FloatProgress(value=1.0, max=1.0)))"
      ]
     },
     "metadata": {},
     "output_type": "display_data"
    },
    {
     "data": {
      "text/html": [
       "<style>\n",
       "    table.wandb td:nth-child(1) { padding: 0 10px; text-align: left ; width: auto;} td:nth-child(2) {text-align: left ; width: 100%}\n",
       "    .wandb-row { display: flex; flex-direction: row; flex-wrap: wrap; justify-content: flex-start; width: 100% }\n",
       "    .wandb-col { display: flex; flex-direction: column; flex-basis: 100%; flex: 1; padding: 10px; }\n",
       "    </style>\n",
       "<div class=\"wandb-row\"><div class=\"wandb-col\"><h3>Run history:</h3><br/><table class=\"wandb\"><tr><td>average_precision_score</td><td>▁</td></tr><tr><td>roc_auc_score</td><td>▁</td></tr><tr><td>train_loss</td><td>█▇█▇▇▇▆▆▄▅▅▄▄▂▁</td></tr><tr><td>val_average_precision_score</td><td>▃▆▅▇█▇▆▄▅▄▂▁▃▃▃</td></tr><tr><td>val_loss</td><td>██▇▇▇▆▆▆▅▄▄▃▂▁▁</td></tr></table><br/></div><div class=\"wandb-col\"><h3>Run summary:</h3><br/><table class=\"wandb\"><tr><td>average_precision_score</td><td>0.38424</td></tr><tr><td>roc_auc_score</td><td>0.75331</td></tr><tr><td>train_loss</td><td>1.44554</td></tr><tr><td>val_average_precision_score</td><td>0.84534</td></tr><tr><td>val_loss</td><td>1.44597</td></tr></table><br/></div></div>"
      ],
      "text/plain": [
       "<IPython.core.display.HTML object>"
      ]
     },
     "metadata": {},
     "output_type": "display_data"
    },
    {
     "data": {
      "text/html": [
       " View run <strong style=\"color:#cdcd00\">incandescent-snake-19</strong> at: <a href='https://wandb.ai/scialdonelab/granpy-dev/runs/xm949zcp' target=\"_blank\">https://wandb.ai/scialdonelab/granpy-dev/runs/xm949zcp</a><br/>Synced 7 W&B file(s), 0 media file(s), 1 artifact file(s) and 1 other file(s)"
      ],
      "text/plain": [
       "<IPython.core.display.HTML object>"
      ]
     },
     "metadata": {},
     "output_type": "display_data"
    },
    {
     "data": {
      "text/html": [
       "Find logs at: <code>./wandb/run-20240221_212614-xm949zcp/logs</code>"
      ],
      "text/plain": [
       "<IPython.core.display.HTML object>"
      ]
     },
     "metadata": {},
     "output_type": "display_data"
    },
    {
     "name": "stderr",
     "output_type": "stream",
     "text": [
      " 20%|██        | 1/5 [00:27<01:48, 27.25s/it]Processing...\n"
     ]
    },
    {
     "name": "stdout",
     "output_type": "stream",
     "text": [
      "NO CACHE FOUND - Processing data...\n"
     ]
    },
    {
     "name": "stderr",
     "output_type": "stream",
     "text": [
      "Done!\n"
     ]
    },
    {
     "name": "stdout",
     "output_type": "stream",
     "text": [
      "CUDA is set to False, using cpu as fallback\n",
      "CUDA is set to False, using cpu as fallback\n"
     ]
    },
    {
     "data": {
      "text/html": [
       "Tracking run with wandb version 0.16.3"
      ],
      "text/plain": [
       "<IPython.core.display.HTML object>"
      ]
     },
     "metadata": {},
     "output_type": "display_data"
    },
    {
     "data": {
      "text/html": [
       "Run data is saved locally in <code>/Users/marcostock/Documents/PhD/01_Projects/granPy/wandb/run-20240221_212641-6vt9llb2</code>"
      ],
      "text/plain": [
       "<IPython.core.display.HTML object>"
      ]
     },
     "metadata": {},
     "output_type": "display_data"
    },
    {
     "data": {
      "text/html": [
       "Syncing run <strong><a href='https://wandb.ai/scialdonelab/granpy-dev/runs/6vt9llb2' target=\"_blank\">legendary-goat-20</a></strong> to <a href='https://wandb.ai/scialdonelab/granpy-dev' target=\"_blank\">Weights & Biases</a> (<a href='https://wandb.me/run' target=\"_blank\">docs</a>)<br/>"
      ],
      "text/plain": [
       "<IPython.core.display.HTML object>"
      ]
     },
     "metadata": {},
     "output_type": "display_data"
    },
    {
     "data": {
      "text/html": [
       " View project at <a href='https://wandb.ai/scialdonelab/granpy-dev' target=\"_blank\">https://wandb.ai/scialdonelab/granpy-dev</a>"
      ],
      "text/plain": [
       "<IPython.core.display.HTML object>"
      ]
     },
     "metadata": {},
     "output_type": "display_data"
    },
    {
     "data": {
      "text/html": [
       " View run at <a href='https://wandb.ai/scialdonelab/granpy-dev/runs/6vt9llb2' target=\"_blank\">https://wandb.ai/scialdonelab/granpy-dev/runs/6vt9llb2</a>"
      ],
      "text/plain": [
       "<IPython.core.display.HTML object>"
      ]
     },
     "metadata": {},
     "output_type": "display_data"
    },
    {
     "name": "stderr",
     "output_type": "stream",
     "text": [
      "Best average_precision_score: 0.845036741858005:   3%|▎         | 15/500 [00:16<08:55,  1.10s/it]\n",
      "wandb: WARNING Source type is set to 'repo' but some required information is missing from the environment. A job will not be created from this run. See https://docs.wandb.ai/guides/launch/create-job\n"
     ]
    },
    {
     "data": {
      "application/vnd.jupyter.widget-view+json": {
       "model_id": "8fd97d83421742738c158a17642fdeff",
       "version_major": 2,
       "version_minor": 0
      },
      "text/plain": [
       "VBox(children=(Label(value='1.526 MB of 1.526 MB uploaded\\r'), FloatProgress(value=1.0, max=1.0)))"
      ]
     },
     "metadata": {},
     "output_type": "display_data"
    },
    {
     "data": {
      "text/html": [
       "<style>\n",
       "    table.wandb td:nth-child(1) { padding: 0 10px; text-align: left ; width: auto;} td:nth-child(2) {text-align: left ; width: 100%}\n",
       "    .wandb-row { display: flex; flex-direction: row; flex-wrap: wrap; justify-content: flex-start; width: 100% }\n",
       "    .wandb-col { display: flex; flex-direction: column; flex-basis: 100%; flex: 1; padding: 10px; }\n",
       "    </style>\n",
       "<div class=\"wandb-row\"><div class=\"wandb-col\"><h3>Run history:</h3><br/><table class=\"wandb\"><tr><td>average_precision_score</td><td>▁</td></tr><tr><td>roc_auc_score</td><td>▁</td></tr><tr><td>train_loss</td><td>███▇▇▆▆▅▅▄▅▄▃▃▂▁</td></tr><tr><td>val_average_precision_score</td><td>█▇▇███▇▆▆▆▆▆▆▅▃▁</td></tr><tr><td>val_loss</td><td>███▇▇▇▆▆▅▅▄▄▃▂▂▁</td></tr></table><br/></div><div class=\"wandb-col\"><h3>Run summary:</h3><br/><table class=\"wandb\"><tr><td>average_precision_score</td><td>0.386</td></tr><tr><td>roc_auc_score</td><td>0.7535</td></tr><tr><td>train_loss</td><td>1.446</td></tr><tr><td>val_average_precision_score</td><td>0.84203</td></tr><tr><td>val_loss</td><td>1.44578</td></tr></table><br/></div></div>"
      ],
      "text/plain": [
       "<IPython.core.display.HTML object>"
      ]
     },
     "metadata": {},
     "output_type": "display_data"
    },
    {
     "data": {
      "text/html": [
       " View run <strong style=\"color:#cdcd00\">legendary-goat-20</strong> at: <a href='https://wandb.ai/scialdonelab/granpy-dev/runs/6vt9llb2' target=\"_blank\">https://wandb.ai/scialdonelab/granpy-dev/runs/6vt9llb2</a><br/>Synced 7 W&B file(s), 0 media file(s), 1 artifact file(s) and 1 other file(s)"
      ],
      "text/plain": [
       "<IPython.core.display.HTML object>"
      ]
     },
     "metadata": {},
     "output_type": "display_data"
    },
    {
     "data": {
      "text/html": [
       "Find logs at: <code>./wandb/run-20240221_212641-6vt9llb2/logs</code>"
      ],
      "text/plain": [
       "<IPython.core.display.HTML object>"
      ]
     },
     "metadata": {},
     "output_type": "display_data"
    },
    {
     "name": "stderr",
     "output_type": "stream",
     "text": [
      " 40%|████      | 2/5 [00:53<01:20, 26.82s/it]Processing...\n"
     ]
    },
    {
     "name": "stdout",
     "output_type": "stream",
     "text": [
      "NO CACHE FOUND - Processing data...\n"
     ]
    },
    {
     "name": "stderr",
     "output_type": "stream",
     "text": [
      "Done!\n"
     ]
    },
    {
     "name": "stdout",
     "output_type": "stream",
     "text": [
      "CUDA is set to False, using cpu as fallback\n",
      "CUDA is set to False, using cpu as fallback\n"
     ]
    },
    {
     "data": {
      "text/html": [
       "Tracking run with wandb version 0.16.3"
      ],
      "text/plain": [
       "<IPython.core.display.HTML object>"
      ]
     },
     "metadata": {},
     "output_type": "display_data"
    },
    {
     "data": {
      "text/html": [
       "Run data is saved locally in <code>/Users/marcostock/Documents/PhD/01_Projects/granPy/wandb/run-20240221_212708-8f4ll92j</code>"
      ],
      "text/plain": [
       "<IPython.core.display.HTML object>"
      ]
     },
     "metadata": {},
     "output_type": "display_data"
    },
    {
     "data": {
      "text/html": [
       "Syncing run <strong><a href='https://wandb.ai/scialdonelab/granpy-dev/runs/8f4ll92j' target=\"_blank\">beaming-horse-21</a></strong> to <a href='https://wandb.ai/scialdonelab/granpy-dev' target=\"_blank\">Weights & Biases</a> (<a href='https://wandb.me/run' target=\"_blank\">docs</a>)<br/>"
      ],
      "text/plain": [
       "<IPython.core.display.HTML object>"
      ]
     },
     "metadata": {},
     "output_type": "display_data"
    },
    {
     "data": {
      "text/html": [
       " View project at <a href='https://wandb.ai/scialdonelab/granpy-dev' target=\"_blank\">https://wandb.ai/scialdonelab/granpy-dev</a>"
      ],
      "text/plain": [
       "<IPython.core.display.HTML object>"
      ]
     },
     "metadata": {},
     "output_type": "display_data"
    },
    {
     "data": {
      "text/html": [
       " View run at <a href='https://wandb.ai/scialdonelab/granpy-dev/runs/8f4ll92j' target=\"_blank\">https://wandb.ai/scialdonelab/granpy-dev/runs/8f4ll92j</a>"
      ],
      "text/plain": [
       "<IPython.core.display.HTML object>"
      ]
     },
     "metadata": {},
     "output_type": "display_data"
    },
    {
     "name": "stderr",
     "output_type": "stream",
     "text": [
      "Best average_precision_score: 0.8458979185932983:   3%|▎         | 16/500 [00:16<08:29,  1.05s/it]\n",
      "wandb: WARNING Source type is set to 'repo' but some required information is missing from the environment. A job will not be created from this run. See https://docs.wandb.ai/guides/launch/create-job\n"
     ]
    },
    {
     "data": {
      "application/vnd.jupyter.widget-view+json": {
       "model_id": "27fd9347ddc44a10a37bfd56b7d340c6",
       "version_major": 2,
       "version_minor": 0
      },
      "text/plain": [
       "VBox(children=(Label(value='0.005 MB of 1.526 MB uploaded\\r'), FloatProgress(value=0.0029611413490227357, max=…"
      ]
     },
     "metadata": {},
     "output_type": "display_data"
    },
    {
     "data": {
      "text/html": [
       "<style>\n",
       "    table.wandb td:nth-child(1) { padding: 0 10px; text-align: left ; width: auto;} td:nth-child(2) {text-align: left ; width: 100%}\n",
       "    .wandb-row { display: flex; flex-direction: row; flex-wrap: wrap; justify-content: flex-start; width: 100% }\n",
       "    .wandb-col { display: flex; flex-direction: column; flex-basis: 100%; flex: 1; padding: 10px; }\n",
       "    </style>\n",
       "<div class=\"wandb-row\"><div class=\"wandb-col\"><h3>Run history:</h3><br/><table class=\"wandb\"><tr><td>average_precision_score</td><td>▁</td></tr><tr><td>roc_auc_score</td><td>▁</td></tr><tr><td>train_loss</td><td>████▇▇▇▆▆▆▅▅▄▄▃▂▁</td></tr><tr><td>val_average_precision_score</td><td>▅▇▇▆▇███▇▆▇▇▆▅▅▄▁</td></tr><tr><td>val_loss</td><td>███▇▇▇▇▆▅▅▄▄▄▃▃▂▁</td></tr></table><br/></div><div class=\"wandb-col\"><h3>Run summary:</h3><br/><table class=\"wandb\"><tr><td>average_precision_score</td><td>0.38457</td></tr><tr><td>roc_auc_score</td><td>0.75347</td></tr><tr><td>train_loss</td><td>1.44416</td></tr><tr><td>val_average_precision_score</td><td>0.8428</td></tr><tr><td>val_loss</td><td>1.44492</td></tr></table><br/></div></div>"
      ],
      "text/plain": [
       "<IPython.core.display.HTML object>"
      ]
     },
     "metadata": {},
     "output_type": "display_data"
    },
    {
     "data": {
      "text/html": [
       " View run <strong style=\"color:#cdcd00\">beaming-horse-21</strong> at: <a href='https://wandb.ai/scialdonelab/granpy-dev/runs/8f4ll92j' target=\"_blank\">https://wandb.ai/scialdonelab/granpy-dev/runs/8f4ll92j</a><br/>Synced 7 W&B file(s), 0 media file(s), 1 artifact file(s) and 1 other file(s)"
      ],
      "text/plain": [
       "<IPython.core.display.HTML object>"
      ]
     },
     "metadata": {},
     "output_type": "display_data"
    },
    {
     "data": {
      "text/html": [
       "Find logs at: <code>./wandb/run-20240221_212708-8f4ll92j/logs</code>"
      ],
      "text/plain": [
       "<IPython.core.display.HTML object>"
      ]
     },
     "metadata": {},
     "output_type": "display_data"
    },
    {
     "name": "stderr",
     "output_type": "stream",
     "text": [
      " 60%|██████    | 3/5 [01:23<00:56, 28.28s/it]Processing...\n"
     ]
    },
    {
     "name": "stdout",
     "output_type": "stream",
     "text": [
      "NO CACHE FOUND - Processing data...\n"
     ]
    },
    {
     "name": "stderr",
     "output_type": "stream",
     "text": [
      "Done!\n"
     ]
    },
    {
     "name": "stdout",
     "output_type": "stream",
     "text": [
      "CUDA is set to False, using cpu as fallback\n",
      "CUDA is set to False, using cpu as fallback\n"
     ]
    },
    {
     "data": {
      "text/html": [
       "Tracking run with wandb version 0.16.3"
      ],
      "text/plain": [
       "<IPython.core.display.HTML object>"
      ]
     },
     "metadata": {},
     "output_type": "display_data"
    },
    {
     "data": {
      "text/html": [
       "Run data is saved locally in <code>/Users/marcostock/Documents/PhD/01_Projects/granPy/wandb/run-20240221_212738-xe8889if</code>"
      ],
      "text/plain": [
       "<IPython.core.display.HTML object>"
      ]
     },
     "metadata": {},
     "output_type": "display_data"
    },
    {
     "data": {
      "text/html": [
       "Syncing run <strong><a href='https://wandb.ai/scialdonelab/granpy-dev/runs/xe8889if' target=\"_blank\">chromatic-lantern-22</a></strong> to <a href='https://wandb.ai/scialdonelab/granpy-dev' target=\"_blank\">Weights & Biases</a> (<a href='https://wandb.me/run' target=\"_blank\">docs</a>)<br/>"
      ],
      "text/plain": [
       "<IPython.core.display.HTML object>"
      ]
     },
     "metadata": {},
     "output_type": "display_data"
    },
    {
     "data": {
      "text/html": [
       " View project at <a href='https://wandb.ai/scialdonelab/granpy-dev' target=\"_blank\">https://wandb.ai/scialdonelab/granpy-dev</a>"
      ],
      "text/plain": [
       "<IPython.core.display.HTML object>"
      ]
     },
     "metadata": {},
     "output_type": "display_data"
    },
    {
     "data": {
      "text/html": [
       " View run at <a href='https://wandb.ai/scialdonelab/granpy-dev/runs/xe8889if' target=\"_blank\">https://wandb.ai/scialdonelab/granpy-dev/runs/xe8889if</a>"
      ],
      "text/plain": [
       "<IPython.core.display.HTML object>"
      ]
     },
     "metadata": {},
     "output_type": "display_data"
    },
    {
     "name": "stderr",
     "output_type": "stream",
     "text": [
      "Best average_precision_score: 0.8488198921624315:   3%|▎         | 15/500 [00:16<09:06,  1.13s/it]\n",
      "wandb: WARNING Source type is set to 'repo' but some required information is missing from the environment. A job will not be created from this run. See https://docs.wandb.ai/guides/launch/create-job\n"
     ]
    },
    {
     "data": {
      "application/vnd.jupyter.widget-view+json": {
       "model_id": "f434324231c94b668e44c32fce39a950",
       "version_major": 2,
       "version_minor": 0
      },
      "text/plain": [
       "VBox(children=(Label(value='1.526 MB of 1.526 MB uploaded\\r'), FloatProgress(value=1.0, max=1.0)))"
      ]
     },
     "metadata": {},
     "output_type": "display_data"
    },
    {
     "data": {
      "text/html": [
       "<style>\n",
       "    table.wandb td:nth-child(1) { padding: 0 10px; text-align: left ; width: auto;} td:nth-child(2) {text-align: left ; width: 100%}\n",
       "    .wandb-row { display: flex; flex-direction: row; flex-wrap: wrap; justify-content: flex-start; width: 100% }\n",
       "    .wandb-col { display: flex; flex-direction: column; flex-basis: 100%; flex: 1; padding: 10px; }\n",
       "    </style>\n",
       "<div class=\"wandb-row\"><div class=\"wandb-col\"><h3>Run history:</h3><br/><table class=\"wandb\"><tr><td>average_precision_score</td><td>▁</td></tr><tr><td>roc_auc_score</td><td>▁</td></tr><tr><td>train_loss</td><td>████▇▇▆▆▅▆▄▄▃▄▂▁</td></tr><tr><td>val_average_precision_score</td><td>▂▂▄███▇▇▆▄▃▄▄▃▁▂</td></tr><tr><td>val_loss</td><td>██▇▇▇▆▆▅▅▅▄▄▃▂▂▁</td></tr></table><br/></div><div class=\"wandb-col\"><h3>Run summary:</h3><br/><table class=\"wandb\"><tr><td>average_precision_score</td><td>0.38629</td></tr><tr><td>roc_auc_score</td><td>0.75348</td></tr><tr><td>train_loss</td><td>1.44525</td></tr><tr><td>val_average_precision_score</td><td>0.84686</td></tr><tr><td>val_loss</td><td>1.44532</td></tr></table><br/></div></div>"
      ],
      "text/plain": [
       "<IPython.core.display.HTML object>"
      ]
     },
     "metadata": {},
     "output_type": "display_data"
    },
    {
     "data": {
      "text/html": [
       " View run <strong style=\"color:#cdcd00\">chromatic-lantern-22</strong> at: <a href='https://wandb.ai/scialdonelab/granpy-dev/runs/xe8889if' target=\"_blank\">https://wandb.ai/scialdonelab/granpy-dev/runs/xe8889if</a><br/>Synced 7 W&B file(s), 0 media file(s), 1 artifact file(s) and 1 other file(s)"
      ],
      "text/plain": [
       "<IPython.core.display.HTML object>"
      ]
     },
     "metadata": {},
     "output_type": "display_data"
    },
    {
     "data": {
      "text/html": [
       "Find logs at: <code>./wandb/run-20240221_212738-xe8889if/logs</code>"
      ],
      "text/plain": [
       "<IPython.core.display.HTML object>"
      ]
     },
     "metadata": {},
     "output_type": "display_data"
    },
    {
     "name": "stderr",
     "output_type": "stream",
     "text": [
      " 80%|████████  | 4/5 [01:51<00:28, 28.25s/it]Processing...\n"
     ]
    },
    {
     "name": "stdout",
     "output_type": "stream",
     "text": [
      "NO CACHE FOUND - Processing data...\n"
     ]
    },
    {
     "name": "stderr",
     "output_type": "stream",
     "text": [
      "Done!\n"
     ]
    },
    {
     "name": "stdout",
     "output_type": "stream",
     "text": [
      "CUDA is set to False, using cpu as fallback\n",
      "CUDA is set to False, using cpu as fallback\n"
     ]
    },
    {
     "data": {
      "text/html": [
       "Tracking run with wandb version 0.16.3"
      ],
      "text/plain": [
       "<IPython.core.display.HTML object>"
      ]
     },
     "metadata": {},
     "output_type": "display_data"
    },
    {
     "data": {
      "text/html": [
       "Run data is saved locally in <code>/Users/marcostock/Documents/PhD/01_Projects/granPy/wandb/run-20240221_212806-s3h4jirs</code>"
      ],
      "text/plain": [
       "<IPython.core.display.HTML object>"
      ]
     },
     "metadata": {},
     "output_type": "display_data"
    },
    {
     "data": {
      "text/html": [
       "Syncing run <strong><a href='https://wandb.ai/scialdonelab/granpy-dev/runs/s3h4jirs' target=\"_blank\">scintillating-dumpling-23</a></strong> to <a href='https://wandb.ai/scialdonelab/granpy-dev' target=\"_blank\">Weights & Biases</a> (<a href='https://wandb.me/run' target=\"_blank\">docs</a>)<br/>"
      ],
      "text/plain": [
       "<IPython.core.display.HTML object>"
      ]
     },
     "metadata": {},
     "output_type": "display_data"
    },
    {
     "data": {
      "text/html": [
       " View project at <a href='https://wandb.ai/scialdonelab/granpy-dev' target=\"_blank\">https://wandb.ai/scialdonelab/granpy-dev</a>"
      ],
      "text/plain": [
       "<IPython.core.display.HTML object>"
      ]
     },
     "metadata": {},
     "output_type": "display_data"
    },
    {
     "data": {
      "text/html": [
       " View run at <a href='https://wandb.ai/scialdonelab/granpy-dev/runs/s3h4jirs' target=\"_blank\">https://wandb.ai/scialdonelab/granpy-dev/runs/s3h4jirs</a>"
      ],
      "text/plain": [
       "<IPython.core.display.HTML object>"
      ]
     },
     "metadata": {},
     "output_type": "display_data"
    },
    {
     "name": "stderr",
     "output_type": "stream",
     "text": [
      "Best average_precision_score: 0.8484980009917636:   3%|▎         | 13/500 [00:12<07:55,  1.02it/s]\n",
      "wandb: WARNING Source type is set to 'repo' but some required information is missing from the environment. A job will not be created from this run. See https://docs.wandb.ai/guides/launch/create-job\n"
     ]
    },
    {
     "data": {
      "application/vnd.jupyter.widget-view+json": {
       "model_id": "6b02b62f86084e94907f059da3a7e24e",
       "version_major": 2,
       "version_minor": 0
      },
      "text/plain": [
       "VBox(children=(Label(value='1.526 MB of 1.526 MB uploaded\\r'), FloatProgress(value=1.0, max=1.0)))"
      ]
     },
     "metadata": {},
     "output_type": "display_data"
    },
    {
     "data": {
      "text/html": [
       "<style>\n",
       "    table.wandb td:nth-child(1) { padding: 0 10px; text-align: left ; width: auto;} td:nth-child(2) {text-align: left ; width: 100%}\n",
       "    .wandb-row { display: flex; flex-direction: row; flex-wrap: wrap; justify-content: flex-start; width: 100% }\n",
       "    .wandb-col { display: flex; flex-direction: column; flex-basis: 100%; flex: 1; padding: 10px; }\n",
       "    </style>\n",
       "<div class=\"wandb-row\"><div class=\"wandb-col\"><h3>Run history:</h3><br/><table class=\"wandb\"><tr><td>average_precision_score</td><td>▁</td></tr><tr><td>roc_auc_score</td><td>▁</td></tr><tr><td>train_loss</td><td>██▇▇▇▆▆▅▅▄▃▂▁▁</td></tr><tr><td>val_average_precision_score</td><td>▅▇██▇▆▅▄▃▂▁▁▂▂</td></tr><tr><td>val_loss</td><td>██▇▇▇▆▆▅▅▄▃▃▂▁</td></tr></table><br/></div><div class=\"wandb-col\"><h3>Run summary:</h3><br/><table class=\"wandb\"><tr><td>average_precision_score</td><td>0.38474</td></tr><tr><td>roc_auc_score</td><td>0.75361</td></tr><tr><td>train_loss</td><td>1.44656</td></tr><tr><td>val_average_precision_score</td><td>0.84601</td></tr><tr><td>val_loss</td><td>1.44606</td></tr></table><br/></div></div>"
      ],
      "text/plain": [
       "<IPython.core.display.HTML object>"
      ]
     },
     "metadata": {},
     "output_type": "display_data"
    },
    {
     "data": {
      "text/html": [
       " View run <strong style=\"color:#cdcd00\">scintillating-dumpling-23</strong> at: <a href='https://wandb.ai/scialdonelab/granpy-dev/runs/s3h4jirs' target=\"_blank\">https://wandb.ai/scialdonelab/granpy-dev/runs/s3h4jirs</a><br/>Synced 7 W&B file(s), 0 media file(s), 1 artifact file(s) and 1 other file(s)"
      ],
      "text/plain": [
       "<IPython.core.display.HTML object>"
      ]
     },
     "metadata": {},
     "output_type": "display_data"
    },
    {
     "data": {
      "text/html": [
       "Find logs at: <code>./wandb/run-20240221_212806-s3h4jirs/logs</code>"
      ],
      "text/plain": [
       "<IPython.core.display.HTML object>"
      ]
     },
     "metadata": {},
     "output_type": "display_data"
    },
    {
     "name": "stderr",
     "output_type": "stream",
     "text": [
      "100%|██████████| 5/5 [02:15<00:00, 27.09s/it]\n"
     ]
    },
    {
     "data": {
      "text/plain": [
       "[{'average_precision_score': 0.3842363860774682,\n",
       "  'roc_auc_score': 0.7533069456898615},\n",
       " {'average_precision_score': 0.3860045051348083,\n",
       "  'roc_auc_score': 0.7534996485437784},\n",
       " {'average_precision_score': 0.3845679411458947,\n",
       "  'roc_auc_score': 0.7534722618221762},\n",
       " {'average_precision_score': 0.38629081942510063,\n",
       "  'roc_auc_score': 0.7534810406922077},\n",
       " {'average_precision_score': 0.38473665741299845,\n",
       "  'roc_auc_score': 0.7536084802105218}]"
      ]
     },
     "execution_count": 4,
     "metadata": {},
     "output_type": "execute_result"
    }
   ],
   "source": [
    "# folded runs\n",
    "\n",
    "from src.experiment import ExperimentArray\n",
    "experimentArray = ExperimentArray(_opts)\n",
    "experimentArray.run()"
   ]
  },
  {
   "cell_type": "code",
   "execution_count": 3,
   "metadata": {},
   "outputs": [
    {
     "name": "stderr",
     "output_type": "stream",
     "text": [
      "Failed to detect the name of this notebook, you can set it manually with the WANDB_NOTEBOOK_NAME environment variable to enable code saving.\n"
     ]
    },
    {
     "name": "stdout",
     "output_type": "stream",
     "text": [
      "Create sweep with ID: 6yxxiir3\n",
      "Sweep URL: https://wandb.ai/scialdonelab/granpy-dev/sweeps/6yxxiir3\n"
     ]
    },
    {
     "name": "stderr",
     "output_type": "stream",
     "text": [
      "\u001b[34m\u001b[1mwandb\u001b[0m: Agent Starting Run: ik7gaylj with config:\n",
      "\u001b[34m\u001b[1mwandb\u001b[0m: \tdecoder: PNormDecoder\n",
      "\u001b[34m\u001b[1mwandb\u001b[0m: \tdropout_ratio: 0.4606439930451516\n",
      "\u001b[34m\u001b[1mwandb\u001b[0m: \tn_conv_layers: 1\n",
      "Processing...\n"
     ]
    },
    {
     "name": "stdout",
     "output_type": "stream",
     "text": [
      "NO CACHE FOUND - Processing data...\n"
     ]
    },
    {
     "name": "stderr",
     "output_type": "stream",
     "text": [
      "Done!\n",
      "Failed to detect the name of this notebook, you can set it manually with the WANDB_NOTEBOOK_NAME environment variable to enable code saving.\n"
     ]
    },
    {
     "name": "stdout",
     "output_type": "stream",
     "text": [
      "CUDA is set to False, using cpu as fallback\n",
      "CUDA is set to False, using cpu as fallback\n"
     ]
    },
    {
     "name": "stderr",
     "output_type": "stream",
     "text": [
      "\u001b[34m\u001b[1mwandb\u001b[0m: Currently logged in as: \u001b[33mmarcostock\u001b[0m (\u001b[33mscialdonelab\u001b[0m). Use \u001b[1m`wandb login --relogin`\u001b[0m to force relogin\n",
      "\u001b[34m\u001b[1mwandb\u001b[0m: \u001b[33mWARNING\u001b[0m Ignored wandb.init() arg project when running a sweep.\n",
      "\u001b[34m\u001b[1mwandb\u001b[0m: \u001b[33mWARNING\u001b[0m Ignored wandb.init() arg entity when running a sweep.\n"
     ]
    },
    {
     "data": {
      "text/html": [
       "Tracking run with wandb version 0.16.3"
      ],
      "text/plain": [
       "<IPython.core.display.HTML object>"
      ]
     },
     "metadata": {},
     "output_type": "display_data"
    },
    {
     "data": {
      "text/html": [
       "Run data is saved locally in <code>/Users/marcostock/Documents/PhD/01_Projects/granPy/wandb/run-20240221_215504-ik7gaylj</code>"
      ],
      "text/plain": [
       "<IPython.core.display.HTML object>"
      ]
     },
     "metadata": {},
     "output_type": "display_data"
    },
    {
     "data": {
      "text/html": [
       "Syncing run <strong><a href='https://wandb.ai/scialdonelab/granpy-dev/runs/ik7gaylj' target=\"_blank\">unique-sweep-1</a></strong> to <a href='https://wandb.ai/scialdonelab/granpy-dev' target=\"_blank\">Weights & Biases</a> (<a href='https://wandb.me/run' target=\"_blank\">docs</a>)<br/>Sweep page: <a href='https://wandb.ai/scialdonelab/granpy-dev/sweeps/6yxxiir3' target=\"_blank\">https://wandb.ai/scialdonelab/granpy-dev/sweeps/6yxxiir3</a>"
      ],
      "text/plain": [
       "<IPython.core.display.HTML object>"
      ]
     },
     "metadata": {},
     "output_type": "display_data"
    },
    {
     "data": {
      "text/html": [
       " View project at <a href='https://wandb.ai/scialdonelab/granpy-dev' target=\"_blank\">https://wandb.ai/scialdonelab/granpy-dev</a>"
      ],
      "text/plain": [
       "<IPython.core.display.HTML object>"
      ]
     },
     "metadata": {},
     "output_type": "display_data"
    },
    {
     "data": {
      "text/html": [
       " View sweep at <a href='https://wandb.ai/scialdonelab/granpy-dev/sweeps/6yxxiir3' target=\"_blank\">https://wandb.ai/scialdonelab/granpy-dev/sweeps/6yxxiir3</a>"
      ],
      "text/plain": [
       "<IPython.core.display.HTML object>"
      ]
     },
     "metadata": {},
     "output_type": "display_data"
    },
    {
     "data": {
      "text/html": [
       " View run at <a href='https://wandb.ai/scialdonelab/granpy-dev/runs/ik7gaylj' target=\"_blank\">https://wandb.ai/scialdonelab/granpy-dev/runs/ik7gaylj</a>"
      ],
      "text/plain": [
       "<IPython.core.display.HTML object>"
      ]
     },
     "metadata": {},
     "output_type": "display_data"
    },
    {
     "name": "stderr",
     "output_type": "stream",
     "text": [
      "Best average_precision_score: 0.8460964525105537:   3%|▎         | 14/500 [00:14<08:34,  1.06s/it]\n"
     ]
    },
    {
     "data": {
      "application/vnd.jupyter.widget-view+json": {
       "model_id": "2bb21d6b7eda42b68843733bdc73c34f",
       "version_major": 2,
       "version_minor": 0
      },
      "text/plain": [
       "VBox(children=(Label(value='0.591 MB of 1.526 MB uploaded\\r'), FloatProgress(value=0.387130020431416, max=1.0)…"
      ]
     },
     "metadata": {},
     "output_type": "display_data"
    },
    {
     "data": {
      "text/html": [
       "<style>\n",
       "    table.wandb td:nth-child(1) { padding: 0 10px; text-align: left ; width: auto;} td:nth-child(2) {text-align: left ; width: 100%}\n",
       "    .wandb-row { display: flex; flex-direction: row; flex-wrap: wrap; justify-content: flex-start; width: 100% }\n",
       "    .wandb-col { display: flex; flex-direction: column; flex-basis: 100%; flex: 1; padding: 10px; }\n",
       "    </style>\n",
       "<div class=\"wandb-row\"><div class=\"wandb-col\"><h3>Run history:</h3><br/><table class=\"wandb\"><tr><td>average_precision_score</td><td>▁</td></tr><tr><td>roc_auc_score</td><td>▁</td></tr><tr><td>train_loss</td><td>█▇█▇▇▇▆▆▄▅▅▄▄▂▁</td></tr><tr><td>val_average_precision_score</td><td>▃▆▅▇█▇▆▄▅▄▂▁▃▃▃</td></tr><tr><td>val_loss</td><td>██▇▇▇▆▆▆▅▄▄▃▂▁▁</td></tr></table><br/></div><div class=\"wandb-col\"><h3>Run summary:</h3><br/><table class=\"wandb\"><tr><td>average_precision_score</td><td>0.38424</td></tr><tr><td>roc_auc_score</td><td>0.75331</td></tr><tr><td>train_loss</td><td>1.44554</td></tr><tr><td>val_average_precision_score</td><td>0.84534</td></tr><tr><td>val_loss</td><td>1.44597</td></tr></table><br/></div></div>"
      ],
      "text/plain": [
       "<IPython.core.display.HTML object>"
      ]
     },
     "metadata": {},
     "output_type": "display_data"
    },
    {
     "data": {
      "text/html": [
       " View run <strong style=\"color:#cdcd00\">unique-sweep-1</strong> at: <a href='https://wandb.ai/scialdonelab/granpy-dev/runs/ik7gaylj' target=\"_blank\">https://wandb.ai/scialdonelab/granpy-dev/runs/ik7gaylj</a><br/>Synced 7 W&B file(s), 0 media file(s), 1 artifact file(s) and 1 other file(s)"
      ],
      "text/plain": [
       "<IPython.core.display.HTML object>"
      ]
     },
     "metadata": {},
     "output_type": "display_data"
    },
    {
     "data": {
      "text/html": [
       "Find logs at: <code>./wandb/run-20240221_215504-ik7gaylj/logs</code>"
      ],
      "text/plain": [
       "<IPython.core.display.HTML object>"
      ]
     },
     "metadata": {},
     "output_type": "display_data"
    },
    {
     "name": "stderr",
     "output_type": "stream",
     "text": [
      "\u001b[34m\u001b[1mwandb\u001b[0m: Agent Starting Run: rb1m9obv with config:\n",
      "\u001b[34m\u001b[1mwandb\u001b[0m: \tdecoder: InnerProductDecoder\n",
      "\u001b[34m\u001b[1mwandb\u001b[0m: \tdropout_ratio: 0.2768290666990256\n",
      "\u001b[34m\u001b[1mwandb\u001b[0m: \tn_conv_layers: 1\n",
      "Failed to detect the name of this notebook, you can set it manually with the WANDB_NOTEBOOK_NAME environment variable to enable code saving.\n"
     ]
    },
    {
     "name": "stdout",
     "output_type": "stream",
     "text": [
      "CUDA is set to False, using cpu as fallback\n",
      "CUDA is set to False, using cpu as fallback\n"
     ]
    },
    {
     "name": "stderr",
     "output_type": "stream",
     "text": [
      "\u001b[34m\u001b[1mwandb\u001b[0m: \u001b[33mWARNING\u001b[0m Ignored wandb.init() arg project when running a sweep.\n",
      "\u001b[34m\u001b[1mwandb\u001b[0m: \u001b[33mWARNING\u001b[0m Ignored wandb.init() arg entity when running a sweep.\n"
     ]
    },
    {
     "data": {
      "text/html": [
       "Tracking run with wandb version 0.16.3"
      ],
      "text/plain": [
       "<IPython.core.display.HTML object>"
      ]
     },
     "metadata": {},
     "output_type": "display_data"
    },
    {
     "data": {
      "text/html": [
       "Run data is saved locally in <code>/Users/marcostock/Documents/PhD/01_Projects/granPy/wandb/run-20240221_215535-rb1m9obv</code>"
      ],
      "text/plain": [
       "<IPython.core.display.HTML object>"
      ]
     },
     "metadata": {},
     "output_type": "display_data"
    },
    {
     "data": {
      "text/html": [
       "Syncing run <strong><a href='https://wandb.ai/scialdonelab/granpy-dev/runs/rb1m9obv' target=\"_blank\">brisk-sweep-2</a></strong> to <a href='https://wandb.ai/scialdonelab/granpy-dev' target=\"_blank\">Weights & Biases</a> (<a href='https://wandb.me/run' target=\"_blank\">docs</a>)<br/>Sweep page: <a href='https://wandb.ai/scialdonelab/granpy-dev/sweeps/6yxxiir3' target=\"_blank\">https://wandb.ai/scialdonelab/granpy-dev/sweeps/6yxxiir3</a>"
      ],
      "text/plain": [
       "<IPython.core.display.HTML object>"
      ]
     },
     "metadata": {},
     "output_type": "display_data"
    },
    {
     "data": {
      "text/html": [
       " View project at <a href='https://wandb.ai/scialdonelab/granpy-dev' target=\"_blank\">https://wandb.ai/scialdonelab/granpy-dev</a>"
      ],
      "text/plain": [
       "<IPython.core.display.HTML object>"
      ]
     },
     "metadata": {},
     "output_type": "display_data"
    },
    {
     "data": {
      "text/html": [
       " View sweep at <a href='https://wandb.ai/scialdonelab/granpy-dev/sweeps/6yxxiir3' target=\"_blank\">https://wandb.ai/scialdonelab/granpy-dev/sweeps/6yxxiir3</a>"
      ],
      "text/plain": [
       "<IPython.core.display.HTML object>"
      ]
     },
     "metadata": {},
     "output_type": "display_data"
    },
    {
     "data": {
      "text/html": [
       " View run at <a href='https://wandb.ai/scialdonelab/granpy-dev/runs/rb1m9obv' target=\"_blank\">https://wandb.ai/scialdonelab/granpy-dev/runs/rb1m9obv</a>"
      ],
      "text/plain": [
       "<IPython.core.display.HTML object>"
      ]
     },
     "metadata": {},
     "output_type": "display_data"
    },
    {
     "name": "stderr",
     "output_type": "stream",
     "text": [
      "Best average_precision_score: 0.8453803403943241:   3%|▎         | 16/500 [00:18<09:21,  1.16s/it]\n"
     ]
    },
    {
     "data": {
      "application/vnd.jupyter.widget-view+json": {
       "model_id": "c1c090590a43491485c8ae6a8b5fe435",
       "version_major": 2,
       "version_minor": 0
      },
      "text/plain": [
       "VBox(children=(Label(value='1.526 MB of 1.526 MB uploaded\\r'), FloatProgress(value=1.0, max=1.0)))"
      ]
     },
     "metadata": {},
     "output_type": "display_data"
    },
    {
     "data": {
      "text/html": [
       "<style>\n",
       "    table.wandb td:nth-child(1) { padding: 0 10px; text-align: left ; width: auto;} td:nth-child(2) {text-align: left ; width: 100%}\n",
       "    .wandb-row { display: flex; flex-direction: row; flex-wrap: wrap; justify-content: flex-start; width: 100% }\n",
       "    .wandb-col { display: flex; flex-direction: column; flex-basis: 100%; flex: 1; padding: 10px; }\n",
       "    </style>\n",
       "<div class=\"wandb-row\"><div class=\"wandb-col\"><h3>Run history:</h3><br/><table class=\"wandb\"><tr><td>average_precision_score</td><td>▁</td></tr><tr><td>roc_auc_score</td><td>▁</td></tr><tr><td>train_loss</td><td>████▇▇▇▆▆▅▄▅▄▂▂▃▁</td></tr><tr><td>val_average_precision_score</td><td>▇▇▇▇▇████▇▆▆▆▇▆▄▁</td></tr><tr><td>val_loss</td><td>██▇▇▇▇▆▆▆▅▅▄▃▃▂▁▁</td></tr></table><br/></div><div class=\"wandb-col\"><h3>Run summary:</h3><br/><table class=\"wandb\"><tr><td>average_precision_score</td><td>0.38454</td></tr><tr><td>roc_auc_score</td><td>0.75335</td></tr><tr><td>train_loss</td><td>1.44545</td></tr><tr><td>val_average_precision_score</td><td>0.84</td></tr><tr><td>val_loss</td><td>1.44533</td></tr></table><br/></div></div>"
      ],
      "text/plain": [
       "<IPython.core.display.HTML object>"
      ]
     },
     "metadata": {},
     "output_type": "display_data"
    },
    {
     "data": {
      "text/html": [
       " View run <strong style=\"color:#cdcd00\">brisk-sweep-2</strong> at: <a href='https://wandb.ai/scialdonelab/granpy-dev/runs/rb1m9obv' target=\"_blank\">https://wandb.ai/scialdonelab/granpy-dev/runs/rb1m9obv</a><br/>Synced 7 W&B file(s), 0 media file(s), 1 artifact file(s) and 1 other file(s)"
      ],
      "text/plain": [
       "<IPython.core.display.HTML object>"
      ]
     },
     "metadata": {},
     "output_type": "display_data"
    },
    {
     "data": {
      "text/html": [
       "Find logs at: <code>./wandb/run-20240221_215535-rb1m9obv/logs</code>"
      ],
      "text/plain": [
       "<IPython.core.display.HTML object>"
      ]
     },
     "metadata": {},
     "output_type": "display_data"
    },
    {
     "name": "stderr",
     "output_type": "stream",
     "text": [
      "\u001b[34m\u001b[1mwandb\u001b[0m: Agent Starting Run: 5fz6cnis with config:\n",
      "\u001b[34m\u001b[1mwandb\u001b[0m: \tdecoder: InnerProductDecoder\n",
      "\u001b[34m\u001b[1mwandb\u001b[0m: \tdropout_ratio: 0.3132637952674612\n",
      "\u001b[34m\u001b[1mwandb\u001b[0m: \tn_conv_layers: 3\n",
      "Failed to detect the name of this notebook, you can set it manually with the WANDB_NOTEBOOK_NAME environment variable to enable code saving.\n"
     ]
    },
    {
     "name": "stdout",
     "output_type": "stream",
     "text": [
      "CUDA is set to False, using cpu as fallback\n",
      "CUDA is set to False, using cpu as fallback\n"
     ]
    },
    {
     "name": "stderr",
     "output_type": "stream",
     "text": [
      "\u001b[34m\u001b[1mwandb\u001b[0m: \u001b[33mWARNING\u001b[0m Ignored wandb.init() arg project when running a sweep.\n",
      "\u001b[34m\u001b[1mwandb\u001b[0m: \u001b[33mWARNING\u001b[0m Ignored wandb.init() arg entity when running a sweep.\n"
     ]
    },
    {
     "data": {
      "text/html": [
       "Tracking run with wandb version 0.16.3"
      ],
      "text/plain": [
       "<IPython.core.display.HTML object>"
      ]
     },
     "metadata": {},
     "output_type": "display_data"
    },
    {
     "data": {
      "text/html": [
       "Run data is saved locally in <code>/Users/marcostock/Documents/PhD/01_Projects/granPy/wandb/run-20240221_215606-5fz6cnis</code>"
      ],
      "text/plain": [
       "<IPython.core.display.HTML object>"
      ]
     },
     "metadata": {},
     "output_type": "display_data"
    },
    {
     "data": {
      "text/html": [
       "Syncing run <strong><a href='https://wandb.ai/scialdonelab/granpy-dev/runs/5fz6cnis' target=\"_blank\">logical-sweep-3</a></strong> to <a href='https://wandb.ai/scialdonelab/granpy-dev' target=\"_blank\">Weights & Biases</a> (<a href='https://wandb.me/run' target=\"_blank\">docs</a>)<br/>Sweep page: <a href='https://wandb.ai/scialdonelab/granpy-dev/sweeps/6yxxiir3' target=\"_blank\">https://wandb.ai/scialdonelab/granpy-dev/sweeps/6yxxiir3</a>"
      ],
      "text/plain": [
       "<IPython.core.display.HTML object>"
      ]
     },
     "metadata": {},
     "output_type": "display_data"
    },
    {
     "data": {
      "text/html": [
       " View project at <a href='https://wandb.ai/scialdonelab/granpy-dev' target=\"_blank\">https://wandb.ai/scialdonelab/granpy-dev</a>"
      ],
      "text/plain": [
       "<IPython.core.display.HTML object>"
      ]
     },
     "metadata": {},
     "output_type": "display_data"
    },
    {
     "data": {
      "text/html": [
       " View sweep at <a href='https://wandb.ai/scialdonelab/granpy-dev/sweeps/6yxxiir3' target=\"_blank\">https://wandb.ai/scialdonelab/granpy-dev/sweeps/6yxxiir3</a>"
      ],
      "text/plain": [
       "<IPython.core.display.HTML object>"
      ]
     },
     "metadata": {},
     "output_type": "display_data"
    },
    {
     "data": {
      "text/html": [
       " View run at <a href='https://wandb.ai/scialdonelab/granpy-dev/runs/5fz6cnis' target=\"_blank\">https://wandb.ai/scialdonelab/granpy-dev/runs/5fz6cnis</a>"
      ],
      "text/plain": [
       "<IPython.core.display.HTML object>"
      ]
     },
     "metadata": {},
     "output_type": "display_data"
    },
    {
     "name": "stderr",
     "output_type": "stream",
     "text": [
      "Best average_precision_score: 0.8464534083455009:   3%|▎         | 13/500 [00:14<09:00,  1.11s/it]\n"
     ]
    },
    {
     "data": {
      "application/vnd.jupyter.widget-view+json": {
       "model_id": "e101d2811d0d4f8794d32ebb0bfc4487",
       "version_major": 2,
       "version_minor": 0
      },
      "text/plain": [
       "VBox(children=(Label(value='0.005 MB of 1.526 MB uploaded\\r'), FloatProgress(value=0.003126900406065799, max=1…"
      ]
     },
     "metadata": {},
     "output_type": "display_data"
    },
    {
     "data": {
      "text/html": [
       "<style>\n",
       "    table.wandb td:nth-child(1) { padding: 0 10px; text-align: left ; width: auto;} td:nth-child(2) {text-align: left ; width: 100%}\n",
       "    .wandb-row { display: flex; flex-direction: row; flex-wrap: wrap; justify-content: flex-start; width: 100% }\n",
       "    .wandb-col { display: flex; flex-direction: column; flex-basis: 100%; flex: 1; padding: 10px; }\n",
       "    </style>\n",
       "<div class=\"wandb-row\"><div class=\"wandb-col\"><h3>Run history:</h3><br/><table class=\"wandb\"><tr><td>average_precision_score</td><td>▁</td></tr><tr><td>roc_auc_score</td><td>▁</td></tr><tr><td>train_loss</td><td>██▇▇▇▇▆▆▅▅▄▃▂▁</td></tr><tr><td>val_average_precision_score</td><td>▆█▇█▇▇▇▆▆▆▅▄▃▁</td></tr><tr><td>val_loss</td><td>███▇▇▆▆▅▅▄▃▂▂▁</td></tr></table><br/></div><div class=\"wandb-col\"><h3>Run summary:</h3><br/><table class=\"wandb\"><tr><td>average_precision_score</td><td>0.38521</td></tr><tr><td>roc_auc_score</td><td>0.75326</td></tr><tr><td>train_loss</td><td>1.44596</td></tr><tr><td>val_average_precision_score</td><td>0.84458</td></tr><tr><td>val_loss</td><td>1.44596</td></tr></table><br/></div></div>"
      ],
      "text/plain": [
       "<IPython.core.display.HTML object>"
      ]
     },
     "metadata": {},
     "output_type": "display_data"
    },
    {
     "data": {
      "text/html": [
       " View run <strong style=\"color:#cdcd00\">logical-sweep-3</strong> at: <a href='https://wandb.ai/scialdonelab/granpy-dev/runs/5fz6cnis' target=\"_blank\">https://wandb.ai/scialdonelab/granpy-dev/runs/5fz6cnis</a><br/>Synced 7 W&B file(s), 0 media file(s), 1 artifact file(s) and 1 other file(s)"
      ],
      "text/plain": [
       "<IPython.core.display.HTML object>"
      ]
     },
     "metadata": {},
     "output_type": "display_data"
    },
    {
     "data": {
      "text/html": [
       "Find logs at: <code>./wandb/run-20240221_215606-5fz6cnis/logs</code>"
      ],
      "text/plain": [
       "<IPython.core.display.HTML object>"
      ]
     },
     "metadata": {},
     "output_type": "display_data"
    },
    {
     "name": "stderr",
     "output_type": "stream",
     "text": [
      "\u001b[34m\u001b[1mwandb\u001b[0m: Agent Starting Run: iq2ykley with config:\n",
      "\u001b[34m\u001b[1mwandb\u001b[0m: \tdecoder: CosineDecoder\n",
      "\u001b[34m\u001b[1mwandb\u001b[0m: \tdropout_ratio: 0.48050006217594055\n",
      "\u001b[34m\u001b[1mwandb\u001b[0m: \tn_conv_layers: 2\n",
      "Failed to detect the name of this notebook, you can set it manually with the WANDB_NOTEBOOK_NAME environment variable to enable code saving.\n"
     ]
    },
    {
     "name": "stdout",
     "output_type": "stream",
     "text": [
      "CUDA is set to False, using cpu as fallback\n",
      "CUDA is set to False, using cpu as fallback\n"
     ]
    },
    {
     "name": "stderr",
     "output_type": "stream",
     "text": [
      "\u001b[34m\u001b[1mwandb\u001b[0m: \u001b[33mWARNING\u001b[0m Ignored wandb.init() arg project when running a sweep.\n",
      "\u001b[34m\u001b[1mwandb\u001b[0m: \u001b[33mWARNING\u001b[0m Ignored wandb.init() arg entity when running a sweep.\n"
     ]
    },
    {
     "data": {
      "text/html": [
       "Tracking run with wandb version 0.16.3"
      ],
      "text/plain": [
       "<IPython.core.display.HTML object>"
      ]
     },
     "metadata": {},
     "output_type": "display_data"
    },
    {
     "data": {
      "text/html": [
       "Run data is saved locally in <code>/Users/marcostock/Documents/PhD/01_Projects/granPy/wandb/run-20240221_215632-iq2ykley</code>"
      ],
      "text/plain": [
       "<IPython.core.display.HTML object>"
      ]
     },
     "metadata": {},
     "output_type": "display_data"
    },
    {
     "data": {
      "text/html": [
       "Syncing run <strong><a href='https://wandb.ai/scialdonelab/granpy-dev/runs/iq2ykley' target=\"_blank\">scarlet-sweep-4</a></strong> to <a href='https://wandb.ai/scialdonelab/granpy-dev' target=\"_blank\">Weights & Biases</a> (<a href='https://wandb.me/run' target=\"_blank\">docs</a>)<br/>Sweep page: <a href='https://wandb.ai/scialdonelab/granpy-dev/sweeps/6yxxiir3' target=\"_blank\">https://wandb.ai/scialdonelab/granpy-dev/sweeps/6yxxiir3</a>"
      ],
      "text/plain": [
       "<IPython.core.display.HTML object>"
      ]
     },
     "metadata": {},
     "output_type": "display_data"
    },
    {
     "data": {
      "text/html": [
       " View project at <a href='https://wandb.ai/scialdonelab/granpy-dev' target=\"_blank\">https://wandb.ai/scialdonelab/granpy-dev</a>"
      ],
      "text/plain": [
       "<IPython.core.display.HTML object>"
      ]
     },
     "metadata": {},
     "output_type": "display_data"
    },
    {
     "data": {
      "text/html": [
       " View sweep at <a href='https://wandb.ai/scialdonelab/granpy-dev/sweeps/6yxxiir3' target=\"_blank\">https://wandb.ai/scialdonelab/granpy-dev/sweeps/6yxxiir3</a>"
      ],
      "text/plain": [
       "<IPython.core.display.HTML object>"
      ]
     },
     "metadata": {},
     "output_type": "display_data"
    },
    {
     "data": {
      "text/html": [
       " View run at <a href='https://wandb.ai/scialdonelab/granpy-dev/runs/iq2ykley' target=\"_blank\">https://wandb.ai/scialdonelab/granpy-dev/runs/iq2ykley</a>"
      ],
      "text/plain": [
       "<IPython.core.display.HTML object>"
      ]
     },
     "metadata": {},
     "output_type": "display_data"
    },
    {
     "name": "stderr",
     "output_type": "stream",
     "text": [
      "Best average_precision_score: 0.8458561372254901:   3%|▎         | 15/500 [00:16<08:54,  1.10s/it]\n"
     ]
    },
    {
     "data": {
      "application/vnd.jupyter.widget-view+json": {
       "model_id": "b18866fef05c45ffa8e5f6ebd7385da1",
       "version_major": 2,
       "version_minor": 0
      },
      "text/plain": [
       "VBox(children=(Label(value='1.526 MB of 1.526 MB uploaded\\r'), FloatProgress(value=1.0, max=1.0)))"
      ]
     },
     "metadata": {},
     "output_type": "display_data"
    },
    {
     "data": {
      "text/html": [
       "<style>\n",
       "    table.wandb td:nth-child(1) { padding: 0 10px; text-align: left ; width: auto;} td:nth-child(2) {text-align: left ; width: 100%}\n",
       "    .wandb-row { display: flex; flex-direction: row; flex-wrap: wrap; justify-content: flex-start; width: 100% }\n",
       "    .wandb-col { display: flex; flex-direction: column; flex-basis: 100%; flex: 1; padding: 10px; }\n",
       "    </style>\n",
       "<div class=\"wandb-row\"><div class=\"wandb-col\"><h3>Run history:</h3><br/><table class=\"wandb\"><tr><td>average_precision_score</td><td>▁</td></tr><tr><td>roc_auc_score</td><td>▁</td></tr><tr><td>train_loss</td><td>▇█▇▇▇▆▆▆▅▅▄▄▄▁▂▁</td></tr><tr><td>val_average_precision_score</td><td>▆▆▆▇▇████▇▇▇▅▄▃▁</td></tr><tr><td>val_loss</td><td>█▇▇▇▇▇▆▆▅▅▄▄▃▂▂▁</td></tr></table><br/></div><div class=\"wandb-col\"><h3>Run summary:</h3><br/><table class=\"wandb\"><tr><td>average_precision_score</td><td>0.38501</td></tr><tr><td>roc_auc_score</td><td>0.75338</td></tr><tr><td>train_loss</td><td>1.4459</td></tr><tr><td>val_average_precision_score</td><td>0.84404</td></tr><tr><td>val_loss</td><td>1.44581</td></tr></table><br/></div></div>"
      ],
      "text/plain": [
       "<IPython.core.display.HTML object>"
      ]
     },
     "metadata": {},
     "output_type": "display_data"
    },
    {
     "data": {
      "text/html": [
       " View run <strong style=\"color:#cdcd00\">scarlet-sweep-4</strong> at: <a href='https://wandb.ai/scialdonelab/granpy-dev/runs/iq2ykley' target=\"_blank\">https://wandb.ai/scialdonelab/granpy-dev/runs/iq2ykley</a><br/>Synced 7 W&B file(s), 0 media file(s), 1 artifact file(s) and 1 other file(s)"
      ],
      "text/plain": [
       "<IPython.core.display.HTML object>"
      ]
     },
     "metadata": {},
     "output_type": "display_data"
    },
    {
     "data": {
      "text/html": [
       "Find logs at: <code>./wandb/run-20240221_215632-iq2ykley/logs</code>"
      ],
      "text/plain": [
       "<IPython.core.display.HTML object>"
      ]
     },
     "metadata": {},
     "output_type": "display_data"
    },
    {
     "name": "stderr",
     "output_type": "stream",
     "text": [
      "\u001b[34m\u001b[1mwandb\u001b[0m: Agent Starting Run: wbu6pr8j with config:\n",
      "\u001b[34m\u001b[1mwandb\u001b[0m: \tdecoder: CosineDecoder\n",
      "\u001b[34m\u001b[1mwandb\u001b[0m: \tdropout_ratio: 0.3813191390678319\n",
      "\u001b[34m\u001b[1mwandb\u001b[0m: \tn_conv_layers: 1\n",
      "Failed to detect the name of this notebook, you can set it manually with the WANDB_NOTEBOOK_NAME environment variable to enable code saving.\n"
     ]
    },
    {
     "name": "stdout",
     "output_type": "stream",
     "text": [
      "CUDA is set to False, using cpu as fallback\n",
      "CUDA is set to False, using cpu as fallback\n"
     ]
    },
    {
     "name": "stderr",
     "output_type": "stream",
     "text": [
      "\u001b[34m\u001b[1mwandb\u001b[0m: \u001b[33mWARNING\u001b[0m Ignored wandb.init() arg project when running a sweep.\n",
      "\u001b[34m\u001b[1mwandb\u001b[0m: \u001b[33mWARNING\u001b[0m Ignored wandb.init() arg entity when running a sweep.\n"
     ]
    },
    {
     "data": {
      "text/html": [
       "Tracking run with wandb version 0.16.3"
      ],
      "text/plain": [
       "<IPython.core.display.HTML object>"
      ]
     },
     "metadata": {},
     "output_type": "display_data"
    },
    {
     "data": {
      "text/html": [
       "Run data is saved locally in <code>/Users/marcostock/Documents/PhD/01_Projects/granPy/wandb/run-20240221_215703-wbu6pr8j</code>"
      ],
      "text/plain": [
       "<IPython.core.display.HTML object>"
      ]
     },
     "metadata": {},
     "output_type": "display_data"
    },
    {
     "data": {
      "text/html": [
       "Syncing run <strong><a href='https://wandb.ai/scialdonelab/granpy-dev/runs/wbu6pr8j' target=\"_blank\">divine-sweep-5</a></strong> to <a href='https://wandb.ai/scialdonelab/granpy-dev' target=\"_blank\">Weights & Biases</a> (<a href='https://wandb.me/run' target=\"_blank\">docs</a>)<br/>Sweep page: <a href='https://wandb.ai/scialdonelab/granpy-dev/sweeps/6yxxiir3' target=\"_blank\">https://wandb.ai/scialdonelab/granpy-dev/sweeps/6yxxiir3</a>"
      ],
      "text/plain": [
       "<IPython.core.display.HTML object>"
      ]
     },
     "metadata": {},
     "output_type": "display_data"
    },
    {
     "data": {
      "text/html": [
       " View project at <a href='https://wandb.ai/scialdonelab/granpy-dev' target=\"_blank\">https://wandb.ai/scialdonelab/granpy-dev</a>"
      ],
      "text/plain": [
       "<IPython.core.display.HTML object>"
      ]
     },
     "metadata": {},
     "output_type": "display_data"
    },
    {
     "data": {
      "text/html": [
       " View sweep at <a href='https://wandb.ai/scialdonelab/granpy-dev/sweeps/6yxxiir3' target=\"_blank\">https://wandb.ai/scialdonelab/granpy-dev/sweeps/6yxxiir3</a>"
      ],
      "text/plain": [
       "<IPython.core.display.HTML object>"
      ]
     },
     "metadata": {},
     "output_type": "display_data"
    },
    {
     "data": {
      "text/html": [
       " View run at <a href='https://wandb.ai/scialdonelab/granpy-dev/runs/wbu6pr8j' target=\"_blank\">https://wandb.ai/scialdonelab/granpy-dev/runs/wbu6pr8j</a>"
      ],
      "text/plain": [
       "<IPython.core.display.HTML object>"
      ]
     },
     "metadata": {},
     "output_type": "display_data"
    },
    {
     "name": "stderr",
     "output_type": "stream",
     "text": [
      "Best average_precision_score: 0.8468084172228433:   3%|▎         | 14/500 [00:14<08:09,  1.01s/it]\n"
     ]
    },
    {
     "data": {
      "application/vnd.jupyter.widget-view+json": {
       "model_id": "53e39d3bd9af4bd8803849aaec23c126",
       "version_major": 2,
       "version_minor": 0
      },
      "text/plain": [
       "VBox(children=(Label(value='0.161 MB of 1.526 MB uploaded\\r'), FloatProgress(value=0.10552773241282586, max=1.…"
      ]
     },
     "metadata": {},
     "output_type": "display_data"
    },
    {
     "data": {
      "text/html": [
       "<style>\n",
       "    table.wandb td:nth-child(1) { padding: 0 10px; text-align: left ; width: auto;} td:nth-child(2) {text-align: left ; width: 100%}\n",
       "    .wandb-row { display: flex; flex-direction: row; flex-wrap: wrap; justify-content: flex-start; width: 100% }\n",
       "    .wandb-col { display: flex; flex-direction: column; flex-basis: 100%; flex: 1; padding: 10px; }\n",
       "    </style>\n",
       "<div class=\"wandb-row\"><div class=\"wandb-col\"><h3>Run history:</h3><br/><table class=\"wandb\"><tr><td>average_precision_score</td><td>▁</td></tr><tr><td>roc_auc_score</td><td>▁</td></tr><tr><td>train_loss</td><td>███▇▇▇▆▆▅▄▅▃▃▂▁</td></tr><tr><td>val_average_precision_score</td><td>▆▅▇███▇▆▅▅▅▄▄▂▁</td></tr><tr><td>val_loss</td><td>██▇▇▇▇▆▅▅▅▄▄▃▂▁</td></tr></table><br/></div><div class=\"wandb-col\"><h3>Run summary:</h3><br/><table class=\"wandb\"><tr><td>average_precision_score</td><td>0.38485</td></tr><tr><td>roc_auc_score</td><td>0.75333</td></tr><tr><td>train_loss</td><td>1.44605</td></tr><tr><td>val_average_precision_score</td><td>0.84384</td></tr><tr><td>val_loss</td><td>1.44589</td></tr></table><br/></div></div>"
      ],
      "text/plain": [
       "<IPython.core.display.HTML object>"
      ]
     },
     "metadata": {},
     "output_type": "display_data"
    },
    {
     "data": {
      "text/html": [
       " View run <strong style=\"color:#cdcd00\">divine-sweep-5</strong> at: <a href='https://wandb.ai/scialdonelab/granpy-dev/runs/wbu6pr8j' target=\"_blank\">https://wandb.ai/scialdonelab/granpy-dev/runs/wbu6pr8j</a><br/>Synced 7 W&B file(s), 0 media file(s), 1 artifact file(s) and 1 other file(s)"
      ],
      "text/plain": [
       "<IPython.core.display.HTML object>"
      ]
     },
     "metadata": {},
     "output_type": "display_data"
    },
    {
     "data": {
      "text/html": [
       "Find logs at: <code>./wandb/run-20240221_215703-wbu6pr8j/logs</code>"
      ],
      "text/plain": [
       "<IPython.core.display.HTML object>"
      ]
     },
     "metadata": {},
     "output_type": "display_data"
    },
    {
     "name": "stderr",
     "output_type": "stream",
     "text": [
      "\u001b[34m\u001b[1mwandb\u001b[0m: Sweep Agent: Waiting for job.\n",
      "\u001b[34m\u001b[1mwandb\u001b[0m: Job received.\n",
      "\u001b[34m\u001b[1mwandb\u001b[0m: Agent Starting Run: bggrb3qe with config:\n",
      "\u001b[34m\u001b[1mwandb\u001b[0m: \tdecoder: PNormDecoder\n",
      "\u001b[34m\u001b[1mwandb\u001b[0m: \tdropout_ratio: 0.33036074792426284\n",
      "\u001b[34m\u001b[1mwandb\u001b[0m: \tn_conv_layers: 1\n",
      "Failed to detect the name of this notebook, you can set it manually with the WANDB_NOTEBOOK_NAME environment variable to enable code saving.\n"
     ]
    },
    {
     "name": "stdout",
     "output_type": "stream",
     "text": [
      "CUDA is set to False, using cpu as fallback\n",
      "CUDA is set to False, using cpu as fallback\n"
     ]
    },
    {
     "name": "stderr",
     "output_type": "stream",
     "text": [
      "\u001b[34m\u001b[1mwandb\u001b[0m: \u001b[33mWARNING\u001b[0m Ignored wandb.init() arg project when running a sweep.\n",
      "\u001b[34m\u001b[1mwandb\u001b[0m: \u001b[33mWARNING\u001b[0m Ignored wandb.init() arg entity when running a sweep.\n"
     ]
    },
    {
     "data": {
      "text/html": [
       "Tracking run with wandb version 0.16.3"
      ],
      "text/plain": [
       "<IPython.core.display.HTML object>"
      ]
     },
     "metadata": {},
     "output_type": "display_data"
    },
    {
     "data": {
      "text/html": [
       "Run data is saved locally in <code>/Users/marcostock/Documents/PhD/01_Projects/granPy/wandb/run-20240221_215738-bggrb3qe</code>"
      ],
      "text/plain": [
       "<IPython.core.display.HTML object>"
      ]
     },
     "metadata": {},
     "output_type": "display_data"
    },
    {
     "data": {
      "text/html": [
       "Syncing run <strong><a href='https://wandb.ai/scialdonelab/granpy-dev/runs/bggrb3qe' target=\"_blank\">devout-sweep-6</a></strong> to <a href='https://wandb.ai/scialdonelab/granpy-dev' target=\"_blank\">Weights & Biases</a> (<a href='https://wandb.me/run' target=\"_blank\">docs</a>)<br/>Sweep page: <a href='https://wandb.ai/scialdonelab/granpy-dev/sweeps/6yxxiir3' target=\"_blank\">https://wandb.ai/scialdonelab/granpy-dev/sweeps/6yxxiir3</a>"
      ],
      "text/plain": [
       "<IPython.core.display.HTML object>"
      ]
     },
     "metadata": {},
     "output_type": "display_data"
    },
    {
     "data": {
      "text/html": [
       " View project at <a href='https://wandb.ai/scialdonelab/granpy-dev' target=\"_blank\">https://wandb.ai/scialdonelab/granpy-dev</a>"
      ],
      "text/plain": [
       "<IPython.core.display.HTML object>"
      ]
     },
     "metadata": {},
     "output_type": "display_data"
    },
    {
     "data": {
      "text/html": [
       " View sweep at <a href='https://wandb.ai/scialdonelab/granpy-dev/sweeps/6yxxiir3' target=\"_blank\">https://wandb.ai/scialdonelab/granpy-dev/sweeps/6yxxiir3</a>"
      ],
      "text/plain": [
       "<IPython.core.display.HTML object>"
      ]
     },
     "metadata": {},
     "output_type": "display_data"
    },
    {
     "data": {
      "text/html": [
       " View run at <a href='https://wandb.ai/scialdonelab/granpy-dev/runs/bggrb3qe' target=\"_blank\">https://wandb.ai/scialdonelab/granpy-dev/runs/bggrb3qe</a>"
      ],
      "text/plain": [
       "<IPython.core.display.HTML object>"
      ]
     },
     "metadata": {},
     "output_type": "display_data"
    },
    {
     "name": "stderr",
     "output_type": "stream",
     "text": [
      "Best average_precision_score: 0.8465056414371929:   2%|▏         | 12/500 [00:13<09:11,  1.13s/it]\n"
     ]
    },
    {
     "data": {
      "application/vnd.jupyter.widget-view+json": {
       "model_id": "b091c10155cb4eb8a98a8ad88c1f0a0d",
       "version_major": 2,
       "version_minor": 0
      },
      "text/plain": [
       "VBox(children=(Label(value='0.005 MB of 1.526 MB uploaded\\r'), FloatProgress(value=0.0031262773549268555, max=…"
      ]
     },
     "metadata": {},
     "output_type": "display_data"
    },
    {
     "data": {
      "text/html": [
       "<style>\n",
       "    table.wandb td:nth-child(1) { padding: 0 10px; text-align: left ; width: auto;} td:nth-child(2) {text-align: left ; width: 100%}\n",
       "    .wandb-row { display: flex; flex-direction: row; flex-wrap: wrap; justify-content: flex-start; width: 100% }\n",
       "    .wandb-col { display: flex; flex-direction: column; flex-basis: 100%; flex: 1; padding: 10px; }\n",
       "    </style>\n",
       "<div class=\"wandb-row\"><div class=\"wandb-col\"><h3>Run history:</h3><br/><table class=\"wandb\"><tr><td>average_precision_score</td><td>▁</td></tr><tr><td>roc_auc_score</td><td>▁</td></tr><tr><td>train_loss</td><td>██▇▇█▆▅▅▅▅▃▂▁</td></tr><tr><td>val_average_precision_score</td><td>▄▆█▇█▇▆▆▅▄▂▁▂</td></tr><tr><td>val_loss</td><td>█▇▇▇▆▆▅▅▄▃▃▂▁</td></tr></table><br/></div><div class=\"wandb-col\"><h3>Run summary:</h3><br/><table class=\"wandb\"><tr><td>average_precision_score</td><td>0.38467</td></tr><tr><td>roc_auc_score</td><td>0.75345</td></tr><tr><td>train_loss</td><td>1.44638</td></tr><tr><td>val_average_precision_score</td><td>0.84442</td></tr><tr><td>val_loss</td><td>1.44634</td></tr></table><br/></div></div>"
      ],
      "text/plain": [
       "<IPython.core.display.HTML object>"
      ]
     },
     "metadata": {},
     "output_type": "display_data"
    },
    {
     "data": {
      "text/html": [
       " View run <strong style=\"color:#cdcd00\">devout-sweep-6</strong> at: <a href='https://wandb.ai/scialdonelab/granpy-dev/runs/bggrb3qe' target=\"_blank\">https://wandb.ai/scialdonelab/granpy-dev/runs/bggrb3qe</a><br/>Synced 7 W&B file(s), 0 media file(s), 1 artifact file(s) and 1 other file(s)"
      ],
      "text/plain": [
       "<IPython.core.display.HTML object>"
      ]
     },
     "metadata": {},
     "output_type": "display_data"
    },
    {
     "data": {
      "text/html": [
       "Find logs at: <code>./wandb/run-20240221_215738-bggrb3qe/logs</code>"
      ],
      "text/plain": [
       "<IPython.core.display.HTML object>"
      ]
     },
     "metadata": {},
     "output_type": "display_data"
    },
    {
     "name": "stderr",
     "output_type": "stream",
     "text": [
      "\u001b[34m\u001b[1mwandb\u001b[0m: Agent Starting Run: bym61ohb with config:\n",
      "\u001b[34m\u001b[1mwandb\u001b[0m: \tdecoder: InnerProductDecoder\n",
      "\u001b[34m\u001b[1mwandb\u001b[0m: \tdropout_ratio: 0.31805874417755153\n",
      "\u001b[34m\u001b[1mwandb\u001b[0m: \tn_conv_layers: 1\n",
      "Failed to detect the name of this notebook, you can set it manually with the WANDB_NOTEBOOK_NAME environment variable to enable code saving.\n"
     ]
    },
    {
     "name": "stdout",
     "output_type": "stream",
     "text": [
      "CUDA is set to False, using cpu as fallback\n",
      "CUDA is set to False, using cpu as fallback\n"
     ]
    },
    {
     "name": "stderr",
     "output_type": "stream",
     "text": [
      "\u001b[34m\u001b[1mwandb\u001b[0m: \u001b[33mWARNING\u001b[0m Ignored wandb.init() arg project when running a sweep.\n",
      "\u001b[34m\u001b[1mwandb\u001b[0m: \u001b[33mWARNING\u001b[0m Ignored wandb.init() arg entity when running a sweep.\n"
     ]
    },
    {
     "data": {
      "text/html": [
       "Tracking run with wandb version 0.16.3"
      ],
      "text/plain": [
       "<IPython.core.display.HTML object>"
      ]
     },
     "metadata": {},
     "output_type": "display_data"
    },
    {
     "data": {
      "text/html": [
       "Run data is saved locally in <code>/Users/marcostock/Documents/PhD/01_Projects/granPy/wandb/run-20240221_215813-bym61ohb</code>"
      ],
      "text/plain": [
       "<IPython.core.display.HTML object>"
      ]
     },
     "metadata": {},
     "output_type": "display_data"
    },
    {
     "data": {
      "text/html": [
       "Syncing run <strong><a href='https://wandb.ai/scialdonelab/granpy-dev/runs/bym61ohb' target=\"_blank\">major-sweep-7</a></strong> to <a href='https://wandb.ai/scialdonelab/granpy-dev' target=\"_blank\">Weights & Biases</a> (<a href='https://wandb.me/run' target=\"_blank\">docs</a>)<br/>Sweep page: <a href='https://wandb.ai/scialdonelab/granpy-dev/sweeps/6yxxiir3' target=\"_blank\">https://wandb.ai/scialdonelab/granpy-dev/sweeps/6yxxiir3</a>"
      ],
      "text/plain": [
       "<IPython.core.display.HTML object>"
      ]
     },
     "metadata": {},
     "output_type": "display_data"
    },
    {
     "data": {
      "text/html": [
       " View project at <a href='https://wandb.ai/scialdonelab/granpy-dev' target=\"_blank\">https://wandb.ai/scialdonelab/granpy-dev</a>"
      ],
      "text/plain": [
       "<IPython.core.display.HTML object>"
      ]
     },
     "metadata": {},
     "output_type": "display_data"
    },
    {
     "data": {
      "text/html": [
       " View sweep at <a href='https://wandb.ai/scialdonelab/granpy-dev/sweeps/6yxxiir3' target=\"_blank\">https://wandb.ai/scialdonelab/granpy-dev/sweeps/6yxxiir3</a>"
      ],
      "text/plain": [
       "<IPython.core.display.HTML object>"
      ]
     },
     "metadata": {},
     "output_type": "display_data"
    },
    {
     "data": {
      "text/html": [
       " View run at <a href='https://wandb.ai/scialdonelab/granpy-dev/runs/bym61ohb' target=\"_blank\">https://wandb.ai/scialdonelab/granpy-dev/runs/bym61ohb</a>"
      ],
      "text/plain": [
       "<IPython.core.display.HTML object>"
      ]
     },
     "metadata": {},
     "output_type": "display_data"
    },
    {
     "name": "stderr",
     "output_type": "stream",
     "text": [
      "Best average_precision_score: 0.8460818656240183:   3%|▎         | 16/500 [00:15<08:01,  1.00it/s]\n"
     ]
    },
    {
     "data": {
      "application/vnd.jupyter.widget-view+json": {
       "model_id": "ea187d8371a14e5fb67a39a6f54bd613",
       "version_major": 2,
       "version_minor": 0
      },
      "text/plain": [
       "VBox(children=(Label(value='0.591 MB of 1.526 MB uploaded\\r'), FloatProgress(value=0.387130020431416, max=1.0)…"
      ]
     },
     "metadata": {},
     "output_type": "display_data"
    },
    {
     "data": {
      "text/html": [
       "<style>\n",
       "    table.wandb td:nth-child(1) { padding: 0 10px; text-align: left ; width: auto;} td:nth-child(2) {text-align: left ; width: 100%}\n",
       "    .wandb-row { display: flex; flex-direction: row; flex-wrap: wrap; justify-content: flex-start; width: 100% }\n",
       "    .wandb-col { display: flex; flex-direction: column; flex-basis: 100%; flex: 1; padding: 10px; }\n",
       "    </style>\n",
       "<div class=\"wandb-row\"><div class=\"wandb-col\"><h3>Run history:</h3><br/><table class=\"wandb\"><tr><td>average_precision_score</td><td>▁</td></tr><tr><td>roc_auc_score</td><td>▁</td></tr><tr><td>train_loss</td><td>███▇▇▇▆▇▆▅▆▄▄▂▃▁▁</td></tr><tr><td>val_average_precision_score</td><td>▇▆▆▇█▇██▇▆▅▃▃▆▅▄▁</td></tr><tr><td>val_loss</td><td>███▇▇▇▆▆▅▅▅▄▄▃▃▂▁</td></tr></table><br/></div><div class=\"wandb-col\"><h3>Run summary:</h3><br/><table class=\"wandb\"><tr><td>average_precision_score</td><td>0.38432</td></tr><tr><td>roc_auc_score</td><td>0.75333</td></tr><tr><td>train_loss</td><td>1.44536</td></tr><tr><td>val_average_precision_score</td><td>0.84376</td></tr><tr><td>val_loss</td><td>1.44517</td></tr></table><br/></div></div>"
      ],
      "text/plain": [
       "<IPython.core.display.HTML object>"
      ]
     },
     "metadata": {},
     "output_type": "display_data"
    },
    {
     "data": {
      "text/html": [
       " View run <strong style=\"color:#cdcd00\">major-sweep-7</strong> at: <a href='https://wandb.ai/scialdonelab/granpy-dev/runs/bym61ohb' target=\"_blank\">https://wandb.ai/scialdonelab/granpy-dev/runs/bym61ohb</a><br/>Synced 7 W&B file(s), 0 media file(s), 1 artifact file(s) and 1 other file(s)"
      ],
      "text/plain": [
       "<IPython.core.display.HTML object>"
      ]
     },
     "metadata": {},
     "output_type": "display_data"
    },
    {
     "data": {
      "text/html": [
       "Find logs at: <code>./wandb/run-20240221_215813-bym61ohb/logs</code>"
      ],
      "text/plain": [
       "<IPython.core.display.HTML object>"
      ]
     },
     "metadata": {},
     "output_type": "display_data"
    },
    {
     "name": "stderr",
     "output_type": "stream",
     "text": [
      "\u001b[34m\u001b[1mwandb\u001b[0m: Agent Starting Run: 2yqvczcw with config:\n",
      "\u001b[34m\u001b[1mwandb\u001b[0m: \tdecoder: InnerProductDecoder\n",
      "\u001b[34m\u001b[1mwandb\u001b[0m: \tdropout_ratio: 0.3102050414964749\n",
      "\u001b[34m\u001b[1mwandb\u001b[0m: \tn_conv_layers: 1\n",
      "Failed to detect the name of this notebook, you can set it manually with the WANDB_NOTEBOOK_NAME environment variable to enable code saving.\n"
     ]
    },
    {
     "name": "stdout",
     "output_type": "stream",
     "text": [
      "CUDA is set to False, using cpu as fallback\n",
      "CUDA is set to False, using cpu as fallback\n"
     ]
    },
    {
     "name": "stderr",
     "output_type": "stream",
     "text": [
      "\u001b[34m\u001b[1mwandb\u001b[0m: \u001b[33mWARNING\u001b[0m Ignored wandb.init() arg project when running a sweep.\n",
      "\u001b[34m\u001b[1mwandb\u001b[0m: \u001b[33mWARNING\u001b[0m Ignored wandb.init() arg entity when running a sweep.\n"
     ]
    },
    {
     "data": {
      "text/html": [
       "Tracking run with wandb version 0.16.3"
      ],
      "text/plain": [
       "<IPython.core.display.HTML object>"
      ]
     },
     "metadata": {},
     "output_type": "display_data"
    },
    {
     "data": {
      "text/html": [
       "Run data is saved locally in <code>/Users/marcostock/Documents/PhD/01_Projects/granPy/wandb/run-20240221_215841-2yqvczcw</code>"
      ],
      "text/plain": [
       "<IPython.core.display.HTML object>"
      ]
     },
     "metadata": {},
     "output_type": "display_data"
    },
    {
     "data": {
      "text/html": [
       "Syncing run <strong><a href='https://wandb.ai/scialdonelab/granpy-dev/runs/2yqvczcw' target=\"_blank\">northern-sweep-8</a></strong> to <a href='https://wandb.ai/scialdonelab/granpy-dev' target=\"_blank\">Weights & Biases</a> (<a href='https://wandb.me/run' target=\"_blank\">docs</a>)<br/>Sweep page: <a href='https://wandb.ai/scialdonelab/granpy-dev/sweeps/6yxxiir3' target=\"_blank\">https://wandb.ai/scialdonelab/granpy-dev/sweeps/6yxxiir3</a>"
      ],
      "text/plain": [
       "<IPython.core.display.HTML object>"
      ]
     },
     "metadata": {},
     "output_type": "display_data"
    },
    {
     "data": {
      "text/html": [
       " View project at <a href='https://wandb.ai/scialdonelab/granpy-dev' target=\"_blank\">https://wandb.ai/scialdonelab/granpy-dev</a>"
      ],
      "text/plain": [
       "<IPython.core.display.HTML object>"
      ]
     },
     "metadata": {},
     "output_type": "display_data"
    },
    {
     "data": {
      "text/html": [
       " View sweep at <a href='https://wandb.ai/scialdonelab/granpy-dev/sweeps/6yxxiir3' target=\"_blank\">https://wandb.ai/scialdonelab/granpy-dev/sweeps/6yxxiir3</a>"
      ],
      "text/plain": [
       "<IPython.core.display.HTML object>"
      ]
     },
     "metadata": {},
     "output_type": "display_data"
    },
    {
     "data": {
      "text/html": [
       " View run at <a href='https://wandb.ai/scialdonelab/granpy-dev/runs/2yqvczcw' target=\"_blank\">https://wandb.ai/scialdonelab/granpy-dev/runs/2yqvczcw</a>"
      ],
      "text/plain": [
       "<IPython.core.display.HTML object>"
      ]
     },
     "metadata": {},
     "output_type": "display_data"
    },
    {
     "name": "stderr",
     "output_type": "stream",
     "text": [
      "Best average_precision_score: 0.846086766848286:   3%|▎         | 14/500 [00:13<07:57,  1.02it/s]\n"
     ]
    },
    {
     "data": {
      "application/vnd.jupyter.widget-view+json": {
       "model_id": "e0fa230b89fd42c18bb437769db85f1f",
       "version_major": 2,
       "version_minor": 0
      },
      "text/plain": [
       "VBox(children=(Label(value='0.049 MB of 1.570 MB uploaded\\r'), FloatProgress(value=0.03121228447294079, max=1.…"
      ]
     },
     "metadata": {},
     "output_type": "display_data"
    },
    {
     "data": {
      "text/html": [
       "<style>\n",
       "    table.wandb td:nth-child(1) { padding: 0 10px; text-align: left ; width: auto;} td:nth-child(2) {text-align: left ; width: 100%}\n",
       "    .wandb-row { display: flex; flex-direction: row; flex-wrap: wrap; justify-content: flex-start; width: 100% }\n",
       "    .wandb-col { display: flex; flex-direction: column; flex-basis: 100%; flex: 1; padding: 10px; }\n",
       "    </style>\n",
       "<div class=\"wandb-row\"><div class=\"wandb-col\"><h3>Run history:</h3><br/><table class=\"wandb\"><tr><td>average_precision_score</td><td>▁</td></tr><tr><td>roc_auc_score</td><td>▁</td></tr><tr><td>train_loss</td><td>███▇▇▇▆▆▅▄▄▄▂▂▁</td></tr><tr><td>val_average_precision_score</td><td>▁▄▇████▆▇▆▄▄▅▄▂</td></tr><tr><td>val_loss</td><td>███▇▇▆▆▅▅▄▄▃▂▂▁</td></tr></table><br/></div><div class=\"wandb-col\"><h3>Run summary:</h3><br/><table class=\"wandb\"><tr><td>average_precision_score</td><td>0.38475</td></tr><tr><td>roc_auc_score</td><td>0.75329</td></tr><tr><td>train_loss</td><td>1.44574</td></tr><tr><td>val_average_precision_score</td><td>0.84482</td></tr><tr><td>val_loss</td><td>1.4459</td></tr></table><br/></div></div>"
      ],
      "text/plain": [
       "<IPython.core.display.HTML object>"
      ]
     },
     "metadata": {},
     "output_type": "display_data"
    },
    {
     "data": {
      "text/html": [
       " View run <strong style=\"color:#cdcd00\">northern-sweep-8</strong> at: <a href='https://wandb.ai/scialdonelab/granpy-dev/runs/2yqvczcw' target=\"_blank\">https://wandb.ai/scialdonelab/granpy-dev/runs/2yqvczcw</a><br/>Synced 7 W&B file(s), 0 media file(s), 1 artifact file(s) and 1 other file(s)"
      ],
      "text/plain": [
       "<IPython.core.display.HTML object>"
      ]
     },
     "metadata": {},
     "output_type": "display_data"
    },
    {
     "data": {
      "text/html": [
       "Find logs at: <code>./wandb/run-20240221_215841-2yqvczcw/logs</code>"
      ],
      "text/plain": [
       "<IPython.core.display.HTML object>"
      ]
     },
     "metadata": {},
     "output_type": "display_data"
    },
    {
     "name": "stderr",
     "output_type": "stream",
     "text": [
      "\u001b[34m\u001b[1mwandb\u001b[0m: Agent Starting Run: slpgfhp3 with config:\n",
      "\u001b[34m\u001b[1mwandb\u001b[0m: \tdecoder: InnerProductDecoder\n",
      "\u001b[34m\u001b[1mwandb\u001b[0m: \tdropout_ratio: 0.403107101292411\n",
      "\u001b[34m\u001b[1mwandb\u001b[0m: \tn_conv_layers: 3\n",
      "Failed to detect the name of this notebook, you can set it manually with the WANDB_NOTEBOOK_NAME environment variable to enable code saving.\n"
     ]
    },
    {
     "name": "stdout",
     "output_type": "stream",
     "text": [
      "CUDA is set to False, using cpu as fallback\n",
      "CUDA is set to False, using cpu as fallback\n"
     ]
    },
    {
     "name": "stderr",
     "output_type": "stream",
     "text": [
      "\u001b[34m\u001b[1mwandb\u001b[0m: \u001b[33mWARNING\u001b[0m Ignored wandb.init() arg project when running a sweep.\n",
      "\u001b[34m\u001b[1mwandb\u001b[0m: \u001b[33mWARNING\u001b[0m Ignored wandb.init() arg entity when running a sweep.\n"
     ]
    },
    {
     "data": {
      "text/html": [
       "Tracking run with wandb version 0.16.3"
      ],
      "text/plain": [
       "<IPython.core.display.HTML object>"
      ]
     },
     "metadata": {},
     "output_type": "display_data"
    },
    {
     "data": {
      "text/html": [
       "Run data is saved locally in <code>/Users/marcostock/Documents/PhD/01_Projects/granPy/wandb/run-20240221_215913-slpgfhp3</code>"
      ],
      "text/plain": [
       "<IPython.core.display.HTML object>"
      ]
     },
     "metadata": {},
     "output_type": "display_data"
    },
    {
     "data": {
      "text/html": [
       "Syncing run <strong><a href='https://wandb.ai/scialdonelab/granpy-dev/runs/slpgfhp3' target=\"_blank\">zany-sweep-9</a></strong> to <a href='https://wandb.ai/scialdonelab/granpy-dev' target=\"_blank\">Weights & Biases</a> (<a href='https://wandb.me/run' target=\"_blank\">docs</a>)<br/>Sweep page: <a href='https://wandb.ai/scialdonelab/granpy-dev/sweeps/6yxxiir3' target=\"_blank\">https://wandb.ai/scialdonelab/granpy-dev/sweeps/6yxxiir3</a>"
      ],
      "text/plain": [
       "<IPython.core.display.HTML object>"
      ]
     },
     "metadata": {},
     "output_type": "display_data"
    },
    {
     "data": {
      "text/html": [
       " View project at <a href='https://wandb.ai/scialdonelab/granpy-dev' target=\"_blank\">https://wandb.ai/scialdonelab/granpy-dev</a>"
      ],
      "text/plain": [
       "<IPython.core.display.HTML object>"
      ]
     },
     "metadata": {},
     "output_type": "display_data"
    },
    {
     "data": {
      "text/html": [
       " View sweep at <a href='https://wandb.ai/scialdonelab/granpy-dev/sweeps/6yxxiir3' target=\"_blank\">https://wandb.ai/scialdonelab/granpy-dev/sweeps/6yxxiir3</a>"
      ],
      "text/plain": [
       "<IPython.core.display.HTML object>"
      ]
     },
     "metadata": {},
     "output_type": "display_data"
    },
    {
     "data": {
      "text/html": [
       " View run at <a href='https://wandb.ai/scialdonelab/granpy-dev/runs/slpgfhp3' target=\"_blank\">https://wandb.ai/scialdonelab/granpy-dev/runs/slpgfhp3</a>"
      ],
      "text/plain": [
       "<IPython.core.display.HTML object>"
      ]
     },
     "metadata": {},
     "output_type": "display_data"
    },
    {
     "name": "stderr",
     "output_type": "stream",
     "text": [
      "Best average_precision_score: 0.8464647235974276:   3%|▎         | 13/500 [00:13<08:22,  1.03s/it]\n"
     ]
    },
    {
     "data": {
      "application/vnd.jupyter.widget-view+json": {
       "model_id": "2325f9bf48cf49168b2bb9d107e81c4e",
       "version_major": 2,
       "version_minor": 0
      },
      "text/plain": [
       "VBox(children=(Label(value='0.049 MB of 1.570 MB uploaded\\r'), FloatProgress(value=0.03121228447294079, max=1.…"
      ]
     },
     "metadata": {},
     "output_type": "display_data"
    },
    {
     "data": {
      "text/html": [
       "<style>\n",
       "    table.wandb td:nth-child(1) { padding: 0 10px; text-align: left ; width: auto;} td:nth-child(2) {text-align: left ; width: 100%}\n",
       "    .wandb-row { display: flex; flex-direction: row; flex-wrap: wrap; justify-content: flex-start; width: 100% }\n",
       "    .wandb-col { display: flex; flex-direction: column; flex-basis: 100%; flex: 1; padding: 10px; }\n",
       "    </style>\n",
       "<div class=\"wandb-row\"><div class=\"wandb-col\"><h3>Run history:</h3><br/><table class=\"wandb\"><tr><td>average_precision_score</td><td>▁</td></tr><tr><td>roc_auc_score</td><td>▁</td></tr><tr><td>train_loss</td><td>▇█▇█▇▆▆▆▅▅▃▃▂▁</td></tr><tr><td>val_average_precision_score</td><td>▁▆▆█▇▅▄▃▂▂▄▃▂▂</td></tr><tr><td>val_loss</td><td>███▇▇▆▆▅▄▄▃▂▂▁</td></tr></table><br/></div><div class=\"wandb-col\"><h3>Run summary:</h3><br/><table class=\"wandb\"><tr><td>average_precision_score</td><td>0.38496</td></tr><tr><td>roc_auc_score</td><td>0.75304</td></tr><tr><td>train_loss</td><td>1.44637</td></tr><tr><td>val_average_precision_score</td><td>0.84556</td></tr><tr><td>val_loss</td><td>1.4465</td></tr></table><br/></div></div>"
      ],
      "text/plain": [
       "<IPython.core.display.HTML object>"
      ]
     },
     "metadata": {},
     "output_type": "display_data"
    },
    {
     "data": {
      "text/html": [
       " View run <strong style=\"color:#cdcd00\">zany-sweep-9</strong> at: <a href='https://wandb.ai/scialdonelab/granpy-dev/runs/slpgfhp3' target=\"_blank\">https://wandb.ai/scialdonelab/granpy-dev/runs/slpgfhp3</a><br/>Synced 7 W&B file(s), 0 media file(s), 1 artifact file(s) and 1 other file(s)"
      ],
      "text/plain": [
       "<IPython.core.display.HTML object>"
      ]
     },
     "metadata": {},
     "output_type": "display_data"
    },
    {
     "data": {
      "text/html": [
       "Find logs at: <code>./wandb/run-20240221_215913-slpgfhp3/logs</code>"
      ],
      "text/plain": [
       "<IPython.core.display.HTML object>"
      ]
     },
     "metadata": {},
     "output_type": "display_data"
    },
    {
     "name": "stderr",
     "output_type": "stream",
     "text": [
      "\u001b[34m\u001b[1mwandb\u001b[0m: Sweep Agent: Waiting for job.\n",
      "\u001b[34m\u001b[1mwandb\u001b[0m: Job received.\n",
      "\u001b[34m\u001b[1mwandb\u001b[0m: Agent Starting Run: 6nuftacq with config:\n",
      "\u001b[34m\u001b[1mwandb\u001b[0m: \tdecoder: CosineDecoder\n",
      "\u001b[34m\u001b[1mwandb\u001b[0m: \tdropout_ratio: 0.2166934695778994\n",
      "\u001b[34m\u001b[1mwandb\u001b[0m: \tn_conv_layers: 1\n",
      "Failed to detect the name of this notebook, you can set it manually with the WANDB_NOTEBOOK_NAME environment variable to enable code saving.\n"
     ]
    },
    {
     "name": "stdout",
     "output_type": "stream",
     "text": [
      "CUDA is set to False, using cpu as fallback\n",
      "CUDA is set to False, using cpu as fallback\n"
     ]
    },
    {
     "name": "stderr",
     "output_type": "stream",
     "text": [
      "\u001b[34m\u001b[1mwandb\u001b[0m: \u001b[33mWARNING\u001b[0m Ignored wandb.init() arg project when running a sweep.\n",
      "\u001b[34m\u001b[1mwandb\u001b[0m: \u001b[33mWARNING\u001b[0m Ignored wandb.init() arg entity when running a sweep.\n"
     ]
    },
    {
     "data": {
      "text/html": [
       "Tracking run with wandb version 0.16.3"
      ],
      "text/plain": [
       "<IPython.core.display.HTML object>"
      ]
     },
     "metadata": {},
     "output_type": "display_data"
    },
    {
     "data": {
      "text/html": [
       "Run data is saved locally in <code>/Users/marcostock/Documents/PhD/01_Projects/granPy/wandb/run-20240221_215950-6nuftacq</code>"
      ],
      "text/plain": [
       "<IPython.core.display.HTML object>"
      ]
     },
     "metadata": {},
     "output_type": "display_data"
    },
    {
     "data": {
      "text/html": [
       "Syncing run <strong><a href='https://wandb.ai/scialdonelab/granpy-dev/runs/6nuftacq' target=\"_blank\">mild-sweep-10</a></strong> to <a href='https://wandb.ai/scialdonelab/granpy-dev' target=\"_blank\">Weights & Biases</a> (<a href='https://wandb.me/run' target=\"_blank\">docs</a>)<br/>Sweep page: <a href='https://wandb.ai/scialdonelab/granpy-dev/sweeps/6yxxiir3' target=\"_blank\">https://wandb.ai/scialdonelab/granpy-dev/sweeps/6yxxiir3</a>"
      ],
      "text/plain": [
       "<IPython.core.display.HTML object>"
      ]
     },
     "metadata": {},
     "output_type": "display_data"
    },
    {
     "data": {
      "text/html": [
       " View project at <a href='https://wandb.ai/scialdonelab/granpy-dev' target=\"_blank\">https://wandb.ai/scialdonelab/granpy-dev</a>"
      ],
      "text/plain": [
       "<IPython.core.display.HTML object>"
      ]
     },
     "metadata": {},
     "output_type": "display_data"
    },
    {
     "data": {
      "text/html": [
       " View sweep at <a href='https://wandb.ai/scialdonelab/granpy-dev/sweeps/6yxxiir3' target=\"_blank\">https://wandb.ai/scialdonelab/granpy-dev/sweeps/6yxxiir3</a>"
      ],
      "text/plain": [
       "<IPython.core.display.HTML object>"
      ]
     },
     "metadata": {},
     "output_type": "display_data"
    },
    {
     "data": {
      "text/html": [
       " View run at <a href='https://wandb.ai/scialdonelab/granpy-dev/runs/6nuftacq' target=\"_blank\">https://wandb.ai/scialdonelab/granpy-dev/runs/6nuftacq</a>"
      ],
      "text/plain": [
       "<IPython.core.display.HTML object>"
      ]
     },
     "metadata": {},
     "output_type": "display_data"
    },
    {
     "name": "stderr",
     "output_type": "stream",
     "text": [
      "Best average_precision_score: 0.8455207230787345:   3%|▎         | 16/500 [00:15<07:49,  1.03it/s]\n"
     ]
    },
    {
     "data": {
      "application/vnd.jupyter.widget-view+json": {
       "model_id": "13444eb529f643d592c4fc3753aae16b",
       "version_major": 2,
       "version_minor": 0
      },
      "text/plain": [
       "VBox(children=(Label(value='0.002 MB of 1.523 MB uploaded\\r'), FloatProgress(value=0.0011210102368901297, max=…"
      ]
     },
     "metadata": {},
     "output_type": "display_data"
    },
    {
     "data": {
      "text/html": [
       "<style>\n",
       "    table.wandb td:nth-child(1) { padding: 0 10px; text-align: left ; width: auto;} td:nth-child(2) {text-align: left ; width: 100%}\n",
       "    .wandb-row { display: flex; flex-direction: row; flex-wrap: wrap; justify-content: flex-start; width: 100% }\n",
       "    .wandb-col { display: flex; flex-direction: column; flex-basis: 100%; flex: 1; padding: 10px; }\n",
       "    </style>\n",
       "<div class=\"wandb-row\"><div class=\"wandb-col\"><h3>Run history:</h3><br/><table class=\"wandb\"><tr><td>average_precision_score</td><td>▁</td></tr><tr><td>roc_auc_score</td><td>▁</td></tr><tr><td>train_loss</td><td>███▇▇▇▇▅▅▄▃▄▃▄▂▁▁</td></tr><tr><td>val_average_precision_score</td><td>▆▇█▇█▇███▇▇▅▃▃▃▃▁</td></tr><tr><td>val_loss</td><td>███▇▇▇▆▆▅▅▅▄▄▃▂▂▁</td></tr></table><br/></div><div class=\"wandb-col\"><h3>Run summary:</h3><br/><table class=\"wandb\"><tr><td>average_precision_score</td><td>0.38433</td></tr><tr><td>roc_auc_score</td><td>0.75347</td></tr><tr><td>train_loss</td><td>1.44601</td></tr><tr><td>val_average_precision_score</td><td>0.84289</td></tr><tr><td>val_loss</td><td>1.44522</td></tr></table><br/></div></div>"
      ],
      "text/plain": [
       "<IPython.core.display.HTML object>"
      ]
     },
     "metadata": {},
     "output_type": "display_data"
    },
    {
     "data": {
      "text/html": [
       " View run <strong style=\"color:#cdcd00\">mild-sweep-10</strong> at: <a href='https://wandb.ai/scialdonelab/granpy-dev/runs/6nuftacq' target=\"_blank\">https://wandb.ai/scialdonelab/granpy-dev/runs/6nuftacq</a><br/>Synced 7 W&B file(s), 0 media file(s), 1 artifact file(s) and 1 other file(s)"
      ],
      "text/plain": [
       "<IPython.core.display.HTML object>"
      ]
     },
     "metadata": {},
     "output_type": "display_data"
    },
    {
     "data": {
      "text/html": [
       "Find logs at: <code>./wandb/run-20240221_215950-6nuftacq/logs</code>"
      ],
      "text/plain": [
       "<IPython.core.display.HTML object>"
      ]
     },
     "metadata": {},
     "output_type": "display_data"
    }
   ],
   "source": [
    "#hyperparameter sweep\n",
    "import wandb \n",
    "from src.experiment import Experiment\n",
    "\n",
    "def singleRun():\n",
    "    experiment = Experiment(_opts)\n",
    "    experiment.run()\n",
    "\n",
    "sweep_configuration = {\n",
    "    \"method\": \"random\",\n",
    "    \"metric\": {\"goal\": \"minimize\", \"name\": \"val_loss\"},\n",
    "    \"parameters\": {\n",
    "        \"dropout_ratio\": {\"max\": 0.6, \"min\": 0.1},\n",
    "        \"decoder\": {\"values\": [\"InnerProductDecoder\", \"CosineDecoder\", \"PNormDecoder\"]},\n",
    "        \"n_conv_layers\": {\"values\": [1,2,3]},\n",
    "    },\n",
    "}\n",
    "sweep_id = wandb.sweep(sweep=sweep_configuration, project=opts.wandb_project, entity=\"scialdonelab\")\n",
    "wandb.agent(sweep_id, function=singleRun, count=10)"
   ]
  },
  {
   "cell_type": "code",
   "execution_count": 16,
   "metadata": {},
   "outputs": [
    {
     "name": "stdout",
     "output_type": "stream",
     "text": [
      "    train_loss  roc_auc_score  average_precision_score  \\\n",
      "0     1.448225            NaN                      NaN   \n",
      "1     1.448343            NaN                      NaN   \n",
      "2     1.448149            NaN                      NaN   \n",
      "3     1.448394            NaN                      NaN   \n",
      "4     1.448018            NaN                      NaN   \n",
      "5     1.447774            NaN                      NaN   \n",
      "6     1.447751            NaN                      NaN   \n",
      "7     1.447954            NaN                      NaN   \n",
      "8     1.447631            NaN                      NaN   \n",
      "9     1.447398            NaN                      NaN   \n",
      "10    1.446939            NaN                      NaN   \n",
      "11    1.447038            NaN                      NaN   \n",
      "12    1.446672            NaN                      NaN   \n",
      "13    1.446367            NaN                      NaN   \n",
      "14         NaN       0.753035                 0.384965   \n",
      "\n",
      "    val_average_precision_score  _step   _runtime  val_loss    _timestamp  \n",
      "0                      0.845402      0   3.572744  1.448263  1.708549e+09  \n",
      "1                      0.846166      1   4.376610  1.448192  1.708549e+09  \n",
      "2                      0.846206      2   5.402403  1.448149  1.708549e+09  \n",
      "3                      0.846465      3   6.265104  1.447999  1.708549e+09  \n",
      "4                      0.846317      4   7.113072  1.447922  1.708549e+09  \n",
      "5                      0.845972      5   8.035710  1.447838  1.708549e+09  \n",
      "6                      0.845865      6   8.933268  1.447770  1.708549e+09  \n",
      "7                      0.845671      7   9.873884  1.447566  1.708549e+09  \n",
      "8                      0.845590      8  10.579224  1.447355  1.708549e+09  \n",
      "9                      0.845617      9  11.595483  1.447159  1.708549e+09  \n",
      "10                     0.845883     10  12.806704  1.446931  1.708549e+09  \n",
      "11                     0.845680     11  13.550163  1.446765  1.708549e+09  \n",
      "12                     0.845574     12  14.485884  1.446643  1.708549e+09  \n",
      "13                     0.845560     13  15.364794  1.446498  1.708549e+09  \n",
      "14                          NaN     14  18.437307       NaN  1.708549e+09  \n"
     ]
    }
   ],
   "source": [
    "import wandb\n",
    "wandb.login()\n",
    "api = wandb.Api()\n",
    "\n",
    "run_id = \"slpgfhp3\"\n",
    "run = api.run(\"scialdonelab/granpy-dev/\" + run_id)\n",
    "\n",
    "metrics_dataframe = run.history()\n",
    "print(metrics_dataframe)"
   ]
  },
  {
   "cell_type": "code",
   "execution_count": 18,
   "metadata": {},
   "outputs": [
    {
     "name": "stderr",
     "output_type": "stream",
     "text": [
      "\u001b[34m\u001b[1mwandb\u001b[0m:   1 of 1 files downloaded.  \n"
     ]
    },
    {
     "name": "stdout",
     "output_type": "stream",
     "text": [
      "/Users/marcostock/Documents/PhD/01_Projects/granPy/artifacts/run-slpgfhp3-2cff68e23c.pt:v0\n"
     ]
    }
   ],
   "source": [
    "api = wandb.Api()\n",
    "artifact = api.artifact(\"scialdonelab/granpy-dev/run-slpgfhp3-2cff68e23c.pt:v0\")\n",
    "filepath = artifact.download()\n",
    "print(filepath)"
   ]
  }
 ],
 "metadata": {
  "kernelspec": {
   "display_name": "ptgeo",
   "language": "python",
   "name": "python3"
  },
  "language_info": {
   "codemirror_mode": {
    "name": "ipython",
    "version": 3
   },
   "file_extension": ".py",
   "mimetype": "text/x-python",
   "name": "python",
   "nbconvert_exporter": "python",
   "pygments_lexer": "ipython3",
   "version": "3.11.5"
  }
 },
 "nbformat": 4,
 "nbformat_minor": 2
}
