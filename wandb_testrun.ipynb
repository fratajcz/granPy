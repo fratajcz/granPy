{
 "cells": [
  {
   "cell_type": "code",
   "execution_count": 9,
   "metadata": {},
   "outputs": [],
   "source": [
    "import dataclasses\n",
    "#from training import TrainingPipeline\n",
    "from typing import List, Dict\n",
    "\n",
    "@dataclasses.dataclass\n",
    "class opts:\n",
    "    val_seed: int = 2\n",
    "    canonical_test_seed: int = 1\n",
    "    val_fraction: float = 0.2\n",
    "    test_fraction: float = 0.2\n",
    "    n_conv_layers: int = 2\n",
    "    activation_layer: str = \"ReLU\"\n",
    "    dropout_ratio: float = 0.5\n",
    "    mplayer: str = \"GCNConv\"\n",
    "    mplayer_args: List[str] = dataclasses.field(default_factory=list)\n",
    "    mplayer_kwargs: Dict = dataclasses.field(default_factory=dict)\n",
    "    latent_dim: int = 32\n",
    "    layer_ratio: int = 10\n",
    "    root: str = \"/mnt/storage/granpy/jackson/\"\n",
    "    dataset: str = \"shalek\"\n",
    "    model_path: str = \"/mnt/storage/granpy/models\"\n",
    "    lr: float = 1e-3\n",
    "    es_patience: int = 30\n",
    "    decoder: str = \"InnerProductDecoder\"\n",
    "    val_mode: str = \"max\"\n",
    "    val_metric: str = \"average_precision_score\"\n",
    "    test_metrics: List[str] = dataclasses.field(default_factory=list)\n",
    "    n_folds: int = 5\n",
    "    epochs: int = 500\n",
    "    cuda: bool = True\n",
    "    negative_sampling: str = \"pot_net\"\n",
    "    score_batched: bool = False\n",
    "    wandb_tracking: bool = True\n",
    "    wandb_project: str = \"granpy-dev\"\n",
    "    wandb_save_model: bool = True\n",
    "    wandb_group: str = None\n",
    "    cache_model: bool = False\n",
    "\n",
    "_opts = opts()\n",
    "\n",
    "_opts.test_metrics += [\"average_precision_score\", \"roc_auc_score\"]"
   ]
  },
  {
   "cell_type": "code",
   "execution_count": 2,
   "metadata": {},
   "outputs": [
    {
     "name": "stderr",
     "output_type": "stream",
     "text": [
      "Processing...\n"
     ]
    },
    {
     "name": "stdout",
     "output_type": "stream",
     "text": [
      "NO CACHE FOUND - Processing data...\n",
      "Data(x=[9411, 1211], edge_index=[2, 57831], num_nodes=9411, edge_label=[115662], edge_label_index=[2, 115662])\n"
     ]
    },
    {
     "name": "stderr",
     "output_type": "stream",
     "text": [
      "Done!\n"
     ]
    }
   ],
   "source": [
    "from src.datasets.datasets import McCallaDataset\n",
    "\n",
    "dataset = McCallaDataset(root=\"/mnt/storage/granpy/jackson/\", opts = _opts, hash=\"abc\")\n",
    "\n",
    "print(dataset.train_data)"
   ]
  },
  {
   "cell_type": "code",
   "execution_count": 7,
   "metadata": {},
   "outputs": [
    {
     "name": "stdout",
     "output_type": "stream",
     "text": [
      "CUDA is set to False, using cpu as fallback\n",
      "CUDA is set to False, using cpu as fallback\n"
     ]
    },
    {
     "data": {
      "text/html": [
       "Finishing last run (ID:pm21ul37) before initializing another..."
      ],
      "text/plain": [
       "<IPython.core.display.HTML object>"
      ]
     },
     "metadata": {},
     "output_type": "display_data"
    },
    {
     "name": "stderr",
     "output_type": "stream",
     "text": [
      "wandb: WARNING Source type is set to 'repo' but some required information is missing from the environment. A job will not be created from this run. See https://docs.wandb.ai/guides/launch/create-job\n"
     ]
    },
    {
     "data": {
      "application/vnd.jupyter.widget-view+json": {
       "model_id": "1e9a2c5015284db4bc87f89bd2220fac",
       "version_major": 2,
       "version_minor": 0
      },
      "text/plain": [
       "VBox(children=(Label(value='0.004 MB of 0.004 MB uploaded\\r'), FloatProgress(value=1.0, max=1.0)))"
      ]
     },
     "metadata": {},
     "output_type": "display_data"
    },
    {
     "data": {
      "text/html": [
       "<style>\n",
       "    table.wandb td:nth-child(1) { padding: 0 10px; text-align: left ; width: auto;} td:nth-child(2) {text-align: left ; width: 100%}\n",
       "    .wandb-row { display: flex; flex-direction: row; flex-wrap: wrap; justify-content: flex-start; width: 100% }\n",
       "    .wandb-col { display: flex; flex-direction: column; flex-basis: 100%; flex: 1; padding: 10px; }\n",
       "    </style>\n",
       "<div class=\"wandb-row\"><div class=\"wandb-col\"><h3>Run history:</h3><br/><table class=\"wandb\"><tr><td>train_loss</td><td>▁</td></tr><tr><td>val_average_precision_score</td><td>▁</td></tr><tr><td>val_loss</td><td>▁</td></tr></table><br/></div><div class=\"wandb-col\"><h3>Run summary:</h3><br/><table class=\"wandb\"><tr><td>train_loss</td><td>1.44822</td></tr><tr><td>val_average_precision_score</td><td>0.84467</td></tr><tr><td>val_loss</td><td>1.44823</td></tr></table><br/></div></div>"
      ],
      "text/plain": [
       "<IPython.core.display.HTML object>"
      ]
     },
     "metadata": {},
     "output_type": "display_data"
    },
    {
     "data": {
      "text/html": [
       " View run <strong style=\"color:#cdcd00\">bright-tiger-48</strong> at: <a href='https://wandb.ai/scialdonelab/granpy-dev/runs/pm21ul37' target=\"_blank\">https://wandb.ai/scialdonelab/granpy-dev/runs/pm21ul37</a><br/>Synced 6 W&B file(s), 0 media file(s), 0 artifact file(s) and 1 other file(s)"
      ],
      "text/plain": [
       "<IPython.core.display.HTML object>"
      ]
     },
     "metadata": {},
     "output_type": "display_data"
    },
    {
     "data": {
      "text/html": [
       "Find logs at: <code>./wandb/run-20240222_132826-pm21ul37/logs</code>"
      ],
      "text/plain": [
       "<IPython.core.display.HTML object>"
      ]
     },
     "metadata": {},
     "output_type": "display_data"
    },
    {
     "data": {
      "text/html": [
       "Successfully finished last run (ID:pm21ul37). Initializing new run:<br/>"
      ],
      "text/plain": [
       "<IPython.core.display.HTML object>"
      ]
     },
     "metadata": {},
     "output_type": "display_data"
    },
    {
     "data": {
      "application/vnd.jupyter.widget-view+json": {
       "model_id": "48e1f37594764c5d9a27211df40ba296",
       "version_major": 2,
       "version_minor": 0
      },
      "text/plain": [
       "VBox(children=(Label(value='Waiting for wandb.init()...\\r'), FloatProgress(value=0.011112578813400534, max=1.0…"
      ]
     },
     "metadata": {},
     "output_type": "display_data"
    },
    {
     "data": {
      "text/html": [
       "Tracking run with wandb version 0.16.3"
      ],
      "text/plain": [
       "<IPython.core.display.HTML object>"
      ]
     },
     "metadata": {},
     "output_type": "display_data"
    },
    {
     "data": {
      "text/html": [
       "Run data is saved locally in <code>/home/ubuntu/granPy/wandb/run-20240222_132949-k5evqrlx</code>"
      ],
      "text/plain": [
       "<IPython.core.display.HTML object>"
      ]
     },
     "metadata": {},
     "output_type": "display_data"
    },
    {
     "data": {
      "text/html": [
       "Syncing run <strong><a href='https://wandb.ai/scialdonelab/granpy-dev/runs/k5evqrlx' target=\"_blank\">auspicious-kumquat-49</a></strong> to <a href='https://wandb.ai/scialdonelab/granpy-dev' target=\"_blank\">Weights & Biases</a> (<a href='https://wandb.me/run' target=\"_blank\">docs</a>)<br/>"
      ],
      "text/plain": [
       "<IPython.core.display.HTML object>"
      ]
     },
     "metadata": {},
     "output_type": "display_data"
    },
    {
     "data": {
      "text/html": [
       " View project at <a href='https://wandb.ai/scialdonelab/granpy-dev' target=\"_blank\">https://wandb.ai/scialdonelab/granpy-dev</a>"
      ],
      "text/plain": [
       "<IPython.core.display.HTML object>"
      ]
     },
     "metadata": {},
     "output_type": "display_data"
    },
    {
     "data": {
      "text/html": [
       " View run at <a href='https://wandb.ai/scialdonelab/granpy-dev/runs/k5evqrlx' target=\"_blank\">https://wandb.ai/scialdonelab/granpy-dev/runs/k5evqrlx</a>"
      ],
      "text/plain": [
       "<IPython.core.display.HTML object>"
      ]
     },
     "metadata": {},
     "output_type": "display_data"
    },
    {
     "name": "stderr",
     "output_type": "stream",
     "text": [
      "Best average_precision_score: 0.8458938400840801:   3%|▎         | 15/500 [02:44<1:28:37, 10.96s/it]\n"
     ]
    },
    {
     "data": {
      "application/vnd.jupyter.widget-view+json": {
       "model_id": "16ff956275354fbc9d6ae6b9faec0598",
       "version_major": 2,
       "version_minor": 0
      },
      "text/plain": [
       "VBox(children=(Label(value='0.004 MB of 1.525 MB uploaded\\r'), FloatProgress(value=0.0027761378475331835, max=…"
      ]
     },
     "metadata": {},
     "output_type": "display_data"
    },
    {
     "name": "stderr",
     "output_type": "stream",
     "text": [
      "wandb: WARNING Source type is set to 'repo' but some required information is missing from the environment. A job will not be created from this run. See https://docs.wandb.ai/guides/launch/create-job\n"
     ]
    },
    {
     "data": {
      "text/html": [
       "<style>\n",
       "    table.wandb td:nth-child(1) { padding: 0 10px; text-align: left ; width: auto;} td:nth-child(2) {text-align: left ; width: 100%}\n",
       "    .wandb-row { display: flex; flex-direction: row; flex-wrap: wrap; justify-content: flex-start; width: 100% }\n",
       "    .wandb-col { display: flex; flex-direction: column; flex-basis: 100%; flex: 1; padding: 10px; }\n",
       "    </style>\n",
       "<div class=\"wandb-row\"><div class=\"wandb-col\"><h3>Run history:</h3><br/><table class=\"wandb\"><tr><td>average_precision_score</td><td>▁</td></tr><tr><td>roc_auc_score</td><td>▁</td></tr><tr><td>train_loss</td><td>██▇▇▇▇▆▆▅▅▅▃▂▂▂▁</td></tr><tr><td>val_average_precision_score</td><td>▄▆▇▇▇██▇▇▇▆▅▄▅▄▁</td></tr><tr><td>val_loss</td><td>███▇▇▇▆▆▆▅▄▄▃▃▂▁</td></tr></table><br/></div><div class=\"wandb-col\"><h3>Run summary:</h3><br/><table class=\"wandb\"><tr><td>average_precision_score</td><td>0.38411</td></tr><tr><td>roc_auc_score</td><td>0.75321</td></tr><tr><td>train_loss</td><td>1.44612</td></tr><tr><td>val_average_precision_score</td><td>0.84419</td></tr><tr><td>val_loss</td><td>1.4457</td></tr></table><br/></div></div>"
      ],
      "text/plain": [
       "<IPython.core.display.HTML object>"
      ]
     },
     "metadata": {},
     "output_type": "display_data"
    },
    {
     "data": {
      "text/html": [
       " View run <strong style=\"color:#cdcd00\">auspicious-kumquat-49</strong> at: <a href='https://wandb.ai/scialdonelab/granpy-dev/runs/k5evqrlx' target=\"_blank\">https://wandb.ai/scialdonelab/granpy-dev/runs/k5evqrlx</a><br/>Synced 6 W&B file(s), 0 media file(s), 1 artifact file(s) and 0 other file(s)"
      ],
      "text/plain": [
       "<IPython.core.display.HTML object>"
      ]
     },
     "metadata": {},
     "output_type": "display_data"
    },
    {
     "data": {
      "text/html": [
       "Find logs at: <code>./wandb/run-20240222_132949-k5evqrlx/logs</code>"
      ],
      "text/plain": [
       "<IPython.core.display.HTML object>"
      ]
     },
     "metadata": {},
     "output_type": "display_data"
    },
    {
     "data": {
      "text/plain": [
       "{'average_precision_score': 0.3841145535826917,\n",
       " 'roc_auc_score': 0.7532067767636145}"
      ]
     },
     "execution_count": 7,
     "metadata": {},
     "output_type": "execute_result"
    }
   ],
   "source": [
    "# single run\n",
    "\n",
    "from src.experiment import Experiment\n",
    "experiment = Experiment(_opts)\n",
    "experiment.run()"
   ]
  },
  {
   "cell_type": "code",
   "execution_count": 4,
   "metadata": {},
   "outputs": [
    {
     "name": "stderr",
     "output_type": "stream",
     "text": [
      "  0%|          | 0/5 [00:00<?, ?it/s]Processing...\n"
     ]
    },
    {
     "name": "stdout",
     "output_type": "stream",
     "text": [
      "NO CACHE FOUND - Processing data...\n"
     ]
    },
    {
     "name": "stderr",
     "output_type": "stream",
     "text": [
      "Done!\n"
     ]
    },
    {
     "name": "stdout",
     "output_type": "stream",
     "text": [
      "CUDA is set to False, using cpu as fallback\n",
      "CUDA is set to False, using cpu as fallback\n"
     ]
    },
    {
     "data": {
      "text/html": [
       "Tracking run with wandb version 0.16.3"
      ],
      "text/plain": [
       "<IPython.core.display.HTML object>"
      ]
     },
     "metadata": {},
     "output_type": "display_data"
    },
    {
     "data": {
      "text/html": [
       "Run data is saved locally in <code>/Users/marcostock/Documents/PhD/01_Projects/granPy/wandb/run-20240221_212614-xm949zcp</code>"
      ],
      "text/plain": [
       "<IPython.core.display.HTML object>"
      ]
     },
     "metadata": {},
     "output_type": "display_data"
    },
    {
     "data": {
      "text/html": [
       "Syncing run <strong><a href='https://wandb.ai/scialdonelab/granpy-dev/runs/xm949zcp' target=\"_blank\">incandescent-snake-19</a></strong> to <a href='https://wandb.ai/scialdonelab/granpy-dev' target=\"_blank\">Weights & Biases</a> (<a href='https://wandb.me/run' target=\"_blank\">docs</a>)<br/>"
      ],
      "text/plain": [
       "<IPython.core.display.HTML object>"
      ]
     },
     "metadata": {},
     "output_type": "display_data"
    },
    {
     "data": {
      "text/html": [
       " View project at <a href='https://wandb.ai/scialdonelab/granpy-dev' target=\"_blank\">https://wandb.ai/scialdonelab/granpy-dev</a>"
      ],
      "text/plain": [
       "<IPython.core.display.HTML object>"
      ]
     },
     "metadata": {},
     "output_type": "display_data"
    },
    {
     "data": {
      "text/html": [
       " View run at <a href='https://wandb.ai/scialdonelab/granpy-dev/runs/xm949zcp' target=\"_blank\">https://wandb.ai/scialdonelab/granpy-dev/runs/xm949zcp</a>"
      ],
      "text/plain": [
       "<IPython.core.display.HTML object>"
      ]
     },
     "metadata": {},
     "output_type": "display_data"
    },
    {
     "name": "stderr",
     "output_type": "stream",
     "text": [
      "Best average_precision_score: 0.8460961859243717:   3%|▎         | 14/500 [00:16<09:44,  1.20s/it]\n",
      "wandb: WARNING Source type is set to 'repo' but some required information is missing from the environment. A job will not be created from this run. See https://docs.wandb.ai/guides/launch/create-job\n"
     ]
    },
    {
     "data": {
      "application/vnd.jupyter.widget-view+json": {
       "model_id": "b09f3b4ea13a41f0942c93844f9c151d",
       "version_major": 2,
       "version_minor": 0
      },
      "text/plain": [
       "VBox(children=(Label(value='1.526 MB of 1.526 MB uploaded\\r'), FloatProgress(value=1.0, max=1.0)))"
      ]
     },
     "metadata": {},
     "output_type": "display_data"
    },
    {
     "data": {
      "text/html": [
       "<style>\n",
       "    table.wandb td:nth-child(1) { padding: 0 10px; text-align: left ; width: auto;} td:nth-child(2) {text-align: left ; width: 100%}\n",
       "    .wandb-row { display: flex; flex-direction: row; flex-wrap: wrap; justify-content: flex-start; width: 100% }\n",
       "    .wandb-col { display: flex; flex-direction: column; flex-basis: 100%; flex: 1; padding: 10px; }\n",
       "    </style>\n",
       "<div class=\"wandb-row\"><div class=\"wandb-col\"><h3>Run history:</h3><br/><table class=\"wandb\"><tr><td>average_precision_score</td><td>▁</td></tr><tr><td>roc_auc_score</td><td>▁</td></tr><tr><td>train_loss</td><td>█▇█▇▇▇▆▆▄▅▅▄▄▂▁</td></tr><tr><td>val_average_precision_score</td><td>▃▆▅▇█▇▆▄▅▄▂▁▃▃▃</td></tr><tr><td>val_loss</td><td>██▇▇▇▆▆▆▅▄▄▃▂▁▁</td></tr></table><br/></div><div class=\"wandb-col\"><h3>Run summary:</h3><br/><table class=\"wandb\"><tr><td>average_precision_score</td><td>0.38424</td></tr><tr><td>roc_auc_score</td><td>0.75331</td></tr><tr><td>train_loss</td><td>1.44554</td></tr><tr><td>val_average_precision_score</td><td>0.84534</td></tr><tr><td>val_loss</td><td>1.44597</td></tr></table><br/></div></div>"
      ],
      "text/plain": [
       "<IPython.core.display.HTML object>"
      ]
     },
     "metadata": {},
     "output_type": "display_data"
    },
    {
     "data": {
      "text/html": [
       " View run <strong style=\"color:#cdcd00\">incandescent-snake-19</strong> at: <a href='https://wandb.ai/scialdonelab/granpy-dev/runs/xm949zcp' target=\"_blank\">https://wandb.ai/scialdonelab/granpy-dev/runs/xm949zcp</a><br/>Synced 7 W&B file(s), 0 media file(s), 1 artifact file(s) and 1 other file(s)"
      ],
      "text/plain": [
       "<IPython.core.display.HTML object>"
      ]
     },
     "metadata": {},
     "output_type": "display_data"
    },
    {
     "data": {
      "text/html": [
       "Find logs at: <code>./wandb/run-20240221_212614-xm949zcp/logs</code>"
      ],
      "text/plain": [
       "<IPython.core.display.HTML object>"
      ]
     },
     "metadata": {},
     "output_type": "display_data"
    },
    {
     "name": "stderr",
     "output_type": "stream",
     "text": [
      " 20%|██        | 1/5 [00:27<01:48, 27.25s/it]Processing...\n"
     ]
    },
    {
     "name": "stdout",
     "output_type": "stream",
     "text": [
      "NO CACHE FOUND - Processing data...\n"
     ]
    },
    {
     "name": "stderr",
     "output_type": "stream",
     "text": [
      "Done!\n"
     ]
    },
    {
     "name": "stdout",
     "output_type": "stream",
     "text": [
      "CUDA is set to False, using cpu as fallback\n",
      "CUDA is set to False, using cpu as fallback\n"
     ]
    },
    {
     "data": {
      "text/html": [
       "Tracking run with wandb version 0.16.3"
      ],
      "text/plain": [
       "<IPython.core.display.HTML object>"
      ]
     },
     "metadata": {},
     "output_type": "display_data"
    },
    {
     "data": {
      "text/html": [
       "Run data is saved locally in <code>/Users/marcostock/Documents/PhD/01_Projects/granPy/wandb/run-20240221_212641-6vt9llb2</code>"
      ],
      "text/plain": [
       "<IPython.core.display.HTML object>"
      ]
     },
     "metadata": {},
     "output_type": "display_data"
    },
    {
     "data": {
      "text/html": [
       "Syncing run <strong><a href='https://wandb.ai/scialdonelab/granpy-dev/runs/6vt9llb2' target=\"_blank\">legendary-goat-20</a></strong> to <a href='https://wandb.ai/scialdonelab/granpy-dev' target=\"_blank\">Weights & Biases</a> (<a href='https://wandb.me/run' target=\"_blank\">docs</a>)<br/>"
      ],
      "text/plain": [
       "<IPython.core.display.HTML object>"
      ]
     },
     "metadata": {},
     "output_type": "display_data"
    },
    {
     "data": {
      "text/html": [
       " View project at <a href='https://wandb.ai/scialdonelab/granpy-dev' target=\"_blank\">https://wandb.ai/scialdonelab/granpy-dev</a>"
      ],
      "text/plain": [
       "<IPython.core.display.HTML object>"
      ]
     },
     "metadata": {},
     "output_type": "display_data"
    },
    {
     "data": {
      "text/html": [
       " View run at <a href='https://wandb.ai/scialdonelab/granpy-dev/runs/6vt9llb2' target=\"_blank\">https://wandb.ai/scialdonelab/granpy-dev/runs/6vt9llb2</a>"
      ],
      "text/plain": [
       "<IPython.core.display.HTML object>"
      ]
     },
     "metadata": {},
     "output_type": "display_data"
    },
    {
     "name": "stderr",
     "output_type": "stream",
     "text": [
      "Best average_precision_score: 0.845036741858005:   3%|▎         | 15/500 [00:16<08:55,  1.10s/it]\n",
      "wandb: WARNING Source type is set to 'repo' but some required information is missing from the environment. A job will not be created from this run. See https://docs.wandb.ai/guides/launch/create-job\n"
     ]
    },
    {
     "data": {
      "application/vnd.jupyter.widget-view+json": {
       "model_id": "8fd97d83421742738c158a17642fdeff",
       "version_major": 2,
       "version_minor": 0
      },
      "text/plain": [
       "VBox(children=(Label(value='1.526 MB of 1.526 MB uploaded\\r'), FloatProgress(value=1.0, max=1.0)))"
      ]
     },
     "metadata": {},
     "output_type": "display_data"
    },
    {
     "data": {
      "text/html": [
       "<style>\n",
       "    table.wandb td:nth-child(1) { padding: 0 10px; text-align: left ; width: auto;} td:nth-child(2) {text-align: left ; width: 100%}\n",
       "    .wandb-row { display: flex; flex-direction: row; flex-wrap: wrap; justify-content: flex-start; width: 100% }\n",
       "    .wandb-col { display: flex; flex-direction: column; flex-basis: 100%; flex: 1; padding: 10px; }\n",
       "    </style>\n",
       "<div class=\"wandb-row\"><div class=\"wandb-col\"><h3>Run history:</h3><br/><table class=\"wandb\"><tr><td>average_precision_score</td><td>▁</td></tr><tr><td>roc_auc_score</td><td>▁</td></tr><tr><td>train_loss</td><td>███▇▇▆▆▅▅▄▅▄▃▃▂▁</td></tr><tr><td>val_average_precision_score</td><td>█▇▇███▇▆▆▆▆▆▆▅▃▁</td></tr><tr><td>val_loss</td><td>███▇▇▇▆▆▅▅▄▄▃▂▂▁</td></tr></table><br/></div><div class=\"wandb-col\"><h3>Run summary:</h3><br/><table class=\"wandb\"><tr><td>average_precision_score</td><td>0.386</td></tr><tr><td>roc_auc_score</td><td>0.7535</td></tr><tr><td>train_loss</td><td>1.446</td></tr><tr><td>val_average_precision_score</td><td>0.84203</td></tr><tr><td>val_loss</td><td>1.44578</td></tr></table><br/></div></div>"
      ],
      "text/plain": [
       "<IPython.core.display.HTML object>"
      ]
     },
     "metadata": {},
     "output_type": "display_data"
    },
    {
     "data": {
      "text/html": [
       " View run <strong style=\"color:#cdcd00\">legendary-goat-20</strong> at: <a href='https://wandb.ai/scialdonelab/granpy-dev/runs/6vt9llb2' target=\"_blank\">https://wandb.ai/scialdonelab/granpy-dev/runs/6vt9llb2</a><br/>Synced 7 W&B file(s), 0 media file(s), 1 artifact file(s) and 1 other file(s)"
      ],
      "text/plain": [
       "<IPython.core.display.HTML object>"
      ]
     },
     "metadata": {},
     "output_type": "display_data"
    },
    {
     "data": {
      "text/html": [
       "Find logs at: <code>./wandb/run-20240221_212641-6vt9llb2/logs</code>"
      ],
      "text/plain": [
       "<IPython.core.display.HTML object>"
      ]
     },
     "metadata": {},
     "output_type": "display_data"
    },
    {
     "name": "stderr",
     "output_type": "stream",
     "text": [
      " 40%|████      | 2/5 [00:53<01:20, 26.82s/it]Processing...\n"
     ]
    },
    {
     "name": "stdout",
     "output_type": "stream",
     "text": [
      "NO CACHE FOUND - Processing data...\n"
     ]
    },
    {
     "name": "stderr",
     "output_type": "stream",
     "text": [
      "Done!\n"
     ]
    },
    {
     "name": "stdout",
     "output_type": "stream",
     "text": [
      "CUDA is set to False, using cpu as fallback\n",
      "CUDA is set to False, using cpu as fallback\n"
     ]
    },
    {
     "data": {
      "text/html": [
       "Tracking run with wandb version 0.16.3"
      ],
      "text/plain": [
       "<IPython.core.display.HTML object>"
      ]
     },
     "metadata": {},
     "output_type": "display_data"
    },
    {
     "data": {
      "text/html": [
       "Run data is saved locally in <code>/Users/marcostock/Documents/PhD/01_Projects/granPy/wandb/run-20240221_212708-8f4ll92j</code>"
      ],
      "text/plain": [
       "<IPython.core.display.HTML object>"
      ]
     },
     "metadata": {},
     "output_type": "display_data"
    },
    {
     "data": {
      "text/html": [
       "Syncing run <strong><a href='https://wandb.ai/scialdonelab/granpy-dev/runs/8f4ll92j' target=\"_blank\">beaming-horse-21</a></strong> to <a href='https://wandb.ai/scialdonelab/granpy-dev' target=\"_blank\">Weights & Biases</a> (<a href='https://wandb.me/run' target=\"_blank\">docs</a>)<br/>"
      ],
      "text/plain": [
       "<IPython.core.display.HTML object>"
      ]
     },
     "metadata": {},
     "output_type": "display_data"
    },
    {
     "data": {
      "text/html": [
       " View project at <a href='https://wandb.ai/scialdonelab/granpy-dev' target=\"_blank\">https://wandb.ai/scialdonelab/granpy-dev</a>"
      ],
      "text/plain": [
       "<IPython.core.display.HTML object>"
      ]
     },
     "metadata": {},
     "output_type": "display_data"
    },
    {
     "data": {
      "text/html": [
       " View run at <a href='https://wandb.ai/scialdonelab/granpy-dev/runs/8f4ll92j' target=\"_blank\">https://wandb.ai/scialdonelab/granpy-dev/runs/8f4ll92j</a>"
      ],
      "text/plain": [
       "<IPython.core.display.HTML object>"
      ]
     },
     "metadata": {},
     "output_type": "display_data"
    },
    {
     "name": "stderr",
     "output_type": "stream",
     "text": [
      "Best average_precision_score: 0.8458979185932983:   3%|▎         | 16/500 [00:16<08:29,  1.05s/it]\n",
      "wandb: WARNING Source type is set to 'repo' but some required information is missing from the environment. A job will not be created from this run. See https://docs.wandb.ai/guides/launch/create-job\n"
     ]
    },
    {
     "data": {
      "application/vnd.jupyter.widget-view+json": {
       "model_id": "27fd9347ddc44a10a37bfd56b7d340c6",
       "version_major": 2,
       "version_minor": 0
      },
      "text/plain": [
       "VBox(children=(Label(value='0.005 MB of 1.526 MB uploaded\\r'), FloatProgress(value=0.0029611413490227357, max=…"
      ]
     },
     "metadata": {},
     "output_type": "display_data"
    },
    {
     "data": {
      "text/html": [
       "<style>\n",
       "    table.wandb td:nth-child(1) { padding: 0 10px; text-align: left ; width: auto;} td:nth-child(2) {text-align: left ; width: 100%}\n",
       "    .wandb-row { display: flex; flex-direction: row; flex-wrap: wrap; justify-content: flex-start; width: 100% }\n",
       "    .wandb-col { display: flex; flex-direction: column; flex-basis: 100%; flex: 1; padding: 10px; }\n",
       "    </style>\n",
       "<div class=\"wandb-row\"><div class=\"wandb-col\"><h3>Run history:</h3><br/><table class=\"wandb\"><tr><td>average_precision_score</td><td>▁</td></tr><tr><td>roc_auc_score</td><td>▁</td></tr><tr><td>train_loss</td><td>████▇▇▇▆▆▆▅▅▄▄▃▂▁</td></tr><tr><td>val_average_precision_score</td><td>▅▇▇▆▇███▇▆▇▇▆▅▅▄▁</td></tr><tr><td>val_loss</td><td>███▇▇▇▇▆▅▅▄▄▄▃▃▂▁</td></tr></table><br/></div><div class=\"wandb-col\"><h3>Run summary:</h3><br/><table class=\"wandb\"><tr><td>average_precision_score</td><td>0.38457</td></tr><tr><td>roc_auc_score</td><td>0.75347</td></tr><tr><td>train_loss</td><td>1.44416</td></tr><tr><td>val_average_precision_score</td><td>0.8428</td></tr><tr><td>val_loss</td><td>1.44492</td></tr></table><br/></div></div>"
      ],
      "text/plain": [
       "<IPython.core.display.HTML object>"
      ]
     },
     "metadata": {},
     "output_type": "display_data"
    },
    {
     "data": {
      "text/html": [
       " View run <strong style=\"color:#cdcd00\">beaming-horse-21</strong> at: <a href='https://wandb.ai/scialdonelab/granpy-dev/runs/8f4ll92j' target=\"_blank\">https://wandb.ai/scialdonelab/granpy-dev/runs/8f4ll92j</a><br/>Synced 7 W&B file(s), 0 media file(s), 1 artifact file(s) and 1 other file(s)"
      ],
      "text/plain": [
       "<IPython.core.display.HTML object>"
      ]
     },
     "metadata": {},
     "output_type": "display_data"
    },
    {
     "data": {
      "text/html": [
       "Find logs at: <code>./wandb/run-20240221_212708-8f4ll92j/logs</code>"
      ],
      "text/plain": [
       "<IPython.core.display.HTML object>"
      ]
     },
     "metadata": {},
     "output_type": "display_data"
    },
    {
     "name": "stderr",
     "output_type": "stream",
     "text": [
      " 60%|██████    | 3/5 [01:23<00:56, 28.28s/it]Processing...\n"
     ]
    },
    {
     "name": "stdout",
     "output_type": "stream",
     "text": [
      "NO CACHE FOUND - Processing data...\n"
     ]
    },
    {
     "name": "stderr",
     "output_type": "stream",
     "text": [
      "Done!\n"
     ]
    },
    {
     "name": "stdout",
     "output_type": "stream",
     "text": [
      "CUDA is set to False, using cpu as fallback\n",
      "CUDA is set to False, using cpu as fallback\n"
     ]
    },
    {
     "data": {
      "text/html": [
       "Tracking run with wandb version 0.16.3"
      ],
      "text/plain": [
       "<IPython.core.display.HTML object>"
      ]
     },
     "metadata": {},
     "output_type": "display_data"
    },
    {
     "data": {
      "text/html": [
       "Run data is saved locally in <code>/Users/marcostock/Documents/PhD/01_Projects/granPy/wandb/run-20240221_212738-xe8889if</code>"
      ],
      "text/plain": [
       "<IPython.core.display.HTML object>"
      ]
     },
     "metadata": {},
     "output_type": "display_data"
    },
    {
     "data": {
      "text/html": [
       "Syncing run <strong><a href='https://wandb.ai/scialdonelab/granpy-dev/runs/xe8889if' target=\"_blank\">chromatic-lantern-22</a></strong> to <a href='https://wandb.ai/scialdonelab/granpy-dev' target=\"_blank\">Weights & Biases</a> (<a href='https://wandb.me/run' target=\"_blank\">docs</a>)<br/>"
      ],
      "text/plain": [
       "<IPython.core.display.HTML object>"
      ]
     },
     "metadata": {},
     "output_type": "display_data"
    },
    {
     "data": {
      "text/html": [
       " View project at <a href='https://wandb.ai/scialdonelab/granpy-dev' target=\"_blank\">https://wandb.ai/scialdonelab/granpy-dev</a>"
      ],
      "text/plain": [
       "<IPython.core.display.HTML object>"
      ]
     },
     "metadata": {},
     "output_type": "display_data"
    },
    {
     "data": {
      "text/html": [
       " View run at <a href='https://wandb.ai/scialdonelab/granpy-dev/runs/xe8889if' target=\"_blank\">https://wandb.ai/scialdonelab/granpy-dev/runs/xe8889if</a>"
      ],
      "text/plain": [
       "<IPython.core.display.HTML object>"
      ]
     },
     "metadata": {},
     "output_type": "display_data"
    },
    {
     "name": "stderr",
     "output_type": "stream",
     "text": [
      "Best average_precision_score: 0.8488198921624315:   3%|▎         | 15/500 [00:16<09:06,  1.13s/it]\n",
      "wandb: WARNING Source type is set to 'repo' but some required information is missing from the environment. A job will not be created from this run. See https://docs.wandb.ai/guides/launch/create-job\n"
     ]
    },
    {
     "data": {
      "application/vnd.jupyter.widget-view+json": {
       "model_id": "f434324231c94b668e44c32fce39a950",
       "version_major": 2,
       "version_minor": 0
      },
      "text/plain": [
       "VBox(children=(Label(value='1.526 MB of 1.526 MB uploaded\\r'), FloatProgress(value=1.0, max=1.0)))"
      ]
     },
     "metadata": {},
     "output_type": "display_data"
    },
    {
     "data": {
      "text/html": [
       "<style>\n",
       "    table.wandb td:nth-child(1) { padding: 0 10px; text-align: left ; width: auto;} td:nth-child(2) {text-align: left ; width: 100%}\n",
       "    .wandb-row { display: flex; flex-direction: row; flex-wrap: wrap; justify-content: flex-start; width: 100% }\n",
       "    .wandb-col { display: flex; flex-direction: column; flex-basis: 100%; flex: 1; padding: 10px; }\n",
       "    </style>\n",
       "<div class=\"wandb-row\"><div class=\"wandb-col\"><h3>Run history:</h3><br/><table class=\"wandb\"><tr><td>average_precision_score</td><td>▁</td></tr><tr><td>roc_auc_score</td><td>▁</td></tr><tr><td>train_loss</td><td>████▇▇▆▆▅▆▄▄▃▄▂▁</td></tr><tr><td>val_average_precision_score</td><td>▂▂▄███▇▇▆▄▃▄▄▃▁▂</td></tr><tr><td>val_loss</td><td>██▇▇▇▆▆▅▅▅▄▄▃▂▂▁</td></tr></table><br/></div><div class=\"wandb-col\"><h3>Run summary:</h3><br/><table class=\"wandb\"><tr><td>average_precision_score</td><td>0.38629</td></tr><tr><td>roc_auc_score</td><td>0.75348</td></tr><tr><td>train_loss</td><td>1.44525</td></tr><tr><td>val_average_precision_score</td><td>0.84686</td></tr><tr><td>val_loss</td><td>1.44532</td></tr></table><br/></div></div>"
      ],
      "text/plain": [
       "<IPython.core.display.HTML object>"
      ]
     },
     "metadata": {},
     "output_type": "display_data"
    },
    {
     "data": {
      "text/html": [
       " View run <strong style=\"color:#cdcd00\">chromatic-lantern-22</strong> at: <a href='https://wandb.ai/scialdonelab/granpy-dev/runs/xe8889if' target=\"_blank\">https://wandb.ai/scialdonelab/granpy-dev/runs/xe8889if</a><br/>Synced 7 W&B file(s), 0 media file(s), 1 artifact file(s) and 1 other file(s)"
      ],
      "text/plain": [
       "<IPython.core.display.HTML object>"
      ]
     },
     "metadata": {},
     "output_type": "display_data"
    },
    {
     "data": {
      "text/html": [
       "Find logs at: <code>./wandb/run-20240221_212738-xe8889if/logs</code>"
      ],
      "text/plain": [
       "<IPython.core.display.HTML object>"
      ]
     },
     "metadata": {},
     "output_type": "display_data"
    },
    {
     "name": "stderr",
     "output_type": "stream",
     "text": [
      " 80%|████████  | 4/5 [01:51<00:28, 28.25s/it]Processing...\n"
     ]
    },
    {
     "name": "stdout",
     "output_type": "stream",
     "text": [
      "NO CACHE FOUND - Processing data...\n"
     ]
    },
    {
     "name": "stderr",
     "output_type": "stream",
     "text": [
      "Done!\n"
     ]
    },
    {
     "name": "stdout",
     "output_type": "stream",
     "text": [
      "CUDA is set to False, using cpu as fallback\n",
      "CUDA is set to False, using cpu as fallback\n"
     ]
    },
    {
     "data": {
      "text/html": [
       "Tracking run with wandb version 0.16.3"
      ],
      "text/plain": [
       "<IPython.core.display.HTML object>"
      ]
     },
     "metadata": {},
     "output_type": "display_data"
    },
    {
     "data": {
      "text/html": [
       "Run data is saved locally in <code>/Users/marcostock/Documents/PhD/01_Projects/granPy/wandb/run-20240221_212806-s3h4jirs</code>"
      ],
      "text/plain": [
       "<IPython.core.display.HTML object>"
      ]
     },
     "metadata": {},
     "output_type": "display_data"
    },
    {
     "data": {
      "text/html": [
       "Syncing run <strong><a href='https://wandb.ai/scialdonelab/granpy-dev/runs/s3h4jirs' target=\"_blank\">scintillating-dumpling-23</a></strong> to <a href='https://wandb.ai/scialdonelab/granpy-dev' target=\"_blank\">Weights & Biases</a> (<a href='https://wandb.me/run' target=\"_blank\">docs</a>)<br/>"
      ],
      "text/plain": [
       "<IPython.core.display.HTML object>"
      ]
     },
     "metadata": {},
     "output_type": "display_data"
    },
    {
     "data": {
      "text/html": [
       " View project at <a href='https://wandb.ai/scialdonelab/granpy-dev' target=\"_blank\">https://wandb.ai/scialdonelab/granpy-dev</a>"
      ],
      "text/plain": [
       "<IPython.core.display.HTML object>"
      ]
     },
     "metadata": {},
     "output_type": "display_data"
    },
    {
     "data": {
      "text/html": [
       " View run at <a href='https://wandb.ai/scialdonelab/granpy-dev/runs/s3h4jirs' target=\"_blank\">https://wandb.ai/scialdonelab/granpy-dev/runs/s3h4jirs</a>"
      ],
      "text/plain": [
       "<IPython.core.display.HTML object>"
      ]
     },
     "metadata": {},
     "output_type": "display_data"
    },
    {
     "name": "stderr",
     "output_type": "stream",
     "text": [
      "Best average_precision_score: 0.8484980009917636:   3%|▎         | 13/500 [00:12<07:55,  1.02it/s]\n",
      "wandb: WARNING Source type is set to 'repo' but some required information is missing from the environment. A job will not be created from this run. See https://docs.wandb.ai/guides/launch/create-job\n"
     ]
    },
    {
     "data": {
      "application/vnd.jupyter.widget-view+json": {
       "model_id": "6b02b62f86084e94907f059da3a7e24e",
       "version_major": 2,
       "version_minor": 0
      },
      "text/plain": [
       "VBox(children=(Label(value='1.526 MB of 1.526 MB uploaded\\r'), FloatProgress(value=1.0, max=1.0)))"
      ]
     },
     "metadata": {},
     "output_type": "display_data"
    },
    {
     "data": {
      "text/html": [
       "<style>\n",
       "    table.wandb td:nth-child(1) { padding: 0 10px; text-align: left ; width: auto;} td:nth-child(2) {text-align: left ; width: 100%}\n",
       "    .wandb-row { display: flex; flex-direction: row; flex-wrap: wrap; justify-content: flex-start; width: 100% }\n",
       "    .wandb-col { display: flex; flex-direction: column; flex-basis: 100%; flex: 1; padding: 10px; }\n",
       "    </style>\n",
       "<div class=\"wandb-row\"><div class=\"wandb-col\"><h3>Run history:</h3><br/><table class=\"wandb\"><tr><td>average_precision_score</td><td>▁</td></tr><tr><td>roc_auc_score</td><td>▁</td></tr><tr><td>train_loss</td><td>██▇▇▇▆▆▅▅▄▃▂▁▁</td></tr><tr><td>val_average_precision_score</td><td>▅▇██▇▆▅▄▃▂▁▁▂▂</td></tr><tr><td>val_loss</td><td>██▇▇▇▆▆▅▅▄▃▃▂▁</td></tr></table><br/></div><div class=\"wandb-col\"><h3>Run summary:</h3><br/><table class=\"wandb\"><tr><td>average_precision_score</td><td>0.38474</td></tr><tr><td>roc_auc_score</td><td>0.75361</td></tr><tr><td>train_loss</td><td>1.44656</td></tr><tr><td>val_average_precision_score</td><td>0.84601</td></tr><tr><td>val_loss</td><td>1.44606</td></tr></table><br/></div></div>"
      ],
      "text/plain": [
       "<IPython.core.display.HTML object>"
      ]
     },
     "metadata": {},
     "output_type": "display_data"
    },
    {
     "data": {
      "text/html": [
       " View run <strong style=\"color:#cdcd00\">scintillating-dumpling-23</strong> at: <a href='https://wandb.ai/scialdonelab/granpy-dev/runs/s3h4jirs' target=\"_blank\">https://wandb.ai/scialdonelab/granpy-dev/runs/s3h4jirs</a><br/>Synced 7 W&B file(s), 0 media file(s), 1 artifact file(s) and 1 other file(s)"
      ],
      "text/plain": [
       "<IPython.core.display.HTML object>"
      ]
     },
     "metadata": {},
     "output_type": "display_data"
    },
    {
     "data": {
      "text/html": [
       "Find logs at: <code>./wandb/run-20240221_212806-s3h4jirs/logs</code>"
      ],
      "text/plain": [
       "<IPython.core.display.HTML object>"
      ]
     },
     "metadata": {},
     "output_type": "display_data"
    },
    {
     "name": "stderr",
     "output_type": "stream",
     "text": [
      "100%|██████████| 5/5 [02:15<00:00, 27.09s/it]\n"
     ]
    },
    {
     "data": {
      "text/plain": [
       "[{'average_precision_score': 0.3842363860774682,\n",
       "  'roc_auc_score': 0.7533069456898615},\n",
       " {'average_precision_score': 0.3860045051348083,\n",
       "  'roc_auc_score': 0.7534996485437784},\n",
       " {'average_precision_score': 0.3845679411458947,\n",
       "  'roc_auc_score': 0.7534722618221762},\n",
       " {'average_precision_score': 0.38629081942510063,\n",
       "  'roc_auc_score': 0.7534810406922077},\n",
       " {'average_precision_score': 0.38473665741299845,\n",
       "  'roc_auc_score': 0.7536084802105218}]"
      ]
     },
     "execution_count": 4,
     "metadata": {},
     "output_type": "execute_result"
    }
   ],
   "source": [
    "# folded runs\n",
    "\n",
    "from src.experiment import ExperimentArray\n",
    "experimentArray = ExperimentArray(_opts)\n",
    "experimentArray.run()"
   ]
  },
  {
   "cell_type": "code",
   "execution_count": 10,
   "metadata": {},
   "outputs": [
    {
     "name": "stdout",
     "output_type": "stream",
     "text": [
      "Create sweep with ID: c10b9ffu\n",
      "Sweep URL: https://wandb.ai/scialdonelab/granpy-dev/sweeps/c10b9ffu\n"
     ]
    },
    {
     "name": "stderr",
     "output_type": "stream",
     "text": [
      "\u001b[34m\u001b[1mwandb\u001b[0m: Agent Starting Run: ysoc7oby with config:\n",
      "\u001b[34m\u001b[1mwandb\u001b[0m: \tdropout_ratio: 0.23788568018381775\n",
      "\u001b[34m\u001b[1mwandb\u001b[0m: \tlatent_dim: 16\n",
      "\u001b[34m\u001b[1mwandb\u001b[0m: \tlr: 0.0036719376915756254\n",
      "\u001b[34m\u001b[1mwandb\u001b[0m: \tn_conv_layers: 3\n",
      "\u001b[34m\u001b[1mwandb\u001b[0m: \tnegative_sampling: unstructured\n",
      "Processing...\n"
     ]
    },
    {
     "name": "stdout",
     "output_type": "stream",
     "text": [
      "NO CACHE FOUND - Processing data...\n"
     ]
    },
    {
     "name": "stderr",
     "output_type": "stream",
     "text": [
      "Done!\n",
      "\u001b[34m\u001b[1mwandb\u001b[0m: \u001b[33mWARNING\u001b[0m Ignored wandb.init() arg project when running a sweep.\n",
      "\u001b[34m\u001b[1mwandb\u001b[0m: \u001b[33mWARNING\u001b[0m Ignored wandb.init() arg entity when running a sweep.\n"
     ]
    },
    {
     "data": {
      "text/html": [
       "wandb version 0.17.0 is available!  To upgrade, please run:\n",
       " $ pip install wandb --upgrade"
      ],
      "text/plain": [
       "<IPython.core.display.HTML object>"
      ]
     },
     "metadata": {},
     "output_type": "display_data"
    },
    {
     "data": {
      "text/html": [
       "Tracking run with wandb version 0.16.3"
      ],
      "text/plain": [
       "<IPython.core.display.HTML object>"
      ]
     },
     "metadata": {},
     "output_type": "display_data"
    },
    {
     "data": {
      "text/html": [
       "Run data is saved locally in <code>/home/ubuntu/granPy/wandb/run-20240514_150357-ysoc7oby</code>"
      ],
      "text/plain": [
       "<IPython.core.display.HTML object>"
      ]
     },
     "metadata": {},
     "output_type": "display_data"
    },
    {
     "data": {
      "text/html": [
       "Syncing run <strong><a href='https://wandb.ai/scialdonelab/granpy-dev/runs/ysoc7oby' target=\"_blank\">glowing-sweep-1</a></strong> to <a href='https://wandb.ai/scialdonelab/granpy-dev' target=\"_blank\">Weights & Biases</a> (<a href='https://wandb.me/run' target=\"_blank\">docs</a>)<br/>Sweep page: <a href='https://wandb.ai/scialdonelab/granpy-dev/sweeps/c10b9ffu' target=\"_blank\">https://wandb.ai/scialdonelab/granpy-dev/sweeps/c10b9ffu</a>"
      ],
      "text/plain": [
       "<IPython.core.display.HTML object>"
      ]
     },
     "metadata": {},
     "output_type": "display_data"
    },
    {
     "data": {
      "text/html": [
       " View project at <a href='https://wandb.ai/scialdonelab/granpy-dev' target=\"_blank\">https://wandb.ai/scialdonelab/granpy-dev</a>"
      ],
      "text/plain": [
       "<IPython.core.display.HTML object>"
      ]
     },
     "metadata": {},
     "output_type": "display_data"
    },
    {
     "data": {
      "text/html": [
       " View sweep at <a href='https://wandb.ai/scialdonelab/granpy-dev/sweeps/c10b9ffu' target=\"_blank\">https://wandb.ai/scialdonelab/granpy-dev/sweeps/c10b9ffu</a>"
      ],
      "text/plain": [
       "<IPython.core.display.HTML object>"
      ]
     },
     "metadata": {},
     "output_type": "display_data"
    },
    {
     "data": {
      "text/html": [
       " View run at <a href='https://wandb.ai/scialdonelab/granpy-dev/runs/ysoc7oby' target=\"_blank\">https://wandb.ai/scialdonelab/granpy-dev/runs/ysoc7oby</a>"
      ],
      "text/plain": [
       "<IPython.core.display.HTML object>"
      ]
     },
     "metadata": {},
     "output_type": "display_data"
    },
    {
     "name": "stderr",
     "output_type": "stream",
     "text": [
      "Best average_precision_score: 0.9312345673877666:   7%|▋         | 36/500 [00:04<00:52,  8.84it/s]\n"
     ]
    },
    {
     "data": {
      "application/vnd.jupyter.widget-view+json": {
       "model_id": "3609891a7cf3440e81faf149c8fc4c33",
       "version_major": 2,
       "version_minor": 0
      },
      "text/plain": [
       "VBox(children=(Label(value='1.527 MB of 1.527 MB uploaded\\r'), FloatProgress(value=1.0, max=1.0)))"
      ]
     },
     "metadata": {},
     "output_type": "display_data"
    },
    {
     "data": {
      "text/html": [
       "<style>\n",
       "    table.wandb td:nth-child(1) { padding: 0 10px; text-align: left ; width: auto;} td:nth-child(2) {text-align: left ; width: 100%}\n",
       "    .wandb-row { display: flex; flex-direction: row; flex-wrap: wrap; justify-content: flex-start; width: 100% }\n",
       "    .wandb-col { display: flex; flex-direction: column; flex-basis: 100%; flex: 1; padding: 10px; }\n",
       "    </style>\n",
       "<div class=\"wandb-row\"><div class=\"wandb-col\"><h3>Run history:</h3><br/><table class=\"wandb\"><tr><td>average_precision_score</td><td>▁</td></tr><tr><td>roc_auc_score</td><td>▁</td></tr><tr><td>train_loss</td><td>████████▇▇▇▇▇▇▇▇▇▆▆▆▆▅▅▅▄▅▄▄▄▃▂▂▂▂▁▁▁</td></tr><tr><td>val_average_precision_score</td><td>████████████████▇███▇▇▇▇▇▆▆▆▇▆▄▃▆▆▃▁▅</td></tr><tr><td>val_loss</td><td>████████▇▇▇▇▇▇▇▇▆▆▆▆▆▆▅▅▅▅▅▄▄▄▃▃▃▂▂▁▁</td></tr></table><br/></div><div class=\"wandb-col\"><h3>Run summary:</h3><br/><table class=\"wandb\"><tr><td>average_precision_score</td><td>0.94895</td></tr><tr><td>roc_auc_score</td><td>0.85797</td></tr><tr><td>train_loss</td><td>1.4346</td></tr><tr><td>val_average_precision_score</td><td>0.91848</td></tr><tr><td>val_loss</td><td>1.43295</td></tr></table><br/></div></div>"
      ],
      "text/plain": [
       "<IPython.core.display.HTML object>"
      ]
     },
     "metadata": {},
     "output_type": "display_data"
    },
    {
     "data": {
      "text/html": [
       " View run <strong style=\"color:#cdcd00\">glowing-sweep-1</strong> at: <a href='https://wandb.ai/scialdonelab/granpy-dev/runs/ysoc7oby' target=\"_blank\">https://wandb.ai/scialdonelab/granpy-dev/runs/ysoc7oby</a><br/>Synced 7 W&B file(s), 0 media file(s), 1 artifact file(s) and 1 other file(s)"
      ],
      "text/plain": [
       "<IPython.core.display.HTML object>"
      ]
     },
     "metadata": {},
     "output_type": "display_data"
    },
    {
     "data": {
      "text/html": [
       "Find logs at: <code>./wandb/run-20240514_150357-ysoc7oby/logs</code>"
      ],
      "text/plain": [
       "<IPython.core.display.HTML object>"
      ]
     },
     "metadata": {},
     "output_type": "display_data"
    },
    {
     "name": "stderr",
     "output_type": "stream",
     "text": [
      "\u001b[34m\u001b[1mwandb\u001b[0m: Agent Starting Run: u3xytjto with config:\n",
      "\u001b[34m\u001b[1mwandb\u001b[0m: \tdropout_ratio: 0.12939242660536046\n",
      "\u001b[34m\u001b[1mwandb\u001b[0m: \tlatent_dim: 64\n",
      "\u001b[34m\u001b[1mwandb\u001b[0m: \tlr: 0.001481391654523816\n",
      "\u001b[34m\u001b[1mwandb\u001b[0m: \tn_conv_layers: 2\n",
      "\u001b[34m\u001b[1mwandb\u001b[0m: \tnegative_sampling: unstructured\n",
      "\u001b[34m\u001b[1mwandb\u001b[0m: \u001b[33mWARNING\u001b[0m Ignored wandb.init() arg project when running a sweep.\n",
      "\u001b[34m\u001b[1mwandb\u001b[0m: \u001b[33mWARNING\u001b[0m Ignored wandb.init() arg entity when running a sweep.\n"
     ]
    },
    {
     "data": {
      "text/html": [
       "wandb version 0.17.0 is available!  To upgrade, please run:\n",
       " $ pip install wandb --upgrade"
      ],
      "text/plain": [
       "<IPython.core.display.HTML object>"
      ]
     },
     "metadata": {},
     "output_type": "display_data"
    },
    {
     "data": {
      "text/html": [
       "Tracking run with wandb version 0.16.3"
      ],
      "text/plain": [
       "<IPython.core.display.HTML object>"
      ]
     },
     "metadata": {},
     "output_type": "display_data"
    },
    {
     "data": {
      "text/html": [
       "Run data is saved locally in <code>/home/ubuntu/granPy/wandb/run-20240514_150416-u3xytjto</code>"
      ],
      "text/plain": [
       "<IPython.core.display.HTML object>"
      ]
     },
     "metadata": {},
     "output_type": "display_data"
    },
    {
     "data": {
      "text/html": [
       "Syncing run <strong><a href='https://wandb.ai/scialdonelab/granpy-dev/runs/u3xytjto' target=\"_blank\">solar-sweep-2</a></strong> to <a href='https://wandb.ai/scialdonelab/granpy-dev' target=\"_blank\">Weights & Biases</a> (<a href='https://wandb.me/run' target=\"_blank\">docs</a>)<br/>Sweep page: <a href='https://wandb.ai/scialdonelab/granpy-dev/sweeps/c10b9ffu' target=\"_blank\">https://wandb.ai/scialdonelab/granpy-dev/sweeps/c10b9ffu</a>"
      ],
      "text/plain": [
       "<IPython.core.display.HTML object>"
      ]
     },
     "metadata": {},
     "output_type": "display_data"
    },
    {
     "data": {
      "text/html": [
       " View project at <a href='https://wandb.ai/scialdonelab/granpy-dev' target=\"_blank\">https://wandb.ai/scialdonelab/granpy-dev</a>"
      ],
      "text/plain": [
       "<IPython.core.display.HTML object>"
      ]
     },
     "metadata": {},
     "output_type": "display_data"
    },
    {
     "data": {
      "text/html": [
       " View sweep at <a href='https://wandb.ai/scialdonelab/granpy-dev/sweeps/c10b9ffu' target=\"_blank\">https://wandb.ai/scialdonelab/granpy-dev/sweeps/c10b9ffu</a>"
      ],
      "text/plain": [
       "<IPython.core.display.HTML object>"
      ]
     },
     "metadata": {},
     "output_type": "display_data"
    },
    {
     "data": {
      "text/html": [
       " View run at <a href='https://wandb.ai/scialdonelab/granpy-dev/runs/u3xytjto' target=\"_blank\">https://wandb.ai/scialdonelab/granpy-dev/runs/u3xytjto</a>"
      ],
      "text/plain": [
       "<IPython.core.display.HTML object>"
      ]
     },
     "metadata": {},
     "output_type": "display_data"
    },
    {
     "name": "stderr",
     "output_type": "stream",
     "text": [
      "Best average_precision_score: 0.93137092975061:   8%|▊         | 38/500 [00:04<00:52,  8.87it/s] \n"
     ]
    },
    {
     "data": {
      "application/vnd.jupyter.widget-view+json": {
       "model_id": "b656a96d39f54d0d85acc71ff9454bef",
       "version_major": 2,
       "version_minor": 0
      },
      "text/plain": [
       "VBox(children=(Label(value='1.527 MB of 1.527 MB uploaded\\r'), FloatProgress(value=1.0, max=1.0)))"
      ]
     },
     "metadata": {},
     "output_type": "display_data"
    },
    {
     "data": {
      "text/html": [
       "<style>\n",
       "    table.wandb td:nth-child(1) { padding: 0 10px; text-align: left ; width: auto;} td:nth-child(2) {text-align: left ; width: 100%}\n",
       "    .wandb-row { display: flex; flex-direction: row; flex-wrap: wrap; justify-content: flex-start; width: 100% }\n",
       "    .wandb-col { display: flex; flex-direction: column; flex-basis: 100%; flex: 1; padding: 10px; }\n",
       "    </style>\n",
       "<div class=\"wandb-row\"><div class=\"wandb-col\"><h3>Run history:</h3><br/><table class=\"wandb\"><tr><td>average_precision_score</td><td>▁</td></tr><tr><td>roc_auc_score</td><td>▁</td></tr><tr><td>train_loss</td><td>█████████▇▇▇▇▇▇▇▆▇▆▆▆▆▅▆▆▅▅▅▄▃▃▃▂▃▃▁▂▁▂</td></tr><tr><td>val_average_precision_score</td><td>██████████████████▇█▇▇▇▆▇▇▇▅▆▇▇▆▄▄▆▆▅▁▃</td></tr><tr><td>val_loss</td><td>████████▇▇▇▇▇▇▇▇▇▆▆▆▆▆▆▆▅▆▅▅▄▄▅▄▃▃▃▃▂▂▁</td></tr></table><br/></div><div class=\"wandb-col\"><h3>Run summary:</h3><br/><table class=\"wandb\"><tr><td>average_precision_score</td><td>0.94883</td></tr><tr><td>roc_auc_score</td><td>0.85795</td></tr><tr><td>train_loss</td><td>1.43346</td></tr><tr><td>val_average_precision_score</td><td>0.904</td></tr><tr><td>val_loss</td><td>1.42963</td></tr></table><br/></div></div>"
      ],
      "text/plain": [
       "<IPython.core.display.HTML object>"
      ]
     },
     "metadata": {},
     "output_type": "display_data"
    },
    {
     "data": {
      "text/html": [
       " View run <strong style=\"color:#cdcd00\">solar-sweep-2</strong> at: <a href='https://wandb.ai/scialdonelab/granpy-dev/runs/u3xytjto' target=\"_blank\">https://wandb.ai/scialdonelab/granpy-dev/runs/u3xytjto</a><br/>Synced 7 W&B file(s), 0 media file(s), 1 artifact file(s) and 1 other file(s)"
      ],
      "text/plain": [
       "<IPython.core.display.HTML object>"
      ]
     },
     "metadata": {},
     "output_type": "display_data"
    },
    {
     "data": {
      "text/html": [
       "Find logs at: <code>./wandb/run-20240514_150416-u3xytjto/logs</code>"
      ],
      "text/plain": [
       "<IPython.core.display.HTML object>"
      ]
     },
     "metadata": {},
     "output_type": "display_data"
    },
    {
     "name": "stderr",
     "output_type": "stream",
     "text": [
      "\u001b[34m\u001b[1mwandb\u001b[0m: Agent Starting Run: 648djh1t with config:\n",
      "\u001b[34m\u001b[1mwandb\u001b[0m: \tdropout_ratio: 0.15103565036501562\n",
      "\u001b[34m\u001b[1mwandb\u001b[0m: \tlatent_dim: 16\n",
      "\u001b[34m\u001b[1mwandb\u001b[0m: \tlr: 0.004695412652692077\n",
      "\u001b[34m\u001b[1mwandb\u001b[0m: \tn_conv_layers: 2\n",
      "\u001b[34m\u001b[1mwandb\u001b[0m: \tnegative_sampling: unstructured\n",
      "\u001b[34m\u001b[1mwandb\u001b[0m: \u001b[33mWARNING\u001b[0m Ignored wandb.init() arg project when running a sweep.\n",
      "\u001b[34m\u001b[1mwandb\u001b[0m: \u001b[33mWARNING\u001b[0m Ignored wandb.init() arg entity when running a sweep.\n"
     ]
    },
    {
     "data": {
      "text/html": [
       "wandb version 0.17.0 is available!  To upgrade, please run:\n",
       " $ pip install wandb --upgrade"
      ],
      "text/plain": [
       "<IPython.core.display.HTML object>"
      ]
     },
     "metadata": {},
     "output_type": "display_data"
    },
    {
     "data": {
      "text/html": [
       "Tracking run with wandb version 0.16.3"
      ],
      "text/plain": [
       "<IPython.core.display.HTML object>"
      ]
     },
     "metadata": {},
     "output_type": "display_data"
    },
    {
     "data": {
      "text/html": [
       "Run data is saved locally in <code>/home/ubuntu/granPy/wandb/run-20240514_150436-648djh1t</code>"
      ],
      "text/plain": [
       "<IPython.core.display.HTML object>"
      ]
     },
     "metadata": {},
     "output_type": "display_data"
    },
    {
     "data": {
      "text/html": [
       "Syncing run <strong><a href='https://wandb.ai/scialdonelab/granpy-dev/runs/648djh1t' target=\"_blank\">elated-sweep-3</a></strong> to <a href='https://wandb.ai/scialdonelab/granpy-dev' target=\"_blank\">Weights & Biases</a> (<a href='https://wandb.me/run' target=\"_blank\">docs</a>)<br/>Sweep page: <a href='https://wandb.ai/scialdonelab/granpy-dev/sweeps/c10b9ffu' target=\"_blank\">https://wandb.ai/scialdonelab/granpy-dev/sweeps/c10b9ffu</a>"
      ],
      "text/plain": [
       "<IPython.core.display.HTML object>"
      ]
     },
     "metadata": {},
     "output_type": "display_data"
    },
    {
     "data": {
      "text/html": [
       " View project at <a href='https://wandb.ai/scialdonelab/granpy-dev' target=\"_blank\">https://wandb.ai/scialdonelab/granpy-dev</a>"
      ],
      "text/plain": [
       "<IPython.core.display.HTML object>"
      ]
     },
     "metadata": {},
     "output_type": "display_data"
    },
    {
     "data": {
      "text/html": [
       " View sweep at <a href='https://wandb.ai/scialdonelab/granpy-dev/sweeps/c10b9ffu' target=\"_blank\">https://wandb.ai/scialdonelab/granpy-dev/sweeps/c10b9ffu</a>"
      ],
      "text/plain": [
       "<IPython.core.display.HTML object>"
      ]
     },
     "metadata": {},
     "output_type": "display_data"
    },
    {
     "data": {
      "text/html": [
       " View run at <a href='https://wandb.ai/scialdonelab/granpy-dev/runs/648djh1t' target=\"_blank\">https://wandb.ai/scialdonelab/granpy-dev/runs/648djh1t</a>"
      ],
      "text/plain": [
       "<IPython.core.display.HTML object>"
      ]
     },
     "metadata": {},
     "output_type": "display_data"
    },
    {
     "name": "stderr",
     "output_type": "stream",
     "text": [
      "Best average_precision_score: 0.9317545480773649:   7%|▋         | 34/500 [00:03<00:53,  8.67it/s]\n"
     ]
    },
    {
     "data": {
      "application/vnd.jupyter.widget-view+json": {
       "model_id": "fdd0fa7b3e3a4fd7aaa1918729f84faa",
       "version_major": 2,
       "version_minor": 0
      },
      "text/plain": [
       "VBox(children=(Label(value='1.527 MB of 1.527 MB uploaded\\r'), FloatProgress(value=1.0, max=1.0)))"
      ]
     },
     "metadata": {},
     "output_type": "display_data"
    },
    {
     "data": {
      "text/html": [
       "<style>\n",
       "    table.wandb td:nth-child(1) { padding: 0 10px; text-align: left ; width: auto;} td:nth-child(2) {text-align: left ; width: 100%}\n",
       "    .wandb-row { display: flex; flex-direction: row; flex-wrap: wrap; justify-content: flex-start; width: 100% }\n",
       "    .wandb-col { display: flex; flex-direction: column; flex-basis: 100%; flex: 1; padding: 10px; }\n",
       "    </style>\n",
       "<div class=\"wandb-row\"><div class=\"wandb-col\"><h3>Run history:</h3><br/><table class=\"wandb\"><tr><td>average_precision_score</td><td>▁</td></tr><tr><td>roc_auc_score</td><td>▁</td></tr><tr><td>train_loss</td><td>███████▇▇▇▇▇▇▇▆▆▆▆▅▅▅▅▅▄▄▄▄▃▃▂▂▂▁▁▁</td></tr><tr><td>val_average_precision_score</td><td>██████████████████▇▇▇▇▇▇▇▇▆▆▆▄▅▆▄▁▃</td></tr><tr><td>val_loss</td><td>███████▇▇▇▇▇▇▇▇▆▆▆▆▆▆▅▅▅▅▄▄▄▃▃▃▃▂▂▁</td></tr></table><br/></div><div class=\"wandb-col\"><h3>Run summary:</h3><br/><table class=\"wandb\"><tr><td>average_precision_score</td><td>0.94935</td></tr><tr><td>roc_auc_score</td><td>0.85915</td></tr><tr><td>train_loss</td><td>1.43575</td></tr><tr><td>val_average_precision_score</td><td>0.91544</td></tr><tr><td>val_loss</td><td>1.43338</td></tr></table><br/></div></div>"
      ],
      "text/plain": [
       "<IPython.core.display.HTML object>"
      ]
     },
     "metadata": {},
     "output_type": "display_data"
    },
    {
     "data": {
      "text/html": [
       " View run <strong style=\"color:#cdcd00\">elated-sweep-3</strong> at: <a href='https://wandb.ai/scialdonelab/granpy-dev/runs/648djh1t' target=\"_blank\">https://wandb.ai/scialdonelab/granpy-dev/runs/648djh1t</a><br/>Synced 7 W&B file(s), 0 media file(s), 1 artifact file(s) and 1 other file(s)"
      ],
      "text/plain": [
       "<IPython.core.display.HTML object>"
      ]
     },
     "metadata": {},
     "output_type": "display_data"
    },
    {
     "data": {
      "text/html": [
       "Find logs at: <code>./wandb/run-20240514_150436-648djh1t/logs</code>"
      ],
      "text/plain": [
       "<IPython.core.display.HTML object>"
      ]
     },
     "metadata": {},
     "output_type": "display_data"
    },
    {
     "name": "stderr",
     "output_type": "stream",
     "text": [
      "\u001b[34m\u001b[1mwandb\u001b[0m: Agent Starting Run: cutmtd6b with config:\n",
      "\u001b[34m\u001b[1mwandb\u001b[0m: \tdropout_ratio: 0.4822032822445983\n",
      "\u001b[34m\u001b[1mwandb\u001b[0m: \tlatent_dim: 128\n",
      "\u001b[34m\u001b[1mwandb\u001b[0m: \tlr: 0.00199234296428934\n",
      "\u001b[34m\u001b[1mwandb\u001b[0m: \tn_conv_layers: 3\n",
      "\u001b[34m\u001b[1mwandb\u001b[0m: \tnegative_sampling: unstructured\n",
      "\u001b[34m\u001b[1mwandb\u001b[0m: \u001b[33mWARNING\u001b[0m Ignored wandb.init() arg project when running a sweep.\n",
      "\u001b[34m\u001b[1mwandb\u001b[0m: \u001b[33mWARNING\u001b[0m Ignored wandb.init() arg entity when running a sweep.\n"
     ]
    },
    {
     "data": {
      "text/html": [
       "wandb version 0.17.0 is available!  To upgrade, please run:\n",
       " $ pip install wandb --upgrade"
      ],
      "text/plain": [
       "<IPython.core.display.HTML object>"
      ]
     },
     "metadata": {},
     "output_type": "display_data"
    },
    {
     "data": {
      "text/html": [
       "Tracking run with wandb version 0.16.3"
      ],
      "text/plain": [
       "<IPython.core.display.HTML object>"
      ]
     },
     "metadata": {},
     "output_type": "display_data"
    },
    {
     "data": {
      "text/html": [
       "Run data is saved locally in <code>/home/ubuntu/granPy/wandb/run-20240514_150457-cutmtd6b</code>"
      ],
      "text/plain": [
       "<IPython.core.display.HTML object>"
      ]
     },
     "metadata": {},
     "output_type": "display_data"
    },
    {
     "data": {
      "text/html": [
       "Syncing run <strong><a href='https://wandb.ai/scialdonelab/granpy-dev/runs/cutmtd6b' target=\"_blank\">fallen-sweep-4</a></strong> to <a href='https://wandb.ai/scialdonelab/granpy-dev' target=\"_blank\">Weights & Biases</a> (<a href='https://wandb.me/run' target=\"_blank\">docs</a>)<br/>Sweep page: <a href='https://wandb.ai/scialdonelab/granpy-dev/sweeps/c10b9ffu' target=\"_blank\">https://wandb.ai/scialdonelab/granpy-dev/sweeps/c10b9ffu</a>"
      ],
      "text/plain": [
       "<IPython.core.display.HTML object>"
      ]
     },
     "metadata": {},
     "output_type": "display_data"
    },
    {
     "data": {
      "text/html": [
       " View project at <a href='https://wandb.ai/scialdonelab/granpy-dev' target=\"_blank\">https://wandb.ai/scialdonelab/granpy-dev</a>"
      ],
      "text/plain": [
       "<IPython.core.display.HTML object>"
      ]
     },
     "metadata": {},
     "output_type": "display_data"
    },
    {
     "data": {
      "text/html": [
       " View sweep at <a href='https://wandb.ai/scialdonelab/granpy-dev/sweeps/c10b9ffu' target=\"_blank\">https://wandb.ai/scialdonelab/granpy-dev/sweeps/c10b9ffu</a>"
      ],
      "text/plain": [
       "<IPython.core.display.HTML object>"
      ]
     },
     "metadata": {},
     "output_type": "display_data"
    },
    {
     "data": {
      "text/html": [
       " View run at <a href='https://wandb.ai/scialdonelab/granpy-dev/runs/cutmtd6b' target=\"_blank\">https://wandb.ai/scialdonelab/granpy-dev/runs/cutmtd6b</a>"
      ],
      "text/plain": [
       "<IPython.core.display.HTML object>"
      ]
     },
     "metadata": {},
     "output_type": "display_data"
    },
    {
     "name": "stderr",
     "output_type": "stream",
     "text": [
      "Best average_precision_score: 0.9314055455176204:   6%|▋         | 32/500 [00:03<00:53,  8.82it/s]\n"
     ]
    },
    {
     "data": {
      "application/vnd.jupyter.widget-view+json": {
       "model_id": "b1566589bb30419084e13e2199c87da4",
       "version_major": 2,
       "version_minor": 0
      },
      "text/plain": [
       "VBox(children=(Label(value='1.527 MB of 1.527 MB uploaded\\r'), FloatProgress(value=1.0, max=1.0)))"
      ]
     },
     "metadata": {},
     "output_type": "display_data"
    },
    {
     "data": {
      "text/html": [
       "<style>\n",
       "    table.wandb td:nth-child(1) { padding: 0 10px; text-align: left ; width: auto;} td:nth-child(2) {text-align: left ; width: 100%}\n",
       "    .wandb-row { display: flex; flex-direction: row; flex-wrap: wrap; justify-content: flex-start; width: 100% }\n",
       "    .wandb-col { display: flex; flex-direction: column; flex-basis: 100%; flex: 1; padding: 10px; }\n",
       "    </style>\n",
       "<div class=\"wandb-row\"><div class=\"wandb-col\"><h3>Run history:</h3><br/><table class=\"wandb\"><tr><td>average_precision_score</td><td>▁</td></tr><tr><td>roc_auc_score</td><td>▁</td></tr><tr><td>train_loss</td><td>███████▇▇▇▇▇▇▇▆▆▆▆▆▆▅▅▅▄▄▄▄▃▃▁▄▁▁</td></tr><tr><td>val_average_precision_score</td><td>████████████████▇▇▇█▇▇▇▇▇▇▆▅▆▇▅▁▂</td></tr><tr><td>val_loss</td><td>██████▇▇▇▇▇▇▇▆▆▆▆▆▆▅▅▅▅▄▄▄▃▃▂▃▂▂▁</td></tr></table><br/></div><div class=\"wandb-col\"><h3>Run summary:</h3><br/><table class=\"wandb\"><tr><td>average_precision_score</td><td>0.94924</td></tr><tr><td>roc_auc_score</td><td>0.85901</td></tr><tr><td>train_loss</td><td>1.43542</td></tr><tr><td>val_average_precision_score</td><td>0.90441</td></tr><tr><td>val_loss</td><td>1.43555</td></tr></table><br/></div></div>"
      ],
      "text/plain": [
       "<IPython.core.display.HTML object>"
      ]
     },
     "metadata": {},
     "output_type": "display_data"
    },
    {
     "data": {
      "text/html": [
       " View run <strong style=\"color:#cdcd00\">fallen-sweep-4</strong> at: <a href='https://wandb.ai/scialdonelab/granpy-dev/runs/cutmtd6b' target=\"_blank\">https://wandb.ai/scialdonelab/granpy-dev/runs/cutmtd6b</a><br/>Synced 7 W&B file(s), 0 media file(s), 1 artifact file(s) and 1 other file(s)"
      ],
      "text/plain": [
       "<IPython.core.display.HTML object>"
      ]
     },
     "metadata": {},
     "output_type": "display_data"
    },
    {
     "data": {
      "text/html": [
       "Find logs at: <code>./wandb/run-20240514_150457-cutmtd6b/logs</code>"
      ],
      "text/plain": [
       "<IPython.core.display.HTML object>"
      ]
     },
     "metadata": {},
     "output_type": "display_data"
    },
    {
     "name": "stderr",
     "output_type": "stream",
     "text": [
      "\u001b[34m\u001b[1mwandb\u001b[0m: Agent Starting Run: p62za8fa with config:\n",
      "\u001b[34m\u001b[1mwandb\u001b[0m: \tdropout_ratio: 0.5997820223349646\n",
      "\u001b[34m\u001b[1mwandb\u001b[0m: \tlatent_dim: 32\n",
      "\u001b[34m\u001b[1mwandb\u001b[0m: \tlr: 0.005277327882614669\n",
      "\u001b[34m\u001b[1mwandb\u001b[0m: \tn_conv_layers: 1\n",
      "\u001b[34m\u001b[1mwandb\u001b[0m: \tnegative_sampling: unstructured\n",
      "\u001b[34m\u001b[1mwandb\u001b[0m: \u001b[33mWARNING\u001b[0m Ignored wandb.init() arg project when running a sweep.\n",
      "\u001b[34m\u001b[1mwandb\u001b[0m: \u001b[33mWARNING\u001b[0m Ignored wandb.init() arg entity when running a sweep.\n"
     ]
    },
    {
     "data": {
      "text/html": [
       "wandb version 0.17.0 is available!  To upgrade, please run:\n",
       " $ pip install wandb --upgrade"
      ],
      "text/plain": [
       "<IPython.core.display.HTML object>"
      ]
     },
     "metadata": {},
     "output_type": "display_data"
    },
    {
     "data": {
      "text/html": [
       "Tracking run with wandb version 0.16.3"
      ],
      "text/plain": [
       "<IPython.core.display.HTML object>"
      ]
     },
     "metadata": {},
     "output_type": "display_data"
    },
    {
     "data": {
      "text/html": [
       "Run data is saved locally in <code>/home/ubuntu/granPy/wandb/run-20240514_150518-p62za8fa</code>"
      ],
      "text/plain": [
       "<IPython.core.display.HTML object>"
      ]
     },
     "metadata": {},
     "output_type": "display_data"
    },
    {
     "data": {
      "text/html": [
       "Syncing run <strong><a href='https://wandb.ai/scialdonelab/granpy-dev/runs/p62za8fa' target=\"_blank\">dark-sweep-5</a></strong> to <a href='https://wandb.ai/scialdonelab/granpy-dev' target=\"_blank\">Weights & Biases</a> (<a href='https://wandb.me/run' target=\"_blank\">docs</a>)<br/>Sweep page: <a href='https://wandb.ai/scialdonelab/granpy-dev/sweeps/c10b9ffu' target=\"_blank\">https://wandb.ai/scialdonelab/granpy-dev/sweeps/c10b9ffu</a>"
      ],
      "text/plain": [
       "<IPython.core.display.HTML object>"
      ]
     },
     "metadata": {},
     "output_type": "display_data"
    },
    {
     "data": {
      "text/html": [
       " View project at <a href='https://wandb.ai/scialdonelab/granpy-dev' target=\"_blank\">https://wandb.ai/scialdonelab/granpy-dev</a>"
      ],
      "text/plain": [
       "<IPython.core.display.HTML object>"
      ]
     },
     "metadata": {},
     "output_type": "display_data"
    },
    {
     "data": {
      "text/html": [
       " View sweep at <a href='https://wandb.ai/scialdonelab/granpy-dev/sweeps/c10b9ffu' target=\"_blank\">https://wandb.ai/scialdonelab/granpy-dev/sweeps/c10b9ffu</a>"
      ],
      "text/plain": [
       "<IPython.core.display.HTML object>"
      ]
     },
     "metadata": {},
     "output_type": "display_data"
    },
    {
     "data": {
      "text/html": [
       " View run at <a href='https://wandb.ai/scialdonelab/granpy-dev/runs/p62za8fa' target=\"_blank\">https://wandb.ai/scialdonelab/granpy-dev/runs/p62za8fa</a>"
      ],
      "text/plain": [
       "<IPython.core.display.HTML object>"
      ]
     },
     "metadata": {},
     "output_type": "display_data"
    },
    {
     "name": "stderr",
     "output_type": "stream",
     "text": [
      "Best average_precision_score: 0.9313283214948667:   6%|▋         | 32/500 [00:03<00:53,  8.70it/s]\n"
     ]
    },
    {
     "data": {
      "application/vnd.jupyter.widget-view+json": {
       "model_id": "8b4c610a9b594001af2e5e4ce4c58f09",
       "version_major": 2,
       "version_minor": 0
      },
      "text/plain": [
       "VBox(children=(Label(value='1.527 MB of 1.527 MB uploaded\\r'), FloatProgress(value=1.0, max=1.0)))"
      ]
     },
     "metadata": {},
     "output_type": "display_data"
    },
    {
     "data": {
      "text/html": [
       "<style>\n",
       "    table.wandb td:nth-child(1) { padding: 0 10px; text-align: left ; width: auto;} td:nth-child(2) {text-align: left ; width: 100%}\n",
       "    .wandb-row { display: flex; flex-direction: row; flex-wrap: wrap; justify-content: flex-start; width: 100% }\n",
       "    .wandb-col { display: flex; flex-direction: column; flex-basis: 100%; flex: 1; padding: 10px; }\n",
       "    </style>\n",
       "<div class=\"wandb-row\"><div class=\"wandb-col\"><h3>Run history:</h3><br/><table class=\"wandb\"><tr><td>average_precision_score</td><td>▁</td></tr><tr><td>roc_auc_score</td><td>▁</td></tr><tr><td>train_loss</td><td>████████▇▇▇▇▇▆▆▆▆▆▅▆▅▅▄▅▄▄▃▅▃▃▃▁▃</td></tr><tr><td>val_average_precision_score</td><td>███████████████▇▇▇▇▇▇▇▇▆▅▆▇▅▁▃▆▆▅</td></tr><tr><td>val_loss</td><td>██████▇▇▇▇▇▇▇▇▆▆▆▆▆▅▅▅▅▄▄▄▄▃▃▃▂▂▁</td></tr></table><br/></div><div class=\"wandb-col\"><h3>Run summary:</h3><br/><table class=\"wandb\"><tr><td>average_precision_score</td><td>0.94912</td></tr><tr><td>roc_auc_score</td><td>0.85918</td></tr><tr><td>train_loss</td><td>1.43821</td></tr><tr><td>val_average_precision_score</td><td>0.91733</td></tr><tr><td>val_loss</td><td>1.43499</td></tr></table><br/></div></div>"
      ],
      "text/plain": [
       "<IPython.core.display.HTML object>"
      ]
     },
     "metadata": {},
     "output_type": "display_data"
    },
    {
     "data": {
      "text/html": [
       " View run <strong style=\"color:#cdcd00\">dark-sweep-5</strong> at: <a href='https://wandb.ai/scialdonelab/granpy-dev/runs/p62za8fa' target=\"_blank\">https://wandb.ai/scialdonelab/granpy-dev/runs/p62za8fa</a><br/>Synced 7 W&B file(s), 0 media file(s), 1 artifact file(s) and 1 other file(s)"
      ],
      "text/plain": [
       "<IPython.core.display.HTML object>"
      ]
     },
     "metadata": {},
     "output_type": "display_data"
    },
    {
     "data": {
      "text/html": [
       "Find logs at: <code>./wandb/run-20240514_150518-p62za8fa/logs</code>"
      ],
      "text/plain": [
       "<IPython.core.display.HTML object>"
      ]
     },
     "metadata": {},
     "output_type": "display_data"
    },
    {
     "name": "stderr",
     "output_type": "stream",
     "text": [
      "\u001b[34m\u001b[1mwandb\u001b[0m: Agent Starting Run: vl6jlypv with config:\n",
      "\u001b[34m\u001b[1mwandb\u001b[0m: \tdropout_ratio: 0.4004050153376952\n",
      "\u001b[34m\u001b[1mwandb\u001b[0m: \tlatent_dim: 32\n",
      "\u001b[34m\u001b[1mwandb\u001b[0m: \tlr: 0.0003846697288186738\n",
      "\u001b[34m\u001b[1mwandb\u001b[0m: \tn_conv_layers: 2\n",
      "\u001b[34m\u001b[1mwandb\u001b[0m: \tnegative_sampling: unstructured\n",
      "\u001b[34m\u001b[1mwandb\u001b[0m: \u001b[33mWARNING\u001b[0m Ignored wandb.init() arg project when running a sweep.\n",
      "\u001b[34m\u001b[1mwandb\u001b[0m: \u001b[33mWARNING\u001b[0m Ignored wandb.init() arg entity when running a sweep.\n"
     ]
    },
    {
     "data": {
      "text/html": [
       "wandb version 0.17.0 is available!  To upgrade, please run:\n",
       " $ pip install wandb --upgrade"
      ],
      "text/plain": [
       "<IPython.core.display.HTML object>"
      ]
     },
     "metadata": {},
     "output_type": "display_data"
    },
    {
     "data": {
      "text/html": [
       "Tracking run with wandb version 0.16.3"
      ],
      "text/plain": [
       "<IPython.core.display.HTML object>"
      ]
     },
     "metadata": {},
     "output_type": "display_data"
    },
    {
     "data": {
      "text/html": [
       "Run data is saved locally in <code>/home/ubuntu/granPy/wandb/run-20240514_150539-vl6jlypv</code>"
      ],
      "text/plain": [
       "<IPython.core.display.HTML object>"
      ]
     },
     "metadata": {},
     "output_type": "display_data"
    },
    {
     "data": {
      "text/html": [
       "Syncing run <strong><a href='https://wandb.ai/scialdonelab/granpy-dev/runs/vl6jlypv' target=\"_blank\">logical-sweep-6</a></strong> to <a href='https://wandb.ai/scialdonelab/granpy-dev' target=\"_blank\">Weights & Biases</a> (<a href='https://wandb.me/run' target=\"_blank\">docs</a>)<br/>Sweep page: <a href='https://wandb.ai/scialdonelab/granpy-dev/sweeps/c10b9ffu' target=\"_blank\">https://wandb.ai/scialdonelab/granpy-dev/sweeps/c10b9ffu</a>"
      ],
      "text/plain": [
       "<IPython.core.display.HTML object>"
      ]
     },
     "metadata": {},
     "output_type": "display_data"
    },
    {
     "data": {
      "text/html": [
       " View project at <a href='https://wandb.ai/scialdonelab/granpy-dev' target=\"_blank\">https://wandb.ai/scialdonelab/granpy-dev</a>"
      ],
      "text/plain": [
       "<IPython.core.display.HTML object>"
      ]
     },
     "metadata": {},
     "output_type": "display_data"
    },
    {
     "data": {
      "text/html": [
       " View sweep at <a href='https://wandb.ai/scialdonelab/granpy-dev/sweeps/c10b9ffu' target=\"_blank\">https://wandb.ai/scialdonelab/granpy-dev/sweeps/c10b9ffu</a>"
      ],
      "text/plain": [
       "<IPython.core.display.HTML object>"
      ]
     },
     "metadata": {},
     "output_type": "display_data"
    },
    {
     "data": {
      "text/html": [
       " View run at <a href='https://wandb.ai/scialdonelab/granpy-dev/runs/vl6jlypv' target=\"_blank\">https://wandb.ai/scialdonelab/granpy-dev/runs/vl6jlypv</a>"
      ],
      "text/plain": [
       "<IPython.core.display.HTML object>"
      ]
     },
     "metadata": {},
     "output_type": "display_data"
    },
    {
     "name": "stderr",
     "output_type": "stream",
     "text": [
      "Best average_precision_score: 0.9317961103395297:   6%|▌         | 31/500 [00:03<00:53,  8.74it/s]\n"
     ]
    },
    {
     "data": {
      "application/vnd.jupyter.widget-view+json": {
       "model_id": "05efc5cf1bdf481dad7e30da2c066a37",
       "version_major": 2,
       "version_minor": 0
      },
      "text/plain": [
       "VBox(children=(Label(value='1.527 MB of 1.527 MB uploaded\\r'), FloatProgress(value=1.0, max=1.0)))"
      ]
     },
     "metadata": {},
     "output_type": "display_data"
    },
    {
     "data": {
      "text/html": [
       "<style>\n",
       "    table.wandb td:nth-child(1) { padding: 0 10px; text-align: left ; width: auto;} td:nth-child(2) {text-align: left ; width: 100%}\n",
       "    .wandb-row { display: flex; flex-direction: row; flex-wrap: wrap; justify-content: flex-start; width: 100% }\n",
       "    .wandb-col { display: flex; flex-direction: column; flex-basis: 100%; flex: 1; padding: 10px; }\n",
       "    </style>\n",
       "<div class=\"wandb-row\"><div class=\"wandb-col\"><h3>Run history:</h3><br/><table class=\"wandb\"><tr><td>average_precision_score</td><td>▁</td></tr><tr><td>roc_auc_score</td><td>▁</td></tr><tr><td>train_loss</td><td>██████▇▇▇█▇▇▇▆▆▆▆▆▅▅▅▄▄▄▄▄▃▂▂▂▁▁</td></tr><tr><td>val_average_precision_score</td><td>██████████▇▇▇▇█▇▇▇▆▇▇▇▆▅▂▄▅▅▄▃▁▃</td></tr><tr><td>val_loss</td><td>██████▇▇▇▇▇▇▇▆▆▆▆▆▅▅▅▅▄▄▄▃▃▃▂▂▁▁</td></tr></table><br/></div><div class=\"wandb-col\"><h3>Run summary:</h3><br/><table class=\"wandb\"><tr><td>average_precision_score</td><td>0.94935</td></tr><tr><td>roc_auc_score</td><td>0.85916</td></tr><tr><td>train_loss</td><td>1.43876</td></tr><tr><td>val_average_precision_score</td><td>0.92377</td></tr><tr><td>val_loss</td><td>1.43755</td></tr></table><br/></div></div>"
      ],
      "text/plain": [
       "<IPython.core.display.HTML object>"
      ]
     },
     "metadata": {},
     "output_type": "display_data"
    },
    {
     "data": {
      "text/html": [
       " View run <strong style=\"color:#cdcd00\">logical-sweep-6</strong> at: <a href='https://wandb.ai/scialdonelab/granpy-dev/runs/vl6jlypv' target=\"_blank\">https://wandb.ai/scialdonelab/granpy-dev/runs/vl6jlypv</a><br/>Synced 7 W&B file(s), 0 media file(s), 1 artifact file(s) and 1 other file(s)"
      ],
      "text/plain": [
       "<IPython.core.display.HTML object>"
      ]
     },
     "metadata": {},
     "output_type": "display_data"
    },
    {
     "data": {
      "text/html": [
       "Find logs at: <code>./wandb/run-20240514_150539-vl6jlypv/logs</code>"
      ],
      "text/plain": [
       "<IPython.core.display.HTML object>"
      ]
     },
     "metadata": {},
     "output_type": "display_data"
    },
    {
     "name": "stderr",
     "output_type": "stream",
     "text": [
      "\u001b[34m\u001b[1mwandb\u001b[0m: Agent Starting Run: jgudaqn3 with config:\n",
      "\u001b[34m\u001b[1mwandb\u001b[0m: \tdropout_ratio: 0.2279053632390919\n",
      "\u001b[34m\u001b[1mwandb\u001b[0m: \tlatent_dim: 128\n",
      "\u001b[34m\u001b[1mwandb\u001b[0m: \tlr: 0.008421789399053015\n",
      "\u001b[34m\u001b[1mwandb\u001b[0m: \tn_conv_layers: 1\n",
      "\u001b[34m\u001b[1mwandb\u001b[0m: \tnegative_sampling: unstructured\n",
      "\u001b[34m\u001b[1mwandb\u001b[0m: \u001b[33mWARNING\u001b[0m Ignored wandb.init() arg project when running a sweep.\n",
      "\u001b[34m\u001b[1mwandb\u001b[0m: \u001b[33mWARNING\u001b[0m Ignored wandb.init() arg entity when running a sweep.\n"
     ]
    },
    {
     "data": {
      "text/html": [
       "wandb version 0.17.0 is available!  To upgrade, please run:\n",
       " $ pip install wandb --upgrade"
      ],
      "text/plain": [
       "<IPython.core.display.HTML object>"
      ]
     },
     "metadata": {},
     "output_type": "display_data"
    },
    {
     "data": {
      "text/html": [
       "Tracking run with wandb version 0.16.3"
      ],
      "text/plain": [
       "<IPython.core.display.HTML object>"
      ]
     },
     "metadata": {},
     "output_type": "display_data"
    },
    {
     "data": {
      "text/html": [
       "Run data is saved locally in <code>/home/ubuntu/granPy/wandb/run-20240514_150600-jgudaqn3</code>"
      ],
      "text/plain": [
       "<IPython.core.display.HTML object>"
      ]
     },
     "metadata": {},
     "output_type": "display_data"
    },
    {
     "data": {
      "text/html": [
       "Syncing run <strong><a href='https://wandb.ai/scialdonelab/granpy-dev/runs/jgudaqn3' target=\"_blank\">winter-sweep-7</a></strong> to <a href='https://wandb.ai/scialdonelab/granpy-dev' target=\"_blank\">Weights & Biases</a> (<a href='https://wandb.me/run' target=\"_blank\">docs</a>)<br/>Sweep page: <a href='https://wandb.ai/scialdonelab/granpy-dev/sweeps/c10b9ffu' target=\"_blank\">https://wandb.ai/scialdonelab/granpy-dev/sweeps/c10b9ffu</a>"
      ],
      "text/plain": [
       "<IPython.core.display.HTML object>"
      ]
     },
     "metadata": {},
     "output_type": "display_data"
    },
    {
     "data": {
      "text/html": [
       " View project at <a href='https://wandb.ai/scialdonelab/granpy-dev' target=\"_blank\">https://wandb.ai/scialdonelab/granpy-dev</a>"
      ],
      "text/plain": [
       "<IPython.core.display.HTML object>"
      ]
     },
     "metadata": {},
     "output_type": "display_data"
    },
    {
     "data": {
      "text/html": [
       " View sweep at <a href='https://wandb.ai/scialdonelab/granpy-dev/sweeps/c10b9ffu' target=\"_blank\">https://wandb.ai/scialdonelab/granpy-dev/sweeps/c10b9ffu</a>"
      ],
      "text/plain": [
       "<IPython.core.display.HTML object>"
      ]
     },
     "metadata": {},
     "output_type": "display_data"
    },
    {
     "data": {
      "text/html": [
       " View run at <a href='https://wandb.ai/scialdonelab/granpy-dev/runs/jgudaqn3' target=\"_blank\">https://wandb.ai/scialdonelab/granpy-dev/runs/jgudaqn3</a>"
      ],
      "text/plain": [
       "<IPython.core.display.HTML object>"
      ]
     },
     "metadata": {},
     "output_type": "display_data"
    },
    {
     "name": "stderr",
     "output_type": "stream",
     "text": [
      "Best average_precision_score: 0.9315440428748749:   7%|▋         | 33/500 [00:03<00:53,  8.76it/s]\n"
     ]
    },
    {
     "data": {
      "application/vnd.jupyter.widget-view+json": {
       "model_id": "cbda0b54a2124d099ccbf0bb05960400",
       "version_major": 2,
       "version_minor": 0
      },
      "text/plain": [
       "VBox(children=(Label(value='0.006 MB of 1.527 MB uploaded\\r'), FloatProgress(value=0.004250613207311529, max=1…"
      ]
     },
     "metadata": {},
     "output_type": "display_data"
    },
    {
     "data": {
      "text/html": [
       "<style>\n",
       "    table.wandb td:nth-child(1) { padding: 0 10px; text-align: left ; width: auto;} td:nth-child(2) {text-align: left ; width: 100%}\n",
       "    .wandb-row { display: flex; flex-direction: row; flex-wrap: wrap; justify-content: flex-start; width: 100% }\n",
       "    .wandb-col { display: flex; flex-direction: column; flex-basis: 100%; flex: 1; padding: 10px; }\n",
       "    </style>\n",
       "<div class=\"wandb-row\"><div class=\"wandb-col\"><h3>Run history:</h3><br/><table class=\"wandb\"><tr><td>average_precision_score</td><td>▁</td></tr><tr><td>roc_auc_score</td><td>▁</td></tr><tr><td>train_loss</td><td>████████▇▇▇▇▇▇▆▆▆▆▆▆▆▅▄▅▄▄▄▂▃▃▃▂▂▁</td></tr><tr><td>val_average_precision_score</td><td>███████████████▇▇█▇▆▆▇▇▇▆▅▆▇▇▄▁▃▆▅</td></tr><tr><td>val_loss</td><td>███████▇▇▇▇▇▇▇▆▆▆▆▆▆▅▅▅▅▄▄▄▄▄▃▃▂▁▁</td></tr></table><br/></div><div class=\"wandb-col\"><h3>Run summary:</h3><br/><table class=\"wandb\"><tr><td>average_precision_score</td><td>0.94919</td></tr><tr><td>roc_auc_score</td><td>0.8593</td></tr><tr><td>train_loss</td><td>1.43702</td></tr><tr><td>val_average_precision_score</td><td>0.9207</td></tr><tr><td>val_loss</td><td>1.43622</td></tr></table><br/></div></div>"
      ],
      "text/plain": [
       "<IPython.core.display.HTML object>"
      ]
     },
     "metadata": {},
     "output_type": "display_data"
    },
    {
     "data": {
      "text/html": [
       " View run <strong style=\"color:#cdcd00\">winter-sweep-7</strong> at: <a href='https://wandb.ai/scialdonelab/granpy-dev/runs/jgudaqn3' target=\"_blank\">https://wandb.ai/scialdonelab/granpy-dev/runs/jgudaqn3</a><br/>Synced 7 W&B file(s), 0 media file(s), 1 artifact file(s) and 1 other file(s)"
      ],
      "text/plain": [
       "<IPython.core.display.HTML object>"
      ]
     },
     "metadata": {},
     "output_type": "display_data"
    },
    {
     "data": {
      "text/html": [
       "Find logs at: <code>./wandb/run-20240514_150600-jgudaqn3/logs</code>"
      ],
      "text/plain": [
       "<IPython.core.display.HTML object>"
      ]
     },
     "metadata": {},
     "output_type": "display_data"
    },
    {
     "name": "stderr",
     "output_type": "stream",
     "text": [
      "\u001b[34m\u001b[1mwandb\u001b[0m: Agent Starting Run: 1z4mhqnf with config:\n",
      "\u001b[34m\u001b[1mwandb\u001b[0m: \tdropout_ratio: 0.1032630058502292\n",
      "\u001b[34m\u001b[1mwandb\u001b[0m: \tlatent_dim: 16\n",
      "\u001b[34m\u001b[1mwandb\u001b[0m: \tlr: 0.00014682773611702637\n",
      "\u001b[34m\u001b[1mwandb\u001b[0m: \tn_conv_layers: 1\n",
      "\u001b[34m\u001b[1mwandb\u001b[0m: \tnegative_sampling: unstructured\n",
      "\u001b[34m\u001b[1mwandb\u001b[0m: \u001b[33mWARNING\u001b[0m Ignored wandb.init() arg project when running a sweep.\n",
      "\u001b[34m\u001b[1mwandb\u001b[0m: \u001b[33mWARNING\u001b[0m Ignored wandb.init() arg entity when running a sweep.\n"
     ]
    },
    {
     "data": {
      "text/html": [
       "wandb version 0.17.0 is available!  To upgrade, please run:\n",
       " $ pip install wandb --upgrade"
      ],
      "text/plain": [
       "<IPython.core.display.HTML object>"
      ]
     },
     "metadata": {},
     "output_type": "display_data"
    },
    {
     "data": {
      "text/html": [
       "Tracking run with wandb version 0.16.3"
      ],
      "text/plain": [
       "<IPython.core.display.HTML object>"
      ]
     },
     "metadata": {},
     "output_type": "display_data"
    },
    {
     "data": {
      "text/html": [
       "Run data is saved locally in <code>/home/ubuntu/granPy/wandb/run-20240514_150622-1z4mhqnf</code>"
      ],
      "text/plain": [
       "<IPython.core.display.HTML object>"
      ]
     },
     "metadata": {},
     "output_type": "display_data"
    },
    {
     "data": {
      "text/html": [
       "Syncing run <strong><a href='https://wandb.ai/scialdonelab/granpy-dev/runs/1z4mhqnf' target=\"_blank\">sandy-sweep-8</a></strong> to <a href='https://wandb.ai/scialdonelab/granpy-dev' target=\"_blank\">Weights & Biases</a> (<a href='https://wandb.me/run' target=\"_blank\">docs</a>)<br/>Sweep page: <a href='https://wandb.ai/scialdonelab/granpy-dev/sweeps/c10b9ffu' target=\"_blank\">https://wandb.ai/scialdonelab/granpy-dev/sweeps/c10b9ffu</a>"
      ],
      "text/plain": [
       "<IPython.core.display.HTML object>"
      ]
     },
     "metadata": {},
     "output_type": "display_data"
    },
    {
     "data": {
      "text/html": [
       " View project at <a href='https://wandb.ai/scialdonelab/granpy-dev' target=\"_blank\">https://wandb.ai/scialdonelab/granpy-dev</a>"
      ],
      "text/plain": [
       "<IPython.core.display.HTML object>"
      ]
     },
     "metadata": {},
     "output_type": "display_data"
    },
    {
     "data": {
      "text/html": [
       " View sweep at <a href='https://wandb.ai/scialdonelab/granpy-dev/sweeps/c10b9ffu' target=\"_blank\">https://wandb.ai/scialdonelab/granpy-dev/sweeps/c10b9ffu</a>"
      ],
      "text/plain": [
       "<IPython.core.display.HTML object>"
      ]
     },
     "metadata": {},
     "output_type": "display_data"
    },
    {
     "data": {
      "text/html": [
       " View run at <a href='https://wandb.ai/scialdonelab/granpy-dev/runs/1z4mhqnf' target=\"_blank\">https://wandb.ai/scialdonelab/granpy-dev/runs/1z4mhqnf</a>"
      ],
      "text/plain": [
       "<IPython.core.display.HTML object>"
      ]
     },
     "metadata": {},
     "output_type": "display_data"
    },
    {
     "name": "stderr",
     "output_type": "stream",
     "text": [
      "Best average_precision_score: 0.9315642025159361:   7%|▋         | 36/500 [00:04<00:52,  8.77it/s]\n"
     ]
    },
    {
     "data": {
      "application/vnd.jupyter.widget-view+json": {
       "model_id": "d29316903a8c46429af34af68d09b9fd",
       "version_major": 2,
       "version_minor": 0
      },
      "text/plain": [
       "VBox(children=(Label(value='1.527 MB of 1.527 MB uploaded\\r'), FloatProgress(value=1.0, max=1.0)))"
      ]
     },
     "metadata": {},
     "output_type": "display_data"
    },
    {
     "data": {
      "text/html": [
       "<style>\n",
       "    table.wandb td:nth-child(1) { padding: 0 10px; text-align: left ; width: auto;} td:nth-child(2) {text-align: left ; width: 100%}\n",
       "    .wandb-row { display: flex; flex-direction: row; flex-wrap: wrap; justify-content: flex-start; width: 100% }\n",
       "    .wandb-col { display: flex; flex-direction: column; flex-basis: 100%; flex: 1; padding: 10px; }\n",
       "    </style>\n",
       "<div class=\"wandb-row\"><div class=\"wandb-col\"><h3>Run history:</h3><br/><table class=\"wandb\"><tr><td>average_precision_score</td><td>▁</td></tr><tr><td>roc_auc_score</td><td>▁</td></tr><tr><td>train_loss</td><td>████████▇█▇▇▇▇▇▇▇▇▆▆▆▆▆▆▅▅▅▅▅▄▄▄▃▃▂▁▁</td></tr><tr><td>val_average_precision_score</td><td>█████████████████████▇▇▇▇▇▇▇▇▇▇▄▄▆▇▆▁</td></tr><tr><td>val_loss</td><td>████████▇▇▇▇▇▇▇▇▇▆▆▆▆▆▆▅▅▅▄▄▄▃▃▃▃▂▃▁▁</td></tr></table><br/></div><div class=\"wandb-col\"><h3>Run summary:</h3><br/><table class=\"wandb\"><tr><td>average_precision_score</td><td>0.94923</td></tr><tr><td>roc_auc_score</td><td>0.85881</td></tr><tr><td>train_loss</td><td>1.43237</td></tr><tr><td>val_average_precision_score</td><td>0.89038</td></tr><tr><td>val_loss</td><td>1.4334</td></tr></table><br/></div></div>"
      ],
      "text/plain": [
       "<IPython.core.display.HTML object>"
      ]
     },
     "metadata": {},
     "output_type": "display_data"
    },
    {
     "data": {
      "text/html": [
       " View run <strong style=\"color:#cdcd00\">sandy-sweep-8</strong> at: <a href='https://wandb.ai/scialdonelab/granpy-dev/runs/1z4mhqnf' target=\"_blank\">https://wandb.ai/scialdonelab/granpy-dev/runs/1z4mhqnf</a><br/>Synced 7 W&B file(s), 0 media file(s), 1 artifact file(s) and 1 other file(s)"
      ],
      "text/plain": [
       "<IPython.core.display.HTML object>"
      ]
     },
     "metadata": {},
     "output_type": "display_data"
    },
    {
     "data": {
      "text/html": [
       "Find logs at: <code>./wandb/run-20240514_150622-1z4mhqnf/logs</code>"
      ],
      "text/plain": [
       "<IPython.core.display.HTML object>"
      ]
     },
     "metadata": {},
     "output_type": "display_data"
    },
    {
     "name": "stderr",
     "output_type": "stream",
     "text": [
      "\u001b[34m\u001b[1mwandb\u001b[0m: Agent Starting Run: g0sdjesb with config:\n",
      "\u001b[34m\u001b[1mwandb\u001b[0m: \tdropout_ratio: 0.5157469629495934\n",
      "\u001b[34m\u001b[1mwandb\u001b[0m: \tlatent_dim: 64\n",
      "\u001b[34m\u001b[1mwandb\u001b[0m: \tlr: 0.002233656565264322\n",
      "\u001b[34m\u001b[1mwandb\u001b[0m: \tn_conv_layers: 1\n",
      "\u001b[34m\u001b[1mwandb\u001b[0m: \tnegative_sampling: unstructured\n",
      "\u001b[34m\u001b[1mwandb\u001b[0m: \u001b[33mWARNING\u001b[0m Ignored wandb.init() arg project when running a sweep.\n",
      "\u001b[34m\u001b[1mwandb\u001b[0m: \u001b[33mWARNING\u001b[0m Ignored wandb.init() arg entity when running a sweep.\n"
     ]
    },
    {
     "data": {
      "text/html": [
       "wandb version 0.17.0 is available!  To upgrade, please run:\n",
       " $ pip install wandb --upgrade"
      ],
      "text/plain": [
       "<IPython.core.display.HTML object>"
      ]
     },
     "metadata": {},
     "output_type": "display_data"
    },
    {
     "data": {
      "text/html": [
       "Tracking run with wandb version 0.16.3"
      ],
      "text/plain": [
       "<IPython.core.display.HTML object>"
      ]
     },
     "metadata": {},
     "output_type": "display_data"
    },
    {
     "data": {
      "text/html": [
       "Run data is saved locally in <code>/home/ubuntu/granPy/wandb/run-20240514_150642-g0sdjesb</code>"
      ],
      "text/plain": [
       "<IPython.core.display.HTML object>"
      ]
     },
     "metadata": {},
     "output_type": "display_data"
    },
    {
     "data": {
      "text/html": [
       "Syncing run <strong><a href='https://wandb.ai/scialdonelab/granpy-dev/runs/g0sdjesb' target=\"_blank\">resilient-sweep-9</a></strong> to <a href='https://wandb.ai/scialdonelab/granpy-dev' target=\"_blank\">Weights & Biases</a> (<a href='https://wandb.me/run' target=\"_blank\">docs</a>)<br/>Sweep page: <a href='https://wandb.ai/scialdonelab/granpy-dev/sweeps/c10b9ffu' target=\"_blank\">https://wandb.ai/scialdonelab/granpy-dev/sweeps/c10b9ffu</a>"
      ],
      "text/plain": [
       "<IPython.core.display.HTML object>"
      ]
     },
     "metadata": {},
     "output_type": "display_data"
    },
    {
     "data": {
      "text/html": [
       " View project at <a href='https://wandb.ai/scialdonelab/granpy-dev' target=\"_blank\">https://wandb.ai/scialdonelab/granpy-dev</a>"
      ],
      "text/plain": [
       "<IPython.core.display.HTML object>"
      ]
     },
     "metadata": {},
     "output_type": "display_data"
    },
    {
     "data": {
      "text/html": [
       " View sweep at <a href='https://wandb.ai/scialdonelab/granpy-dev/sweeps/c10b9ffu' target=\"_blank\">https://wandb.ai/scialdonelab/granpy-dev/sweeps/c10b9ffu</a>"
      ],
      "text/plain": [
       "<IPython.core.display.HTML object>"
      ]
     },
     "metadata": {},
     "output_type": "display_data"
    },
    {
     "data": {
      "text/html": [
       " View run at <a href='https://wandb.ai/scialdonelab/granpy-dev/runs/g0sdjesb' target=\"_blank\">https://wandb.ai/scialdonelab/granpy-dev/runs/g0sdjesb</a>"
      ],
      "text/plain": [
       "<IPython.core.display.HTML object>"
      ]
     },
     "metadata": {},
     "output_type": "display_data"
    },
    {
     "name": "stderr",
     "output_type": "stream",
     "text": [
      "Best average_precision_score: 0.9316778158486883:   7%|▋         | 35/500 [00:03<00:52,  8.82it/s]\n"
     ]
    },
    {
     "data": {
      "application/vnd.jupyter.widget-view+json": {
       "model_id": "34d5679a0f0044f29352a5e8c997ec9a",
       "version_major": 2,
       "version_minor": 0
      },
      "text/plain": [
       "VBox(children=(Label(value='1.527 MB of 1.527 MB uploaded\\r'), FloatProgress(value=1.0, max=1.0)))"
      ]
     },
     "metadata": {},
     "output_type": "display_data"
    },
    {
     "data": {
      "text/html": [
       "<style>\n",
       "    table.wandb td:nth-child(1) { padding: 0 10px; text-align: left ; width: auto;} td:nth-child(2) {text-align: left ; width: 100%}\n",
       "    .wandb-row { display: flex; flex-direction: row; flex-wrap: wrap; justify-content: flex-start; width: 100% }\n",
       "    .wandb-col { display: flex; flex-direction: column; flex-basis: 100%; flex: 1; padding: 10px; }\n",
       "    </style>\n",
       "<div class=\"wandb-row\"><div class=\"wandb-col\"><h3>Run history:</h3><br/><table class=\"wandb\"><tr><td>average_precision_score</td><td>▁</td></tr><tr><td>roc_auc_score</td><td>▁</td></tr><tr><td>train_loss</td><td>█████████▇▇▇▇▇▇▇▇▆▆▆▆▅▅▅▅▅▅▄▄▃▂▄▃▂▃▁</td></tr><tr><td>val_average_precision_score</td><td>██████████████████▇██▇▇▇▇▇▇▅▆▇▆▁▂▆▆▆</td></tr><tr><td>val_loss</td><td>███████▇▇▇▇▇▇▇▇▆▆▆▆▆▆▅▅▅▅▅▄▄▄▄▃▃▃▂▂▁</td></tr></table><br/></div><div class=\"wandb-col\"><h3>Run summary:</h3><br/><table class=\"wandb\"><tr><td>average_precision_score</td><td>0.94918</td></tr><tr><td>roc_auc_score</td><td>0.85907</td></tr><tr><td>train_loss</td><td>1.43285</td></tr><tr><td>val_average_precision_score</td><td>0.92068</td></tr><tr><td>val_loss</td><td>1.43338</td></tr></table><br/></div></div>"
      ],
      "text/plain": [
       "<IPython.core.display.HTML object>"
      ]
     },
     "metadata": {},
     "output_type": "display_data"
    },
    {
     "data": {
      "text/html": [
       " View run <strong style=\"color:#cdcd00\">resilient-sweep-9</strong> at: <a href='https://wandb.ai/scialdonelab/granpy-dev/runs/g0sdjesb' target=\"_blank\">https://wandb.ai/scialdonelab/granpy-dev/runs/g0sdjesb</a><br/>Synced 7 W&B file(s), 0 media file(s), 1 artifact file(s) and 1 other file(s)"
      ],
      "text/plain": [
       "<IPython.core.display.HTML object>"
      ]
     },
     "metadata": {},
     "output_type": "display_data"
    },
    {
     "data": {
      "text/html": [
       "Find logs at: <code>./wandb/run-20240514_150642-g0sdjesb/logs</code>"
      ],
      "text/plain": [
       "<IPython.core.display.HTML object>"
      ]
     },
     "metadata": {},
     "output_type": "display_data"
    },
    {
     "name": "stderr",
     "output_type": "stream",
     "text": [
      "\u001b[34m\u001b[1mwandb\u001b[0m: Agent Starting Run: gm746tn9 with config:\n",
      "\u001b[34m\u001b[1mwandb\u001b[0m: \tdropout_ratio: 0.5208769620681117\n",
      "\u001b[34m\u001b[1mwandb\u001b[0m: \tlatent_dim: 32\n",
      "\u001b[34m\u001b[1mwandb\u001b[0m: \tlr: 0.0018852535230754449\n",
      "\u001b[34m\u001b[1mwandb\u001b[0m: \tn_conv_layers: 2\n",
      "\u001b[34m\u001b[1mwandb\u001b[0m: \tnegative_sampling: unstructured\n",
      "\u001b[34m\u001b[1mwandb\u001b[0m: \u001b[33mWARNING\u001b[0m Ignored wandb.init() arg project when running a sweep.\n",
      "\u001b[34m\u001b[1mwandb\u001b[0m: \u001b[33mWARNING\u001b[0m Ignored wandb.init() arg entity when running a sweep.\n"
     ]
    },
    {
     "data": {
      "text/html": [
       "wandb version 0.17.0 is available!  To upgrade, please run:\n",
       " $ pip install wandb --upgrade"
      ],
      "text/plain": [
       "<IPython.core.display.HTML object>"
      ]
     },
     "metadata": {},
     "output_type": "display_data"
    },
    {
     "data": {
      "text/html": [
       "Tracking run with wandb version 0.16.3"
      ],
      "text/plain": [
       "<IPython.core.display.HTML object>"
      ]
     },
     "metadata": {},
     "output_type": "display_data"
    },
    {
     "data": {
      "text/html": [
       "Run data is saved locally in <code>/home/ubuntu/granPy/wandb/run-20240514_150703-gm746tn9</code>"
      ],
      "text/plain": [
       "<IPython.core.display.HTML object>"
      ]
     },
     "metadata": {},
     "output_type": "display_data"
    },
    {
     "data": {
      "text/html": [
       "Syncing run <strong><a href='https://wandb.ai/scialdonelab/granpy-dev/runs/gm746tn9' target=\"_blank\">pretty-sweep-10</a></strong> to <a href='https://wandb.ai/scialdonelab/granpy-dev' target=\"_blank\">Weights & Biases</a> (<a href='https://wandb.me/run' target=\"_blank\">docs</a>)<br/>Sweep page: <a href='https://wandb.ai/scialdonelab/granpy-dev/sweeps/c10b9ffu' target=\"_blank\">https://wandb.ai/scialdonelab/granpy-dev/sweeps/c10b9ffu</a>"
      ],
      "text/plain": [
       "<IPython.core.display.HTML object>"
      ]
     },
     "metadata": {},
     "output_type": "display_data"
    },
    {
     "data": {
      "text/html": [
       " View project at <a href='https://wandb.ai/scialdonelab/granpy-dev' target=\"_blank\">https://wandb.ai/scialdonelab/granpy-dev</a>"
      ],
      "text/plain": [
       "<IPython.core.display.HTML object>"
      ]
     },
     "metadata": {},
     "output_type": "display_data"
    },
    {
     "data": {
      "text/html": [
       " View sweep at <a href='https://wandb.ai/scialdonelab/granpy-dev/sweeps/c10b9ffu' target=\"_blank\">https://wandb.ai/scialdonelab/granpy-dev/sweeps/c10b9ffu</a>"
      ],
      "text/plain": [
       "<IPython.core.display.HTML object>"
      ]
     },
     "metadata": {},
     "output_type": "display_data"
    },
    {
     "data": {
      "text/html": [
       " View run at <a href='https://wandb.ai/scialdonelab/granpy-dev/runs/gm746tn9' target=\"_blank\">https://wandb.ai/scialdonelab/granpy-dev/runs/gm746tn9</a>"
      ],
      "text/plain": [
       "<IPython.core.display.HTML object>"
      ]
     },
     "metadata": {},
     "output_type": "display_data"
    },
    {
     "name": "stderr",
     "output_type": "stream",
     "text": [
      "Best average_precision_score: 0.9317131254077825:   6%|▋         | 32/500 [00:03<00:53,  8.82it/s]\n"
     ]
    },
    {
     "data": {
      "application/vnd.jupyter.widget-view+json": {
       "model_id": "bb40709eda694b6ab58d90871b53a72f",
       "version_major": 2,
       "version_minor": 0
      },
      "text/plain": [
       "VBox(children=(Label(value='1.527 MB of 1.527 MB uploaded\\r'), FloatProgress(value=1.0, max=1.0)))"
      ]
     },
     "metadata": {},
     "output_type": "display_data"
    },
    {
     "data": {
      "text/html": [
       "<style>\n",
       "    table.wandb td:nth-child(1) { padding: 0 10px; text-align: left ; width: auto;} td:nth-child(2) {text-align: left ; width: 100%}\n",
       "    .wandb-row { display: flex; flex-direction: row; flex-wrap: wrap; justify-content: flex-start; width: 100% }\n",
       "    .wandb-col { display: flex; flex-direction: column; flex-basis: 100%; flex: 1; padding: 10px; }\n",
       "    </style>\n",
       "<div class=\"wandb-row\"><div class=\"wandb-col\"><h3>Run history:</h3><br/><table class=\"wandb\"><tr><td>average_precision_score</td><td>▁</td></tr><tr><td>roc_auc_score</td><td>▁</td></tr><tr><td>train_loss</td><td>███████▇▇▇▇▇▇▆▆▆▆▆▅▅▄▄▅▄▄▃▄▃▂▂▂▁▁</td></tr><tr><td>val_average_precision_score</td><td>█████████████████████▇▇▇▇▇▆▆▇▇▆▁▃</td></tr><tr><td>val_loss</td><td>██████▇▇▇▇▇▇▇▆▆▆▆▆▅▅▅▅▄▄▄▃▃▃▃▃▁▂▁</td></tr></table><br/></div><div class=\"wandb-col\"><h3>Run summary:</h3><br/><table class=\"wandb\"><tr><td>average_precision_score</td><td>0.94931</td></tr><tr><td>roc_auc_score</td><td>0.85945</td></tr><tr><td>train_loss</td><td>1.43728</td></tr><tr><td>val_average_precision_score</td><td>0.9022</td></tr><tr><td>val_loss</td><td>1.43717</td></tr></table><br/></div></div>"
      ],
      "text/plain": [
       "<IPython.core.display.HTML object>"
      ]
     },
     "metadata": {},
     "output_type": "display_data"
    },
    {
     "data": {
      "text/html": [
       " View run <strong style=\"color:#cdcd00\">pretty-sweep-10</strong> at: <a href='https://wandb.ai/scialdonelab/granpy-dev/runs/gm746tn9' target=\"_blank\">https://wandb.ai/scialdonelab/granpy-dev/runs/gm746tn9</a><br/>Synced 7 W&B file(s), 0 media file(s), 1 artifact file(s) and 1 other file(s)"
      ],
      "text/plain": [
       "<IPython.core.display.HTML object>"
      ]
     },
     "metadata": {},
     "output_type": "display_data"
    },
    {
     "data": {
      "text/html": [
       "Find logs at: <code>./wandb/run-20240514_150703-gm746tn9/logs</code>"
      ],
      "text/plain": [
       "<IPython.core.display.HTML object>"
      ]
     },
     "metadata": {},
     "output_type": "display_data"
    },
    {
     "name": "stderr",
     "output_type": "stream",
     "text": [
      "\u001b[34m\u001b[1mwandb\u001b[0m: Sweep Agent: Waiting for job.\n",
      "\u001b[34m\u001b[1mwandb\u001b[0m: Job received.\n",
      "\u001b[34m\u001b[1mwandb\u001b[0m: Agent Starting Run: umfnnz94 with config:\n",
      "\u001b[34m\u001b[1mwandb\u001b[0m: \tdropout_ratio: 0.4789945536270947\n",
      "\u001b[34m\u001b[1mwandb\u001b[0m: \tlatent_dim: 32\n",
      "\u001b[34m\u001b[1mwandb\u001b[0m: \tlr: 0.0012019685750645683\n",
      "\u001b[34m\u001b[1mwandb\u001b[0m: \tn_conv_layers: 2\n",
      "\u001b[34m\u001b[1mwandb\u001b[0m: \tnegative_sampling: unstructured\n",
      "\u001b[34m\u001b[1mwandb\u001b[0m: \u001b[33mWARNING\u001b[0m Ignored wandb.init() arg project when running a sweep.\n",
      "\u001b[34m\u001b[1mwandb\u001b[0m: \u001b[33mWARNING\u001b[0m Ignored wandb.init() arg entity when running a sweep.\n"
     ]
    },
    {
     "data": {
      "application/vnd.jupyter.widget-view+json": {
       "model_id": "9ba4890b251e491ba053bc7aa1ceeade",
       "version_major": 2,
       "version_minor": 0
      },
      "text/plain": [
       "VBox(children=(Label(value='Waiting for wandb.init()...\\r'), FloatProgress(value=0.011112315704425176, max=1.0…"
      ]
     },
     "metadata": {},
     "output_type": "display_data"
    },
    {
     "data": {
      "text/html": [
       "wandb version 0.17.0 is available!  To upgrade, please run:\n",
       " $ pip install wandb --upgrade"
      ],
      "text/plain": [
       "<IPython.core.display.HTML object>"
      ]
     },
     "metadata": {},
     "output_type": "display_data"
    },
    {
     "data": {
      "text/html": [
       "Tracking run with wandb version 0.16.3"
      ],
      "text/plain": [
       "<IPython.core.display.HTML object>"
      ]
     },
     "metadata": {},
     "output_type": "display_data"
    },
    {
     "data": {
      "text/html": [
       "Run data is saved locally in <code>/home/ubuntu/granPy/wandb/run-20240514_150740-umfnnz94</code>"
      ],
      "text/plain": [
       "<IPython.core.display.HTML object>"
      ]
     },
     "metadata": {},
     "output_type": "display_data"
    },
    {
     "data": {
      "text/html": [
       "Syncing run <strong><a href='https://wandb.ai/scialdonelab/granpy-dev/runs/umfnnz94' target=\"_blank\">dulcet-sweep-11</a></strong> to <a href='https://wandb.ai/scialdonelab/granpy-dev' target=\"_blank\">Weights & Biases</a> (<a href='https://wandb.me/run' target=\"_blank\">docs</a>)<br/>Sweep page: <a href='https://wandb.ai/scialdonelab/granpy-dev/sweeps/c10b9ffu' target=\"_blank\">https://wandb.ai/scialdonelab/granpy-dev/sweeps/c10b9ffu</a>"
      ],
      "text/plain": [
       "<IPython.core.display.HTML object>"
      ]
     },
     "metadata": {},
     "output_type": "display_data"
    },
    {
     "data": {
      "text/html": [
       " View project at <a href='https://wandb.ai/scialdonelab/granpy-dev' target=\"_blank\">https://wandb.ai/scialdonelab/granpy-dev</a>"
      ],
      "text/plain": [
       "<IPython.core.display.HTML object>"
      ]
     },
     "metadata": {},
     "output_type": "display_data"
    },
    {
     "data": {
      "text/html": [
       " View sweep at <a href='https://wandb.ai/scialdonelab/granpy-dev/sweeps/c10b9ffu' target=\"_blank\">https://wandb.ai/scialdonelab/granpy-dev/sweeps/c10b9ffu</a>"
      ],
      "text/plain": [
       "<IPython.core.display.HTML object>"
      ]
     },
     "metadata": {},
     "output_type": "display_data"
    },
    {
     "data": {
      "text/html": [
       " View run at <a href='https://wandb.ai/scialdonelab/granpy-dev/runs/umfnnz94' target=\"_blank\">https://wandb.ai/scialdonelab/granpy-dev/runs/umfnnz94</a>"
      ],
      "text/plain": [
       "<IPython.core.display.HTML object>"
      ]
     },
     "metadata": {},
     "output_type": "display_data"
    },
    {
     "name": "stderr",
     "output_type": "stream",
     "text": [
      "Best average_precision_score: 0.9310255058074293:   7%|▋         | 36/500 [00:04<00:52,  8.78it/s]\n"
     ]
    },
    {
     "data": {
      "application/vnd.jupyter.widget-view+json": {
       "model_id": "a939e6ab2c2d440cb9785fef79546174",
       "version_major": 2,
       "version_minor": 0
      },
      "text/plain": [
       "VBox(children=(Label(value='1.527 MB of 1.527 MB uploaded\\r'), FloatProgress(value=1.0, max=1.0)))"
      ]
     },
     "metadata": {},
     "output_type": "display_data"
    },
    {
     "data": {
      "text/html": [
       "<style>\n",
       "    table.wandb td:nth-child(1) { padding: 0 10px; text-align: left ; width: auto;} td:nth-child(2) {text-align: left ; width: 100%}\n",
       "    .wandb-row { display: flex; flex-direction: row; flex-wrap: wrap; justify-content: flex-start; width: 100% }\n",
       "    .wandb-col { display: flex; flex-direction: column; flex-basis: 100%; flex: 1; padding: 10px; }\n",
       "    </style>\n",
       "<div class=\"wandb-row\"><div class=\"wandb-col\"><h3>Run history:</h3><br/><table class=\"wandb\"><tr><td>average_precision_score</td><td>▁</td></tr><tr><td>roc_auc_score</td><td>▁</td></tr><tr><td>train_loss</td><td>█████████▇▇▇▇▇▇▆▆▆▆▆▆▆▆▅▅▄▅▄▄▄▃▂▂▂▂▂▁</td></tr><tr><td>val_average_precision_score</td><td>███████████████████▇▇▆▇▇▇▆▆▇▆▆▆▆▁▂▅▆▄</td></tr><tr><td>val_loss</td><td>████████▇▇▇▇▇▇▇▇▇▆▆▆▆▆▅▆▅▅▄▄▄▄▄▃▃▂▂▂▁</td></tr></table><br/></div><div class=\"wandb-col\"><h3>Run summary:</h3><br/><table class=\"wandb\"><tr><td>average_precision_score</td><td>0.94889</td></tr><tr><td>roc_auc_score</td><td>0.85864</td></tr><tr><td>train_loss</td><td>1.43251</td></tr><tr><td>val_average_precision_score</td><td>0.91353</td></tr><tr><td>val_loss</td><td>1.4316</td></tr></table><br/></div></div>"
      ],
      "text/plain": [
       "<IPython.core.display.HTML object>"
      ]
     },
     "metadata": {},
     "output_type": "display_data"
    },
    {
     "data": {
      "text/html": [
       " View run <strong style=\"color:#cdcd00\">dulcet-sweep-11</strong> at: <a href='https://wandb.ai/scialdonelab/granpy-dev/runs/umfnnz94' target=\"_blank\">https://wandb.ai/scialdonelab/granpy-dev/runs/umfnnz94</a><br/>Synced 7 W&B file(s), 0 media file(s), 1 artifact file(s) and 1 other file(s)"
      ],
      "text/plain": [
       "<IPython.core.display.HTML object>"
      ]
     },
     "metadata": {},
     "output_type": "display_data"
    },
    {
     "data": {
      "text/html": [
       "Find logs at: <code>./wandb/run-20240514_150740-umfnnz94/logs</code>"
      ],
      "text/plain": [
       "<IPython.core.display.HTML object>"
      ]
     },
     "metadata": {},
     "output_type": "display_data"
    },
    {
     "name": "stderr",
     "output_type": "stream",
     "text": [
      "\u001b[34m\u001b[1mwandb\u001b[0m: Agent Starting Run: ncixne1t with config:\n",
      "\u001b[34m\u001b[1mwandb\u001b[0m: \tdropout_ratio: 0.5830501417241559\n",
      "\u001b[34m\u001b[1mwandb\u001b[0m: \tlatent_dim: 64\n",
      "\u001b[34m\u001b[1mwandb\u001b[0m: \tlr: 0.005631922746943697\n",
      "\u001b[34m\u001b[1mwandb\u001b[0m: \tn_conv_layers: 2\n",
      "\u001b[34m\u001b[1mwandb\u001b[0m: \tnegative_sampling: unstructured\n",
      "\u001b[34m\u001b[1mwandb\u001b[0m: \u001b[33mWARNING\u001b[0m Ignored wandb.init() arg project when running a sweep.\n",
      "\u001b[34m\u001b[1mwandb\u001b[0m: \u001b[33mWARNING\u001b[0m Ignored wandb.init() arg entity when running a sweep.\n"
     ]
    },
    {
     "data": {
      "text/html": [
       "wandb version 0.17.0 is available!  To upgrade, please run:\n",
       " $ pip install wandb --upgrade"
      ],
      "text/plain": [
       "<IPython.core.display.HTML object>"
      ]
     },
     "metadata": {},
     "output_type": "display_data"
    },
    {
     "data": {
      "text/html": [
       "Tracking run with wandb version 0.16.3"
      ],
      "text/plain": [
       "<IPython.core.display.HTML object>"
      ]
     },
     "metadata": {},
     "output_type": "display_data"
    },
    {
     "data": {
      "text/html": [
       "Run data is saved locally in <code>/home/ubuntu/granPy/wandb/run-20240514_150758-ncixne1t</code>"
      ],
      "text/plain": [
       "<IPython.core.display.HTML object>"
      ]
     },
     "metadata": {},
     "output_type": "display_data"
    },
    {
     "data": {
      "text/html": [
       "Syncing run <strong><a href='https://wandb.ai/scialdonelab/granpy-dev/runs/ncixne1t' target=\"_blank\">dark-sweep-12</a></strong> to <a href='https://wandb.ai/scialdonelab/granpy-dev' target=\"_blank\">Weights & Biases</a> (<a href='https://wandb.me/run' target=\"_blank\">docs</a>)<br/>Sweep page: <a href='https://wandb.ai/scialdonelab/granpy-dev/sweeps/c10b9ffu' target=\"_blank\">https://wandb.ai/scialdonelab/granpy-dev/sweeps/c10b9ffu</a>"
      ],
      "text/plain": [
       "<IPython.core.display.HTML object>"
      ]
     },
     "metadata": {},
     "output_type": "display_data"
    },
    {
     "data": {
      "text/html": [
       " View project at <a href='https://wandb.ai/scialdonelab/granpy-dev' target=\"_blank\">https://wandb.ai/scialdonelab/granpy-dev</a>"
      ],
      "text/plain": [
       "<IPython.core.display.HTML object>"
      ]
     },
     "metadata": {},
     "output_type": "display_data"
    },
    {
     "data": {
      "text/html": [
       " View sweep at <a href='https://wandb.ai/scialdonelab/granpy-dev/sweeps/c10b9ffu' target=\"_blank\">https://wandb.ai/scialdonelab/granpy-dev/sweeps/c10b9ffu</a>"
      ],
      "text/plain": [
       "<IPython.core.display.HTML object>"
      ]
     },
     "metadata": {},
     "output_type": "display_data"
    },
    {
     "data": {
      "text/html": [
       " View run at <a href='https://wandb.ai/scialdonelab/granpy-dev/runs/ncixne1t' target=\"_blank\">https://wandb.ai/scialdonelab/granpy-dev/runs/ncixne1t</a>"
      ],
      "text/plain": [
       "<IPython.core.display.HTML object>"
      ]
     },
     "metadata": {},
     "output_type": "display_data"
    },
    {
     "name": "stderr",
     "output_type": "stream",
     "text": [
      "Best average_precision_score: 0.9317393335993959:   7%|▋         | 36/500 [00:04<00:52,  8.86it/s]\n"
     ]
    },
    {
     "data": {
      "application/vnd.jupyter.widget-view+json": {
       "model_id": "88d4aa782de248088899b48a50b26988",
       "version_major": 2,
       "version_minor": 0
      },
      "text/plain": [
       "VBox(children=(Label(value='0.006 MB of 1.527 MB uploaded\\r'), FloatProgress(value=0.004250613207311529, max=1…"
      ]
     },
     "metadata": {},
     "output_type": "display_data"
    },
    {
     "data": {
      "text/html": [
       "<style>\n",
       "    table.wandb td:nth-child(1) { padding: 0 10px; text-align: left ; width: auto;} td:nth-child(2) {text-align: left ; width: 100%}\n",
       "    .wandb-row { display: flex; flex-direction: row; flex-wrap: wrap; justify-content: flex-start; width: 100% }\n",
       "    .wandb-col { display: flex; flex-direction: column; flex-basis: 100%; flex: 1; padding: 10px; }\n",
       "    </style>\n",
       "<div class=\"wandb-row\"><div class=\"wandb-col\"><h3>Run history:</h3><br/><table class=\"wandb\"><tr><td>average_precision_score</td><td>▁</td></tr><tr><td>roc_auc_score</td><td>▁</td></tr><tr><td>train_loss</td><td>████████▇▇▇▇▇▇▇▆▆▆▆▆▆▅▅▅▅▄▄▄▃▃▄▃▂▂▂▂▁</td></tr><tr><td>val_average_precision_score</td><td>████████████████████████▇▇▇█▇▁▃▇█▇▆▄▅</td></tr><tr><td>val_loss</td><td>███████▇▇▇▇▇▇▇▇▇▆▆▆▆▆▅▅▅▅▅▄▄▄▄▄▃▄▃▁▂▁</td></tr></table><br/></div><div class=\"wandb-col\"><h3>Run summary:</h3><br/><table class=\"wandb\"><tr><td>average_precision_score</td><td>0.9491</td></tr><tr><td>roc_auc_score</td><td>0.85889</td></tr><tr><td>train_loss</td><td>1.43369</td></tr><tr><td>val_average_precision_score</td><td>0.89771</td></tr><tr><td>val_loss</td><td>1.43247</td></tr></table><br/></div></div>"
      ],
      "text/plain": [
       "<IPython.core.display.HTML object>"
      ]
     },
     "metadata": {},
     "output_type": "display_data"
    },
    {
     "data": {
      "text/html": [
       " View run <strong style=\"color:#cdcd00\">dark-sweep-12</strong> at: <a href='https://wandb.ai/scialdonelab/granpy-dev/runs/ncixne1t' target=\"_blank\">https://wandb.ai/scialdonelab/granpy-dev/runs/ncixne1t</a><br/>Synced 7 W&B file(s), 0 media file(s), 1 artifact file(s) and 1 other file(s)"
      ],
      "text/plain": [
       "<IPython.core.display.HTML object>"
      ]
     },
     "metadata": {},
     "output_type": "display_data"
    },
    {
     "data": {
      "text/html": [
       "Find logs at: <code>./wandb/run-20240514_150758-ncixne1t/logs</code>"
      ],
      "text/plain": [
       "<IPython.core.display.HTML object>"
      ]
     },
     "metadata": {},
     "output_type": "display_data"
    },
    {
     "name": "stderr",
     "output_type": "stream",
     "text": [
      "\u001b[34m\u001b[1mwandb\u001b[0m: Agent Starting Run: 9e5d7w2i with config:\n",
      "\u001b[34m\u001b[1mwandb\u001b[0m: \tdropout_ratio: 0.4378541551433705\n",
      "\u001b[34m\u001b[1mwandb\u001b[0m: \tlatent_dim: 128\n",
      "\u001b[34m\u001b[1mwandb\u001b[0m: \tlr: 0.0038370186236262142\n",
      "\u001b[34m\u001b[1mwandb\u001b[0m: \tn_conv_layers: 3\n",
      "\u001b[34m\u001b[1mwandb\u001b[0m: \tnegative_sampling: unstructured\n",
      "\u001b[34m\u001b[1mwandb\u001b[0m: \u001b[33mWARNING\u001b[0m Ignored wandb.init() arg project when running a sweep.\n",
      "\u001b[34m\u001b[1mwandb\u001b[0m: \u001b[33mWARNING\u001b[0m Ignored wandb.init() arg entity when running a sweep.\n"
     ]
    },
    {
     "data": {
      "text/html": [
       "wandb version 0.17.0 is available!  To upgrade, please run:\n",
       " $ pip install wandb --upgrade"
      ],
      "text/plain": [
       "<IPython.core.display.HTML object>"
      ]
     },
     "metadata": {},
     "output_type": "display_data"
    },
    {
     "data": {
      "text/html": [
       "Tracking run with wandb version 0.16.3"
      ],
      "text/plain": [
       "<IPython.core.display.HTML object>"
      ]
     },
     "metadata": {},
     "output_type": "display_data"
    },
    {
     "data": {
      "text/html": [
       "Run data is saved locally in <code>/home/ubuntu/granPy/wandb/run-20240514_150820-9e5d7w2i</code>"
      ],
      "text/plain": [
       "<IPython.core.display.HTML object>"
      ]
     },
     "metadata": {},
     "output_type": "display_data"
    },
    {
     "data": {
      "text/html": [
       "Syncing run <strong><a href='https://wandb.ai/scialdonelab/granpy-dev/runs/9e5d7w2i' target=\"_blank\">radiant-sweep-13</a></strong> to <a href='https://wandb.ai/scialdonelab/granpy-dev' target=\"_blank\">Weights & Biases</a> (<a href='https://wandb.me/run' target=\"_blank\">docs</a>)<br/>Sweep page: <a href='https://wandb.ai/scialdonelab/granpy-dev/sweeps/c10b9ffu' target=\"_blank\">https://wandb.ai/scialdonelab/granpy-dev/sweeps/c10b9ffu</a>"
      ],
      "text/plain": [
       "<IPython.core.display.HTML object>"
      ]
     },
     "metadata": {},
     "output_type": "display_data"
    },
    {
     "data": {
      "text/html": [
       " View project at <a href='https://wandb.ai/scialdonelab/granpy-dev' target=\"_blank\">https://wandb.ai/scialdonelab/granpy-dev</a>"
      ],
      "text/plain": [
       "<IPython.core.display.HTML object>"
      ]
     },
     "metadata": {},
     "output_type": "display_data"
    },
    {
     "data": {
      "text/html": [
       " View sweep at <a href='https://wandb.ai/scialdonelab/granpy-dev/sweeps/c10b9ffu' target=\"_blank\">https://wandb.ai/scialdonelab/granpy-dev/sweeps/c10b9ffu</a>"
      ],
      "text/plain": [
       "<IPython.core.display.HTML object>"
      ]
     },
     "metadata": {},
     "output_type": "display_data"
    },
    {
     "data": {
      "text/html": [
       " View run at <a href='https://wandb.ai/scialdonelab/granpy-dev/runs/9e5d7w2i' target=\"_blank\">https://wandb.ai/scialdonelab/granpy-dev/runs/9e5d7w2i</a>"
      ],
      "text/plain": [
       "<IPython.core.display.HTML object>"
      ]
     },
     "metadata": {},
     "output_type": "display_data"
    },
    {
     "name": "stderr",
     "output_type": "stream",
     "text": [
      "Best average_precision_score: 0.9322273703286553:   7%|▋         | 33/500 [00:03<00:53,  8.81it/s]\n"
     ]
    },
    {
     "data": {
      "application/vnd.jupyter.widget-view+json": {
       "model_id": "7f3300c0e05d466995be95ee52f2324d",
       "version_major": 2,
       "version_minor": 0
      },
      "text/plain": [
       "VBox(children=(Label(value='1.527 MB of 1.527 MB uploaded\\r'), FloatProgress(value=1.0, max=1.0)))"
      ]
     },
     "metadata": {},
     "output_type": "display_data"
    },
    {
     "data": {
      "text/html": [
       "<style>\n",
       "    table.wandb td:nth-child(1) { padding: 0 10px; text-align: left ; width: auto;} td:nth-child(2) {text-align: left ; width: 100%}\n",
       "    .wandb-row { display: flex; flex-direction: row; flex-wrap: wrap; justify-content: flex-start; width: 100% }\n",
       "    .wandb-col { display: flex; flex-direction: column; flex-basis: 100%; flex: 1; padding: 10px; }\n",
       "    </style>\n",
       "<div class=\"wandb-row\"><div class=\"wandb-col\"><h3>Run history:</h3><br/><table class=\"wandb\"><tr><td>average_precision_score</td><td>▁</td></tr><tr><td>roc_auc_score</td><td>▁</td></tr><tr><td>train_loss</td><td>████████▇▇▇▇▇▇▇▆▆▆▆▆▅▅▅▄▅▄▄▃▄▃▃▃▁▂</td></tr><tr><td>val_average_precision_score</td><td>██████████████▇▇▇▇▇▇▆▆▆▇▄▄▅▆▅▂▃▄▄▁</td></tr><tr><td>val_loss</td><td>███████▇▇▇▇▇▇▇▆▆▆▆▆▅▅▅▅▅▄▄▄▄▃▃▂▂▁▁</td></tr></table><br/></div><div class=\"wandb-col\"><h3>Run summary:</h3><br/><table class=\"wandb\"><tr><td>average_precision_score</td><td>0.9494</td></tr><tr><td>roc_auc_score</td><td>0.8593</td></tr><tr><td>train_loss</td><td>1.43692</td></tr><tr><td>val_average_precision_score</td><td>0.9124</td></tr><tr><td>val_loss</td><td>1.43484</td></tr></table><br/></div></div>"
      ],
      "text/plain": [
       "<IPython.core.display.HTML object>"
      ]
     },
     "metadata": {},
     "output_type": "display_data"
    },
    {
     "data": {
      "text/html": [
       " View run <strong style=\"color:#cdcd00\">radiant-sweep-13</strong> at: <a href='https://wandb.ai/scialdonelab/granpy-dev/runs/9e5d7w2i' target=\"_blank\">https://wandb.ai/scialdonelab/granpy-dev/runs/9e5d7w2i</a><br/>Synced 7 W&B file(s), 0 media file(s), 1 artifact file(s) and 1 other file(s)"
      ],
      "text/plain": [
       "<IPython.core.display.HTML object>"
      ]
     },
     "metadata": {},
     "output_type": "display_data"
    },
    {
     "data": {
      "text/html": [
       "Find logs at: <code>./wandb/run-20240514_150820-9e5d7w2i/logs</code>"
      ],
      "text/plain": [
       "<IPython.core.display.HTML object>"
      ]
     },
     "metadata": {},
     "output_type": "display_data"
    },
    {
     "name": "stderr",
     "output_type": "stream",
     "text": [
      "\u001b[34m\u001b[1mwandb\u001b[0m: Agent Starting Run: fev4ofj9 with config:\n",
      "\u001b[34m\u001b[1mwandb\u001b[0m: \tdropout_ratio: 0.12146488601488428\n",
      "\u001b[34m\u001b[1mwandb\u001b[0m: \tlatent_dim: 32\n",
      "\u001b[34m\u001b[1mwandb\u001b[0m: \tlr: 0.007691839430369849\n",
      "\u001b[34m\u001b[1mwandb\u001b[0m: \tn_conv_layers: 1\n",
      "\u001b[34m\u001b[1mwandb\u001b[0m: \tnegative_sampling: unstructured\n",
      "\u001b[34m\u001b[1mwandb\u001b[0m: \u001b[33mWARNING\u001b[0m Ignored wandb.init() arg project when running a sweep.\n",
      "\u001b[34m\u001b[1mwandb\u001b[0m: \u001b[33mWARNING\u001b[0m Ignored wandb.init() arg entity when running a sweep.\n"
     ]
    },
    {
     "data": {
      "text/html": [
       "wandb version 0.17.0 is available!  To upgrade, please run:\n",
       " $ pip install wandb --upgrade"
      ],
      "text/plain": [
       "<IPython.core.display.HTML object>"
      ]
     },
     "metadata": {},
     "output_type": "display_data"
    },
    {
     "data": {
      "text/html": [
       "Tracking run with wandb version 0.16.3"
      ],
      "text/plain": [
       "<IPython.core.display.HTML object>"
      ]
     },
     "metadata": {},
     "output_type": "display_data"
    },
    {
     "data": {
      "text/html": [
       "Run data is saved locally in <code>/home/ubuntu/granPy/wandb/run-20240514_150841-fev4ofj9</code>"
      ],
      "text/plain": [
       "<IPython.core.display.HTML object>"
      ]
     },
     "metadata": {},
     "output_type": "display_data"
    },
    {
     "data": {
      "text/html": [
       "Syncing run <strong><a href='https://wandb.ai/scialdonelab/granpy-dev/runs/fev4ofj9' target=\"_blank\">youthful-sweep-14</a></strong> to <a href='https://wandb.ai/scialdonelab/granpy-dev' target=\"_blank\">Weights & Biases</a> (<a href='https://wandb.me/run' target=\"_blank\">docs</a>)<br/>Sweep page: <a href='https://wandb.ai/scialdonelab/granpy-dev/sweeps/c10b9ffu' target=\"_blank\">https://wandb.ai/scialdonelab/granpy-dev/sweeps/c10b9ffu</a>"
      ],
      "text/plain": [
       "<IPython.core.display.HTML object>"
      ]
     },
     "metadata": {},
     "output_type": "display_data"
    },
    {
     "data": {
      "text/html": [
       " View project at <a href='https://wandb.ai/scialdonelab/granpy-dev' target=\"_blank\">https://wandb.ai/scialdonelab/granpy-dev</a>"
      ],
      "text/plain": [
       "<IPython.core.display.HTML object>"
      ]
     },
     "metadata": {},
     "output_type": "display_data"
    },
    {
     "data": {
      "text/html": [
       " View sweep at <a href='https://wandb.ai/scialdonelab/granpy-dev/sweeps/c10b9ffu' target=\"_blank\">https://wandb.ai/scialdonelab/granpy-dev/sweeps/c10b9ffu</a>"
      ],
      "text/plain": [
       "<IPython.core.display.HTML object>"
      ]
     },
     "metadata": {},
     "output_type": "display_data"
    },
    {
     "data": {
      "text/html": [
       " View run at <a href='https://wandb.ai/scialdonelab/granpy-dev/runs/fev4ofj9' target=\"_blank\">https://wandb.ai/scialdonelab/granpy-dev/runs/fev4ofj9</a>"
      ],
      "text/plain": [
       "<IPython.core.display.HTML object>"
      ]
     },
     "metadata": {},
     "output_type": "display_data"
    },
    {
     "name": "stderr",
     "output_type": "stream",
     "text": [
      "Best average_precision_score: 0.9319443156779993:   7%|▋         | 36/500 [00:04<00:52,  8.76it/s]\n"
     ]
    },
    {
     "data": {
      "application/vnd.jupyter.widget-view+json": {
       "model_id": "6d11c50571fb41498fb596c93f30f0a9",
       "version_major": 2,
       "version_minor": 0
      },
      "text/plain": [
       "VBox(children=(Label(value='1.527 MB of 1.527 MB uploaded\\r'), FloatProgress(value=1.0, max=1.0)))"
      ]
     },
     "metadata": {},
     "output_type": "display_data"
    },
    {
     "data": {
      "text/html": [
       "<style>\n",
       "    table.wandb td:nth-child(1) { padding: 0 10px; text-align: left ; width: auto;} td:nth-child(2) {text-align: left ; width: 100%}\n",
       "    .wandb-row { display: flex; flex-direction: row; flex-wrap: wrap; justify-content: flex-start; width: 100% }\n",
       "    .wandb-col { display: flex; flex-direction: column; flex-basis: 100%; flex: 1; padding: 10px; }\n",
       "    </style>\n",
       "<div class=\"wandb-row\"><div class=\"wandb-col\"><h3>Run history:</h3><br/><table class=\"wandb\"><tr><td>average_precision_score</td><td>▁</td></tr><tr><td>roc_auc_score</td><td>▁</td></tr><tr><td>train_loss</td><td>████████▇▇▇▇▇▇▇▇▇▇▆▆▆▆▆▅▅▅▅▄▄▄▃▃▃▂▂▂▁</td></tr><tr><td>val_average_precision_score</td><td>███████████████▇▇▇▇▇▇▆▇▆▅▅▆▆▅▃▃▅▁▁▁▄▂</td></tr><tr><td>val_loss</td><td>████████▇▇▇▇▇▇▇▇▇▆▆▆▆▆▆▅▅▅▅▄▄▄▃▃▃▂▂▂▁</td></tr></table><br/></div><div class=\"wandb-col\"><h3>Run summary:</h3><br/><table class=\"wandb\"><tr><td>average_precision_score</td><td>0.94922</td></tr><tr><td>roc_auc_score</td><td>0.85895</td></tr><tr><td>train_loss</td><td>1.43199</td></tr><tr><td>val_average_precision_score</td><td>0.9175</td></tr><tr><td>val_loss</td><td>1.43147</td></tr></table><br/></div></div>"
      ],
      "text/plain": [
       "<IPython.core.display.HTML object>"
      ]
     },
     "metadata": {},
     "output_type": "display_data"
    },
    {
     "data": {
      "text/html": [
       " View run <strong style=\"color:#cdcd00\">youthful-sweep-14</strong> at: <a href='https://wandb.ai/scialdonelab/granpy-dev/runs/fev4ofj9' target=\"_blank\">https://wandb.ai/scialdonelab/granpy-dev/runs/fev4ofj9</a><br/>Synced 7 W&B file(s), 0 media file(s), 1 artifact file(s) and 1 other file(s)"
      ],
      "text/plain": [
       "<IPython.core.display.HTML object>"
      ]
     },
     "metadata": {},
     "output_type": "display_data"
    },
    {
     "data": {
      "text/html": [
       "Find logs at: <code>./wandb/run-20240514_150841-fev4ofj9/logs</code>"
      ],
      "text/plain": [
       "<IPython.core.display.HTML object>"
      ]
     },
     "metadata": {},
     "output_type": "display_data"
    },
    {
     "name": "stderr",
     "output_type": "stream",
     "text": [
      "\u001b[34m\u001b[1mwandb\u001b[0m: Agent Starting Run: ni40ec72 with config:\n",
      "\u001b[34m\u001b[1mwandb\u001b[0m: \tdropout_ratio: 0.2237178520048395\n",
      "\u001b[34m\u001b[1mwandb\u001b[0m: \tlatent_dim: 16\n",
      "\u001b[34m\u001b[1mwandb\u001b[0m: \tlr: 0.0007274865706745671\n",
      "\u001b[34m\u001b[1mwandb\u001b[0m: \tn_conv_layers: 2\n",
      "\u001b[34m\u001b[1mwandb\u001b[0m: \tnegative_sampling: unstructured\n",
      "\u001b[34m\u001b[1mwandb\u001b[0m: \u001b[33mWARNING\u001b[0m Ignored wandb.init() arg project when running a sweep.\n",
      "\u001b[34m\u001b[1mwandb\u001b[0m: \u001b[33mWARNING\u001b[0m Ignored wandb.init() arg entity when running a sweep.\n"
     ]
    },
    {
     "data": {
      "text/html": [
       "wandb version 0.17.0 is available!  To upgrade, please run:\n",
       " $ pip install wandb --upgrade"
      ],
      "text/plain": [
       "<IPython.core.display.HTML object>"
      ]
     },
     "metadata": {},
     "output_type": "display_data"
    },
    {
     "data": {
      "text/html": [
       "Tracking run with wandb version 0.16.3"
      ],
      "text/plain": [
       "<IPython.core.display.HTML object>"
      ]
     },
     "metadata": {},
     "output_type": "display_data"
    },
    {
     "data": {
      "text/html": [
       "Run data is saved locally in <code>/home/ubuntu/granPy/wandb/run-20240514_150902-ni40ec72</code>"
      ],
      "text/plain": [
       "<IPython.core.display.HTML object>"
      ]
     },
     "metadata": {},
     "output_type": "display_data"
    },
    {
     "data": {
      "text/html": [
       "Syncing run <strong><a href='https://wandb.ai/scialdonelab/granpy-dev/runs/ni40ec72' target=\"_blank\">dazzling-sweep-15</a></strong> to <a href='https://wandb.ai/scialdonelab/granpy-dev' target=\"_blank\">Weights & Biases</a> (<a href='https://wandb.me/run' target=\"_blank\">docs</a>)<br/>Sweep page: <a href='https://wandb.ai/scialdonelab/granpy-dev/sweeps/c10b9ffu' target=\"_blank\">https://wandb.ai/scialdonelab/granpy-dev/sweeps/c10b9ffu</a>"
      ],
      "text/plain": [
       "<IPython.core.display.HTML object>"
      ]
     },
     "metadata": {},
     "output_type": "display_data"
    },
    {
     "data": {
      "text/html": [
       " View project at <a href='https://wandb.ai/scialdonelab/granpy-dev' target=\"_blank\">https://wandb.ai/scialdonelab/granpy-dev</a>"
      ],
      "text/plain": [
       "<IPython.core.display.HTML object>"
      ]
     },
     "metadata": {},
     "output_type": "display_data"
    },
    {
     "data": {
      "text/html": [
       " View sweep at <a href='https://wandb.ai/scialdonelab/granpy-dev/sweeps/c10b9ffu' target=\"_blank\">https://wandb.ai/scialdonelab/granpy-dev/sweeps/c10b9ffu</a>"
      ],
      "text/plain": [
       "<IPython.core.display.HTML object>"
      ]
     },
     "metadata": {},
     "output_type": "display_data"
    },
    {
     "data": {
      "text/html": [
       " View run at <a href='https://wandb.ai/scialdonelab/granpy-dev/runs/ni40ec72' target=\"_blank\">https://wandb.ai/scialdonelab/granpy-dev/runs/ni40ec72</a>"
      ],
      "text/plain": [
       "<IPython.core.display.HTML object>"
      ]
     },
     "metadata": {},
     "output_type": "display_data"
    },
    {
     "name": "stderr",
     "output_type": "stream",
     "text": [
      "Best average_precision_score: 0.9314071010762853:   7%|▋         | 37/500 [00:04<00:52,  8.86it/s]\n"
     ]
    },
    {
     "data": {
      "application/vnd.jupyter.widget-view+json": {
       "model_id": "60081e8cc123487699141257bad6d307",
       "version_major": 2,
       "version_minor": 0
      },
      "text/plain": [
       "VBox(children=(Label(value='1.527 MB of 1.527 MB uploaded\\r'), FloatProgress(value=1.0, max=1.0)))"
      ]
     },
     "metadata": {},
     "output_type": "display_data"
    },
    {
     "data": {
      "text/html": [
       "<style>\n",
       "    table.wandb td:nth-child(1) { padding: 0 10px; text-align: left ; width: auto;} td:nth-child(2) {text-align: left ; width: 100%}\n",
       "    .wandb-row { display: flex; flex-direction: row; flex-wrap: wrap; justify-content: flex-start; width: 100% }\n",
       "    .wandb-col { display: flex; flex-direction: column; flex-basis: 100%; flex: 1; padding: 10px; }\n",
       "    </style>\n",
       "<div class=\"wandb-row\"><div class=\"wandb-col\"><h3>Run history:</h3><br/><table class=\"wandb\"><tr><td>average_precision_score</td><td>▁</td></tr><tr><td>roc_auc_score</td><td>▁</td></tr><tr><td>train_loss</td><td>████████▇▇▇▇▇▇▇▇▇▆▆▆▆▆▅▅▅▅▄▄▄▅▃▃▃▃▂▃▁▁</td></tr><tr><td>val_average_precision_score</td><td>█████████████████████▇███▇▇▇█▇▆▇▇▆▁▅▇▇</td></tr><tr><td>val_loss</td><td>███████▇▇▇▇▇▇▇▇▆▆▆▆▆▆▅▅▅▅▄▄▄▄▃▃▂▂▂▂▁▁▁</td></tr></table><br/></div><div class=\"wandb-col\"><h3>Run summary:</h3><br/><table class=\"wandb\"><tr><td>average_precision_score</td><td>0.94895</td></tr><tr><td>roc_auc_score</td><td>0.8586</td></tr><tr><td>train_loss</td><td>1.43237</td></tr><tr><td>val_average_precision_score</td><td>0.92239</td></tr><tr><td>val_loss</td><td>1.43408</td></tr></table><br/></div></div>"
      ],
      "text/plain": [
       "<IPython.core.display.HTML object>"
      ]
     },
     "metadata": {},
     "output_type": "display_data"
    },
    {
     "data": {
      "text/html": [
       " View run <strong style=\"color:#cdcd00\">dazzling-sweep-15</strong> at: <a href='https://wandb.ai/scialdonelab/granpy-dev/runs/ni40ec72' target=\"_blank\">https://wandb.ai/scialdonelab/granpy-dev/runs/ni40ec72</a><br/>Synced 7 W&B file(s), 0 media file(s), 1 artifact file(s) and 1 other file(s)"
      ],
      "text/plain": [
       "<IPython.core.display.HTML object>"
      ]
     },
     "metadata": {},
     "output_type": "display_data"
    },
    {
     "data": {
      "text/html": [
       "Find logs at: <code>./wandb/run-20240514_150902-ni40ec72/logs</code>"
      ],
      "text/plain": [
       "<IPython.core.display.HTML object>"
      ]
     },
     "metadata": {},
     "output_type": "display_data"
    },
    {
     "name": "stderr",
     "output_type": "stream",
     "text": [
      "\u001b[34m\u001b[1mwandb\u001b[0m: Agent Starting Run: 6l1vmbgi with config:\n",
      "\u001b[34m\u001b[1mwandb\u001b[0m: \tdropout_ratio: 0.5732161143693555\n",
      "\u001b[34m\u001b[1mwandb\u001b[0m: \tlatent_dim: 128\n",
      "\u001b[34m\u001b[1mwandb\u001b[0m: \tlr: 0.004674089633280616\n",
      "\u001b[34m\u001b[1mwandb\u001b[0m: \tn_conv_layers: 2\n",
      "\u001b[34m\u001b[1mwandb\u001b[0m: \tnegative_sampling: unstructured\n",
      "\u001b[34m\u001b[1mwandb\u001b[0m: \u001b[33mWARNING\u001b[0m Ignored wandb.init() arg project when running a sweep.\n",
      "\u001b[34m\u001b[1mwandb\u001b[0m: \u001b[33mWARNING\u001b[0m Ignored wandb.init() arg entity when running a sweep.\n"
     ]
    },
    {
     "data": {
      "text/html": [
       "wandb version 0.17.0 is available!  To upgrade, please run:\n",
       " $ pip install wandb --upgrade"
      ],
      "text/plain": [
       "<IPython.core.display.HTML object>"
      ]
     },
     "metadata": {},
     "output_type": "display_data"
    },
    {
     "data": {
      "text/html": [
       "Tracking run with wandb version 0.16.3"
      ],
      "text/plain": [
       "<IPython.core.display.HTML object>"
      ]
     },
     "metadata": {},
     "output_type": "display_data"
    },
    {
     "data": {
      "text/html": [
       "Run data is saved locally in <code>/home/ubuntu/granPy/wandb/run-20240514_150923-6l1vmbgi</code>"
      ],
      "text/plain": [
       "<IPython.core.display.HTML object>"
      ]
     },
     "metadata": {},
     "output_type": "display_data"
    },
    {
     "data": {
      "text/html": [
       "Syncing run <strong><a href='https://wandb.ai/scialdonelab/granpy-dev/runs/6l1vmbgi' target=\"_blank\">quiet-sweep-16</a></strong> to <a href='https://wandb.ai/scialdonelab/granpy-dev' target=\"_blank\">Weights & Biases</a> (<a href='https://wandb.me/run' target=\"_blank\">docs</a>)<br/>Sweep page: <a href='https://wandb.ai/scialdonelab/granpy-dev/sweeps/c10b9ffu' target=\"_blank\">https://wandb.ai/scialdonelab/granpy-dev/sweeps/c10b9ffu</a>"
      ],
      "text/plain": [
       "<IPython.core.display.HTML object>"
      ]
     },
     "metadata": {},
     "output_type": "display_data"
    },
    {
     "data": {
      "text/html": [
       " View project at <a href='https://wandb.ai/scialdonelab/granpy-dev' target=\"_blank\">https://wandb.ai/scialdonelab/granpy-dev</a>"
      ],
      "text/plain": [
       "<IPython.core.display.HTML object>"
      ]
     },
     "metadata": {},
     "output_type": "display_data"
    },
    {
     "data": {
      "text/html": [
       " View sweep at <a href='https://wandb.ai/scialdonelab/granpy-dev/sweeps/c10b9ffu' target=\"_blank\">https://wandb.ai/scialdonelab/granpy-dev/sweeps/c10b9ffu</a>"
      ],
      "text/plain": [
       "<IPython.core.display.HTML object>"
      ]
     },
     "metadata": {},
     "output_type": "display_data"
    },
    {
     "data": {
      "text/html": [
       " View run at <a href='https://wandb.ai/scialdonelab/granpy-dev/runs/6l1vmbgi' target=\"_blank\">https://wandb.ai/scialdonelab/granpy-dev/runs/6l1vmbgi</a>"
      ],
      "text/plain": [
       "<IPython.core.display.HTML object>"
      ]
     },
     "metadata": {},
     "output_type": "display_data"
    },
    {
     "name": "stderr",
     "output_type": "stream",
     "text": [
      "Best average_precision_score: 0.9319123802317344:   6%|▋         | 32/500 [00:03<00:53,  8.75it/s]\n"
     ]
    },
    {
     "data": {
      "application/vnd.jupyter.widget-view+json": {
       "model_id": "098f78d48acf4a3288d44d8b84540485",
       "version_major": 2,
       "version_minor": 0
      },
      "text/plain": [
       "VBox(children=(Label(value='1.527 MB of 1.527 MB uploaded\\r'), FloatProgress(value=1.0, max=1.0)))"
      ]
     },
     "metadata": {},
     "output_type": "display_data"
    },
    {
     "data": {
      "text/html": [
       "<style>\n",
       "    table.wandb td:nth-child(1) { padding: 0 10px; text-align: left ; width: auto;} td:nth-child(2) {text-align: left ; width: 100%}\n",
       "    .wandb-row { display: flex; flex-direction: row; flex-wrap: wrap; justify-content: flex-start; width: 100% }\n",
       "    .wandb-col { display: flex; flex-direction: column; flex-basis: 100%; flex: 1; padding: 10px; }\n",
       "    </style>\n",
       "<div class=\"wandb-row\"><div class=\"wandb-col\"><h3>Run history:</h3><br/><table class=\"wandb\"><tr><td>average_precision_score</td><td>▁</td></tr><tr><td>roc_auc_score</td><td>▁</td></tr><tr><td>train_loss</td><td>██████▇▇▇▇▇▇▇▆▆▆▆▆▅▅▅▄▄▃▃▄▂▂▃▁▃▁▁</td></tr><tr><td>val_average_precision_score</td><td>████████████████▇▇▇▇▇▇▇▆▆▅▆▇▅▁▃▅▅</td></tr><tr><td>val_loss</td><td>██████▇▇▇▇▇▇▇▆▆▆▆▆▆▅▅▅▅▄▄▄▄▄▃▃▂▂▁</td></tr></table><br/></div><div class=\"wandb-col\"><h3>Run summary:</h3><br/><table class=\"wandb\"><tr><td>average_precision_score</td><td>0.94926</td></tr><tr><td>roc_auc_score</td><td>0.85952</td></tr><tr><td>train_loss</td><td>1.43785</td></tr><tr><td>val_average_precision_score</td><td>0.92266</td></tr><tr><td>val_loss</td><td>1.43641</td></tr></table><br/></div></div>"
      ],
      "text/plain": [
       "<IPython.core.display.HTML object>"
      ]
     },
     "metadata": {},
     "output_type": "display_data"
    },
    {
     "data": {
      "text/html": [
       " View run <strong style=\"color:#cdcd00\">quiet-sweep-16</strong> at: <a href='https://wandb.ai/scialdonelab/granpy-dev/runs/6l1vmbgi' target=\"_blank\">https://wandb.ai/scialdonelab/granpy-dev/runs/6l1vmbgi</a><br/>Synced 7 W&B file(s), 0 media file(s), 1 artifact file(s) and 1 other file(s)"
      ],
      "text/plain": [
       "<IPython.core.display.HTML object>"
      ]
     },
     "metadata": {},
     "output_type": "display_data"
    },
    {
     "data": {
      "text/html": [
       "Find logs at: <code>./wandb/run-20240514_150923-6l1vmbgi/logs</code>"
      ],
      "text/plain": [
       "<IPython.core.display.HTML object>"
      ]
     },
     "metadata": {},
     "output_type": "display_data"
    },
    {
     "name": "stderr",
     "output_type": "stream",
     "text": [
      "\u001b[34m\u001b[1mwandb\u001b[0m: Agent Starting Run: 38s0qh44 with config:\n",
      "\u001b[34m\u001b[1mwandb\u001b[0m: \tdropout_ratio: 0.20815932170336013\n",
      "\u001b[34m\u001b[1mwandb\u001b[0m: \tlatent_dim: 32\n",
      "\u001b[34m\u001b[1mwandb\u001b[0m: \tlr: 0.009212339516845185\n",
      "\u001b[34m\u001b[1mwandb\u001b[0m: \tn_conv_layers: 1\n",
      "\u001b[34m\u001b[1mwandb\u001b[0m: \tnegative_sampling: unstructured\n",
      "\u001b[34m\u001b[1mwandb\u001b[0m: \u001b[33mWARNING\u001b[0m Ignored wandb.init() arg project when running a sweep.\n",
      "\u001b[34m\u001b[1mwandb\u001b[0m: \u001b[33mWARNING\u001b[0m Ignored wandb.init() arg entity when running a sweep.\n"
     ]
    },
    {
     "data": {
      "text/html": [
       "wandb version 0.17.0 is available!  To upgrade, please run:\n",
       " $ pip install wandb --upgrade"
      ],
      "text/plain": [
       "<IPython.core.display.HTML object>"
      ]
     },
     "metadata": {},
     "output_type": "display_data"
    },
    {
     "data": {
      "text/html": [
       "Tracking run with wandb version 0.16.3"
      ],
      "text/plain": [
       "<IPython.core.display.HTML object>"
      ]
     },
     "metadata": {},
     "output_type": "display_data"
    },
    {
     "data": {
      "text/html": [
       "Run data is saved locally in <code>/home/ubuntu/granPy/wandb/run-20240514_150944-38s0qh44</code>"
      ],
      "text/plain": [
       "<IPython.core.display.HTML object>"
      ]
     },
     "metadata": {},
     "output_type": "display_data"
    },
    {
     "data": {
      "text/html": [
       "Syncing run <strong><a href='https://wandb.ai/scialdonelab/granpy-dev/runs/38s0qh44' target=\"_blank\">dutiful-sweep-17</a></strong> to <a href='https://wandb.ai/scialdonelab/granpy-dev' target=\"_blank\">Weights & Biases</a> (<a href='https://wandb.me/run' target=\"_blank\">docs</a>)<br/>Sweep page: <a href='https://wandb.ai/scialdonelab/granpy-dev/sweeps/c10b9ffu' target=\"_blank\">https://wandb.ai/scialdonelab/granpy-dev/sweeps/c10b9ffu</a>"
      ],
      "text/plain": [
       "<IPython.core.display.HTML object>"
      ]
     },
     "metadata": {},
     "output_type": "display_data"
    },
    {
     "data": {
      "text/html": [
       " View project at <a href='https://wandb.ai/scialdonelab/granpy-dev' target=\"_blank\">https://wandb.ai/scialdonelab/granpy-dev</a>"
      ],
      "text/plain": [
       "<IPython.core.display.HTML object>"
      ]
     },
     "metadata": {},
     "output_type": "display_data"
    },
    {
     "data": {
      "text/html": [
       " View sweep at <a href='https://wandb.ai/scialdonelab/granpy-dev/sweeps/c10b9ffu' target=\"_blank\">https://wandb.ai/scialdonelab/granpy-dev/sweeps/c10b9ffu</a>"
      ],
      "text/plain": [
       "<IPython.core.display.HTML object>"
      ]
     },
     "metadata": {},
     "output_type": "display_data"
    },
    {
     "data": {
      "text/html": [
       " View run at <a href='https://wandb.ai/scialdonelab/granpy-dev/runs/38s0qh44' target=\"_blank\">https://wandb.ai/scialdonelab/granpy-dev/runs/38s0qh44</a>"
      ],
      "text/plain": [
       "<IPython.core.display.HTML object>"
      ]
     },
     "metadata": {},
     "output_type": "display_data"
    },
    {
     "name": "stderr",
     "output_type": "stream",
     "text": [
      "Best average_precision_score: 0.9319140096388238:   7%|▋         | 33/500 [00:03<00:52,  8.82it/s]\n"
     ]
    },
    {
     "data": {
      "application/vnd.jupyter.widget-view+json": {
       "model_id": "4104563bf8bd4d0e8e7683e433ca8c95",
       "version_major": 2,
       "version_minor": 0
      },
      "text/plain": [
       "VBox(children=(Label(value='1.527 MB of 1.527 MB uploaded\\r'), FloatProgress(value=1.0, max=1.0)))"
      ]
     },
     "metadata": {},
     "output_type": "display_data"
    },
    {
     "data": {
      "text/html": [
       "<style>\n",
       "    table.wandb td:nth-child(1) { padding: 0 10px; text-align: left ; width: auto;} td:nth-child(2) {text-align: left ; width: 100%}\n",
       "    .wandb-row { display: flex; flex-direction: row; flex-wrap: wrap; justify-content: flex-start; width: 100% }\n",
       "    .wandb-col { display: flex; flex-direction: column; flex-basis: 100%; flex: 1; padding: 10px; }\n",
       "    </style>\n",
       "<div class=\"wandb-row\"><div class=\"wandb-col\"><h3>Run history:</h3><br/><table class=\"wandb\"><tr><td>average_precision_score</td><td>▁</td></tr><tr><td>roc_auc_score</td><td>▁</td></tr><tr><td>train_loss</td><td>████████▇▇▇▇▇▆▆▇▇▆▆▆▅▅▅▄▅▄▄▃▃▂▃▂▂▁</td></tr><tr><td>val_average_precision_score</td><td>███████████████████████████▇██▇▁▆▇</td></tr><tr><td>val_loss</td><td>███████▇▇▇▇▇▇▇▆▆▆▆▆▅▅▅▅▄▄▄▄▃▃▃▂▃▂▁</td></tr></table><br/></div><div class=\"wandb-col\"><h3>Run summary:</h3><br/><table class=\"wandb\"><tr><td>average_precision_score</td><td>0.94934</td></tr><tr><td>roc_auc_score</td><td>0.85931</td></tr><tr><td>train_loss</td><td>1.43582</td></tr><tr><td>val_average_precision_score</td><td>0.92198</td></tr><tr><td>val_loss</td><td>1.43673</td></tr></table><br/></div></div>"
      ],
      "text/plain": [
       "<IPython.core.display.HTML object>"
      ]
     },
     "metadata": {},
     "output_type": "display_data"
    },
    {
     "data": {
      "text/html": [
       " View run <strong style=\"color:#cdcd00\">dutiful-sweep-17</strong> at: <a href='https://wandb.ai/scialdonelab/granpy-dev/runs/38s0qh44' target=\"_blank\">https://wandb.ai/scialdonelab/granpy-dev/runs/38s0qh44</a><br/>Synced 7 W&B file(s), 0 media file(s), 1 artifact file(s) and 1 other file(s)"
      ],
      "text/plain": [
       "<IPython.core.display.HTML object>"
      ]
     },
     "metadata": {},
     "output_type": "display_data"
    },
    {
     "data": {
      "text/html": [
       "Find logs at: <code>./wandb/run-20240514_150944-38s0qh44/logs</code>"
      ],
      "text/plain": [
       "<IPython.core.display.HTML object>"
      ]
     },
     "metadata": {},
     "output_type": "display_data"
    },
    {
     "name": "stderr",
     "output_type": "stream",
     "text": [
      "\u001b[34m\u001b[1mwandb\u001b[0m: Agent Starting Run: mrgk52z4 with config:\n",
      "\u001b[34m\u001b[1mwandb\u001b[0m: \tdropout_ratio: 0.13572871467288125\n",
      "\u001b[34m\u001b[1mwandb\u001b[0m: \tlatent_dim: 32\n",
      "\u001b[34m\u001b[1mwandb\u001b[0m: \tlr: 0.007852007153032367\n",
      "\u001b[34m\u001b[1mwandb\u001b[0m: \tn_conv_layers: 2\n",
      "\u001b[34m\u001b[1mwandb\u001b[0m: \tnegative_sampling: unstructured\n",
      "\u001b[34m\u001b[1mwandb\u001b[0m: \u001b[33mWARNING\u001b[0m Ignored wandb.init() arg project when running a sweep.\n",
      "\u001b[34m\u001b[1mwandb\u001b[0m: \u001b[33mWARNING\u001b[0m Ignored wandb.init() arg entity when running a sweep.\n"
     ]
    },
    {
     "data": {
      "text/html": [
       "wandb version 0.17.0 is available!  To upgrade, please run:\n",
       " $ pip install wandb --upgrade"
      ],
      "text/plain": [
       "<IPython.core.display.HTML object>"
      ]
     },
     "metadata": {},
     "output_type": "display_data"
    },
    {
     "data": {
      "text/html": [
       "Tracking run with wandb version 0.16.3"
      ],
      "text/plain": [
       "<IPython.core.display.HTML object>"
      ]
     },
     "metadata": {},
     "output_type": "display_data"
    },
    {
     "data": {
      "text/html": [
       "Run data is saved locally in <code>/home/ubuntu/granPy/wandb/run-20240514_151005-mrgk52z4</code>"
      ],
      "text/plain": [
       "<IPython.core.display.HTML object>"
      ]
     },
     "metadata": {},
     "output_type": "display_data"
    },
    {
     "data": {
      "text/html": [
       "Syncing run <strong><a href='https://wandb.ai/scialdonelab/granpy-dev/runs/mrgk52z4' target=\"_blank\">driven-sweep-18</a></strong> to <a href='https://wandb.ai/scialdonelab/granpy-dev' target=\"_blank\">Weights & Biases</a> (<a href='https://wandb.me/run' target=\"_blank\">docs</a>)<br/>Sweep page: <a href='https://wandb.ai/scialdonelab/granpy-dev/sweeps/c10b9ffu' target=\"_blank\">https://wandb.ai/scialdonelab/granpy-dev/sweeps/c10b9ffu</a>"
      ],
      "text/plain": [
       "<IPython.core.display.HTML object>"
      ]
     },
     "metadata": {},
     "output_type": "display_data"
    },
    {
     "data": {
      "text/html": [
       " View project at <a href='https://wandb.ai/scialdonelab/granpy-dev' target=\"_blank\">https://wandb.ai/scialdonelab/granpy-dev</a>"
      ],
      "text/plain": [
       "<IPython.core.display.HTML object>"
      ]
     },
     "metadata": {},
     "output_type": "display_data"
    },
    {
     "data": {
      "text/html": [
       " View sweep at <a href='https://wandb.ai/scialdonelab/granpy-dev/sweeps/c10b9ffu' target=\"_blank\">https://wandb.ai/scialdonelab/granpy-dev/sweeps/c10b9ffu</a>"
      ],
      "text/plain": [
       "<IPython.core.display.HTML object>"
      ]
     },
     "metadata": {},
     "output_type": "display_data"
    },
    {
     "data": {
      "text/html": [
       " View run at <a href='https://wandb.ai/scialdonelab/granpy-dev/runs/mrgk52z4' target=\"_blank\">https://wandb.ai/scialdonelab/granpy-dev/runs/mrgk52z4</a>"
      ],
      "text/plain": [
       "<IPython.core.display.HTML object>"
      ]
     },
     "metadata": {},
     "output_type": "display_data"
    },
    {
     "name": "stderr",
     "output_type": "stream",
     "text": [
      "Best average_precision_score: 0.9314557116914879:   8%|▊         | 39/500 [00:04<00:52,  8.82it/s]\n"
     ]
    },
    {
     "data": {
      "application/vnd.jupyter.widget-view+json": {
       "model_id": "a9c57880bf754d78b1974c6f697e63d9",
       "version_major": 2,
       "version_minor": 0
      },
      "text/plain": [
       "VBox(children=(Label(value='1.527 MB of 1.527 MB uploaded\\r'), FloatProgress(value=1.0, max=1.0)))"
      ]
     },
     "metadata": {},
     "output_type": "display_data"
    },
    {
     "data": {
      "text/html": [
       "<style>\n",
       "    table.wandb td:nth-child(1) { padding: 0 10px; text-align: left ; width: auto;} td:nth-child(2) {text-align: left ; width: 100%}\n",
       "    .wandb-row { display: flex; flex-direction: row; flex-wrap: wrap; justify-content: flex-start; width: 100% }\n",
       "    .wandb-col { display: flex; flex-direction: column; flex-basis: 100%; flex: 1; padding: 10px; }\n",
       "    </style>\n",
       "<div class=\"wandb-row\"><div class=\"wandb-col\"><h3>Run history:</h3><br/><table class=\"wandb\"><tr><td>average_precision_score</td><td>▁</td></tr><tr><td>roc_auc_score</td><td>▁</td></tr><tr><td>train_loss</td><td>█████████▇▇▇▇▇▇▇▇▇▇▆▆▆▆▅▅▅▅▅▅▄▄▄▃▄▄▃▁▂▁▂</td></tr><tr><td>val_average_precision_score</td><td>████████████████████▇███▇▇▇▇▇▆▇▇▇▄▄▇▇▇▄▁</td></tr><tr><td>val_loss</td><td>████████▇▇▇▇▇▇▇▇▇▆▆▆▆▆▆▅▅▅▅▅▄▄▃▃▃▃▃▂▃▁▁▁</td></tr></table><br/></div><div class=\"wandb-col\"><h3>Run summary:</h3><br/><table class=\"wandb\"><tr><td>average_precision_score</td><td>0.94884</td></tr><tr><td>roc_auc_score</td><td>0.8581</td></tr><tr><td>train_loss</td><td>1.42984</td></tr><tr><td>val_average_precision_score</td><td>0.86509</td></tr><tr><td>val_loss</td><td>1.42974</td></tr></table><br/></div></div>"
      ],
      "text/plain": [
       "<IPython.core.display.HTML object>"
      ]
     },
     "metadata": {},
     "output_type": "display_data"
    },
    {
     "data": {
      "text/html": [
       " View run <strong style=\"color:#cdcd00\">driven-sweep-18</strong> at: <a href='https://wandb.ai/scialdonelab/granpy-dev/runs/mrgk52z4' target=\"_blank\">https://wandb.ai/scialdonelab/granpy-dev/runs/mrgk52z4</a><br/>Synced 7 W&B file(s), 0 media file(s), 1 artifact file(s) and 1 other file(s)"
      ],
      "text/plain": [
       "<IPython.core.display.HTML object>"
      ]
     },
     "metadata": {},
     "output_type": "display_data"
    },
    {
     "data": {
      "text/html": [
       "Find logs at: <code>./wandb/run-20240514_151005-mrgk52z4/logs</code>"
      ],
      "text/plain": [
       "<IPython.core.display.HTML object>"
      ]
     },
     "metadata": {},
     "output_type": "display_data"
    },
    {
     "name": "stderr",
     "output_type": "stream",
     "text": [
      "\u001b[34m\u001b[1mwandb\u001b[0m: Agent Starting Run: 1gyyd3ld with config:\n",
      "\u001b[34m\u001b[1mwandb\u001b[0m: \tdropout_ratio: 0.3054482890119522\n",
      "\u001b[34m\u001b[1mwandb\u001b[0m: \tlatent_dim: 64\n",
      "\u001b[34m\u001b[1mwandb\u001b[0m: \tlr: 0.008442653601286185\n",
      "\u001b[34m\u001b[1mwandb\u001b[0m: \tn_conv_layers: 2\n",
      "\u001b[34m\u001b[1mwandb\u001b[0m: \tnegative_sampling: unstructured\n",
      "\u001b[34m\u001b[1mwandb\u001b[0m: \u001b[33mWARNING\u001b[0m Ignored wandb.init() arg project when running a sweep.\n",
      "\u001b[34m\u001b[1mwandb\u001b[0m: \u001b[33mWARNING\u001b[0m Ignored wandb.init() arg entity when running a sweep.\n"
     ]
    },
    {
     "data": {
      "text/html": [
       "wandb version 0.17.0 is available!  To upgrade, please run:\n",
       " $ pip install wandb --upgrade"
      ],
      "text/plain": [
       "<IPython.core.display.HTML object>"
      ]
     },
     "metadata": {},
     "output_type": "display_data"
    },
    {
     "data": {
      "text/html": [
       "Tracking run with wandb version 0.16.3"
      ],
      "text/plain": [
       "<IPython.core.display.HTML object>"
      ]
     },
     "metadata": {},
     "output_type": "display_data"
    },
    {
     "data": {
      "text/html": [
       "Run data is saved locally in <code>/home/ubuntu/granPy/wandb/run-20240514_151026-1gyyd3ld</code>"
      ],
      "text/plain": [
       "<IPython.core.display.HTML object>"
      ]
     },
     "metadata": {},
     "output_type": "display_data"
    },
    {
     "data": {
      "text/html": [
       "Syncing run <strong><a href='https://wandb.ai/scialdonelab/granpy-dev/runs/1gyyd3ld' target=\"_blank\">toasty-sweep-19</a></strong> to <a href='https://wandb.ai/scialdonelab/granpy-dev' target=\"_blank\">Weights & Biases</a> (<a href='https://wandb.me/run' target=\"_blank\">docs</a>)<br/>Sweep page: <a href='https://wandb.ai/scialdonelab/granpy-dev/sweeps/c10b9ffu' target=\"_blank\">https://wandb.ai/scialdonelab/granpy-dev/sweeps/c10b9ffu</a>"
      ],
      "text/plain": [
       "<IPython.core.display.HTML object>"
      ]
     },
     "metadata": {},
     "output_type": "display_data"
    },
    {
     "data": {
      "text/html": [
       " View project at <a href='https://wandb.ai/scialdonelab/granpy-dev' target=\"_blank\">https://wandb.ai/scialdonelab/granpy-dev</a>"
      ],
      "text/plain": [
       "<IPython.core.display.HTML object>"
      ]
     },
     "metadata": {},
     "output_type": "display_data"
    },
    {
     "data": {
      "text/html": [
       " View sweep at <a href='https://wandb.ai/scialdonelab/granpy-dev/sweeps/c10b9ffu' target=\"_blank\">https://wandb.ai/scialdonelab/granpy-dev/sweeps/c10b9ffu</a>"
      ],
      "text/plain": [
       "<IPython.core.display.HTML object>"
      ]
     },
     "metadata": {},
     "output_type": "display_data"
    },
    {
     "data": {
      "text/html": [
       " View run at <a href='https://wandb.ai/scialdonelab/granpy-dev/runs/1gyyd3ld' target=\"_blank\">https://wandb.ai/scialdonelab/granpy-dev/runs/1gyyd3ld</a>"
      ],
      "text/plain": [
       "<IPython.core.display.HTML object>"
      ]
     },
     "metadata": {},
     "output_type": "display_data"
    },
    {
     "name": "stderr",
     "output_type": "stream",
     "text": [
      "Best average_precision_score: 0.9317702513084196:   7%|▋         | 37/500 [00:04<00:52,  8.83it/s]\n"
     ]
    },
    {
     "data": {
      "application/vnd.jupyter.widget-view+json": {
       "model_id": "df5e50ba88ca45fab5dcf3b4024ee310",
       "version_major": 2,
       "version_minor": 0
      },
      "text/plain": [
       "VBox(children=(Label(value='1.527 MB of 1.527 MB uploaded\\r'), FloatProgress(value=1.0, max=1.0)))"
      ]
     },
     "metadata": {},
     "output_type": "display_data"
    },
    {
     "data": {
      "text/html": [
       "<style>\n",
       "    table.wandb td:nth-child(1) { padding: 0 10px; text-align: left ; width: auto;} td:nth-child(2) {text-align: left ; width: 100%}\n",
       "    .wandb-row { display: flex; flex-direction: row; flex-wrap: wrap; justify-content: flex-start; width: 100% }\n",
       "    .wandb-col { display: flex; flex-direction: column; flex-basis: 100%; flex: 1; padding: 10px; }\n",
       "    </style>\n",
       "<div class=\"wandb-row\"><div class=\"wandb-col\"><h3>Run history:</h3><br/><table class=\"wandb\"><tr><td>average_precision_score</td><td>▁</td></tr><tr><td>roc_auc_score</td><td>▁</td></tr><tr><td>train_loss</td><td>██████████▇▇▇▇▇▇▇▇▆▆▆▆▆▅▅▅▅▅▅▄▄▄▄▃▃▂▃▁</td></tr><tr><td>val_average_precision_score</td><td>██████████████████████▇███▇▇▇▇▇▇▇▇▆▁▆▇</td></tr><tr><td>val_loss</td><td>████████▇▇▇▇▇▇▇▇▇▆▆▆▆▆▅▅▅▅▄▄▄▄▃▃▃▂▂▂▁▁</td></tr></table><br/></div><div class=\"wandb-col\"><h3>Run summary:</h3><br/><table class=\"wandb\"><tr><td>average_precision_score</td><td>0.949</td></tr><tr><td>roc_auc_score</td><td>0.85866</td></tr><tr><td>train_loss</td><td>1.42903</td></tr><tr><td>val_average_precision_score</td><td>0.91933</td></tr><tr><td>val_loss</td><td>1.43164</td></tr></table><br/></div></div>"
      ],
      "text/plain": [
       "<IPython.core.display.HTML object>"
      ]
     },
     "metadata": {},
     "output_type": "display_data"
    },
    {
     "data": {
      "text/html": [
       " View run <strong style=\"color:#cdcd00\">toasty-sweep-19</strong> at: <a href='https://wandb.ai/scialdonelab/granpy-dev/runs/1gyyd3ld' target=\"_blank\">https://wandb.ai/scialdonelab/granpy-dev/runs/1gyyd3ld</a><br/>Synced 7 W&B file(s), 0 media file(s), 1 artifact file(s) and 1 other file(s)"
      ],
      "text/plain": [
       "<IPython.core.display.HTML object>"
      ]
     },
     "metadata": {},
     "output_type": "display_data"
    },
    {
     "data": {
      "text/html": [
       "Find logs at: <code>./wandb/run-20240514_151026-1gyyd3ld/logs</code>"
      ],
      "text/plain": [
       "<IPython.core.display.HTML object>"
      ]
     },
     "metadata": {},
     "output_type": "display_data"
    },
    {
     "name": "stderr",
     "output_type": "stream",
     "text": [
      "\u001b[34m\u001b[1mwandb\u001b[0m: Agent Starting Run: gjkesc5t with config:\n",
      "\u001b[34m\u001b[1mwandb\u001b[0m: \tdropout_ratio: 0.28915998970112855\n",
      "\u001b[34m\u001b[1mwandb\u001b[0m: \tlatent_dim: 16\n",
      "\u001b[34m\u001b[1mwandb\u001b[0m: \tlr: 0.007133649502522479\n",
      "\u001b[34m\u001b[1mwandb\u001b[0m: \tn_conv_layers: 2\n",
      "\u001b[34m\u001b[1mwandb\u001b[0m: \tnegative_sampling: unstructured\n",
      "\u001b[34m\u001b[1mwandb\u001b[0m: \u001b[33mWARNING\u001b[0m Ignored wandb.init() arg project when running a sweep.\n",
      "\u001b[34m\u001b[1mwandb\u001b[0m: \u001b[33mWARNING\u001b[0m Ignored wandb.init() arg entity when running a sweep.\n"
     ]
    },
    {
     "data": {
      "text/html": [
       "wandb version 0.17.0 is available!  To upgrade, please run:\n",
       " $ pip install wandb --upgrade"
      ],
      "text/plain": [
       "<IPython.core.display.HTML object>"
      ]
     },
     "metadata": {},
     "output_type": "display_data"
    },
    {
     "data": {
      "text/html": [
       "Tracking run with wandb version 0.16.3"
      ],
      "text/plain": [
       "<IPython.core.display.HTML object>"
      ]
     },
     "metadata": {},
     "output_type": "display_data"
    },
    {
     "data": {
      "text/html": [
       "Run data is saved locally in <code>/home/ubuntu/granPy/wandb/run-20240514_151047-gjkesc5t</code>"
      ],
      "text/plain": [
       "<IPython.core.display.HTML object>"
      ]
     },
     "metadata": {},
     "output_type": "display_data"
    },
    {
     "data": {
      "text/html": [
       "Syncing run <strong><a href='https://wandb.ai/scialdonelab/granpy-dev/runs/gjkesc5t' target=\"_blank\">decent-sweep-20</a></strong> to <a href='https://wandb.ai/scialdonelab/granpy-dev' target=\"_blank\">Weights & Biases</a> (<a href='https://wandb.me/run' target=\"_blank\">docs</a>)<br/>Sweep page: <a href='https://wandb.ai/scialdonelab/granpy-dev/sweeps/c10b9ffu' target=\"_blank\">https://wandb.ai/scialdonelab/granpy-dev/sweeps/c10b9ffu</a>"
      ],
      "text/plain": [
       "<IPython.core.display.HTML object>"
      ]
     },
     "metadata": {},
     "output_type": "display_data"
    },
    {
     "data": {
      "text/html": [
       " View project at <a href='https://wandb.ai/scialdonelab/granpy-dev' target=\"_blank\">https://wandb.ai/scialdonelab/granpy-dev</a>"
      ],
      "text/plain": [
       "<IPython.core.display.HTML object>"
      ]
     },
     "metadata": {},
     "output_type": "display_data"
    },
    {
     "data": {
      "text/html": [
       " View sweep at <a href='https://wandb.ai/scialdonelab/granpy-dev/sweeps/c10b9ffu' target=\"_blank\">https://wandb.ai/scialdonelab/granpy-dev/sweeps/c10b9ffu</a>"
      ],
      "text/plain": [
       "<IPython.core.display.HTML object>"
      ]
     },
     "metadata": {},
     "output_type": "display_data"
    },
    {
     "data": {
      "text/html": [
       " View run at <a href='https://wandb.ai/scialdonelab/granpy-dev/runs/gjkesc5t' target=\"_blank\">https://wandb.ai/scialdonelab/granpy-dev/runs/gjkesc5t</a>"
      ],
      "text/plain": [
       "<IPython.core.display.HTML object>"
      ]
     },
     "metadata": {},
     "output_type": "display_data"
    },
    {
     "name": "stderr",
     "output_type": "stream",
     "text": [
      "Best average_precision_score: 0.9314191098549857:   7%|▋         | 34/500 [00:03<00:52,  8.79it/s]\n"
     ]
    },
    {
     "data": {
      "application/vnd.jupyter.widget-view+json": {
       "model_id": "da1169f746bf4060aa6c93fb0c4b0dda",
       "version_major": 2,
       "version_minor": 0
      },
      "text/plain": [
       "VBox(children=(Label(value='0.006 MB of 1.527 MB uploaded\\r'), FloatProgress(value=0.004250613207311529, max=1…"
      ]
     },
     "metadata": {},
     "output_type": "display_data"
    },
    {
     "data": {
      "text/html": [
       "<style>\n",
       "    table.wandb td:nth-child(1) { padding: 0 10px; text-align: left ; width: auto;} td:nth-child(2) {text-align: left ; width: 100%}\n",
       "    .wandb-row { display: flex; flex-direction: row; flex-wrap: wrap; justify-content: flex-start; width: 100% }\n",
       "    .wandb-col { display: flex; flex-direction: column; flex-basis: 100%; flex: 1; padding: 10px; }\n",
       "    </style>\n",
       "<div class=\"wandb-row\"><div class=\"wandb-col\"><h3>Run history:</h3><br/><table class=\"wandb\"><tr><td>average_precision_score</td><td>▁</td></tr><tr><td>roc_auc_score</td><td>▁</td></tr><tr><td>train_loss</td><td>███████▇▇▇▇▇▇▇▇▇▆▇▆▆▆▆▅▆▅▄▄▅▄▃▃▄▃▂▁</td></tr><tr><td>val_average_precision_score</td><td>████████████████▇▇▇▇▇▇▇▇▆▅▇▆▄▂▅▄▅▃▁</td></tr><tr><td>val_loss</td><td>███████▇▇▇▇▇▇▇▇▆▆▆▆▆▅▅▅▅▄▄▄▄▃▃▃▂▂▁▁</td></tr></table><br/></div><div class=\"wandb-col\"><h3>Run summary:</h3><br/><table class=\"wandb\"><tr><td>average_precision_score</td><td>0.94894</td></tr><tr><td>roc_auc_score</td><td>0.85884</td></tr><tr><td>train_loss</td><td>1.43219</td></tr><tr><td>val_average_precision_score</td><td>0.90723</td></tr><tr><td>val_loss</td><td>1.43365</td></tr></table><br/></div></div>"
      ],
      "text/plain": [
       "<IPython.core.display.HTML object>"
      ]
     },
     "metadata": {},
     "output_type": "display_data"
    },
    {
     "data": {
      "text/html": [
       " View run <strong style=\"color:#cdcd00\">decent-sweep-20</strong> at: <a href='https://wandb.ai/scialdonelab/granpy-dev/runs/gjkesc5t' target=\"_blank\">https://wandb.ai/scialdonelab/granpy-dev/runs/gjkesc5t</a><br/>Synced 7 W&B file(s), 0 media file(s), 1 artifact file(s) and 1 other file(s)"
      ],
      "text/plain": [
       "<IPython.core.display.HTML object>"
      ]
     },
     "metadata": {},
     "output_type": "display_data"
    },
    {
     "data": {
      "text/html": [
       "Find logs at: <code>./wandb/run-20240514_151047-gjkesc5t/logs</code>"
      ],
      "text/plain": [
       "<IPython.core.display.HTML object>"
      ]
     },
     "metadata": {},
     "output_type": "display_data"
    },
    {
     "name": "stderr",
     "output_type": "stream",
     "text": [
      "\u001b[34m\u001b[1mwandb\u001b[0m: Sweep Agent: Waiting for job.\n",
      "\u001b[34m\u001b[1mwandb\u001b[0m: Job received.\n",
      "\u001b[34m\u001b[1mwandb\u001b[0m: Agent Starting Run: ckpqg8gp with config:\n",
      "\u001b[34m\u001b[1mwandb\u001b[0m: \tdropout_ratio: 0.12760018274366727\n",
      "\u001b[34m\u001b[1mwandb\u001b[0m: \tlatent_dim: 64\n",
      "\u001b[34m\u001b[1mwandb\u001b[0m: \tlr: 0.002596424885620262\n",
      "\u001b[34m\u001b[1mwandb\u001b[0m: \tn_conv_layers: 2\n",
      "\u001b[34m\u001b[1mwandb\u001b[0m: \tnegative_sampling: unstructured\n",
      "\u001b[34m\u001b[1mwandb\u001b[0m: \u001b[33mWARNING\u001b[0m Ignored wandb.init() arg project when running a sweep.\n",
      "\u001b[34m\u001b[1mwandb\u001b[0m: \u001b[33mWARNING\u001b[0m Ignored wandb.init() arg entity when running a sweep.\n"
     ]
    },
    {
     "data": {
      "text/html": [
       "wandb version 0.17.0 is available!  To upgrade, please run:\n",
       " $ pip install wandb --upgrade"
      ],
      "text/plain": [
       "<IPython.core.display.HTML object>"
      ]
     },
     "metadata": {},
     "output_type": "display_data"
    },
    {
     "data": {
      "text/html": [
       "Tracking run with wandb version 0.16.3"
      ],
      "text/plain": [
       "<IPython.core.display.HTML object>"
      ]
     },
     "metadata": {},
     "output_type": "display_data"
    },
    {
     "data": {
      "text/html": [
       "Run data is saved locally in <code>/home/ubuntu/granPy/wandb/run-20240514_151114-ckpqg8gp</code>"
      ],
      "text/plain": [
       "<IPython.core.display.HTML object>"
      ]
     },
     "metadata": {},
     "output_type": "display_data"
    },
    {
     "data": {
      "text/html": [
       "Syncing run <strong><a href='https://wandb.ai/scialdonelab/granpy-dev/runs/ckpqg8gp' target=\"_blank\">chocolate-sweep-21</a></strong> to <a href='https://wandb.ai/scialdonelab/granpy-dev' target=\"_blank\">Weights & Biases</a> (<a href='https://wandb.me/run' target=\"_blank\">docs</a>)<br/>Sweep page: <a href='https://wandb.ai/scialdonelab/granpy-dev/sweeps/c10b9ffu' target=\"_blank\">https://wandb.ai/scialdonelab/granpy-dev/sweeps/c10b9ffu</a>"
      ],
      "text/plain": [
       "<IPython.core.display.HTML object>"
      ]
     },
     "metadata": {},
     "output_type": "display_data"
    },
    {
     "data": {
      "text/html": [
       " View project at <a href='https://wandb.ai/scialdonelab/granpy-dev' target=\"_blank\">https://wandb.ai/scialdonelab/granpy-dev</a>"
      ],
      "text/plain": [
       "<IPython.core.display.HTML object>"
      ]
     },
     "metadata": {},
     "output_type": "display_data"
    },
    {
     "data": {
      "text/html": [
       " View sweep at <a href='https://wandb.ai/scialdonelab/granpy-dev/sweeps/c10b9ffu' target=\"_blank\">https://wandb.ai/scialdonelab/granpy-dev/sweeps/c10b9ffu</a>"
      ],
      "text/plain": [
       "<IPython.core.display.HTML object>"
      ]
     },
     "metadata": {},
     "output_type": "display_data"
    },
    {
     "data": {
      "text/html": [
       " View run at <a href='https://wandb.ai/scialdonelab/granpy-dev/runs/ckpqg8gp' target=\"_blank\">https://wandb.ai/scialdonelab/granpy-dev/runs/ckpqg8gp</a>"
      ],
      "text/plain": [
       "<IPython.core.display.HTML object>"
      ]
     },
     "metadata": {},
     "output_type": "display_data"
    },
    {
     "name": "stderr",
     "output_type": "stream",
     "text": [
      "Best average_precision_score: 0.9316826317552795:   6%|▋         | 32/500 [00:03<00:53,  8.83it/s]\n"
     ]
    },
    {
     "data": {
      "application/vnd.jupyter.widget-view+json": {
       "model_id": "8cc8813743484fa8b54437ea964ce85a",
       "version_major": 2,
       "version_minor": 0
      },
      "text/plain": [
       "VBox(children=(Label(value='1.527 MB of 1.527 MB uploaded\\r'), FloatProgress(value=1.0, max=1.0)))"
      ]
     },
     "metadata": {},
     "output_type": "display_data"
    },
    {
     "data": {
      "text/html": [
       "<style>\n",
       "    table.wandb td:nth-child(1) { padding: 0 10px; text-align: left ; width: auto;} td:nth-child(2) {text-align: left ; width: 100%}\n",
       "    .wandb-row { display: flex; flex-direction: row; flex-wrap: wrap; justify-content: flex-start; width: 100% }\n",
       "    .wandb-col { display: flex; flex-direction: column; flex-basis: 100%; flex: 1; padding: 10px; }\n",
       "    </style>\n",
       "<div class=\"wandb-row\"><div class=\"wandb-col\"><h3>Run history:</h3><br/><table class=\"wandb\"><tr><td>average_precision_score</td><td>▁</td></tr><tr><td>roc_auc_score</td><td>▁</td></tr><tr><td>train_loss</td><td>████████▇▇▇▇▇▇▆▆▆▆▆▆▆▅▅▅▄▄▅▄▄▃▃▂▁</td></tr><tr><td>val_average_precision_score</td><td>██████████████▇▇▇▇▇▇▇▇▅▅▆▇▅▃▃▅▅▃▁</td></tr><tr><td>val_loss</td><td>███████▇▇▇▇▇▇▇▆▆▆▆▆▅▅▅▅▄▄▅▃▃▃▂▂▁▁</td></tr></table><br/></div><div class=\"wandb-col\"><h3>Run summary:</h3><br/><table class=\"wandb\"><tr><td>average_precision_score</td><td>0.94934</td></tr><tr><td>roc_auc_score</td><td>0.85893</td></tr><tr><td>train_loss</td><td>1.43425</td></tr><tr><td>val_average_precision_score</td><td>0.91057</td></tr><tr><td>val_loss</td><td>1.43465</td></tr></table><br/></div></div>"
      ],
      "text/plain": [
       "<IPython.core.display.HTML object>"
      ]
     },
     "metadata": {},
     "output_type": "display_data"
    },
    {
     "data": {
      "text/html": [
       " View run <strong style=\"color:#cdcd00\">chocolate-sweep-21</strong> at: <a href='https://wandb.ai/scialdonelab/granpy-dev/runs/ckpqg8gp' target=\"_blank\">https://wandb.ai/scialdonelab/granpy-dev/runs/ckpqg8gp</a><br/>Synced 7 W&B file(s), 0 media file(s), 1 artifact file(s) and 1 other file(s)"
      ],
      "text/plain": [
       "<IPython.core.display.HTML object>"
      ]
     },
     "metadata": {},
     "output_type": "display_data"
    },
    {
     "data": {
      "text/html": [
       "Find logs at: <code>./wandb/run-20240514_151114-ckpqg8gp/logs</code>"
      ],
      "text/plain": [
       "<IPython.core.display.HTML object>"
      ]
     },
     "metadata": {},
     "output_type": "display_data"
    },
    {
     "name": "stderr",
     "output_type": "stream",
     "text": [
      "\u001b[34m\u001b[1mwandb\u001b[0m: Sweep Agent: Waiting for job.\n",
      "\u001b[34m\u001b[1mwandb\u001b[0m: Job received.\n",
      "\u001b[34m\u001b[1mwandb\u001b[0m: Agent Starting Run: 01ryrx1u with config:\n",
      "\u001b[34m\u001b[1mwandb\u001b[0m: \tdropout_ratio: 0.393488921489176\n",
      "\u001b[34m\u001b[1mwandb\u001b[0m: \tlatent_dim: 64\n",
      "\u001b[34m\u001b[1mwandb\u001b[0m: \tlr: 0.0010385002190319642\n",
      "\u001b[34m\u001b[1mwandb\u001b[0m: \tn_conv_layers: 2\n",
      "\u001b[34m\u001b[1mwandb\u001b[0m: \tnegative_sampling: unstructured\n",
      "\u001b[34m\u001b[1mwandb\u001b[0m: \u001b[33mWARNING\u001b[0m Ignored wandb.init() arg project when running a sweep.\n",
      "\u001b[34m\u001b[1mwandb\u001b[0m: \u001b[33mWARNING\u001b[0m Ignored wandb.init() arg entity when running a sweep.\n"
     ]
    },
    {
     "data": {
      "text/html": [
       "wandb version 0.17.0 is available!  To upgrade, please run:\n",
       " $ pip install wandb --upgrade"
      ],
      "text/plain": [
       "<IPython.core.display.HTML object>"
      ]
     },
     "metadata": {},
     "output_type": "display_data"
    },
    {
     "data": {
      "text/html": [
       "Tracking run with wandb version 0.16.3"
      ],
      "text/plain": [
       "<IPython.core.display.HTML object>"
      ]
     },
     "metadata": {},
     "output_type": "display_data"
    },
    {
     "data": {
      "text/html": [
       "Run data is saved locally in <code>/home/ubuntu/granPy/wandb/run-20240514_151141-01ryrx1u</code>"
      ],
      "text/plain": [
       "<IPython.core.display.HTML object>"
      ]
     },
     "metadata": {},
     "output_type": "display_data"
    },
    {
     "data": {
      "text/html": [
       "Syncing run <strong><a href='https://wandb.ai/scialdonelab/granpy-dev/runs/01ryrx1u' target=\"_blank\">solar-sweep-22</a></strong> to <a href='https://wandb.ai/scialdonelab/granpy-dev' target=\"_blank\">Weights & Biases</a> (<a href='https://wandb.me/run' target=\"_blank\">docs</a>)<br/>Sweep page: <a href='https://wandb.ai/scialdonelab/granpy-dev/sweeps/c10b9ffu' target=\"_blank\">https://wandb.ai/scialdonelab/granpy-dev/sweeps/c10b9ffu</a>"
      ],
      "text/plain": [
       "<IPython.core.display.HTML object>"
      ]
     },
     "metadata": {},
     "output_type": "display_data"
    },
    {
     "data": {
      "text/html": [
       " View project at <a href='https://wandb.ai/scialdonelab/granpy-dev' target=\"_blank\">https://wandb.ai/scialdonelab/granpy-dev</a>"
      ],
      "text/plain": [
       "<IPython.core.display.HTML object>"
      ]
     },
     "metadata": {},
     "output_type": "display_data"
    },
    {
     "data": {
      "text/html": [
       " View sweep at <a href='https://wandb.ai/scialdonelab/granpy-dev/sweeps/c10b9ffu' target=\"_blank\">https://wandb.ai/scialdonelab/granpy-dev/sweeps/c10b9ffu</a>"
      ],
      "text/plain": [
       "<IPython.core.display.HTML object>"
      ]
     },
     "metadata": {},
     "output_type": "display_data"
    },
    {
     "data": {
      "text/html": [
       " View run at <a href='https://wandb.ai/scialdonelab/granpy-dev/runs/01ryrx1u' target=\"_blank\">https://wandb.ai/scialdonelab/granpy-dev/runs/01ryrx1u</a>"
      ],
      "text/plain": [
       "<IPython.core.display.HTML object>"
      ]
     },
     "metadata": {},
     "output_type": "display_data"
    },
    {
     "name": "stderr",
     "output_type": "stream",
     "text": [
      "Best average_precision_score: 0.9314956675457843:   7%|▋         | 33/500 [00:03<00:55,  8.44it/s]\n"
     ]
    },
    {
     "data": {
      "application/vnd.jupyter.widget-view+json": {
       "model_id": "91a57cb53890496d8050cb308946d089",
       "version_major": 2,
       "version_minor": 0
      },
      "text/plain": [
       "VBox(children=(Label(value='1.527 MB of 1.527 MB uploaded\\r'), FloatProgress(value=1.0, max=1.0)))"
      ]
     },
     "metadata": {},
     "output_type": "display_data"
    },
    {
     "data": {
      "text/html": [
       "<style>\n",
       "    table.wandb td:nth-child(1) { padding: 0 10px; text-align: left ; width: auto;} td:nth-child(2) {text-align: left ; width: 100%}\n",
       "    .wandb-row { display: flex; flex-direction: row; flex-wrap: wrap; justify-content: flex-start; width: 100% }\n",
       "    .wandb-col { display: flex; flex-direction: column; flex-basis: 100%; flex: 1; padding: 10px; }\n",
       "    </style>\n",
       "<div class=\"wandb-row\"><div class=\"wandb-col\"><h3>Run history:</h3><br/><table class=\"wandb\"><tr><td>average_precision_score</td><td>▁</td></tr><tr><td>roc_auc_score</td><td>▁</td></tr><tr><td>train_loss</td><td>██████▇██▇▇▇▇▇▇▆▆▆▆▅▅▅▄▅▄▄▄▄▄▃▃▁▁▁</td></tr><tr><td>val_average_precision_score</td><td>█████████████████▇▇▇▇▇▇▆▆▇▅▁▅▅▅▄▂▁</td></tr><tr><td>val_loss</td><td>███████▇▇▇▇▇▇▇▆▆▆▆▆▅▅▅▅▄▄▅▄▄▃▃▂▂▁▁</td></tr></table><br/></div><div class=\"wandb-col\"><h3>Run summary:</h3><br/><table class=\"wandb\"><tr><td>average_precision_score</td><td>0.94923</td></tr><tr><td>roc_auc_score</td><td>0.85879</td></tr><tr><td>train_loss</td><td>1.43597</td></tr><tr><td>val_average_precision_score</td><td>0.91398</td></tr><tr><td>val_loss</td><td>1.43537</td></tr></table><br/></div></div>"
      ],
      "text/plain": [
       "<IPython.core.display.HTML object>"
      ]
     },
     "metadata": {},
     "output_type": "display_data"
    },
    {
     "data": {
      "text/html": [
       " View run <strong style=\"color:#cdcd00\">solar-sweep-22</strong> at: <a href='https://wandb.ai/scialdonelab/granpy-dev/runs/01ryrx1u' target=\"_blank\">https://wandb.ai/scialdonelab/granpy-dev/runs/01ryrx1u</a><br/>Synced 7 W&B file(s), 0 media file(s), 1 artifact file(s) and 1 other file(s)"
      ],
      "text/plain": [
       "<IPython.core.display.HTML object>"
      ]
     },
     "metadata": {},
     "output_type": "display_data"
    },
    {
     "data": {
      "text/html": [
       "Find logs at: <code>./wandb/run-20240514_151141-01ryrx1u/logs</code>"
      ],
      "text/plain": [
       "<IPython.core.display.HTML object>"
      ]
     },
     "metadata": {},
     "output_type": "display_data"
    },
    {
     "name": "stderr",
     "output_type": "stream",
     "text": [
      "\u001b[34m\u001b[1mwandb\u001b[0m: Agent Starting Run: m683q147 with config:\n",
      "\u001b[34m\u001b[1mwandb\u001b[0m: \tdropout_ratio: 0.43784618144761545\n",
      "\u001b[34m\u001b[1mwandb\u001b[0m: \tlatent_dim: 128\n",
      "\u001b[34m\u001b[1mwandb\u001b[0m: \tlr: 0.004811383931003099\n",
      "\u001b[34m\u001b[1mwandb\u001b[0m: \tn_conv_layers: 1\n",
      "\u001b[34m\u001b[1mwandb\u001b[0m: \tnegative_sampling: unstructured\n",
      "\u001b[34m\u001b[1mwandb\u001b[0m: \u001b[33mWARNING\u001b[0m Ignored wandb.init() arg project when running a sweep.\n",
      "\u001b[34m\u001b[1mwandb\u001b[0m: \u001b[33mWARNING\u001b[0m Ignored wandb.init() arg entity when running a sweep.\n"
     ]
    },
    {
     "data": {
      "text/html": [
       "wandb version 0.17.0 is available!  To upgrade, please run:\n",
       " $ pip install wandb --upgrade"
      ],
      "text/plain": [
       "<IPython.core.display.HTML object>"
      ]
     },
     "metadata": {},
     "output_type": "display_data"
    },
    {
     "data": {
      "text/html": [
       "Tracking run with wandb version 0.16.3"
      ],
      "text/plain": [
       "<IPython.core.display.HTML object>"
      ]
     },
     "metadata": {},
     "output_type": "display_data"
    },
    {
     "data": {
      "text/html": [
       "Run data is saved locally in <code>/home/ubuntu/granPy/wandb/run-20240514_151159-m683q147</code>"
      ],
      "text/plain": [
       "<IPython.core.display.HTML object>"
      ]
     },
     "metadata": {},
     "output_type": "display_data"
    },
    {
     "data": {
      "text/html": [
       "Syncing run <strong><a href='https://wandb.ai/scialdonelab/granpy-dev/runs/m683q147' target=\"_blank\">rural-sweep-23</a></strong> to <a href='https://wandb.ai/scialdonelab/granpy-dev' target=\"_blank\">Weights & Biases</a> (<a href='https://wandb.me/run' target=\"_blank\">docs</a>)<br/>Sweep page: <a href='https://wandb.ai/scialdonelab/granpy-dev/sweeps/c10b9ffu' target=\"_blank\">https://wandb.ai/scialdonelab/granpy-dev/sweeps/c10b9ffu</a>"
      ],
      "text/plain": [
       "<IPython.core.display.HTML object>"
      ]
     },
     "metadata": {},
     "output_type": "display_data"
    },
    {
     "data": {
      "text/html": [
       " View project at <a href='https://wandb.ai/scialdonelab/granpy-dev' target=\"_blank\">https://wandb.ai/scialdonelab/granpy-dev</a>"
      ],
      "text/plain": [
       "<IPython.core.display.HTML object>"
      ]
     },
     "metadata": {},
     "output_type": "display_data"
    },
    {
     "data": {
      "text/html": [
       " View sweep at <a href='https://wandb.ai/scialdonelab/granpy-dev/sweeps/c10b9ffu' target=\"_blank\">https://wandb.ai/scialdonelab/granpy-dev/sweeps/c10b9ffu</a>"
      ],
      "text/plain": [
       "<IPython.core.display.HTML object>"
      ]
     },
     "metadata": {},
     "output_type": "display_data"
    },
    {
     "data": {
      "text/html": [
       " View run at <a href='https://wandb.ai/scialdonelab/granpy-dev/runs/m683q147' target=\"_blank\">https://wandb.ai/scialdonelab/granpy-dev/runs/m683q147</a>"
      ],
      "text/plain": [
       "<IPython.core.display.HTML object>"
      ]
     },
     "metadata": {},
     "output_type": "display_data"
    },
    {
     "name": "stderr",
     "output_type": "stream",
     "text": [
      "Best average_precision_score: 0.9318172522416031:   7%|▋         | 33/500 [00:03<00:55,  8.47it/s]\n"
     ]
    },
    {
     "data": {
      "application/vnd.jupyter.widget-view+json": {
       "model_id": "4a7b60badfb5433cac73dd3af2ebda5d",
       "version_major": 2,
       "version_minor": 0
      },
      "text/plain": [
       "VBox(children=(Label(value='1.527 MB of 1.527 MB uploaded\\r'), FloatProgress(value=1.0, max=1.0)))"
      ]
     },
     "metadata": {},
     "output_type": "display_data"
    },
    {
     "data": {
      "text/html": [
       "<style>\n",
       "    table.wandb td:nth-child(1) { padding: 0 10px; text-align: left ; width: auto;} td:nth-child(2) {text-align: left ; width: 100%}\n",
       "    .wandb-row { display: flex; flex-direction: row; flex-wrap: wrap; justify-content: flex-start; width: 100% }\n",
       "    .wandb-col { display: flex; flex-direction: column; flex-basis: 100%; flex: 1; padding: 10px; }\n",
       "    </style>\n",
       "<div class=\"wandb-row\"><div class=\"wandb-col\"><h3>Run history:</h3><br/><table class=\"wandb\"><tr><td>average_precision_score</td><td>▁</td></tr><tr><td>roc_auc_score</td><td>▁</td></tr><tr><td>train_loss</td><td>████████▇▇▇▇▇▇▇▆▆▆▆▆▆▅▅▅▄▅▄▃▃▃▄▂▂▁</td></tr><tr><td>val_average_precision_score</td><td>█████████████████▇▇▇▇▇▇▇▇▆▅▆▆▆▃▁▅▅</td></tr><tr><td>val_loss</td><td>███████▇▇▇▇▇▇▇▆▆▆▆▆▅▅▅▅▄▅▄▄▃▃▃▂▂▁▁</td></tr></table><br/></div><div class=\"wandb-col\"><h3>Run summary:</h3><br/><table class=\"wandb\"><tr><td>average_precision_score</td><td>0.94923</td></tr><tr><td>roc_auc_score</td><td>0.85921</td></tr><tr><td>train_loss</td><td>1.43518</td></tr><tr><td>val_average_precision_score</td><td>0.92322</td></tr><tr><td>val_loss</td><td>1.43623</td></tr></table><br/></div></div>"
      ],
      "text/plain": [
       "<IPython.core.display.HTML object>"
      ]
     },
     "metadata": {},
     "output_type": "display_data"
    },
    {
     "data": {
      "text/html": [
       " View run <strong style=\"color:#cdcd00\">rural-sweep-23</strong> at: <a href='https://wandb.ai/scialdonelab/granpy-dev/runs/m683q147' target=\"_blank\">https://wandb.ai/scialdonelab/granpy-dev/runs/m683q147</a><br/>Synced 7 W&B file(s), 0 media file(s), 1 artifact file(s) and 1 other file(s)"
      ],
      "text/plain": [
       "<IPython.core.display.HTML object>"
      ]
     },
     "metadata": {},
     "output_type": "display_data"
    },
    {
     "data": {
      "text/html": [
       "Find logs at: <code>./wandb/run-20240514_151159-m683q147/logs</code>"
      ],
      "text/plain": [
       "<IPython.core.display.HTML object>"
      ]
     },
     "metadata": {},
     "output_type": "display_data"
    },
    {
     "name": "stderr",
     "output_type": "stream",
     "text": [
      "\u001b[34m\u001b[1mwandb\u001b[0m: Agent Starting Run: bhfq4mgg with config:\n",
      "\u001b[34m\u001b[1mwandb\u001b[0m: \tdropout_ratio: 0.5703035761206473\n",
      "\u001b[34m\u001b[1mwandb\u001b[0m: \tlatent_dim: 128\n",
      "\u001b[34m\u001b[1mwandb\u001b[0m: \tlr: 0.0006955916781682643\n",
      "\u001b[34m\u001b[1mwandb\u001b[0m: \tn_conv_layers: 1\n",
      "\u001b[34m\u001b[1mwandb\u001b[0m: \tnegative_sampling: unstructured\n",
      "\u001b[34m\u001b[1mwandb\u001b[0m: \u001b[33mWARNING\u001b[0m Ignored wandb.init() arg project when running a sweep.\n",
      "\u001b[34m\u001b[1mwandb\u001b[0m: \u001b[33mWARNING\u001b[0m Ignored wandb.init() arg entity when running a sweep.\n"
     ]
    },
    {
     "data": {
      "text/html": [
       "wandb version 0.17.0 is available!  To upgrade, please run:\n",
       " $ pip install wandb --upgrade"
      ],
      "text/plain": [
       "<IPython.core.display.HTML object>"
      ]
     },
     "metadata": {},
     "output_type": "display_data"
    },
    {
     "data": {
      "text/html": [
       "Tracking run with wandb version 0.16.3"
      ],
      "text/plain": [
       "<IPython.core.display.HTML object>"
      ]
     },
     "metadata": {},
     "output_type": "display_data"
    },
    {
     "data": {
      "text/html": [
       "Run data is saved locally in <code>/home/ubuntu/granPy/wandb/run-20240514_151220-bhfq4mgg</code>"
      ],
      "text/plain": [
       "<IPython.core.display.HTML object>"
      ]
     },
     "metadata": {},
     "output_type": "display_data"
    },
    {
     "data": {
      "text/html": [
       "Syncing run <strong><a href='https://wandb.ai/scialdonelab/granpy-dev/runs/bhfq4mgg' target=\"_blank\">lemon-sweep-24</a></strong> to <a href='https://wandb.ai/scialdonelab/granpy-dev' target=\"_blank\">Weights & Biases</a> (<a href='https://wandb.me/run' target=\"_blank\">docs</a>)<br/>Sweep page: <a href='https://wandb.ai/scialdonelab/granpy-dev/sweeps/c10b9ffu' target=\"_blank\">https://wandb.ai/scialdonelab/granpy-dev/sweeps/c10b9ffu</a>"
      ],
      "text/plain": [
       "<IPython.core.display.HTML object>"
      ]
     },
     "metadata": {},
     "output_type": "display_data"
    },
    {
     "data": {
      "text/html": [
       " View project at <a href='https://wandb.ai/scialdonelab/granpy-dev' target=\"_blank\">https://wandb.ai/scialdonelab/granpy-dev</a>"
      ],
      "text/plain": [
       "<IPython.core.display.HTML object>"
      ]
     },
     "metadata": {},
     "output_type": "display_data"
    },
    {
     "data": {
      "text/html": [
       " View sweep at <a href='https://wandb.ai/scialdonelab/granpy-dev/sweeps/c10b9ffu' target=\"_blank\">https://wandb.ai/scialdonelab/granpy-dev/sweeps/c10b9ffu</a>"
      ],
      "text/plain": [
       "<IPython.core.display.HTML object>"
      ]
     },
     "metadata": {},
     "output_type": "display_data"
    },
    {
     "data": {
      "text/html": [
       " View run at <a href='https://wandb.ai/scialdonelab/granpy-dev/runs/bhfq4mgg' target=\"_blank\">https://wandb.ai/scialdonelab/granpy-dev/runs/bhfq4mgg</a>"
      ],
      "text/plain": [
       "<IPython.core.display.HTML object>"
      ]
     },
     "metadata": {},
     "output_type": "display_data"
    },
    {
     "name": "stderr",
     "output_type": "stream",
     "text": [
      "Best average_precision_score: 0.931504154914915:   6%|▋         | 32/500 [00:03<00:56,  8.34it/s]\n"
     ]
    },
    {
     "data": {
      "application/vnd.jupyter.widget-view+json": {
       "model_id": "35665ff351c84dda8321f02f0cf8c8e0",
       "version_major": 2,
       "version_minor": 0
      },
      "text/plain": [
       "VBox(children=(Label(value='1.527 MB of 1.527 MB uploaded\\r'), FloatProgress(value=1.0, max=1.0)))"
      ]
     },
     "metadata": {},
     "output_type": "display_data"
    },
    {
     "data": {
      "text/html": [
       "<style>\n",
       "    table.wandb td:nth-child(1) { padding: 0 10px; text-align: left ; width: auto;} td:nth-child(2) {text-align: left ; width: 100%}\n",
       "    .wandb-row { display: flex; flex-direction: row; flex-wrap: wrap; justify-content: flex-start; width: 100% }\n",
       "    .wandb-col { display: flex; flex-direction: column; flex-basis: 100%; flex: 1; padding: 10px; }\n",
       "    </style>\n",
       "<div class=\"wandb-row\"><div class=\"wandb-col\"><h3>Run history:</h3><br/><table class=\"wandb\"><tr><td>average_precision_score</td><td>▁</td></tr><tr><td>roc_auc_score</td><td>▁</td></tr><tr><td>train_loss</td><td>███████▇▇▇▇▇▇▆▆▆▆▆▆▆▅▅▅▅▄▄▃▃▃▃▂▂▁</td></tr><tr><td>val_average_precision_score</td><td>████████████████▇▇▇▇▇▇▇▇▆▆▇▆▅▄▆▄▁</td></tr><tr><td>val_loss</td><td>██████▇▇▇▇▇▇▇▇▆▆▆▆▆▅▅▅▄▄▄▄▄▃▂▂▂▁▁</td></tr></table><br/></div><div class=\"wandb-col\"><h3>Run summary:</h3><br/><table class=\"wandb\"><tr><td>average_precision_score</td><td>0.9493</td></tr><tr><td>roc_auc_score</td><td>0.85913</td></tr><tr><td>train_loss</td><td>1.43584</td></tr><tr><td>val_average_precision_score</td><td>0.90589</td></tr><tr><td>val_loss</td><td>1.43555</td></tr></table><br/></div></div>"
      ],
      "text/plain": [
       "<IPython.core.display.HTML object>"
      ]
     },
     "metadata": {},
     "output_type": "display_data"
    },
    {
     "data": {
      "text/html": [
       " View run <strong style=\"color:#cdcd00\">lemon-sweep-24</strong> at: <a href='https://wandb.ai/scialdonelab/granpy-dev/runs/bhfq4mgg' target=\"_blank\">https://wandb.ai/scialdonelab/granpy-dev/runs/bhfq4mgg</a><br/>Synced 7 W&B file(s), 0 media file(s), 1 artifact file(s) and 1 other file(s)"
      ],
      "text/plain": [
       "<IPython.core.display.HTML object>"
      ]
     },
     "metadata": {},
     "output_type": "display_data"
    },
    {
     "data": {
      "text/html": [
       "Find logs at: <code>./wandb/run-20240514_151220-bhfq4mgg/logs</code>"
      ],
      "text/plain": [
       "<IPython.core.display.HTML object>"
      ]
     },
     "metadata": {},
     "output_type": "display_data"
    },
    {
     "name": "stderr",
     "output_type": "stream",
     "text": [
      "\u001b[34m\u001b[1mwandb\u001b[0m: Agent Starting Run: aa8tui0v with config:\n",
      "\u001b[34m\u001b[1mwandb\u001b[0m: \tdropout_ratio: 0.4514822011397359\n",
      "\u001b[34m\u001b[1mwandb\u001b[0m: \tlatent_dim: 128\n",
      "\u001b[34m\u001b[1mwandb\u001b[0m: \tlr: 0.002969835657080796\n",
      "\u001b[34m\u001b[1mwandb\u001b[0m: \tn_conv_layers: 2\n",
      "\u001b[34m\u001b[1mwandb\u001b[0m: \tnegative_sampling: unstructured\n",
      "\u001b[34m\u001b[1mwandb\u001b[0m: \u001b[33mWARNING\u001b[0m Ignored wandb.init() arg project when running a sweep.\n",
      "\u001b[34m\u001b[1mwandb\u001b[0m: \u001b[33mWARNING\u001b[0m Ignored wandb.init() arg entity when running a sweep.\n"
     ]
    },
    {
     "data": {
      "text/html": [
       "wandb version 0.17.0 is available!  To upgrade, please run:\n",
       " $ pip install wandb --upgrade"
      ],
      "text/plain": [
       "<IPython.core.display.HTML object>"
      ]
     },
     "metadata": {},
     "output_type": "display_data"
    },
    {
     "data": {
      "text/html": [
       "Tracking run with wandb version 0.16.3"
      ],
      "text/plain": [
       "<IPython.core.display.HTML object>"
      ]
     },
     "metadata": {},
     "output_type": "display_data"
    },
    {
     "data": {
      "text/html": [
       "Run data is saved locally in <code>/home/ubuntu/granPy/wandb/run-20240514_151241-aa8tui0v</code>"
      ],
      "text/plain": [
       "<IPython.core.display.HTML object>"
      ]
     },
     "metadata": {},
     "output_type": "display_data"
    },
    {
     "data": {
      "text/html": [
       "Syncing run <strong><a href='https://wandb.ai/scialdonelab/granpy-dev/runs/aa8tui0v' target=\"_blank\">tough-sweep-25</a></strong> to <a href='https://wandb.ai/scialdonelab/granpy-dev' target=\"_blank\">Weights & Biases</a> (<a href='https://wandb.me/run' target=\"_blank\">docs</a>)<br/>Sweep page: <a href='https://wandb.ai/scialdonelab/granpy-dev/sweeps/c10b9ffu' target=\"_blank\">https://wandb.ai/scialdonelab/granpy-dev/sweeps/c10b9ffu</a>"
      ],
      "text/plain": [
       "<IPython.core.display.HTML object>"
      ]
     },
     "metadata": {},
     "output_type": "display_data"
    },
    {
     "data": {
      "text/html": [
       " View project at <a href='https://wandb.ai/scialdonelab/granpy-dev' target=\"_blank\">https://wandb.ai/scialdonelab/granpy-dev</a>"
      ],
      "text/plain": [
       "<IPython.core.display.HTML object>"
      ]
     },
     "metadata": {},
     "output_type": "display_data"
    },
    {
     "data": {
      "text/html": [
       " View sweep at <a href='https://wandb.ai/scialdonelab/granpy-dev/sweeps/c10b9ffu' target=\"_blank\">https://wandb.ai/scialdonelab/granpy-dev/sweeps/c10b9ffu</a>"
      ],
      "text/plain": [
       "<IPython.core.display.HTML object>"
      ]
     },
     "metadata": {},
     "output_type": "display_data"
    },
    {
     "data": {
      "text/html": [
       " View run at <a href='https://wandb.ai/scialdonelab/granpy-dev/runs/aa8tui0v' target=\"_blank\">https://wandb.ai/scialdonelab/granpy-dev/runs/aa8tui0v</a>"
      ],
      "text/plain": [
       "<IPython.core.display.HTML object>"
      ]
     },
     "metadata": {},
     "output_type": "display_data"
    },
    {
     "name": "stderr",
     "output_type": "stream",
     "text": [
      "Best average_precision_score: 0.931571815258808:   7%|▋         | 37/500 [00:04<00:53,  8.67it/s]\n"
     ]
    },
    {
     "data": {
      "application/vnd.jupyter.widget-view+json": {
       "model_id": "9ac04072edc042189f21b58317572104",
       "version_major": 2,
       "version_minor": 0
      },
      "text/plain": [
       "VBox(children=(Label(value='1.527 MB of 1.527 MB uploaded\\r'), FloatProgress(value=1.0, max=1.0)))"
      ]
     },
     "metadata": {},
     "output_type": "display_data"
    },
    {
     "data": {
      "text/html": [
       "<style>\n",
       "    table.wandb td:nth-child(1) { padding: 0 10px; text-align: left ; width: auto;} td:nth-child(2) {text-align: left ; width: 100%}\n",
       "    .wandb-row { display: flex; flex-direction: row; flex-wrap: wrap; justify-content: flex-start; width: 100% }\n",
       "    .wandb-col { display: flex; flex-direction: column; flex-basis: 100%; flex: 1; padding: 10px; }\n",
       "    </style>\n",
       "<div class=\"wandb-row\"><div class=\"wandb-col\"><h3>Run history:</h3><br/><table class=\"wandb\"><tr><td>average_precision_score</td><td>▁</td></tr><tr><td>roc_auc_score</td><td>▁</td></tr><tr><td>train_loss</td><td>████████▇▇▇▇▇▇▇▇▇▆▆▇▆▆▆▅▆▅▅▄▄▄▄▄▃▃▂▂▁▂</td></tr><tr><td>val_average_precision_score</td><td>███████████████████▇▇▇▇▇▇▇▆▇▇▇▆▆▆▅▅▅▁▄</td></tr><tr><td>val_loss</td><td>████████▇▇▇▇▇▇▇▇▇▆▆▆▆▆▆▆▅▅▅▅▄▄▄▃▃▃▂▂▂▁</td></tr></table><br/></div><div class=\"wandb-col\"><h3>Run summary:</h3><br/><table class=\"wandb\"><tr><td>average_precision_score</td><td>0.94907</td></tr><tr><td>roc_auc_score</td><td>0.85853</td></tr><tr><td>train_loss</td><td>1.43439</td></tr><tr><td>val_average_precision_score</td><td>0.91327</td></tr><tr><td>val_loss</td><td>1.4309</td></tr></table><br/></div></div>"
      ],
      "text/plain": [
       "<IPython.core.display.HTML object>"
      ]
     },
     "metadata": {},
     "output_type": "display_data"
    },
    {
     "data": {
      "text/html": [
       " View run <strong style=\"color:#cdcd00\">tough-sweep-25</strong> at: <a href='https://wandb.ai/scialdonelab/granpy-dev/runs/aa8tui0v' target=\"_blank\">https://wandb.ai/scialdonelab/granpy-dev/runs/aa8tui0v</a><br/>Synced 7 W&B file(s), 0 media file(s), 1 artifact file(s) and 1 other file(s)"
      ],
      "text/plain": [
       "<IPython.core.display.HTML object>"
      ]
     },
     "metadata": {},
     "output_type": "display_data"
    },
    {
     "data": {
      "text/html": [
       "Find logs at: <code>./wandb/run-20240514_151241-aa8tui0v/logs</code>"
      ],
      "text/plain": [
       "<IPython.core.display.HTML object>"
      ]
     },
     "metadata": {},
     "output_type": "display_data"
    }
   ],
   "source": [
    "#hyperparameter sweep\n",
    "import wandb \n",
    "from src.experiment import Experiment\n",
    "\n",
    "def singleRun():\n",
    "    experiment = Experiment(_opts)\n",
    "    experiment.run()\n",
    "\n",
    "sweep_configuration = {\n",
    "    \"method\": \"bayes\",\n",
    "    \"metric\": {\"goal\": \"maximize\", \"name\": \"average_precision_score\"},\n",
    "    \"parameters\": {\n",
    "        \"dropout_ratio\": {\"max\": 0.6, \"min\": 0.1},\n",
    "        \"negative_sampling\": {\"value\": \"unstructured\"},\n",
    "        \"n_conv_layers\": {\"values\": [1,2,3]},\n",
    "        \"latent_dim\": {\"values\": [16,32,64,128]},\n",
    "        \"lr\": {\"max\": 1e-2, \"min\": 1e-4}\n",
    "    },\n",
    "}\n",
    "\n",
    "sweep_id = wandb.sweep(sweep=sweep_configuration, project=opts.wandb_project, entity=\"scialdonelab\")\n",
    "wandb.agent(sweep_id, function=singleRun, count=25)"
   ]
  },
  {
   "cell_type": "code",
   "execution_count": null,
   "metadata": {},
   "outputs": [],
   "source": [
    "#hyperparameter sweep\n",
    "import wandb \n",
    "from src.experiment import Experiment\n",
    "\n",
    "def singleRun():\n",
    "    experiment = Experiment(_opts)\n",
    "    experiment.run()\n",
    "\n",
    "sweep_configuration = {\n",
    "    \"method\": \"random\",\n",
    "    \"metric\": {\"goal\": \"maximize\", \"name\": \"val_average_precision_score\"},\n",
    "    \"parameters\": {\n",
    "        \"dropout_ratio\": {\"max\": 0.6, \"min\": 0.1},\n",
    "        \"decoder\": {\"values\": [\"InnerProductDecoder\", \"CosineDecoder\", \"PNormDecoder\"]},\n",
    "        \"n_conv_layers\": {\"values\": [1,2,3]},\n",
    "    },\n",
    "}\n",
    "sweep_id = wandb.sweep(sweep=sweep_configuration, project=opts.wandb_project, entity=\"scialdonelab\")\n",
    "wandb.agent(sweep_id, function=singleRun, count=10)"
   ]
  },
  {
   "cell_type": "code",
   "execution_count": 16,
   "metadata": {},
   "outputs": [
    {
     "name": "stdout",
     "output_type": "stream",
     "text": [
      "    train_loss  roc_auc_score  average_precision_score  \\\n",
      "0     1.448225            NaN                      NaN   \n",
      "1     1.448343            NaN                      NaN   \n",
      "2     1.448149            NaN                      NaN   \n",
      "3     1.448394            NaN                      NaN   \n",
      "4     1.448018            NaN                      NaN   \n",
      "5     1.447774            NaN                      NaN   \n",
      "6     1.447751            NaN                      NaN   \n",
      "7     1.447954            NaN                      NaN   \n",
      "8     1.447631            NaN                      NaN   \n",
      "9     1.447398            NaN                      NaN   \n",
      "10    1.446939            NaN                      NaN   \n",
      "11    1.447038            NaN                      NaN   \n",
      "12    1.446672            NaN                      NaN   \n",
      "13    1.446367            NaN                      NaN   \n",
      "14         NaN       0.753035                 0.384965   \n",
      "\n",
      "    val_average_precision_score  _step   _runtime  val_loss    _timestamp  \n",
      "0                      0.845402      0   3.572744  1.448263  1.708549e+09  \n",
      "1                      0.846166      1   4.376610  1.448192  1.708549e+09  \n",
      "2                      0.846206      2   5.402403  1.448149  1.708549e+09  \n",
      "3                      0.846465      3   6.265104  1.447999  1.708549e+09  \n",
      "4                      0.846317      4   7.113072  1.447922  1.708549e+09  \n",
      "5                      0.845972      5   8.035710  1.447838  1.708549e+09  \n",
      "6                      0.845865      6   8.933268  1.447770  1.708549e+09  \n",
      "7                      0.845671      7   9.873884  1.447566  1.708549e+09  \n",
      "8                      0.845590      8  10.579224  1.447355  1.708549e+09  \n",
      "9                      0.845617      9  11.595483  1.447159  1.708549e+09  \n",
      "10                     0.845883     10  12.806704  1.446931  1.708549e+09  \n",
      "11                     0.845680     11  13.550163  1.446765  1.708549e+09  \n",
      "12                     0.845574     12  14.485884  1.446643  1.708549e+09  \n",
      "13                     0.845560     13  15.364794  1.446498  1.708549e+09  \n",
      "14                          NaN     14  18.437307       NaN  1.708549e+09  \n"
     ]
    }
   ],
   "source": [
    "import wandb\n",
    "wandb.login()\n",
    "api = wandb.Api()\n",
    "\n",
    "run_id = \"slpgfhp3\"\n",
    "run = api.run(\"scialdonelab/granpy-dev/\" + run_id)\n",
    "\n",
    "metrics_dataframe = run.history()\n",
    "print(metrics_dataframe)"
   ]
  },
  {
   "cell_type": "code",
   "execution_count": 18,
   "metadata": {},
   "outputs": [
    {
     "name": "stderr",
     "output_type": "stream",
     "text": [
      "\u001b[34m\u001b[1mwandb\u001b[0m:   1 of 1 files downloaded.  \n"
     ]
    },
    {
     "name": "stdout",
     "output_type": "stream",
     "text": [
      "/Users/marcostock/Documents/PhD/01_Projects/granPy/artifacts/run-slpgfhp3-2cff68e23c.pt:v0\n"
     ]
    }
   ],
   "source": [
    "api = wandb.Api()\n",
    "artifact = api.artifact(\"scialdonelab/granpy-dev/run-slpgfhp3-2cff68e23c.pt:v0\")\n",
    "filepath = artifact.download()\n",
    "print(filepath)"
   ]
  }
 ],
 "metadata": {
  "kernelspec": {
   "display_name": "ptgeo",
   "language": "python",
   "name": "python3"
  },
  "language_info": {
   "codemirror_mode": {
    "name": "ipython",
    "version": 3
   },
   "file_extension": ".py",
   "mimetype": "text/x-python",
   "name": "python",
   "nbconvert_exporter": "python",
   "pygments_lexer": "ipython3",
   "version": "3.10.11"
  }
 },
 "nbformat": 4,
 "nbformat_minor": 2
}
