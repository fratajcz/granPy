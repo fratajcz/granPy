{
 "cells": [
  {
   "cell_type": "code",
   "execution_count": 1,
   "metadata": {},
   "outputs": [],
   "source": [
    "import dataclasses\n",
    "#from training import TrainingPipeline\n",
    "from typing import List, Dict\n",
    "\n",
    "@dataclasses.dataclass\n",
    "class opts:\n",
    "    val_seed: int = 2\n",
    "    canonical_test_seed: int = 1\n",
    "    val_fraction: float = 0.2\n",
    "    test_fraction: float = 0.2\n",
    "    n_conv_layers: int = 2\n",
    "    activation_layer: str = \"ReLU\"\n",
    "    dropout_ratio: float = 0.5\n",
    "    mplayer: str = \"GCNConv\"\n",
    "    mplayer_args: List[str] = dataclasses.field(default_factory=list)\n",
    "    mplayer_kwargs: Dict = dataclasses.field(default_factory=dict)\n",
    "    latent_dim: int = 32\n",
    "    layer_ratio: int = 10\n",
    "    root: str = \"./data/\"\n",
    "    dataset: str = \"shalek\"\n",
    "    model_path: str = \"./models/\"\n",
    "    lr: float = 1e-3\n",
    "    es_patience: int = 10\n",
    "    decoder: str = \"InnerProductDecoder\"\n",
    "    val_mode: str = \"max\"\n",
    "    val_metric: str = \"average_precision_score\"\n",
    "    test_metrics: List[str] = dataclasses.field(default_factory=list)\n",
    "    n_folds: int = 5\n",
    "    epochs: int = 500\n",
    "    cuda: bool = False\n",
    "    negative_sampling: str = \"pot_net\"\n",
    "    score_batched: bool = True\n",
    "    wandb_tracking: bool = True\n",
    "    wandb_project: str = \"granpy-dev\"\n",
    "    wandb_save_model: bool = True\n",
    "    wandb_group: str = None\n",
    "    cache_model: bool = False\n",
    "\n",
    "_opts = opts()\n",
    "\n",
    "_opts.test_metrics += [\"average_precision_score\", \"roc_auc_score\"]"
   ]
  },
  {
   "cell_type": "code",
   "execution_count": 2,
   "metadata": {},
   "outputs": [
    {
     "name": "stdout",
     "output_type": "stream",
     "text": [
      "Data(x=[9411, 1211], edge_index=[2, 115494], num_nodes=9411, edge_label=[115494], edge_label_index=[2, 115494])\n"
     ]
    }
   ],
   "source": [
    "from src.datasets.datasets import McCallaDataset\n",
    "\n",
    "dataset = McCallaDataset(root=\"./data/\", opts = _opts, hash=\"abc\")\n",
    "\n",
    "print(dataset.train_data)"
   ]
  },
  {
   "cell_type": "code",
   "execution_count": 3,
   "metadata": {},
   "outputs": [
    {
     "name": "stdout",
     "output_type": "stream",
     "text": [
      "CUDA is set to False, using cpu as fallback\n",
      "CUDA is set to False, using cpu as fallback\n"
     ]
    },
    {
     "name": "stderr",
     "output_type": "stream",
     "text": [
      "Failed to detect the name of this notebook, you can set it manually with the WANDB_NOTEBOOK_NAME environment variable to enable code saving.\n",
      "\u001b[34m\u001b[1mwandb\u001b[0m: Currently logged in as: \u001b[33mmarcostock\u001b[0m (\u001b[33mscialdonelab\u001b[0m). Use \u001b[1m`wandb login --relogin`\u001b[0m to force relogin\n"
     ]
    },
    {
     "data": {
      "text/html": [
       "Tracking run with wandb version 0.16.3"
      ],
      "text/plain": [
       "<IPython.core.display.HTML object>"
      ]
     },
     "metadata": {},
     "output_type": "display_data"
    },
    {
     "data": {
      "text/html": [
       "Run data is saved locally in <code>/Users/marcostock/Documents/PhD/01_Projects/granPy/wandb/run-20240221_212539-qc7dvrfr</code>"
      ],
      "text/plain": [
       "<IPython.core.display.HTML object>"
      ]
     },
     "metadata": {},
     "output_type": "display_data"
    },
    {
     "data": {
      "text/html": [
       "Syncing run <strong><a href='https://wandb.ai/scialdonelab/granpy-dev/runs/qc7dvrfr' target=\"_blank\">crimson-goat-18</a></strong> to <a href='https://wandb.ai/scialdonelab/granpy-dev' target=\"_blank\">Weights & Biases</a> (<a href='https://wandb.me/run' target=\"_blank\">docs</a>)<br/>"
      ],
      "text/plain": [
       "<IPython.core.display.HTML object>"
      ]
     },
     "metadata": {},
     "output_type": "display_data"
    },
    {
     "data": {
      "text/html": [
       " View project at <a href='https://wandb.ai/scialdonelab/granpy-dev' target=\"_blank\">https://wandb.ai/scialdonelab/granpy-dev</a>"
      ],
      "text/plain": [
       "<IPython.core.display.HTML object>"
      ]
     },
     "metadata": {},
     "output_type": "display_data"
    },
    {
     "data": {
      "text/html": [
       " View run at <a href='https://wandb.ai/scialdonelab/granpy-dev/runs/qc7dvrfr' target=\"_blank\">https://wandb.ai/scialdonelab/granpy-dev/runs/qc7dvrfr</a>"
      ],
      "text/plain": [
       "<IPython.core.display.HTML object>"
      ]
     },
     "metadata": {},
     "output_type": "display_data"
    },
    {
     "name": "stderr",
     "output_type": "stream",
     "text": [
      "Best average_precision_score: 0.8457574402455681:   2%|▏         | 12/500 [00:12<08:32,  1.05s/it]\n",
      "wandb: WARNING Source type is set to 'repo' but some required information is missing from the environment. A job will not be created from this run. See https://docs.wandb.ai/guides/launch/create-job\n"
     ]
    },
    {
     "data": {
      "application/vnd.jupyter.widget-view+json": {
       "model_id": "c3aef210ebe845be964e11bb0875a108",
       "version_major": 2,
       "version_minor": 0
      },
      "text/plain": [
       "VBox(children=(Label(value='1.526 MB of 1.526 MB uploaded\\r'), FloatProgress(value=1.0, max=1.0)))"
      ]
     },
     "metadata": {},
     "output_type": "display_data"
    },
    {
     "data": {
      "text/html": [
       "<style>\n",
       "    table.wandb td:nth-child(1) { padding: 0 10px; text-align: left ; width: auto;} td:nth-child(2) {text-align: left ; width: 100%}\n",
       "    .wandb-row { display: flex; flex-direction: row; flex-wrap: wrap; justify-content: flex-start; width: 100% }\n",
       "    .wandb-col { display: flex; flex-direction: column; flex-basis: 100%; flex: 1; padding: 10px; }\n",
       "    </style>\n",
       "<div class=\"wandb-row\"><div class=\"wandb-col\"><h3>Run history:</h3><br/><table class=\"wandb\"><tr><td>average_precision_score</td><td>▁</td></tr><tr><td>roc_auc_score</td><td>▁</td></tr><tr><td>train_loss</td><td>████▇▇▆▅▅▃▂▁▃</td></tr><tr><td>val_average_precision_score</td><td>▁▅██▇▇▇▇▇▅▄▄▅</td></tr><tr><td>val_loss</td><td>██▇▇▇▆▅▅▄▃▃▂▁</td></tr></table><br/></div><div class=\"wandb-col\"><h3>Run summary:</h3><br/><table class=\"wandb\"><tr><td>average_precision_score</td><td>0.38433</td></tr><tr><td>roc_auc_score</td><td>0.75324</td></tr><tr><td>train_loss</td><td>1.4471</td></tr><tr><td>val_average_precision_score</td><td>0.84516</td></tr><tr><td>val_loss</td><td>1.4466</td></tr></table><br/></div></div>"
      ],
      "text/plain": [
       "<IPython.core.display.HTML object>"
      ]
     },
     "metadata": {},
     "output_type": "display_data"
    },
    {
     "data": {
      "text/html": [
       " View run <strong style=\"color:#cdcd00\">crimson-goat-18</strong> at: <a href='https://wandb.ai/scialdonelab/granpy-dev/runs/qc7dvrfr' target=\"_blank\">https://wandb.ai/scialdonelab/granpy-dev/runs/qc7dvrfr</a><br/>Synced 7 W&B file(s), 0 media file(s), 1 artifact file(s) and 1 other file(s)"
      ],
      "text/plain": [
       "<IPython.core.display.HTML object>"
      ]
     },
     "metadata": {},
     "output_type": "display_data"
    },
    {
     "data": {
      "text/html": [
       "Find logs at: <code>./wandb/run-20240221_212539-qc7dvrfr/logs</code>"
      ],
      "text/plain": [
       "<IPython.core.display.HTML object>"
      ]
     },
     "metadata": {},
     "output_type": "display_data"
    },
    {
     "data": {
      "text/plain": [
       "{'average_precision_score': 0.3843313111830709,\n",
       " 'roc_auc_score': 0.7532439527419835}"
      ]
     },
     "execution_count": 3,
     "metadata": {},
     "output_type": "execute_result"
    }
   ],
   "source": [
    "# single run\n",
    "\n",
    "from src.experiment import Experiment\n",
    "experiment = Experiment(_opts)\n",
    "experiment.run()"
   ]
  },
  {
   "cell_type": "code",
   "execution_count": 4,
   "metadata": {},
   "outputs": [
    {
     "name": "stderr",
     "output_type": "stream",
     "text": [
      "  0%|          | 0/5 [00:00<?, ?it/s]Processing...\n"
     ]
    },
    {
     "name": "stdout",
     "output_type": "stream",
     "text": [
      "NO CACHE FOUND - Processing data...\n"
     ]
    },
    {
     "name": "stderr",
     "output_type": "stream",
     "text": [
      "Done!\n"
     ]
    },
    {
     "name": "stdout",
     "output_type": "stream",
     "text": [
      "CUDA is set to False, using cpu as fallback\n",
      "CUDA is set to False, using cpu as fallback\n"
     ]
    },
    {
     "data": {
      "text/html": [
       "Tracking run with wandb version 0.16.3"
      ],
      "text/plain": [
       "<IPython.core.display.HTML object>"
      ]
     },
     "metadata": {},
     "output_type": "display_data"
    },
    {
     "data": {
      "text/html": [
       "Run data is saved locally in <code>/Users/marcostock/Documents/PhD/01_Projects/granPy/wandb/run-20240221_212614-xm949zcp</code>"
      ],
      "text/plain": [
       "<IPython.core.display.HTML object>"
      ]
     },
     "metadata": {},
     "output_type": "display_data"
    },
    {
     "data": {
      "text/html": [
       "Syncing run <strong><a href='https://wandb.ai/scialdonelab/granpy-dev/runs/xm949zcp' target=\"_blank\">incandescent-snake-19</a></strong> to <a href='https://wandb.ai/scialdonelab/granpy-dev' target=\"_blank\">Weights & Biases</a> (<a href='https://wandb.me/run' target=\"_blank\">docs</a>)<br/>"
      ],
      "text/plain": [
       "<IPython.core.display.HTML object>"
      ]
     },
     "metadata": {},
     "output_type": "display_data"
    },
    {
     "data": {
      "text/html": [
       " View project at <a href='https://wandb.ai/scialdonelab/granpy-dev' target=\"_blank\">https://wandb.ai/scialdonelab/granpy-dev</a>"
      ],
      "text/plain": [
       "<IPython.core.display.HTML object>"
      ]
     },
     "metadata": {},
     "output_type": "display_data"
    },
    {
     "data": {
      "text/html": [
       " View run at <a href='https://wandb.ai/scialdonelab/granpy-dev/runs/xm949zcp' target=\"_blank\">https://wandb.ai/scialdonelab/granpy-dev/runs/xm949zcp</a>"
      ],
      "text/plain": [
       "<IPython.core.display.HTML object>"
      ]
     },
     "metadata": {},
     "output_type": "display_data"
    },
    {
     "name": "stderr",
     "output_type": "stream",
     "text": [
      "Best average_precision_score: 0.8460961859243717:   3%|▎         | 14/500 [00:16<09:44,  1.20s/it]\n",
      "wandb: WARNING Source type is set to 'repo' but some required information is missing from the environment. A job will not be created from this run. See https://docs.wandb.ai/guides/launch/create-job\n"
     ]
    },
    {
     "data": {
      "application/vnd.jupyter.widget-view+json": {
       "model_id": "b09f3b4ea13a41f0942c93844f9c151d",
       "version_major": 2,
       "version_minor": 0
      },
      "text/plain": [
       "VBox(children=(Label(value='1.526 MB of 1.526 MB uploaded\\r'), FloatProgress(value=1.0, max=1.0)))"
      ]
     },
     "metadata": {},
     "output_type": "display_data"
    },
    {
     "data": {
      "text/html": [
       "<style>\n",
       "    table.wandb td:nth-child(1) { padding: 0 10px; text-align: left ; width: auto;} td:nth-child(2) {text-align: left ; width: 100%}\n",
       "    .wandb-row { display: flex; flex-direction: row; flex-wrap: wrap; justify-content: flex-start; width: 100% }\n",
       "    .wandb-col { display: flex; flex-direction: column; flex-basis: 100%; flex: 1; padding: 10px; }\n",
       "    </style>\n",
       "<div class=\"wandb-row\"><div class=\"wandb-col\"><h3>Run history:</h3><br/><table class=\"wandb\"><tr><td>average_precision_score</td><td>▁</td></tr><tr><td>roc_auc_score</td><td>▁</td></tr><tr><td>train_loss</td><td>█▇█▇▇▇▆▆▄▅▅▄▄▂▁</td></tr><tr><td>val_average_precision_score</td><td>▃▆▅▇█▇▆▄▅▄▂▁▃▃▃</td></tr><tr><td>val_loss</td><td>██▇▇▇▆▆▆▅▄▄▃▂▁▁</td></tr></table><br/></div><div class=\"wandb-col\"><h3>Run summary:</h3><br/><table class=\"wandb\"><tr><td>average_precision_score</td><td>0.38424</td></tr><tr><td>roc_auc_score</td><td>0.75331</td></tr><tr><td>train_loss</td><td>1.44554</td></tr><tr><td>val_average_precision_score</td><td>0.84534</td></tr><tr><td>val_loss</td><td>1.44597</td></tr></table><br/></div></div>"
      ],
      "text/plain": [
       "<IPython.core.display.HTML object>"
      ]
     },
     "metadata": {},
     "output_type": "display_data"
    },
    {
     "data": {
      "text/html": [
       " View run <strong style=\"color:#cdcd00\">incandescent-snake-19</strong> at: <a href='https://wandb.ai/scialdonelab/granpy-dev/runs/xm949zcp' target=\"_blank\">https://wandb.ai/scialdonelab/granpy-dev/runs/xm949zcp</a><br/>Synced 7 W&B file(s), 0 media file(s), 1 artifact file(s) and 1 other file(s)"
      ],
      "text/plain": [
       "<IPython.core.display.HTML object>"
      ]
     },
     "metadata": {},
     "output_type": "display_data"
    },
    {
     "data": {
      "text/html": [
       "Find logs at: <code>./wandb/run-20240221_212614-xm949zcp/logs</code>"
      ],
      "text/plain": [
       "<IPython.core.display.HTML object>"
      ]
     },
     "metadata": {},
     "output_type": "display_data"
    },
    {
     "name": "stderr",
     "output_type": "stream",
     "text": [
      " 20%|██        | 1/5 [00:27<01:48, 27.25s/it]Processing...\n"
     ]
    },
    {
     "name": "stdout",
     "output_type": "stream",
     "text": [
      "NO CACHE FOUND - Processing data...\n"
     ]
    },
    {
     "name": "stderr",
     "output_type": "stream",
     "text": [
      "Done!\n"
     ]
    },
    {
     "name": "stdout",
     "output_type": "stream",
     "text": [
      "CUDA is set to False, using cpu as fallback\n",
      "CUDA is set to False, using cpu as fallback\n"
     ]
    },
    {
     "data": {
      "text/html": [
       "Tracking run with wandb version 0.16.3"
      ],
      "text/plain": [
       "<IPython.core.display.HTML object>"
      ]
     },
     "metadata": {},
     "output_type": "display_data"
    },
    {
     "data": {
      "text/html": [
       "Run data is saved locally in <code>/Users/marcostock/Documents/PhD/01_Projects/granPy/wandb/run-20240221_212641-6vt9llb2</code>"
      ],
      "text/plain": [
       "<IPython.core.display.HTML object>"
      ]
     },
     "metadata": {},
     "output_type": "display_data"
    },
    {
     "data": {
      "text/html": [
       "Syncing run <strong><a href='https://wandb.ai/scialdonelab/granpy-dev/runs/6vt9llb2' target=\"_blank\">legendary-goat-20</a></strong> to <a href='https://wandb.ai/scialdonelab/granpy-dev' target=\"_blank\">Weights & Biases</a> (<a href='https://wandb.me/run' target=\"_blank\">docs</a>)<br/>"
      ],
      "text/plain": [
       "<IPython.core.display.HTML object>"
      ]
     },
     "metadata": {},
     "output_type": "display_data"
    },
    {
     "data": {
      "text/html": [
       " View project at <a href='https://wandb.ai/scialdonelab/granpy-dev' target=\"_blank\">https://wandb.ai/scialdonelab/granpy-dev</a>"
      ],
      "text/plain": [
       "<IPython.core.display.HTML object>"
      ]
     },
     "metadata": {},
     "output_type": "display_data"
    },
    {
     "data": {
      "text/html": [
       " View run at <a href='https://wandb.ai/scialdonelab/granpy-dev/runs/6vt9llb2' target=\"_blank\">https://wandb.ai/scialdonelab/granpy-dev/runs/6vt9llb2</a>"
      ],
      "text/plain": [
       "<IPython.core.display.HTML object>"
      ]
     },
     "metadata": {},
     "output_type": "display_data"
    },
    {
     "name": "stderr",
     "output_type": "stream",
     "text": [
      "Best average_precision_score: 0.845036741858005:   3%|▎         | 15/500 [00:16<08:55,  1.10s/it]\n",
      "wandb: WARNING Source type is set to 'repo' but some required information is missing from the environment. A job will not be created from this run. See https://docs.wandb.ai/guides/launch/create-job\n"
     ]
    },
    {
     "data": {
      "application/vnd.jupyter.widget-view+json": {
       "model_id": "8fd97d83421742738c158a17642fdeff",
       "version_major": 2,
       "version_minor": 0
      },
      "text/plain": [
       "VBox(children=(Label(value='1.526 MB of 1.526 MB uploaded\\r'), FloatProgress(value=1.0, max=1.0)))"
      ]
     },
     "metadata": {},
     "output_type": "display_data"
    },
    {
     "data": {
      "text/html": [
       "<style>\n",
       "    table.wandb td:nth-child(1) { padding: 0 10px; text-align: left ; width: auto;} td:nth-child(2) {text-align: left ; width: 100%}\n",
       "    .wandb-row { display: flex; flex-direction: row; flex-wrap: wrap; justify-content: flex-start; width: 100% }\n",
       "    .wandb-col { display: flex; flex-direction: column; flex-basis: 100%; flex: 1; padding: 10px; }\n",
       "    </style>\n",
       "<div class=\"wandb-row\"><div class=\"wandb-col\"><h3>Run history:</h3><br/><table class=\"wandb\"><tr><td>average_precision_score</td><td>▁</td></tr><tr><td>roc_auc_score</td><td>▁</td></tr><tr><td>train_loss</td><td>███▇▇▆▆▅▅▄▅▄▃▃▂▁</td></tr><tr><td>val_average_precision_score</td><td>█▇▇███▇▆▆▆▆▆▆▅▃▁</td></tr><tr><td>val_loss</td><td>███▇▇▇▆▆▅▅▄▄▃▂▂▁</td></tr></table><br/></div><div class=\"wandb-col\"><h3>Run summary:</h3><br/><table class=\"wandb\"><tr><td>average_precision_score</td><td>0.386</td></tr><tr><td>roc_auc_score</td><td>0.7535</td></tr><tr><td>train_loss</td><td>1.446</td></tr><tr><td>val_average_precision_score</td><td>0.84203</td></tr><tr><td>val_loss</td><td>1.44578</td></tr></table><br/></div></div>"
      ],
      "text/plain": [
       "<IPython.core.display.HTML object>"
      ]
     },
     "metadata": {},
     "output_type": "display_data"
    },
    {
     "data": {
      "text/html": [
       " View run <strong style=\"color:#cdcd00\">legendary-goat-20</strong> at: <a href='https://wandb.ai/scialdonelab/granpy-dev/runs/6vt9llb2' target=\"_blank\">https://wandb.ai/scialdonelab/granpy-dev/runs/6vt9llb2</a><br/>Synced 7 W&B file(s), 0 media file(s), 1 artifact file(s) and 1 other file(s)"
      ],
      "text/plain": [
       "<IPython.core.display.HTML object>"
      ]
     },
     "metadata": {},
     "output_type": "display_data"
    },
    {
     "data": {
      "text/html": [
       "Find logs at: <code>./wandb/run-20240221_212641-6vt9llb2/logs</code>"
      ],
      "text/plain": [
       "<IPython.core.display.HTML object>"
      ]
     },
     "metadata": {},
     "output_type": "display_data"
    },
    {
     "name": "stderr",
     "output_type": "stream",
     "text": [
      " 40%|████      | 2/5 [00:53<01:20, 26.82s/it]Processing...\n"
     ]
    },
    {
     "name": "stdout",
     "output_type": "stream",
     "text": [
      "NO CACHE FOUND - Processing data...\n"
     ]
    },
    {
     "name": "stderr",
     "output_type": "stream",
     "text": [
      "Done!\n"
     ]
    },
    {
     "name": "stdout",
     "output_type": "stream",
     "text": [
      "CUDA is set to False, using cpu as fallback\n",
      "CUDA is set to False, using cpu as fallback\n"
     ]
    },
    {
     "data": {
      "text/html": [
       "Tracking run with wandb version 0.16.3"
      ],
      "text/plain": [
       "<IPython.core.display.HTML object>"
      ]
     },
     "metadata": {},
     "output_type": "display_data"
    },
    {
     "data": {
      "text/html": [
       "Run data is saved locally in <code>/Users/marcostock/Documents/PhD/01_Projects/granPy/wandb/run-20240221_212708-8f4ll92j</code>"
      ],
      "text/plain": [
       "<IPython.core.display.HTML object>"
      ]
     },
     "metadata": {},
     "output_type": "display_data"
    },
    {
     "data": {
      "text/html": [
       "Syncing run <strong><a href='https://wandb.ai/scialdonelab/granpy-dev/runs/8f4ll92j' target=\"_blank\">beaming-horse-21</a></strong> to <a href='https://wandb.ai/scialdonelab/granpy-dev' target=\"_blank\">Weights & Biases</a> (<a href='https://wandb.me/run' target=\"_blank\">docs</a>)<br/>"
      ],
      "text/plain": [
       "<IPython.core.display.HTML object>"
      ]
     },
     "metadata": {},
     "output_type": "display_data"
    },
    {
     "data": {
      "text/html": [
       " View project at <a href='https://wandb.ai/scialdonelab/granpy-dev' target=\"_blank\">https://wandb.ai/scialdonelab/granpy-dev</a>"
      ],
      "text/plain": [
       "<IPython.core.display.HTML object>"
      ]
     },
     "metadata": {},
     "output_type": "display_data"
    },
    {
     "data": {
      "text/html": [
       " View run at <a href='https://wandb.ai/scialdonelab/granpy-dev/runs/8f4ll92j' target=\"_blank\">https://wandb.ai/scialdonelab/granpy-dev/runs/8f4ll92j</a>"
      ],
      "text/plain": [
       "<IPython.core.display.HTML object>"
      ]
     },
     "metadata": {},
     "output_type": "display_data"
    },
    {
     "name": "stderr",
     "output_type": "stream",
     "text": [
      "Best average_precision_score: 0.8458979185932983:   3%|▎         | 16/500 [00:16<08:29,  1.05s/it]\n",
      "wandb: WARNING Source type is set to 'repo' but some required information is missing from the environment. A job will not be created from this run. See https://docs.wandb.ai/guides/launch/create-job\n"
     ]
    },
    {
     "data": {
      "application/vnd.jupyter.widget-view+json": {
       "model_id": "27fd9347ddc44a10a37bfd56b7d340c6",
       "version_major": 2,
       "version_minor": 0
      },
      "text/plain": [
       "VBox(children=(Label(value='0.005 MB of 1.526 MB uploaded\\r'), FloatProgress(value=0.0029611413490227357, max=…"
      ]
     },
     "metadata": {},
     "output_type": "display_data"
    },
    {
     "data": {
      "text/html": [
       "<style>\n",
       "    table.wandb td:nth-child(1) { padding: 0 10px; text-align: left ; width: auto;} td:nth-child(2) {text-align: left ; width: 100%}\n",
       "    .wandb-row { display: flex; flex-direction: row; flex-wrap: wrap; justify-content: flex-start; width: 100% }\n",
       "    .wandb-col { display: flex; flex-direction: column; flex-basis: 100%; flex: 1; padding: 10px; }\n",
       "    </style>\n",
       "<div class=\"wandb-row\"><div class=\"wandb-col\"><h3>Run history:</h3><br/><table class=\"wandb\"><tr><td>average_precision_score</td><td>▁</td></tr><tr><td>roc_auc_score</td><td>▁</td></tr><tr><td>train_loss</td><td>████▇▇▇▆▆▆▅▅▄▄▃▂▁</td></tr><tr><td>val_average_precision_score</td><td>▅▇▇▆▇███▇▆▇▇▆▅▅▄▁</td></tr><tr><td>val_loss</td><td>███▇▇▇▇▆▅▅▄▄▄▃▃▂▁</td></tr></table><br/></div><div class=\"wandb-col\"><h3>Run summary:</h3><br/><table class=\"wandb\"><tr><td>average_precision_score</td><td>0.38457</td></tr><tr><td>roc_auc_score</td><td>0.75347</td></tr><tr><td>train_loss</td><td>1.44416</td></tr><tr><td>val_average_precision_score</td><td>0.8428</td></tr><tr><td>val_loss</td><td>1.44492</td></tr></table><br/></div></div>"
      ],
      "text/plain": [
       "<IPython.core.display.HTML object>"
      ]
     },
     "metadata": {},
     "output_type": "display_data"
    },
    {
     "data": {
      "text/html": [
       " View run <strong style=\"color:#cdcd00\">beaming-horse-21</strong> at: <a href='https://wandb.ai/scialdonelab/granpy-dev/runs/8f4ll92j' target=\"_blank\">https://wandb.ai/scialdonelab/granpy-dev/runs/8f4ll92j</a><br/>Synced 7 W&B file(s), 0 media file(s), 1 artifact file(s) and 1 other file(s)"
      ],
      "text/plain": [
       "<IPython.core.display.HTML object>"
      ]
     },
     "metadata": {},
     "output_type": "display_data"
    },
    {
     "data": {
      "text/html": [
       "Find logs at: <code>./wandb/run-20240221_212708-8f4ll92j/logs</code>"
      ],
      "text/plain": [
       "<IPython.core.display.HTML object>"
      ]
     },
     "metadata": {},
     "output_type": "display_data"
    },
    {
     "name": "stderr",
     "output_type": "stream",
     "text": [
      " 60%|██████    | 3/5 [01:23<00:56, 28.28s/it]Processing...\n"
     ]
    },
    {
     "name": "stdout",
     "output_type": "stream",
     "text": [
      "NO CACHE FOUND - Processing data...\n"
     ]
    },
    {
     "name": "stderr",
     "output_type": "stream",
     "text": [
      "Done!\n"
     ]
    },
    {
     "name": "stdout",
     "output_type": "stream",
     "text": [
      "CUDA is set to False, using cpu as fallback\n",
      "CUDA is set to False, using cpu as fallback\n"
     ]
    },
    {
     "data": {
      "text/html": [
       "Tracking run with wandb version 0.16.3"
      ],
      "text/plain": [
       "<IPython.core.display.HTML object>"
      ]
     },
     "metadata": {},
     "output_type": "display_data"
    },
    {
     "data": {
      "text/html": [
       "Run data is saved locally in <code>/Users/marcostock/Documents/PhD/01_Projects/granPy/wandb/run-20240221_212738-xe8889if</code>"
      ],
      "text/plain": [
       "<IPython.core.display.HTML object>"
      ]
     },
     "metadata": {},
     "output_type": "display_data"
    },
    {
     "data": {
      "text/html": [
       "Syncing run <strong><a href='https://wandb.ai/scialdonelab/granpy-dev/runs/xe8889if' target=\"_blank\">chromatic-lantern-22</a></strong> to <a href='https://wandb.ai/scialdonelab/granpy-dev' target=\"_blank\">Weights & Biases</a> (<a href='https://wandb.me/run' target=\"_blank\">docs</a>)<br/>"
      ],
      "text/plain": [
       "<IPython.core.display.HTML object>"
      ]
     },
     "metadata": {},
     "output_type": "display_data"
    },
    {
     "data": {
      "text/html": [
       " View project at <a href='https://wandb.ai/scialdonelab/granpy-dev' target=\"_blank\">https://wandb.ai/scialdonelab/granpy-dev</a>"
      ],
      "text/plain": [
       "<IPython.core.display.HTML object>"
      ]
     },
     "metadata": {},
     "output_type": "display_data"
    },
    {
     "data": {
      "text/html": [
       " View run at <a href='https://wandb.ai/scialdonelab/granpy-dev/runs/xe8889if' target=\"_blank\">https://wandb.ai/scialdonelab/granpy-dev/runs/xe8889if</a>"
      ],
      "text/plain": [
       "<IPython.core.display.HTML object>"
      ]
     },
     "metadata": {},
     "output_type": "display_data"
    },
    {
     "name": "stderr",
     "output_type": "stream",
     "text": [
      "Best average_precision_score: 0.8488198921624315:   3%|▎         | 15/500 [00:16<09:06,  1.13s/it]\n",
      "wandb: WARNING Source type is set to 'repo' but some required information is missing from the environment. A job will not be created from this run. See https://docs.wandb.ai/guides/launch/create-job\n"
     ]
    },
    {
     "data": {
      "application/vnd.jupyter.widget-view+json": {
       "model_id": "f434324231c94b668e44c32fce39a950",
       "version_major": 2,
       "version_minor": 0
      },
      "text/plain": [
       "VBox(children=(Label(value='1.526 MB of 1.526 MB uploaded\\r'), FloatProgress(value=1.0, max=1.0)))"
      ]
     },
     "metadata": {},
     "output_type": "display_data"
    },
    {
     "data": {
      "text/html": [
       "<style>\n",
       "    table.wandb td:nth-child(1) { padding: 0 10px; text-align: left ; width: auto;} td:nth-child(2) {text-align: left ; width: 100%}\n",
       "    .wandb-row { display: flex; flex-direction: row; flex-wrap: wrap; justify-content: flex-start; width: 100% }\n",
       "    .wandb-col { display: flex; flex-direction: column; flex-basis: 100%; flex: 1; padding: 10px; }\n",
       "    </style>\n",
       "<div class=\"wandb-row\"><div class=\"wandb-col\"><h3>Run history:</h3><br/><table class=\"wandb\"><tr><td>average_precision_score</td><td>▁</td></tr><tr><td>roc_auc_score</td><td>▁</td></tr><tr><td>train_loss</td><td>████▇▇▆▆▅▆▄▄▃▄▂▁</td></tr><tr><td>val_average_precision_score</td><td>▂▂▄███▇▇▆▄▃▄▄▃▁▂</td></tr><tr><td>val_loss</td><td>██▇▇▇▆▆▅▅▅▄▄▃▂▂▁</td></tr></table><br/></div><div class=\"wandb-col\"><h3>Run summary:</h3><br/><table class=\"wandb\"><tr><td>average_precision_score</td><td>0.38629</td></tr><tr><td>roc_auc_score</td><td>0.75348</td></tr><tr><td>train_loss</td><td>1.44525</td></tr><tr><td>val_average_precision_score</td><td>0.84686</td></tr><tr><td>val_loss</td><td>1.44532</td></tr></table><br/></div></div>"
      ],
      "text/plain": [
       "<IPython.core.display.HTML object>"
      ]
     },
     "metadata": {},
     "output_type": "display_data"
    },
    {
     "data": {
      "text/html": [
       " View run <strong style=\"color:#cdcd00\">chromatic-lantern-22</strong> at: <a href='https://wandb.ai/scialdonelab/granpy-dev/runs/xe8889if' target=\"_blank\">https://wandb.ai/scialdonelab/granpy-dev/runs/xe8889if</a><br/>Synced 7 W&B file(s), 0 media file(s), 1 artifact file(s) and 1 other file(s)"
      ],
      "text/plain": [
       "<IPython.core.display.HTML object>"
      ]
     },
     "metadata": {},
     "output_type": "display_data"
    },
    {
     "data": {
      "text/html": [
       "Find logs at: <code>./wandb/run-20240221_212738-xe8889if/logs</code>"
      ],
      "text/plain": [
       "<IPython.core.display.HTML object>"
      ]
     },
     "metadata": {},
     "output_type": "display_data"
    },
    {
     "name": "stderr",
     "output_type": "stream",
     "text": [
      " 80%|████████  | 4/5 [01:51<00:28, 28.25s/it]Processing...\n"
     ]
    },
    {
     "name": "stdout",
     "output_type": "stream",
     "text": [
      "NO CACHE FOUND - Processing data...\n"
     ]
    },
    {
     "name": "stderr",
     "output_type": "stream",
     "text": [
      "Done!\n"
     ]
    },
    {
     "name": "stdout",
     "output_type": "stream",
     "text": [
      "CUDA is set to False, using cpu as fallback\n",
      "CUDA is set to False, using cpu as fallback\n"
     ]
    },
    {
     "data": {
      "text/html": [
       "Tracking run with wandb version 0.16.3"
      ],
      "text/plain": [
       "<IPython.core.display.HTML object>"
      ]
     },
     "metadata": {},
     "output_type": "display_data"
    },
    {
     "data": {
      "text/html": [
       "Run data is saved locally in <code>/Users/marcostock/Documents/PhD/01_Projects/granPy/wandb/run-20240221_212806-s3h4jirs</code>"
      ],
      "text/plain": [
       "<IPython.core.display.HTML object>"
      ]
     },
     "metadata": {},
     "output_type": "display_data"
    },
    {
     "data": {
      "text/html": [
       "Syncing run <strong><a href='https://wandb.ai/scialdonelab/granpy-dev/runs/s3h4jirs' target=\"_blank\">scintillating-dumpling-23</a></strong> to <a href='https://wandb.ai/scialdonelab/granpy-dev' target=\"_blank\">Weights & Biases</a> (<a href='https://wandb.me/run' target=\"_blank\">docs</a>)<br/>"
      ],
      "text/plain": [
       "<IPython.core.display.HTML object>"
      ]
     },
     "metadata": {},
     "output_type": "display_data"
    },
    {
     "data": {
      "text/html": [
       " View project at <a href='https://wandb.ai/scialdonelab/granpy-dev' target=\"_blank\">https://wandb.ai/scialdonelab/granpy-dev</a>"
      ],
      "text/plain": [
       "<IPython.core.display.HTML object>"
      ]
     },
     "metadata": {},
     "output_type": "display_data"
    },
    {
     "data": {
      "text/html": [
       " View run at <a href='https://wandb.ai/scialdonelab/granpy-dev/runs/s3h4jirs' target=\"_blank\">https://wandb.ai/scialdonelab/granpy-dev/runs/s3h4jirs</a>"
      ],
      "text/plain": [
       "<IPython.core.display.HTML object>"
      ]
     },
     "metadata": {},
     "output_type": "display_data"
    },
    {
     "name": "stderr",
     "output_type": "stream",
     "text": [
      "Best average_precision_score: 0.8484980009917636:   3%|▎         | 13/500 [00:12<07:55,  1.02it/s]\n",
      "wandb: WARNING Source type is set to 'repo' but some required information is missing from the environment. A job will not be created from this run. See https://docs.wandb.ai/guides/launch/create-job\n"
     ]
    },
    {
     "data": {
      "application/vnd.jupyter.widget-view+json": {
       "model_id": "6b02b62f86084e94907f059da3a7e24e",
       "version_major": 2,
       "version_minor": 0
      },
      "text/plain": [
       "VBox(children=(Label(value='1.526 MB of 1.526 MB uploaded\\r'), FloatProgress(value=1.0, max=1.0)))"
      ]
     },
     "metadata": {},
     "output_type": "display_data"
    },
    {
     "data": {
      "text/html": [
       "<style>\n",
       "    table.wandb td:nth-child(1) { padding: 0 10px; text-align: left ; width: auto;} td:nth-child(2) {text-align: left ; width: 100%}\n",
       "    .wandb-row { display: flex; flex-direction: row; flex-wrap: wrap; justify-content: flex-start; width: 100% }\n",
       "    .wandb-col { display: flex; flex-direction: column; flex-basis: 100%; flex: 1; padding: 10px; }\n",
       "    </style>\n",
       "<div class=\"wandb-row\"><div class=\"wandb-col\"><h3>Run history:</h3><br/><table class=\"wandb\"><tr><td>average_precision_score</td><td>▁</td></tr><tr><td>roc_auc_score</td><td>▁</td></tr><tr><td>train_loss</td><td>██▇▇▇▆▆▅▅▄▃▂▁▁</td></tr><tr><td>val_average_precision_score</td><td>▅▇██▇▆▅▄▃▂▁▁▂▂</td></tr><tr><td>val_loss</td><td>██▇▇▇▆▆▅▅▄▃▃▂▁</td></tr></table><br/></div><div class=\"wandb-col\"><h3>Run summary:</h3><br/><table class=\"wandb\"><tr><td>average_precision_score</td><td>0.38474</td></tr><tr><td>roc_auc_score</td><td>0.75361</td></tr><tr><td>train_loss</td><td>1.44656</td></tr><tr><td>val_average_precision_score</td><td>0.84601</td></tr><tr><td>val_loss</td><td>1.44606</td></tr></table><br/></div></div>"
      ],
      "text/plain": [
       "<IPython.core.display.HTML object>"
      ]
     },
     "metadata": {},
     "output_type": "display_data"
    },
    {
     "data": {
      "text/html": [
       " View run <strong style=\"color:#cdcd00\">scintillating-dumpling-23</strong> at: <a href='https://wandb.ai/scialdonelab/granpy-dev/runs/s3h4jirs' target=\"_blank\">https://wandb.ai/scialdonelab/granpy-dev/runs/s3h4jirs</a><br/>Synced 7 W&B file(s), 0 media file(s), 1 artifact file(s) and 1 other file(s)"
      ],
      "text/plain": [
       "<IPython.core.display.HTML object>"
      ]
     },
     "metadata": {},
     "output_type": "display_data"
    },
    {
     "data": {
      "text/html": [
       "Find logs at: <code>./wandb/run-20240221_212806-s3h4jirs/logs</code>"
      ],
      "text/plain": [
       "<IPython.core.display.HTML object>"
      ]
     },
     "metadata": {},
     "output_type": "display_data"
    },
    {
     "name": "stderr",
     "output_type": "stream",
     "text": [
      "100%|██████████| 5/5 [02:15<00:00, 27.09s/it]\n"
     ]
    },
    {
     "data": {
      "text/plain": [
       "[{'average_precision_score': 0.3842363860774682,\n",
       "  'roc_auc_score': 0.7533069456898615},\n",
       " {'average_precision_score': 0.3860045051348083,\n",
       "  'roc_auc_score': 0.7534996485437784},\n",
       " {'average_precision_score': 0.3845679411458947,\n",
       "  'roc_auc_score': 0.7534722618221762},\n",
       " {'average_precision_score': 0.38629081942510063,\n",
       "  'roc_auc_score': 0.7534810406922077},\n",
       " {'average_precision_score': 0.38473665741299845,\n",
       "  'roc_auc_score': 0.7536084802105218}]"
      ]
     },
     "execution_count": 4,
     "metadata": {},
     "output_type": "execute_result"
    }
   ],
   "source": [
    "# folded runs\n",
    "\n",
    "from src.experiment import ExperimentArray\n",
    "experimentArray = ExperimentArray(_opts)\n",
    "experimentArray.run()"
   ]
  },
  {
   "cell_type": "code",
   "execution_count": 3,
   "metadata": {},
   "outputs": [
    {
     "name": "stderr",
     "output_type": "stream",
     "text": [
      "Failed to detect the name of this notebook, you can set it manually with the WANDB_NOTEBOOK_NAME environment variable to enable code saving.\n"
     ]
    },
    {
     "name": "stdout",
     "output_type": "stream",
     "text": [
      "Create sweep with ID: 8ge4oulx\n",
      "Sweep URL: https://wandb.ai/scialdonelab/granpy-dev/sweeps/8ge4oulx\n"
     ]
    },
    {
     "name": "stderr",
     "output_type": "stream",
     "text": [
      "\u001b[34m\u001b[1mwandb\u001b[0m: Agent Starting Run: jbxirydh with config:\n",
      "\u001b[34m\u001b[1mwandb\u001b[0m: \tdecoder: InnerProductDecoder\n",
      "\u001b[34m\u001b[1mwandb\u001b[0m: \tdropout_ratio: 0.4752309561780738\n",
      "\u001b[34m\u001b[1mwandb\u001b[0m: \tn_conv_layers: 2\n",
      "Processing...\n"
     ]
    },
    {
     "name": "stdout",
     "output_type": "stream",
     "text": [
      "NO CACHE FOUND - Processing data...\n"
     ]
    },
    {
     "name": "stderr",
     "output_type": "stream",
     "text": [
      "Done!\n"
     ]
    },
    {
     "name": "stdout",
     "output_type": "stream",
     "text": [
      "CUDA is set to False, using cpu as fallback\n",
      "CUDA is set to False, using cpu as fallback\n"
     ]
    },
    {
     "name": "stderr",
     "output_type": "stream",
     "text": [
      "\u001b[34m\u001b[1mwandb\u001b[0m: Agent Starting Run: tipt183q with config:\n",
      "\u001b[34m\u001b[1mwandb\u001b[0m: \tdecoder: InnerProductDecoder\n",
      "\u001b[34m\u001b[1mwandb\u001b[0m: \tdropout_ratio: 0.4535251324746774\n",
      "\u001b[34m\u001b[1mwandb\u001b[0m: \tn_conv_layers: 1\n"
     ]
    },
    {
     "name": "stdout",
     "output_type": "stream",
     "text": [
      "CUDA is set to False, using cpu as fallback\n",
      "CUDA is set to False, using cpu as fallback\n"
     ]
    },
    {
     "name": "stderr",
     "output_type": "stream",
     "text": [
      "\u001b[34m\u001b[1mwandb\u001b[0m: Agent Starting Run: tn42cnw3 with config:\n",
      "\u001b[34m\u001b[1mwandb\u001b[0m: \tdecoder: CosineDecoder\n",
      "\u001b[34m\u001b[1mwandb\u001b[0m: \tdropout_ratio: 0.3903163929258212\n",
      "\u001b[34m\u001b[1mwandb\u001b[0m: \tn_conv_layers: 1\n"
     ]
    },
    {
     "name": "stdout",
     "output_type": "stream",
     "text": [
      "CUDA is set to False, using cpu as fallback\n",
      "CUDA is set to False, using cpu as fallback\n"
     ]
    },
    {
     "name": "stderr",
     "output_type": "stream",
     "text": [
      "\u001b[34m\u001b[1mwandb\u001b[0m: Agent Starting Run: s36v8h6y with config:\n",
      "\u001b[34m\u001b[1mwandb\u001b[0m: \tdecoder: PNormDecoder\n",
      "\u001b[34m\u001b[1mwandb\u001b[0m: \tdropout_ratio: 0.37165744488863783\n",
      "\u001b[34m\u001b[1mwandb\u001b[0m: \tn_conv_layers: 2\n"
     ]
    },
    {
     "name": "stdout",
     "output_type": "stream",
     "text": [
      "CUDA is set to False, using cpu as fallback\n",
      "CUDA is set to False, using cpu as fallback\n"
     ]
    },
    {
     "name": "stderr",
     "output_type": "stream",
     "text": [
      "\u001b[34m\u001b[1mwandb\u001b[0m: Agent Starting Run: i5fj38la with config:\n",
      "\u001b[34m\u001b[1mwandb\u001b[0m: \tdecoder: PNormDecoder\n",
      "\u001b[34m\u001b[1mwandb\u001b[0m: \tdropout_ratio: 0.4278273632518226\n",
      "\u001b[34m\u001b[1mwandb\u001b[0m: \tn_conv_layers: 3\n"
     ]
    },
    {
     "name": "stdout",
     "output_type": "stream",
     "text": [
      "CUDA is set to False, using cpu as fallback\n",
      "CUDA is set to False, using cpu as fallback\n"
     ]
    },
    {
     "name": "stderr",
     "output_type": "stream",
     "text": [
      "\u001b[34m\u001b[1mwandb\u001b[0m: Agent Starting Run: tv821yil with config:\n",
      "\u001b[34m\u001b[1mwandb\u001b[0m: \tdecoder: PNormDecoder\n",
      "\u001b[34m\u001b[1mwandb\u001b[0m: \tdropout_ratio: 0.18065304995894185\n",
      "\u001b[34m\u001b[1mwandb\u001b[0m: \tn_conv_layers: 2\n"
     ]
    },
    {
     "name": "stdout",
     "output_type": "stream",
     "text": [
      "CUDA is set to False, using cpu as fallback\n",
      "CUDA is set to False, using cpu as fallback\n"
     ]
    },
    {
     "name": "stderr",
     "output_type": "stream",
     "text": [
      "\u001b[34m\u001b[1mwandb\u001b[0m: Agent Starting Run: 3hpz9bs7 with config:\n",
      "\u001b[34m\u001b[1mwandb\u001b[0m: \tdecoder: PNormDecoder\n",
      "\u001b[34m\u001b[1mwandb\u001b[0m: \tdropout_ratio: 0.21390248298795345\n",
      "\u001b[34m\u001b[1mwandb\u001b[0m: \tn_conv_layers: 1\n"
     ]
    },
    {
     "name": "stdout",
     "output_type": "stream",
     "text": [
      "CUDA is set to False, using cpu as fallback\n",
      "CUDA is set to False, using cpu as fallback\n"
     ]
    },
    {
     "name": "stderr",
     "output_type": "stream",
     "text": [
      "\u001b[34m\u001b[1mwandb\u001b[0m: Agent Starting Run: 4smzjb8d with config:\n",
      "\u001b[34m\u001b[1mwandb\u001b[0m: \tdecoder: CosineDecoder\n",
      "\u001b[34m\u001b[1mwandb\u001b[0m: \tdropout_ratio: 0.4128751098960308\n",
      "\u001b[34m\u001b[1mwandb\u001b[0m: \tn_conv_layers: 3\n"
     ]
    },
    {
     "name": "stdout",
     "output_type": "stream",
     "text": [
      "CUDA is set to False, using cpu as fallback\n",
      "CUDA is set to False, using cpu as fallback\n"
     ]
    },
    {
     "name": "stderr",
     "output_type": "stream",
     "text": [
      "\u001b[34m\u001b[1mwandb\u001b[0m: Agent Starting Run: xli9y40r with config:\n",
      "\u001b[34m\u001b[1mwandb\u001b[0m: \tdecoder: PNormDecoder\n",
      "\u001b[34m\u001b[1mwandb\u001b[0m: \tdropout_ratio: 0.1044556795397232\n",
      "\u001b[34m\u001b[1mwandb\u001b[0m: \tn_conv_layers: 2\n"
     ]
    },
    {
     "name": "stdout",
     "output_type": "stream",
     "text": [
      "CUDA is set to False, using cpu as fallback\n",
      "CUDA is set to False, using cpu as fallback\n"
     ]
    },
    {
     "name": "stderr",
     "output_type": "stream",
     "text": [
      "\u001b[34m\u001b[1mwandb\u001b[0m: Agent Starting Run: j4oyaidj with config:\n",
      "\u001b[34m\u001b[1mwandb\u001b[0m: \tdecoder: CosineDecoder\n",
      "\u001b[34m\u001b[1mwandb\u001b[0m: \tdropout_ratio: 0.10472663873924767\n",
      "\u001b[34m\u001b[1mwandb\u001b[0m: \tn_conv_layers: 1\n"
     ]
    },
    {
     "name": "stdout",
     "output_type": "stream",
     "text": [
      "CUDA is set to False, using cpu as fallback\n",
      "CUDA is set to False, using cpu as fallback\n"
     ]
    }
   ],
   "source": [
    "#hyperparameter sweep\n",
    "import wandb \n",
    "from src.experiment import Experiment\n",
    "\n",
    "def singleRun():\n",
    "    experiment = Experiment(_opts)\n",
    "    experiment.run()\n",
    "\n",
    "sweep_configuration = {\n",
    "    \"method\": \"random\",\n",
    "    \"metric\": {\"goal\": \"minimize\", \"name\": \"val_loss\"},\n",
    "    \"parameters\": {\n",
    "        \"dropout_ratio\": {\"max\": 0.6, \"min\": 0.1},\n",
    "        \"decoder\": {\"values\": [\"InnerProductDecoder\", \"CosineDecoder\", \"PNormDecoder\"]},\n",
    "        \"n_conv_layers\": {\"values\": [1,2,3]},\n",
    "    },\n",
    "}\n",
    "sweep_id = wandb.sweep(sweep=sweep_configuration, project=opts.wandb_project, entity=\"scialdonelab\")\n",
    "wandb.agent(sweep_id, function=singleRun, count=10)"
   ]
  },
  {
   "cell_type": "code",
   "execution_count": null,
   "metadata": {},
   "outputs": [],
   "source": [
    "import wandb\n",
    "\n",
    "api = wandb.Api()\n",
    "\n",
    "# run is specified by <entity>/<project>/<run_id>\n",
    "run = api.run(\"scialdonelab/granpy-dev/<run_id>\")\n",
    "\n",
    "# save the metrics for the run to a csv file\n",
    "metrics_dataframe = run.history()"
   ]
  }
 ],
 "metadata": {
  "kernelspec": {
   "display_name": "ptgeo",
   "language": "python",
   "name": "python3"
  },
  "language_info": {
   "codemirror_mode": {
    "name": "ipython",
    "version": 3
   },
   "file_extension": ".py",
   "mimetype": "text/x-python",
   "name": "python",
   "nbconvert_exporter": "python",
   "pygments_lexer": "ipython3",
   "version": "3.11.5"
  }
 },
 "nbformat": 4,
 "nbformat_minor": 2
}
