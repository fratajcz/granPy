{
 "cells": [
  {
   "cell_type": "code",
   "execution_count": 5,
   "metadata": {},
   "outputs": [],
   "source": [
    "import os\n",
    "os.chdir(\"..\")\n"
   ]
  },
  {
   "cell_type": "code",
   "execution_count": null,
   "metadata": {},
   "outputs": [],
   "source": [
    "for split in [\"Train\", \"Validation\", \"Test\"]:\n",
    "    os.system('wget -O data/GNNLink_hESC1000_{0}_set.csv https://raw.githubusercontent.com/sdesignates/GNNLink/refs/heads/master/Data/Train_validation_test/hESC%201000/{0}_set.csv'.format(split))"
   ]
  },
  {
   "cell_type": "code",
   "execution_count": 27,
   "metadata": {},
   "outputs": [],
   "source": [
    "import pandas as pd\n",
    "train_edges = pd.read_csv(\"data/GNNLink_hESC1000_Train_set.csv\", sep=\",\", header=0, index_col=0)\n",
    "pos_train_edges = train_edges[train_edges.Label == 1]\n",
    "neg_train_edges = train_edges[train_edges.Label == 0]"
   ]
  },
  {
   "cell_type": "code",
   "execution_count": 32,
   "metadata": {},
   "outputs": [],
   "source": [
    "import torch\n",
    "pos_train_edges_tensor = torch.LongTensor((pos_train_edges.TF.values,(pos_train_edges.Target.values)))\n",
    "neg_train_edges_tensor = torch.LongTensor((neg_train_edges.TF.values,(neg_train_edges.Target.values)))"
   ]
  },
  {
   "cell_type": "code",
   "execution_count": 17,
   "metadata": {},
   "outputs": [],
   "source": []
  },
  {
   "cell_type": "code",
   "execution_count": 6,
   "metadata": {},
   "outputs": [],
   "source": [
    "from src.nn.decoders import HarmonicDegreeSorter\n",
    "\n",
    "sorter = HarmonicDegreeSorter()\n",
    "z = torch.rand((max(pos_train_edges_tensor.max(), neg_train_edges_tensor.max()) + 1, 1))\n",
    "\n",
    "pos_out = sorter(z, pos_train_edges_tensor, pos_edge_index=pos_train_edges_tensor)\n",
    "neg_out = sorter(z, neg_train_edges_tensor, pos_edge_index=pos_train_edges_tensor)"
   ]
  },
  {
   "cell_type": "code",
   "execution_count": 7,
   "metadata": {},
   "outputs": [
    {
     "name": "stdout",
     "output_type": "stream",
     "text": [
      "AUROC: 0.8222384085134512\n"
     ]
    }
   ],
   "source": [
    "from sklearn.metrics import roc_auc_score, average_precision_score\n",
    "import numpy as np\n",
    "\n",
    "truth = np.concatenate((np.ones_like(pos_out), np.zeros_like(neg_out)))\n",
    "prediction = np.concatenate((pos_out.numpy(), neg_out.numpy()))\n",
    "\n",
    "print(\"AUROC: {}\".format(roc_auc_score(y_true = truth, y_score=prediction)))"
   ]
  },
  {
   "cell_type": "code",
   "execution_count": 28,
   "metadata": {},
   "outputs": [],
   "source": [
    "import pandas as pd\n",
    "val_edges = pd.read_csv(\"data/GNNLink_hESC1000_Validation_set.csv\", sep=\",\", header=0, index_col=0)\n",
    "pos_val_edges = val_edges[val_edges.Label == 1]\n",
    "neg_val_edges = val_edges[val_edges.Label == 0]\n",
    "pos_val_edges_tensor = torch.LongTensor((pos_val_edges.TF.values,(pos_val_edges.Target.values)))\n",
    "neg_val_edges_tensor = torch.LongTensor((neg_val_edges.TF.values,(neg_val_edges.Target.values)))"
   ]
  },
  {
   "cell_type": "code",
   "execution_count": 29,
   "metadata": {},
   "outputs": [],
   "source": [
    "test_edges = pd.read_csv(\"data/GNNLink_hESC1000_Test_set.csv\", sep=\",\", header=0, index_col=0)\n",
    "pos_test_edges = test_edges[test_edges.Label == 1]\n",
    "neg_test_edges = test_edges[test_edges.Label == 0]\n",
    "pos_test_edges_tensor = torch.LongTensor((pos_test_edges.TF.values,(pos_test_edges.Target.values)))\n",
    "neg_test_edges_tensor = torch.LongTensor((neg_test_edges.TF.values,(neg_test_edges.Target.values)))"
   ]
  },
  {
   "cell_type": "code",
   "execution_count": 37,
   "metadata": {},
   "outputs": [
    {
     "name": "stdout",
     "output_type": "stream",
     "text": [
      "AUROC: 0.730738726159596\n",
      "AUPRC: 0.3099906481717394\n"
     ]
    }
   ],
   "source": [
    "from src.nn.decoders import HarmonicDegreeSorter\n",
    "\n",
    "sorter = HarmonicDegreeSorter()\n",
    "z = torch.rand((max(pos_train_edges_tensor.max(), neg_train_edges_tensor.max()) + 1, 1))\n",
    "\n",
    "pos_out = sorter(z, pos_test_edges_tensor, pos_edge_index=torch.hstack((pos_train_edges_tensor, pos_val_edges_tensor)))\n",
    "neg_out = sorter(z, neg_test_edges_tensor, pos_edge_index=torch.hstack((pos_train_edges_tensor, pos_val_edges_tensor)))\n",
    "truth = np.concatenate((np.ones_like(pos_out), np.zeros_like(neg_out)))\n",
    "prediction = np.concatenate((pos_out.numpy(), neg_out.numpy()))\n",
    "\n",
    "print(\"AUROC: {}\".format(roc_auc_score(y_true = truth, y_score=prediction)))\n",
    "print(\"AUPRC: {}\".format(average_precision_score(y_true = truth, y_score=prediction)))"
   ]
  },
  {
   "cell_type": "code",
   "execution_count": 38,
   "metadata": {},
   "outputs": [
    {
     "name": "stdout",
     "output_type": "stream",
     "text": [
      "AUROC: 0.8528920757077664\n",
      "AUPRC: 0.4950709054689372\n"
     ]
    }
   ],
   "source": [
    "from src.nn.decoders import OutDegreeSorter\n",
    "\n",
    "sorter = OutDegreeSorter()\n",
    "z = torch.rand((max(pos_train_edges_tensor.max(), neg_train_edges_tensor.max()) + 1, 1))\n",
    "\n",
    "pos_out = sorter(z, pos_test_edges_tensor, pos_edge_index=torch.hstack((pos_train_edges_tensor, pos_val_edges_tensor)))\n",
    "neg_out = sorter(z, neg_test_edges_tensor, pos_edge_index=torch.hstack((pos_train_edges_tensor, pos_val_edges_tensor)))\n",
    "truth = np.concatenate((np.ones_like(pos_out), np.zeros_like(neg_out)))\n",
    "prediction = np.concatenate((pos_out.numpy(), neg_out.numpy()))\n",
    "\n",
    "print(\"AUROC: {}\".format(roc_auc_score(y_true = truth, y_score=prediction)))\n",
    "print(\"AUPRC: {}\".format(average_precision_score(y_true = truth, y_score=prediction)))"
   ]
  },
  {
   "cell_type": "code",
   "execution_count": 39,
   "metadata": {},
   "outputs": [
    {
     "name": "stdout",
     "output_type": "stream",
     "text": [
      "AUROC: 0.6331747482353052\n",
      "AUPRC: 0.20473747349214313\n"
     ]
    }
   ],
   "source": [
    "from src.nn.decoders import DegreeSorter\n",
    "\n",
    "sorter = DegreeSorter()\n",
    "z = torch.rand((max(pos_train_edges_tensor.max(), neg_train_edges_tensor.max()) + 1, 1))\n",
    "\n",
    "pos_out = sorter(z, pos_test_edges_tensor, pos_edge_index=torch.hstack((pos_train_edges_tensor, pos_val_edges_tensor)))\n",
    "neg_out = sorter(z, neg_test_edges_tensor, pos_edge_index=torch.hstack((pos_train_edges_tensor, pos_val_edges_tensor)))\n",
    "truth = np.concatenate((np.ones_like(pos_out), np.zeros_like(neg_out)))\n",
    "prediction = np.concatenate((pos_out.numpy(), neg_out.numpy()))\n",
    "\n",
    "print(\"AUROC: {}\".format(roc_auc_score(y_true = truth, y_score=prediction)))\n",
    "print(\"AUPRC: {}\".format(average_precision_score(y_true = truth, y_score=prediction)))"
   ]
  },
  {
   "cell_type": "markdown",
   "metadata": {},
   "source": []
  },
  {
   "cell_type": "code",
   "execution_count": 35,
   "metadata": {},
   "outputs": [
    {
     "name": "stdout",
     "output_type": "stream",
     "text": [
      "AUPRC: 0.3099906481717394\n"
     ]
    }
   ],
   "source": [
    "truth = np.concatenate((np.ones_like(pos_out), np.zeros_like(neg_out)))\n",
    "prediction = np.concatenate((pos_out.numpy(), neg_out.numpy()))\n",
    "\n"
   ]
  },
  {
   "cell_type": "code",
   "execution_count": 36,
   "metadata": {},
   "outputs": [
    {
     "data": {
      "text/plain": [
       "34"
      ]
     },
     "execution_count": 36,
     "metadata": {},
     "output_type": "execute_result"
    }
   ],
   "source": [
    "len(set(pos_train_edges.TF.tolist() + pos_val_edges.TF.tolist() + pos_test_edges.TF.tolist()))"
   ]
  },
  {
   "cell_type": "markdown",
   "metadata": {},
   "source": [
    "# mESC"
   ]
  },
  {
   "cell_type": "code",
   "execution_count": 49,
   "metadata": {},
   "outputs": [
    {
     "name": "stderr",
     "output_type": "stream",
     "text": [
      "--2024-10-24 10:02:30--  https://raw.githubusercontent.com/sdesignates/GNNLink/refs/heads/master/Data/Train_validation_test/mESC%201000/Train_set.csv\n",
      "Resolving raw.githubusercontent.com (raw.githubusercontent.com)... 185.199.111.133, 185.199.109.133, 185.199.110.133, ...\n",
      "Connecting to raw.githubusercontent.com (raw.githubusercontent.com)|185.199.111.133|:443... connected.\n",
      "HTTP request sent, awaiting response... "
     ]
    },
    {
     "name": "stderr",
     "output_type": "stream",
     "text": [
      "200 OK\n",
      "Length: 1595035 (1.5M) [text/plain]\n",
      "Saving to: ‘data/GNNLink_mESC1000_Train_set.csv’\n",
      "\n",
      "     0K .......... .......... .......... .......... ..........  3% 2.51M 1s\n",
      "    50K .......... .......... .......... .......... ..........  6% 3.74M 0s\n",
      "   100K .......... .......... .......... .......... ..........  9% 12.2M 0s\n",
      "   150K .......... .......... .......... .......... .......... 12% 14.4M 0s\n",
      "   200K .......... .......... .......... .......... .......... 16% 5.66M 0s\n",
      "   250K .......... .......... .......... .......... .......... 19% 32.0M 0s\n",
      "   300K .......... .......... .......... .......... .......... 22% 18.5M 0s\n",
      "   350K .......... .......... .......... .......... .......... 25% 32.2M 0s\n",
      "   400K .......... .......... .......... .......... .......... 28% 23.4M 0s\n",
      "   450K .......... .......... .......... .......... .......... 32% 49.9M 0s\n",
      "   500K .......... .......... .......... .......... .......... 35% 6.63M 0s\n",
      "   550K .......... .......... .......... .......... .......... 38% 37.2M 0s\n",
      "   600K .......... .......... .......... .......... .......... 41% 42.0M 0s\n",
      "   650K .......... .......... .......... .......... .......... 44% 33.6M 0s\n",
      "   700K .......... .......... .......... .......... .......... 48% 85.9M 0s\n",
      "   750K .......... .......... .......... .......... .......... 51% 67.1M 0s\n",
      "   800K .......... .......... .......... .......... .......... 54% 56.0M 0s\n",
      "   850K .......... .......... .......... .......... .......... 57% 36.6M 0s\n",
      "   900K .......... .......... .......... .......... .......... 60% 73.8M 0s\n",
      "   950K .......... .......... .......... .......... .......... 64%  333M 0s\n",
      "  1000K .......... .......... .......... .......... .......... 67% 7.26M 0s\n",
      "  1050K .......... .......... .......... .......... .......... 70% 41.3M 0s\n",
      "  1100K .......... .......... .......... .......... .......... 73% 45.0M 0s\n",
      "  1150K .......... .......... .......... .......... .......... 77%  409M 0s\n",
      "  1200K .......... .......... .......... .......... .......... 80%  141M 0s\n",
      "  1250K .......... .......... .......... .......... .......... 83% 69.8M 0s\n",
      "  1300K .......... .......... .......... .......... .......... 86% 69.9M 0s\n",
      "  1350K .......... .......... .......... .......... .......... 89% 57.1M 0s\n",
      "  1400K .......... .......... .......... .......... .......... 93%  146M 0s\n",
      "  1450K .......... .......... .......... .......... .......... 96%  382M 0s\n",
      "  1500K .......... .......... .......... .......... .......... 99% 71.3M 0s\n",
      "  1550K .......                                               100%  380M=0.09s\n",
      "\n",
      "2024-10-24 10:02:30 (17.7 MB/s) - ‘data/GNNLink_mESC1000_Train_set.csv’ saved [1595035/1595035]\n",
      "\n",
      "--2024-10-24 10:02:30--  https://raw.githubusercontent.com/sdesignates/GNNLink/refs/heads/master/Data/Train_validation_test/mESC%201000/Validation_set.csv\n",
      "Resolving raw.githubusercontent.com (raw.githubusercontent.com)... 185.199.108.133, 185.199.110.133, 185.199.109.133, ...\n",
      "Connecting to raw.githubusercontent.com (raw.githubusercontent.com)|185.199.108.133|:443... connected.\n",
      "HTTP request sent, awaiting response... 200 OK\n",
      "Length: 228799 (223K) [text/plain]\n",
      "Saving to: ‘data/GNNLink_mESC1000_Validation_set.csv’\n",
      "\n",
      "     0K .......... .......... .......... .......... .......... 22% 2.60M 0s\n",
      "    50K .......... .......... .......... .......... .......... 44% 3.62M 0s\n",
      "   100K .......... .......... .......... .......... .......... 67% 14.4M 0s\n",
      "   150K .......... .......... .......... .......... .......... 89% 13.9M 0s\n",
      "   200K .......... .......... ...                             100% 25.7M=0.04s\n",
      "\n",
      "2024-10-24 10:02:31 (5.44 MB/s) - ‘data/GNNLink_mESC1000_Validation_set.csv’ saved [228799/228799]\n",
      "\n",
      "--2024-10-24 10:02:31--  https://raw.githubusercontent.com/sdesignates/GNNLink/refs/heads/master/Data/Train_validation_test/mESC%201000/Test_set.csv\n",
      "Resolving raw.githubusercontent.com (raw.githubusercontent.com)... 185.199.108.133, 185.199.110.133, 185.199.109.133, ...\n",
      "Connecting to raw.githubusercontent.com (raw.githubusercontent.com)|185.199.108.133|:443... connected.\n",
      "HTTP request sent, awaiting response... 200 OK\n",
      "Length: 542273 (530K) [text/plain]\n",
      "Saving to: ‘data/GNNLink_mESC1000_Test_set.csv’\n",
      "\n",
      "     0K .......... .......... .......... .......... ..........  9% 2.57M 0s\n",
      "    50K .......... .......... .......... .......... .......... 18% 3.69M 0s\n",
      "   100K .......... .......... .......... .......... .......... 28% 13.3M 0s\n",
      "   150K .......... .......... .......... .......... .......... 37% 13.7M 0s\n",
      "   200K .......... .......... .......... .......... .......... 47% 5.61M 0s\n",
      "   250K .......... .......... .......... .......... .......... 56% 27.3M 0s\n",
      "   300K .......... .......... .......... .......... .......... 66% 25.9M 0s\n",
      "   350K .......... .......... .......... .......... .......... 75% 20.6M 0s\n",
      "   400K .......... .......... .......... .......... .......... 84% 23.5M 0s\n",
      "   450K .......... .......... .......... .......... .......... 94% 53.3M 0s\n",
      "   500K .......... .......... .........                       100% 4.44M=0.06s\n",
      "\n",
      "2024-10-24 10:02:31 (8.12 MB/s) - ‘data/GNNLink_mESC1000_Test_set.csv’ saved [542273/542273]\n",
      "\n"
     ]
    }
   ],
   "source": [
    "import os\n",
    "for split in [\"Train\", \"Validation\", \"Test\"]:\n",
    "    os.system('wget -O data/GNNLink_mESC1000_{0}_set.csv https://raw.githubusercontent.com/sdesignates/GNNLink/refs/heads/master/Data/Train_validation_test/mESC%201000/{0}_set.csv'.format(split))"
   ]
  },
  {
   "cell_type": "code",
   "execution_count": 44,
   "metadata": {},
   "outputs": [],
   "source": [
    "import pandas as pd\n",
    "train_edges = pd.read_csv(\"data/GNNLink_mESC1000_Train_set.csv\", sep=\",\", header=0, index_col=0)\n",
    "pos_train_edges = train_edges[train_edges.Label == 1]\n",
    "neg_train_edges = train_edges[train_edges.Label == 0]\n",
    "pos_train_edges_tensor = torch.LongTensor((pos_train_edges.TF.values,(pos_train_edges.Target.values)))\n",
    "neg_train_edges_tensor = torch.LongTensor((neg_train_edges.TF.values,(neg_train_edges.Target.values)))"
   ]
  },
  {
   "cell_type": "code",
   "execution_count": 45,
   "metadata": {},
   "outputs": [
    {
     "data": {
      "text/plain": [
       "89"
      ]
     },
     "execution_count": 45,
     "metadata": {},
     "output_type": "execute_result"
    }
   ],
   "source": [
    "len(set(pos_train_edges.TF.tolist() + pos_val_edges.TF.tolist() + pos_test_edges.TF.tolist()))"
   ]
  },
  {
   "cell_type": "code",
   "execution_count": 46,
   "metadata": {},
   "outputs": [],
   "source": [
    "import pandas as pd\n",
    "val_edges = pd.read_csv(\"data/GNNLink_mESC1000_Validation_set.csv\", sep=\",\", header=0, index_col=0)\n",
    "pos_val_edges = val_edges[val_edges.Label == 1]\n",
    "neg_val_edges = val_edges[val_edges.Label == 0]\n",
    "pos_val_edges_tensor = torch.LongTensor((pos_val_edges.TF.values,(pos_val_edges.Target.values)))\n",
    "neg_val_edges_tensor = torch.LongTensor((neg_val_edges.TF.values,(neg_val_edges.Target.values)))"
   ]
  },
  {
   "cell_type": "code",
   "execution_count": 47,
   "metadata": {},
   "outputs": [],
   "source": [
    "test_edges = pd.read_csv(\"data/GNNLink_mESC1000_Test_set.csv\", sep=\",\", header=0, index_col=0)\n",
    "pos_test_edges = test_edges[test_edges.Label == 1]\n",
    "neg_test_edges = test_edges[test_edges.Label == 0]\n",
    "pos_test_edges_tensor = torch.LongTensor((pos_test_edges.TF.values,(pos_test_edges.Target.values)))\n",
    "neg_test_edges_tensor = torch.LongTensor((neg_test_edges.TF.values,(neg_test_edges.Target.values)))"
   ]
  },
  {
   "cell_type": "code",
   "execution_count": 48,
   "metadata": {},
   "outputs": [
    {
     "name": "stdout",
     "output_type": "stream",
     "text": [
      "AUROC: 0.8358622787464146\n",
      "AUPRC: 0.64374419668609\n"
     ]
    }
   ],
   "source": [
    "from src.nn.decoders import HarmonicDegreeSorter\n",
    "\n",
    "sorter = HarmonicDegreeSorter()\n",
    "z = torch.rand((max(pos_train_edges_tensor.max(), neg_train_edges_tensor.max()) + 1, 1))\n",
    "\n",
    "pos_out = sorter(z, pos_test_edges_tensor, pos_edge_index=torch.hstack((pos_train_edges_tensor, pos_val_edges_tensor)))\n",
    "neg_out = sorter(z, neg_test_edges_tensor, pos_edge_index=torch.hstack((pos_train_edges_tensor, pos_val_edges_tensor)))\n",
    "truth = np.concatenate((np.ones_like(pos_out), np.zeros_like(neg_out)))\n",
    "prediction = np.concatenate((pos_out.numpy(), neg_out.numpy()))\n",
    "\n",
    "print(\"AUROC: {}\".format(roc_auc_score(y_true = truth, y_score=prediction)))\n",
    "print(\"AUPRC: {}\".format(average_precision_score(y_true = truth, y_score=prediction)))"
   ]
  },
  {
   "cell_type": "code",
   "execution_count": 49,
   "metadata": {},
   "outputs": [
    {
     "name": "stdout",
     "output_type": "stream",
     "text": [
      "AUROC: 0.8634467225678554\n",
      "AUPRC: 0.6894477714134675\n"
     ]
    }
   ],
   "source": [
    "from src.nn.decoders import OutDegreeSorter\n",
    "\n",
    "sorter = OutDegreeSorter()\n",
    "z = torch.rand((max(pos_train_edges_tensor.max(), neg_train_edges_tensor.max()) + 1, 1))\n",
    "\n",
    "pos_out = sorter(z, pos_test_edges_tensor, pos_edge_index=torch.hstack((pos_train_edges_tensor, pos_val_edges_tensor)))\n",
    "neg_out = sorter(z, neg_test_edges_tensor, pos_edge_index=torch.hstack((pos_train_edges_tensor, pos_val_edges_tensor)))\n",
    "truth = np.concatenate((np.ones_like(pos_out), np.zeros_like(neg_out)))\n",
    "prediction = np.concatenate((pos_out.numpy(), neg_out.numpy()))\n",
    "\n",
    "print(\"AUROC: {}\".format(roc_auc_score(y_true = truth, y_score=prediction)))\n",
    "print(\"AUPRC: {}\".format(average_precision_score(y_true = truth, y_score=prediction)))"
   ]
  },
  {
   "cell_type": "code",
   "execution_count": 50,
   "metadata": {},
   "outputs": [
    {
     "name": "stdout",
     "output_type": "stream",
     "text": [
      "AUROC: 0.6712052911290314\n",
      "AUPRC: 0.40617732532110984\n"
     ]
    }
   ],
   "source": [
    "from src.nn.decoders import DegreeSorter\n",
    "\n",
    "sorter = DegreeSorter()\n",
    "z = torch.rand((max(pos_train_edges_tensor.max(), neg_train_edges_tensor.max()) + 1, 1))\n",
    "\n",
    "pos_out = sorter(z, pos_test_edges_tensor, pos_edge_index=torch.hstack((pos_train_edges_tensor, pos_val_edges_tensor)))\n",
    "neg_out = sorter(z, neg_test_edges_tensor, pos_edge_index=torch.hstack((pos_train_edges_tensor, pos_val_edges_tensor)))\n",
    "truth = np.concatenate((np.ones_like(pos_out), np.zeros_like(neg_out)))\n",
    "prediction = np.concatenate((pos_out.numpy(), neg_out.numpy()))\n",
    "\n",
    "print(\"AUROC: {}\".format(roc_auc_score(y_true = truth, y_score=prediction)))\n",
    "print(\"AUPRC: {}\".format(average_precision_score(y_true = truth, y_score=prediction)))"
   ]
  },
  {
   "cell_type": "code",
   "execution_count": 51,
   "metadata": {},
   "outputs": [
    {
     "data": {
      "text/plain": [
       "0.5833333333333333"
      ]
     },
     "execution_count": 51,
     "metadata": {},
     "output_type": "execute_result"
    }
   ],
   "source": [
    "average_precision_score([0,0,1,1], [0.8, 0.1, 0.7, 0.2])"
   ]
  },
  {
   "cell_type": "code",
   "execution_count": 52,
   "metadata": {},
   "outputs": [
    {
     "data": {
      "text/plain": [
       "0.5"
      ]
     },
     "execution_count": 52,
     "metadata": {},
     "output_type": "execute_result"
    }
   ],
   "source": [
    "roc_auc_score([0,0,1,1], [0.8, 0.1, 0.7, 0.2])"
   ]
  },
  {
   "cell_type": "code",
   "execution_count": 54,
   "metadata": {},
   "outputs": [
    {
     "data": {
      "text/plain": [
       "0.5833333333333333"
      ]
     },
     "execution_count": 54,
     "metadata": {},
     "output_type": "execute_result"
    }
   ],
   "source": [
    "average_precision_score([0,0,1,1], [0.8, 0.1, 0.7, 0.2])"
   ]
  },
  {
   "cell_type": "code",
   "execution_count": 55,
   "metadata": {},
   "outputs": [
    {
     "data": {
      "text/plain": [
       "0.75"
      ]
     },
     "execution_count": 55,
     "metadata": {},
     "output_type": "execute_result"
    }
   ],
   "source": [
    "average_precision_score([1,1,0,0], [0.8, 0.1, 0.7, 0.2])"
   ]
  },
  {
   "cell_type": "code",
   "execution_count": 56,
   "metadata": {},
   "outputs": [
    {
     "data": {
      "text/plain": [
       "0.5"
      ]
     },
     "execution_count": 56,
     "metadata": {},
     "output_type": "execute_result"
    }
   ],
   "source": [
    "average_precision_score([1,1,0,0], [0.1, 0.1, 0.7, 0.2])"
   ]
  },
  {
   "cell_type": "code",
   "execution_count": null,
   "metadata": {},
   "outputs": [],
   "source": []
  }
 ],
 "metadata": {
  "kernelspec": {
   "display_name": "speos",
   "language": "python",
   "name": "python3"
  },
  "language_info": {
   "codemirror_mode": {
    "name": "ipython",
    "version": 3
   },
   "file_extension": ".py",
   "mimetype": "text/x-python",
   "name": "python",
   "nbconvert_exporter": "python",
   "pygments_lexer": "ipython3",
   "version": "3.10.11"
  }
 },
 "nbformat": 4,
 "nbformat_minor": 2
}
